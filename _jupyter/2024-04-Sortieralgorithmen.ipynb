{
 "cells": [
  {
   "cell_type": "markdown",
   "metadata": {},
   "source": [
    "# Sortieralgorithmen"
   ]
  },
  {
   "cell_type": "markdown",
   "metadata": {},
   "source": [
    "Ich habe mich neulich gefragt, was es für gängige Sortieralgorithmen gibt. Wie funktionieren sie? Wie schnell sind sie? Gibt es koriose Algorithmen usw.\n",
    "Was ich dabei gelernt habe, möchte ich hier teilen. Ich werde verschiedene Algorithmen in Python umsetzen und versuchen den Vorgang grafisch darszustellen.\n",
    "Dazu brauche ich zunächst einen Datensatz."
   ]
  },
  {
   "cell_type": "markdown",
   "metadata": {},
   "source": [
    "## Der zu sortierende Datensatz"
   ]
  },
  {
   "cell_type": "markdown",
   "metadata": {},
   "source": [
    "Es wird ein einfacher Datensatz sein, den man hoffentlich gut visualisieren kann. Und zwar eine gewisse Anzahl von Integerwerten, die jedes Mal gleich randomisiert sein sollten."
   ]
  },
  {
   "cell_type": "code",
   "execution_count": 55,
   "metadata": {},
   "outputs": [],
   "source": [
    "# Zunächst werden alle benötigten Bibliotheken importiert\n",
    "import matplotlib.pyplot as plt\n",
    "import random\n",
    "import matplotlib.cm as cm\n",
    "import os\n",
    "import time"
   ]
  },
  {
   "cell_type": "code",
   "execution_count": 56,
   "metadata": {},
   "outputs": [],
   "source": [
    "# Anzahl der ELemente im Datensatz\n",
    "n = 100\n",
    "\n",
    "# Random Seed setzen\n",
    "random.seed(42)\n",
    "\n",
    "# Datensatz generieren\n",
    "dataset = random.sample(range(1, n+1), n)"
   ]
  },
  {
   "cell_type": "markdown",
   "metadata": {},
   "source": [
    "Dann definieren eine Funktion die wir noch häufiger einsetzen werden, um das Sortieren zu visualisieren."
   ]
  },
  {
   "cell_type": "code",
   "execution_count": 57,
   "metadata": {},
   "outputs": [
    {
     "name": "stderr",
     "output_type": "stream",
     "text": [
      "C:\\Users\\gutsc\\AppData\\Local\\Temp\\ipykernel_13880\\2636371848.py:2: MatplotlibDeprecationWarning: The get_cmap function was deprecated in Matplotlib 3.7 and will be removed two minor releases later. Use ``matplotlib.colormaps[name]`` or ``matplotlib.colormaps.get_cmap(obj)`` instead.\n",
      "  cmap = cm.get_cmap('YlGnBu')  # Farbverlauf von Gelb über Grün zu Blau\n"
     ]
    }
   ],
   "source": [
    "# Farbverlaufsfunktion\n",
    "cmap = cm.get_cmap('YlGnBu')  # Farbverlauf von Gelb über Grün zu Blau\n",
    "\n",
    "# Funktion zum Aktualisieren des Balkendiagramms\n",
    "def update_chart(data, iteration, folder_name, name = \"Dataset\"):\n",
    "    i = len(data)\n",
    "    colors = [cmap(x/i) for x in data]\n",
    "    plt.bar(range(i), data, color=colors)\n",
    "    plt.xlabel('Index')\n",
    "    plt.ylabel('Wert')\n",
    "    if not os.path.exists(folder_name):\n",
    "      os.makedirs(folder_name)\n",
    "    if name != \"Dataset\":\n",
    "      plt.title(f'Sortierung {nama} - Schritt {iteration}')\n",
    "      plt.savefig(f'{folder_name}/{name}_Iteration_{iteration:02d}.png')  # Speichere den Plot als PNG-Datei\n",
    "    else:\n",
    "      plt.title(f'Zugrunde liegender Datensatz')\n",
    "      plt.savefig(f'{folder_name}/{name}.png')  # Speichere den Plot als PNG-Datei\n",
    "    plt.close()"
   ]
  },
  {
   "cell_type": "code",
   "execution_count": 58,
   "metadata": {},
   "outputs": [],
   "source": [
    "update_chart(dataset, 1, \"Sortieralgorithmen\")"
   ]
  },
  {
   "cell_type": "code",
   "execution_count": 59,
   "metadata": {},
   "outputs": [
    {
     "data": {
      "image/png": "[encoded data removed]",
      "text/plain": [
       "<Figure size 640x480 with 1 Axes>"
      ]
     },
     "metadata": {},
     "output_type": "display_data"
    }
   ],
   "source": [
    "\n",
    "# Load the image\n",
    "image = plt.imread('Sortieralgorithmen/dataset.png')\n",
    "\n",
    "# Show the image\n",
    "plt.imshow(image)\n",
    "plt.axis('off')\n",
    "plt.show()"
   ]
  },
  {
   "cell_type": "markdown",
   "metadata": {},
   "source": [
    "## Sortieralgorithmen"
   ]
  },
  {
   "cell_type": "markdown",
   "metadata": {},
   "source": [
    "### Bubble Sort"
   ]
  },
  {
   "cell_type": "markdown",
   "metadata": {},
   "source": [
    "**Bubble Sort**: Der Bubble Sort Algorithmus vergleicht zunächst das erste Element mit dem nächsten Element und tauscht sie bei Bedarf aus, wenn sie in der falschen Reihenfolge sind. Anschließend vergleicht er das zweite Element mit dem darauffolgenden Element und tauscht sie gegebenenfalls aus. Dieser Vorgang wird fortgesetzt, bis das vorletzte Element mit dem letzten Element verglichen wurde.\n",
    "\n",
    "Der Algorithmus arbeitet sich in jedem Durchlauf von links nach rechts durch die Liste und tauscht benachbarte Elemente, wenn sie in der falschen Reihenfolge sind. Nach jedem Durchlauf wird das größte Element in der Liste an die richtige Position am Ende verschoben. Dieser Prozess wird so lange wiederholt, bis die gesamte Liste sortiert ist.\n",
    "\n",
    "Der Name \"Bubble Sort\" kommt von der Art und Weise, wie die größten Elemente allmählich an das Ende der Liste \"aufsteigen\", ähnlich wie Luftblasen in Wasser aufsteigen."
   ]
  },
  {
   "cell_type": "code",
   "execution_count": 60,
   "metadata": {},
   "outputs": [],
   "source": [
    "# Bubble Sort Algorithmus\n",
    "def bubble_sort(data, ):\n",
    "    cnt = 0\n",
    "    sorted_datasets = []\n",
    "    for i in range(len(data)-1):\n",
    "        for j in range(len(data)-1-i):\n",
    "            # Vergleiche benachbarte Elemente und tausche sie, falls sie in der falschen Reihenfolge sind\n",
    "            if data[j] > data[j+1]:\n",
    "                data[j], data[j+1] = data[j+1], data[j]\n",
    "            cnt += 1\n",
    "        # Speichere den sortierten Datensatz nach jedem Sortierschritt\n",
    "        sorted_datasets.append(data.copy())\n",
    "    print(f\"Anzahl der Schritte: {cnt}\")\n",
    "    return sorted_datasets"
   ]
  },
  {
   "cell_type": "code",
   "execution_count": 61,
   "metadata": {},
   "outputs": [
    {
     "name": "stdout",
     "output_type": "stream",
     "text": [
      "Anzahl der Schritte: 4950\n"
     ]
    }
   ],
   "source": [
    "bubble_sorted_datasets = []\n",
    "bubble_sorted_datasets = bubble_sort(dataset,)"
   ]
  },
  {
   "cell_type": "code",
   "execution_count": 62,
   "metadata": {},
   "outputs": [],
   "source": [
    "\n",
    "# Sortiere den Datensatz mit Bubble Sort\n",
    "# Zeige den sortierten Datensatz nach jedem Sortierschritt\n",
    "for i, data in enumerate(bubble_sorted_datasets):\n",
    "    update_chart(data, i+1, \"Sortieralgorithmen/bubble_sort\")"
   ]
  },
  {
   "cell_type": "markdown",
   "metadata": {},
   "source": [
    "### Insertion Sort"
   ]
  },
  {
   "cell_type": "markdown",
   "metadata": {},
   "source": [
    "Der Insertion Sort Algorithmus ist ein einfacher Sortieralgorithmus, der durch das Einfügen von Elementen in eine bereits sortierte Teilsequenz eine sortierte Gesamtsequenz aufbaut. Der Algorithmus funktioniert folgendermaßen:\n",
    "\n",
    "Der erste Schritt besteht darin, das erste Element der Liste als bereits sortierten Teil anzusehen. Das heißt, der Teil, der nur das erste Element enthält, wird als sortiert betrachtet.\n",
    "\n",
    "Der Algorithmus geht dann das nächste Element in der Liste durch und fügt es an die richtige Position im bereits sortierten Teil ein. Dabei vergleicht es das Element mit den bereits sortierten Elementen und verschiebt größere Elemente nach rechts, um Platz für das neu eingefügte Element zu schaffen.\n",
    "\n",
    "Dieser Schritt wird für jedes weitere Element wiederholt, bis alle Elemente in die richtige Position eingefügt wurden und die Liste vollständig sortiert ist.\n",
    "\n",
    "Ein wichtiger Aspekt des Insertion Sort Algorithmus ist, dass er effizient für kleine Listen oder bereits teilweise sortierte Listen ist. Der Algorithmus hat eine Laufzeitkomplexität von O(n^2) im Durchschnitt und im schlimmsten Fall, was bedeutet, dass die Sortierzeit quadratisch mit der Anzahl der Elemente steigt.\n",
    "\n",
    "Es ist wichtig zu beachten, dass Insertion Sort ein stabil sortierender Algorithmus ist, d.h. Elemente mit dem gleichen Wert bleiben in ihrer relativen Reihenfolge erhalten."
   ]
  },
  {
   "cell_type": "code",
   "execution_count": 63,
   "metadata": {},
   "outputs": [],
   "source": [
    "# Erzeuge einen zufälligen Datensatz\n",
    "dataset = random.sample(range(1, n+1), n)"
   ]
  },
  {
   "cell_type": "code",
   "execution_count": 64,
   "metadata": {},
   "outputs": [],
   "source": [
    "# Insertion Sort Algorithmus\n",
    "def insertion_sort(data, ):\n",
    "    cnt=0\n",
    "    sorted_datasets = []\n",
    "    for i in range(1, len(data)):\n",
    "        key = data[i]  # Das aktuell zu sortierende Element\n",
    "        j = i - 1\n",
    "        while j >= 0 and data[j] > key:\n",
    "            data[j+1] = data[j]  # Verschiebe Elemente nach rechts\n",
    "            j -= 1\n",
    "            cnt += 1\n",
    "        data[j+1] = key  # Füge das Element an der richtigen Position ein\n",
    "        # Speichere den sortierten Datensatz nach jedem Sortierschritt\n",
    "        sorted_datasets.append(data.copy())\n",
    "    print(f\"Anzahl der Schritte: {cnt}\")\n",
    "    return sorted_datasets"
   ]
  },
  {
   "cell_type": "code",
   "execution_count": 65,
   "metadata": {},
   "outputs": [
    {
     "name": "stdout",
     "output_type": "stream",
     "text": [
      "Anzahl der Schritte: 2601\n"
     ]
    }
   ],
   "source": [
    "insertion_sorted_datasets = []\n",
    "insertion_sorted_datasets = insertion_sort(dataset)"
   ]
  },
  {
   "cell_type": "code",
   "execution_count": 66,
   "metadata": {},
   "outputs": [],
   "source": [
    "\n",
    "# Sortiere den Datensatz mit Bubble Sort\n",
    "# Zeige den sortierten Datensatz nach jedem Sortierschritt\n",
    "for i, data in enumerate(insertion_sorted_datasets):\n",
    "    update_chart(data, i+1, \"Sortieralgorithmen/insertion_sort\")"
   ]
  }
 ],
 "metadata": {
  "kernelspec": {
   "display_name": "tf_GPU",
   "language": "python",
   "name": "python3"
  },
  "language_info": {
   "codemirror_mode": {
    "name": "ipython",
    "version": 3
   },
   "file_extension": ".py",
   "mimetype": "text/x-python",
   "name": "python",
   "nbconvert_exporter": "python",
   "pygments_lexer": "ipython3",
   "version": "3.10.9"
  }
 },
 "nbformat": 4,
 "nbformat_minor": 2
}
