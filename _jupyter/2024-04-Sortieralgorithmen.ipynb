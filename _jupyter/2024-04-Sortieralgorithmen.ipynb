{
 "cells": [
  {
   "cell_type": "markdown",
   "metadata": {},
   "source": [
    "# Sortieralgorithmen"
   ]
  },
  {
   "cell_type": "markdown",
   "metadata": {},
   "source": [
    "Ich habe mich neulich gefragt, was es für gängige Sortieralgorithmen gibt. Wie funktionieren sie? Wie schnell sind sie? Gibt es koriose Algorithmen usw.\n",
    "Was ich dabei gelernt habe, möchte ich hier teilen. Ich werde verschiedene Algorithmen in Python umsetzen und versuchen den Vorgang grafisch darszustellen.\n",
    "Dazu brauche ich zunächst einen Datensatz."
   ]
  },
  {
   "cell_type": "markdown",
   "metadata": {},
   "source": [
    "## Der zu sortierende Datensatz"
   ]
  },
  {
   "cell_type": "markdown",
   "metadata": {},
   "source": [
    "Es wird ein einfacher Datensatz sein, den man hoffentlich gut visualisieren kann. Und zwar eine gewisse Anzahl von Integerwerten, die jedes Mal gleich randomisiert sein sollten."
   ]
  },
  {
   "cell_type": "code",
   "execution_count": 1,
   "metadata": {},
   "outputs": [],
   "source": [
    "# Zunächst werden alle benötigten Bibliotheken importiert\n",
    "import matplotlib.pyplot as plt\n",
    "import random\n",
    "import matplotlib.cm as cm\n",
    "import os\n",
    "import time"
   ]
  },
  {
   "cell_type": "code",
   "execution_count": 19,
   "metadata": {},
   "outputs": [],
   "source": [
    "# Anzahl der ELemente im Datensatz\n",
    "n = 10\n",
    "\n",
    "# Random Seed setzen\n",
    "random.seed(42)\n",
    "\n",
    "# Datensatz generieren\n",
    "dataset = random.sample(range(1, n+1), n)"
   ]
  },
  {
   "cell_type": "markdown",
   "metadata": {},
   "source": [
    "Dann definieren eine Funktion die wir noch häufiger einsetzen werden, um das Sortieren zu visualisieren."
   ]
  },
  {
   "cell_type": "code",
   "execution_count": 3,
   "metadata": {},
   "outputs": [
    {
     "name": "stderr",
     "output_type": "stream",
     "text": [
      "C:\\Users\\gutsc\\AppData\\Local\\Temp\\ipykernel_10876\\281162654.py:2: MatplotlibDeprecationWarning: The get_cmap function was deprecated in Matplotlib 3.7 and will be removed two minor releases later. Use ``matplotlib.colormaps[name]`` or ``matplotlib.colormaps.get_cmap(obj)`` instead.\n",
      "  cmap = cm.get_cmap('YlGnBu')  # Farbverlauf von Gelb über Grün zu Blau\n"
     ]
    }
   ],
   "source": [
    "# Farbverlaufsfunktion\n",
    "cmap = cm.get_cmap('YlGnBu')  # Farbverlauf von Gelb über Grün zu Blau\n",
    "\n",
    "# Funktion zum Aktualisieren des Balkendiagramms\n",
    "def update_chart(data, iteration, folder_name, name = \"Dataset\"):\n",
    "    i = len(data)\n",
    "    colors = [cmap(x/i) for x in data]\n",
    "    plt.bar(range(i), data, color=colors)\n",
    "    plt.xlabel('Index')\n",
    "    plt.ylabel('Wert')\n",
    "    \n",
    "    if not os.path.exists(folder_name):\n",
    "      os.makedirs(folder_name)\n",
    "\n",
    "    if name == \"Start\":\n",
    "      plt.title(f'Startkonfiguration')\n",
    "      plt.savefig(f'{folder_name}/{name}.png')\n",
    "    else:\n",
    "      plt.title(f'Sortierung {name} - Schritt {iteration}')\n",
    "      plt.savefig(f'{folder_name}/{name}_Iteration_{iteration:02d}.png')  # Speichere den Plot als PNG-Datei\n",
    "    \n",
    "    plt.close()"
   ]
  },
  {
   "cell_type": "code",
   "execution_count": 4,
   "metadata": {},
   "outputs": [],
   "source": [
    "update_chart(dataset, 1, \"Sortieralgorithmen\", \"Start\")"
   ]
  },
  {
   "cell_type": "code",
   "execution_count": 5,
   "metadata": {},
   "outputs": [
    {
     "data": {
      "image/png": "[encoded data removed]",
      "text/plain": [
       "<Figure size 640x480 with 1 Axes>"
      ]
     },
     "metadata": {},
     "output_type": "display_data"
    }
   ],
   "source": [
    "\n",
    "# Load the image\n",
    "image = plt.imread('Sortieralgorithmen/Start.png')\n",
    "\n",
    "# Show the image\n",
    "plt.imshow(image)\n",
    "plt.axis('off')\n",
    "plt.show()"
   ]
  },
  {
   "cell_type": "markdown",
   "metadata": {},
   "source": [
    "## Sortieralgorithmen"
   ]
  },
  {
   "cell_type": "markdown",
   "metadata": {},
   "source": [
    "### Bubble Sort"
   ]
  },
  {
   "cell_type": "markdown",
   "metadata": {},
   "source": [
    "**Bubble Sort**: Der Bubble Sort Algorithmus vergleicht zunächst das erste Element mit dem nächsten Element und tauscht sie bei Bedarf aus, wenn sie in der falschen Reihenfolge sind. Anschließend vergleicht er das zweite Element mit dem darauffolgenden Element und tauscht sie gegebenenfalls aus. Dieser Vorgang wird fortgesetzt, bis das vorletzte Element mit dem letzten Element verglichen wurde.\n",
    "\n",
    "Der Algorithmus arbeitet sich in jedem Durchlauf von links nach rechts durch die Liste und tauscht benachbarte Elemente, wenn sie in der falschen Reihenfolge sind. Nach jedem Durchlauf wird das größte Element in der Liste an die richtige Position am Ende verschoben. Dieser Prozess wird so lange wiederholt, bis die gesamte Liste sortiert ist.\n",
    "\n",
    "Der Name \"Bubble Sort\" kommt von der Art und Weise, wie die größten Elemente allmählich an das Ende der Liste \"aufsteigen\", ähnlich wie Luftblasen in Wasser aufsteigen."
   ]
  },
  {
   "cell_type": "code",
   "execution_count": 20,
   "metadata": {},
   "outputs": [],
   "source": [
    "# Bubble Sort Algorithmus\n",
    "def bubble_sort(data, ):\n",
    "    cnt = 0\n",
    "    sorted_datasets = []\n",
    "    for i in range(len(data)-1):\n",
    "        for j in range(len(data)-1-i):\n",
    "            # Vergleiche benachbarte Elemente und tausche sie, falls sie in der falschen Reihenfolge sind\n",
    "            if data[j] > data[j+1]:\n",
    "                data[j], data[j+1] = data[j+1], data[j]\n",
    "            cnt += 1\n",
    "            # Speichere den sortierten Datensatz nach jedem Sortierschritt\n",
    "            sorted_datasets.append(data.copy())\n",
    "    print(f\"Anzahl der Schritte: {cnt}\")\n",
    "    return sorted_datasets"
   ]
  },
  {
   "cell_type": "code",
   "execution_count": 21,
   "metadata": {},
   "outputs": [
    {
     "name": "stdout",
     "output_type": "stream",
     "text": [
      "Anzahl der Schritte: 45\n"
     ]
    }
   ],
   "source": [
    "bubble_sorted_datasets = []\n",
    "bubble_sorted_datasets = bubble_sort(dataset,)"
   ]
  },
  {
   "cell_type": "code",
   "execution_count": 22,
   "metadata": {},
   "outputs": [],
   "source": [
    "\n",
    "# Sortiere den Datensatz mit Bubble Sort\n",
    "# Zeige den sortierten Datensatz nach jedem Sortierschritt\n",
    "for i, data in enumerate(bubble_sorted_datasets):\n",
    "    update_chart(data, i+1, \"Sortieralgorithmen/bubble_sort\", \"Bubble_Sort\")"
   ]
  },
  {
   "cell_type": "markdown",
   "metadata": {},
   "source": [
    "### Insertion Sort"
   ]
  },
  {
   "cell_type": "markdown",
   "metadata": {},
   "source": [
    "Der Insertion Sort Algorithmus ist ein einfacher Sortieralgorithmus, der durch das Einfügen von Elementen in eine bereits sortierte Teilsequenz eine sortierte Gesamtsequenz aufbaut. Der Algorithmus funktioniert folgendermaßen:\n",
    "\n",
    "Der erste Schritt besteht darin, das erste Element der Liste als bereits sortierten Teil anzusehen. Das heißt, der Teil, der nur das erste Element enthält, wird als sortiert betrachtet.\n",
    "\n",
    "Der Algorithmus geht dann das nächste Element in der Liste durch und fügt es an die richtige Position im bereits sortierten Teil ein. Dabei vergleicht es das Element mit den bereits sortierten Elementen und verschiebt größere Elemente nach rechts, um Platz für das neu eingefügte Element zu schaffen.\n",
    "\n",
    "Dieser Schritt wird für jedes weitere Element wiederholt, bis alle Elemente in die richtige Position eingefügt wurden und die Liste vollständig sortiert ist.\n",
    "\n",
    "Ein wichtiger Aspekt des Insertion Sort Algorithmus ist, dass er effizient für kleine Listen oder bereits teilweise sortierte Listen ist. Der Algorithmus hat eine Laufzeitkomplexität von O(n^2) im Durchschnitt und im schlimmsten Fall, was bedeutet, dass die Sortierzeit quadratisch mit der Anzahl der Elemente steigt.\n",
    "\n",
    "Es ist wichtig zu beachten, dass Insertion Sort ein stabil sortierender Algorithmus ist, d.h. Elemente mit dem gleichen Wert bleiben in ihrer relativen Reihenfolge erhalten."
   ]
  },
  {
   "cell_type": "code",
   "execution_count": 24,
   "metadata": {},
   "outputs": [],
   "source": [
    "# Erzeuge einen zufälligen Datensatz\n",
    "dataset = random.sample(range(1, n+1), n)"
   ]
  },
  {
   "cell_type": "code",
   "execution_count": 25,
   "metadata": {},
   "outputs": [],
   "source": [
    "# Insertion Sort Algorithmus\n",
    "def insertion_sort(data, ):\n",
    "    cnt=0\n",
    "    sorted_datasets = []\n",
    "    for i in range(1, len(data)):\n",
    "        key = data[i]  # Das aktuell zu sortierende Element\n",
    "        j = i - 1\n",
    "        while j >= 0 and data[j] > key:\n",
    "            data[j+1] = data[j]  # Verschiebe Elemente nach rechts\n",
    "            j -= 1\n",
    "            cnt += 1\n",
    "            # Speichere den sortierten Datensatz nach jedem Sortierschritt\n",
    "            sorted_datasets.append(data.copy())\n",
    "        data[j+1] = key  # Füge das Element an der richtigen Position ein\n",
    "        \n",
    "    print(f\"Anzahl der Schritte: {cnt}\")\n",
    "    return sorted_datasets"
   ]
  },
  {
   "cell_type": "code",
   "execution_count": 26,
   "metadata": {},
   "outputs": [
    {
     "name": "stdout",
     "output_type": "stream",
     "text": [
      "Anzahl der Schritte: 22\n"
     ]
    }
   ],
   "source": [
    "insertion_sorted_datasets = []\n",
    "insertion_sorted_datasets = insertion_sort(dataset)"
   ]
  },
  {
   "cell_type": "code",
   "execution_count": 27,
   "metadata": {},
   "outputs": [],
   "source": [
    "\n",
    "# Sortiere den Datensatz mit Bubble Sort\n",
    "# Zeige den sortierten Datensatz nach jedem Sortierschritt\n",
    "for i, data in enumerate(insertion_sorted_datasets):\n",
    "    update_chart(data, i+1, \"Sortieralgorithmen/insertion_sort\", \"Insertion_Sort\")"
   ]
  },
  {
   "cell_type": "markdown",
   "metadata": {},
   "source": [
    "### Selection Sort"
   ]
  },
  {
   "cell_type": "code",
   "execution_count": 28,
   "metadata": {},
   "outputs": [],
   "source": [
    "# Erzeuge einen zufälligen Datensatz\n",
    "dataset = random.sample(range(1, n+1), n)"
   ]
  },
  {
   "cell_type": "code",
   "execution_count": 29,
   "metadata": {},
   "outputs": [],
   "source": [
    "def selection_sort(data):\n",
    "    cnt = 0\n",
    "    sorted_datasets = []\n",
    "    for i in range(len(data)-1):\n",
    "        min_index = i\n",
    "        for j in range(i+1, len(data)):\n",
    "            if data[j] < data[min_index]:\n",
    "                min_index = j\n",
    "                cnt += 1\n",
    "                sorted_datasets.append(data.copy())\n",
    "        data[i], data[min_index] = data[min_index], data[i]\n",
    "        \n",
    "    print(f\"Anzahl der Schritte: {cnt}\")\n",
    "    return sorted_datasets"
   ]
  },
  {
   "cell_type": "code",
   "execution_count": 30,
   "metadata": {},
   "outputs": [
    {
     "name": "stdout",
     "output_type": "stream",
     "text": [
      "Anzahl der Schritte: 14\n"
     ]
    }
   ],
   "source": [
    "selection_sorted_datasets = []\n",
    "selection_sorted_datasets = selection_sort(dataset)"
   ]
  },
  {
   "cell_type": "code",
   "execution_count": 31,
   "metadata": {},
   "outputs": [],
   "source": [
    "# Sortiere den Datensatz mit Bubble Sort\n",
    "# Zeige den sortierten Datensatz nach jedem Sortierschritt\n",
    "for i, data in enumerate(selection_sorted_datasets):\n",
    "    update_chart(data, i+1, \"Sortieralgorithmen/selection_sort\", \"Selection_Sort\")"
   ]
  },
  {
   "cell_type": "markdown",
   "metadata": {},
   "source": [
    "### Merge Sort"
   ]
  },
  {
   "cell_type": "code",
   "execution_count": 32,
   "metadata": {},
   "outputs": [],
   "source": [
    "# Erzeuge einen zufälligen Datensatz\n",
    "dataset = random.sample(range(1, n+1), n)"
   ]
  },
  {
   "cell_type": "code",
   "execution_count": 33,
   "metadata": {},
   "outputs": [],
   "source": [
    "def merge_sort(data):\n",
    "    steps = []\n",
    "\n",
    "    def merge(left, right, start):\n",
    "        result = []\n",
    "        i = j = 0\n",
    "        while i < len(left) and j < len(right):\n",
    "            if left[i] < right[j]:\n",
    "                result.append(left[i])\n",
    "                i += 1\n",
    "            else:\n",
    "                result.append(right[j])\n",
    "                j += 1\n",
    "            data[start:start+len(result)] = result\n",
    "            steps.append(list(data))\n",
    "        while i < len(left):\n",
    "            result.append(left[i])\n",
    "            i += 1\n",
    "            data[start:start+len(result)] = result\n",
    "            steps.append(list(data))\n",
    "        while j < len(right):\n",
    "            result.append(right[j])\n",
    "            j += 1\n",
    "            data[start:start+len(result)] = result\n",
    "            steps.append(list(data))\n",
    "        return result\n",
    "\n",
    "    def sort(data, start=0):\n",
    "        if len(data) <= 1:\n",
    "            return data\n",
    "        mid = len(data) // 2\n",
    "        left = data[:mid]\n",
    "        right = data[mid:]\n",
    "        return merge(sort(left, start), sort(right, start + mid), start)\n",
    "\n",
    "    sort(data)\n",
    "    return steps"
   ]
  },
  {
   "cell_type": "code",
   "execution_count": 34,
   "metadata": {},
   "outputs": [],
   "source": [
    "merge_sorted_datasets = merge_sort(dataset)"
   ]
  },
  {
   "cell_type": "code",
   "execution_count": 35,
   "metadata": {},
   "outputs": [
    {
     "name": "stdout",
     "output_type": "stream",
     "text": [
      "[[4, 6, 2, 1, 10, 7, 3, 8, 9, 5], [4, 6, 2, 1, 10, 7, 3, 8, 9, 5], [4, 6, 2, 1, 10, 7, 3, 8, 9, 5], [4, 6, 2, 1, 10, 7, 3, 8, 9, 5], [4, 6, 1, 1, 10, 7, 3, 8, 9, 5], [4, 6, 1, 2, 10, 7, 3, 8, 9, 5], [4, 6, 1, 2, 10, 7, 3, 8, 9, 5], [1, 6, 1, 2, 10, 7, 3, 8, 9, 5], [1, 2, 1, 2, 10, 7, 3, 8, 9, 5], [1, 2, 4, 2, 10, 7, 3, 8, 9, 5], [1, 2, 4, 6, 10, 7, 3, 8, 9, 5], [1, 2, 4, 6, 10, 7, 3, 8, 9, 5], [1, 2, 4, 6, 10, 3, 3, 8, 9, 5], [1, 2, 4, 6, 10, 3, 7, 8, 9, 5], [1, 2, 4, 6, 10, 3, 7, 8, 5, 5], [1, 2, 4, 6, 10, 3, 7, 8, 5, 9], [1, 2, 4, 6, 10, 3, 7, 5, 5, 9], [1, 2, 4, 6, 10, 3, 7, 5, 8, 9], [1, 2, 4, 6, 10, 3, 7, 5, 8, 9], [1, 2, 4, 6, 10, 3, 7, 5, 8, 9], [1, 2, 4, 6, 10, 3, 5, 5, 8, 9], [1, 2, 4, 6, 10, 3, 5, 7, 8, 9], [1, 2, 4, 6, 10, 3, 5, 7, 8, 9], [1, 2, 4, 6, 10, 3, 5, 7, 8, 9], [1, 2, 4, 6, 10, 3, 5, 7, 8, 9], [1, 2, 4, 6, 10, 3, 5, 7, 8, 9], [1, 2, 3, 6, 10, 3, 5, 7, 8, 9], [1, 2, 3, 4, 10, 3, 5, 7, 8, 9], [1, 2, 3, 4, 5, 3, 5, 7, 8, 9], [1, 2, 3, 4, 5, 6, 5, 7, 8, 9], [1, 2, 3, 4, 5, 6, 7, 7, 8, 9], [1, 2, 3, 4, 5, 6, 7, 8, 8, 9], [1, 2, 3, 4, 5, 6, 7, 8, 9, 9], [1, 2, 3, 4, 5, 6, 7, 8, 9, 10]]\n"
     ]
    }
   ],
   "source": [
    "print(merge_sorted_datasets)"
   ]
  },
  {
   "cell_type": "code",
   "execution_count": 36,
   "metadata": {},
   "outputs": [],
   "source": [
    "# Sortiere den Datensatz mit Bubble Sort\n",
    "# Zeige den sortierten Datensatz nach jedem Sortierschritt\n",
    "for i, data in enumerate(merge_sorted_datasets):\n",
    "    update_chart(data, i+1, \"Sortieralgorithmen/merge_sort\", \"Merge Sort\")"
   ]
  },
  {
   "cell_type": "markdown",
   "metadata": {},
   "source": [
    "### Quick Sort"
   ]
  },
  {
   "cell_type": "code",
   "execution_count": 37,
   "metadata": {},
   "outputs": [],
   "source": [
    "# Erzeuge einen zufälligen Datensatz\n",
    "dataset = random.sample(range(1, n+1), n)"
   ]
  },
  {
   "cell_type": "code",
   "execution_count": 53,
   "metadata": {},
   "outputs": [],
   "source": [
    "def quick_sort(arr):\n",
    "    steps = []\n",
    "\n",
    "    def sort(arr):\n",
    "        if len(arr) <= 1:\n",
    "            return arr\n",
    "\n",
    "        pivot = arr[len(arr) // 2]\n",
    "        left = [x for x in arr if x < pivot]\n",
    "        middle = [x for x in arr if x == pivot]\n",
    "        right = [x for x in arr if x > pivot]\n",
    "\n",
    "        sorted_left = sort(left)\n",
    "        sorted_right = sort(right)\n",
    "\n",
    "        result = sorted_left + middle + sorted_right\n",
    "        steps.append(result)\n",
    "        return result\n",
    "\n",
    "    sort(arr)\n",
    "    return steps"
   ]
  },
  {
   "cell_type": "code",
   "execution_count": 54,
   "metadata": {},
   "outputs": [],
   "source": [
    "quick_sorted_datasets = quick_sort(dataset)\n"
   ]
  },
  {
   "cell_type": "code",
   "execution_count": 55,
   "metadata": {},
   "outputs": [
    {
     "name": "stdout",
     "output_type": "stream",
     "text": [
      "[[2, 3], [2, 3, 4], [1, 2, 3, 4], [8, 9, 10], [6, 7, 8, 9, 10], [1, 2, 3, 4, 5, 6, 7, 8, 9, 10]]\n"
     ]
    }
   ],
   "source": [
    "print(quick_sorted_datasets)"
   ]
  },
  {
   "cell_type": "code",
   "execution_count": 56,
   "metadata": {},
   "outputs": [
    {
     "data": {
      "image/png": "[encoded data removed]",
      "text/plain": [
       "<Figure size 640x480 with 1 Axes>"
      ]
     },
     "metadata": {},
     "output_type": "display_data"
    },
    {
     "data": {
      "image/png": "[encoded data removed]",
      "text/plain": [
       "<Figure size 640x480 with 1 Axes>"
      ]
     },
     "metadata": {},
     "output_type": "display_data"
    },
    {
     "data": {
      "image/png": "[encoded data removed]",
      "text/plain": [
       "<Figure size 640x480 with 1 Axes>"
      ]
     },
     "metadata": {},
     "output_type": "display_data"
    },
    {
     "data": {
      "image/png": "[encoded data removed]",
      "text/plain": [
       "<Figure size 640x480 with 1 Axes>"
      ]
     },
     "metadata": {},
     "output_type": "display_data"
    },
    {
     "data": {
      "image/png": "[encoded data removed]",
      "text/plain": [
       "<Figure size 640x480 with 1 Axes>"
      ]
     },
     "metadata": {},
     "output_type": "display_data"
    },
    {
     "data": {
      "image/png": "[encoded data removed]",
      "text/plain": [
       "<Figure size 640x480 with 1 Axes>"
      ]
     },
     "metadata": {},
     "output_type": "display_data"
    }
   ],
   "source": [
    "for i, data in enumerate(quick_sorted_datasets):\n",
    "    plt.figure()\n",
    "    plt.bar(range(len(data)), data)\n",
    "    plt.title(f'Step {i+1}')\n",
    "    plt.show()"
   ]
  },
  {
   "cell_type": "markdown",
   "metadata": {},
   "source": [
    "### Radix Sort"
   ]
  },
  {
   "cell_type": "code",
   "execution_count": 57,
   "metadata": {},
   "outputs": [],
   "source": [
    "# Erzeuge einen zufälligen Datensatz\n",
    "dataset = random.sample(range(1, n+1), n)"
   ]
  },
  {
   "cell_type": "code",
   "execution_count": 61,
   "metadata": {},
   "outputs": [],
   "source": [
    "def radix_sort(data):\n",
    "    steps = [list(data)]  # Start with the initial array\n",
    "\n",
    "    # Find the maximum number to determine the number of digits\n",
    "    max_num = max(data)\n",
    "    \n",
    "    # Perform counting sort for every digit\n",
    "    exp = 1\n",
    "    while max_num // exp > 0:\n",
    "        counting_sort(data, exp)\n",
    "        steps.append(list(data))  # Add the current state of the array to the steps\n",
    "        exp *= 10\n",
    "    \n",
    "    return steps\n",
    "\n",
    "def counting_sort(data, exp):\n",
    "    n = len(data)\n",
    "    output = [0] * n\n",
    "    count = [0] * 10\n",
    "    \n",
    "    # Count the occurrences of each digit\n",
    "    for i in range(n):\n",
    "        index = data[i] // exp\n",
    "        count[index % 10] += 1\n",
    "    \n",
    "    # Calculate the cumulative count\n",
    "    for i in range(1, 10):\n",
    "        count[i] += count[i - 1]\n",
    "    \n",
    "    # Build the output array\n",
    "    i = n - 1\n",
    "    while i >= 0:\n",
    "        index = data[i] // exp\n",
    "        output[count[index % 10] - 1] = data[i]\n",
    "        count[index % 10] -= 1\n",
    "        i -= 1\n",
    "    \n",
    "    # Copy the sorted elements back to the original array\n",
    "    for i in range(n):\n",
    "        data[i] = output[i]"
   ]
  },
  {
   "cell_type": "code",
   "execution_count": 62,
   "metadata": {},
   "outputs": [],
   "source": [
    "radix_sorted_datasets = radix_sort(dataset)"
   ]
  },
  {
   "cell_type": "code",
   "execution_count": 63,
   "metadata": {},
   "outputs": [
    {
     "data": {
      "text/plain": [
       "[[1, 2, 3, 4, 5, 6, 7, 8, 9, 10],\n",
       " [10, 1, 2, 3, 4, 5, 6, 7, 8, 9],\n",
       " [1, 2, 3, 4, 5, 6, 7, 8, 9, 10]]"
      ]
     },
     "execution_count": 63,
     "metadata": {},
     "output_type": "execute_result"
    }
   ],
   "source": [
    "radix_sorted_datasets"
   ]
  },
  {
   "cell_type": "code",
   "execution_count": 64,
   "metadata": {},
   "outputs": [],
   "source": [
    "# Sortiere den Datensatz mit Bubble Sort\n",
    "# Zeige den sortierten Datensatz nach jedem Sortierschritt\n",
    "for i, data in enumerate(radix_sorted_datasets):\n",
    "    update_chart(data, i+1, \"Sortieralgorithmen/radix_sort\", \"Radix Sort\")"
   ]
  },
  {
   "cell_type": "markdown",
   "metadata": {},
   "source": [
    "### Bogo Sort"
   ]
  },
  {
   "cell_type": "code",
   "execution_count": 77,
   "metadata": {},
   "outputs": [
    {
     "name": "stdout",
     "output_type": "stream",
     "text": [
      "[5, 2, 3, 4, 1]\n"
     ]
    }
   ],
   "source": [
    "# Erzeuge einen zufälligen Datensatz\n",
    "n = 5\n",
    "dataset = random.sample(range(1, n+1), n)\n",
    "print(dataset)"
   ]
  },
  {
   "cell_type": "code",
   "execution_count": 78,
   "metadata": {},
   "outputs": [],
   "source": [
    "def is_sorted(data):\n",
    "    for i in range(len(data) - 1):\n",
    "        if data[i] > data[i+1]:\n",
    "            return False\n",
    "    return True\n",
    "\n",
    "def bogo_sort(data):\n",
    "    steps = []\n",
    "    while not is_sorted(data):\n",
    "        steps.append(list(data))  # Add the current state of the array to the steps\n",
    "        random.shuffle(data)\n",
    "    steps.append(list(data))  # Add the final sorted array to the steps\n",
    "    return steps"
   ]
  },
  {
   "cell_type": "code",
   "execution_count": 79,
   "metadata": {},
   "outputs": [],
   "source": [
    "bogo_sorted_datasets = bogo_sort(dataset)"
   ]
  },
  {
   "cell_type": "code",
   "execution_count": 80,
   "metadata": {},
   "outputs": [
    {
     "data": {
      "text/plain": [
       "[[5, 2, 3, 4, 1],\n",
       " [4, 3, 1, 5, 2],\n",
       " [2, 3, 5, 4, 1],\n",
       " [2, 5, 1, 4, 3],\n",
       " [3, 4, 2, 1, 5],\n",
       " [3, 4, 1, 2, 5],\n",
       " [1, 3, 4, 2, 5],\n",
       " [5, 4, 1, 2, 3],\n",
       " [2, 3, 1, 4, 5],\n",
       " [5, 1, 3, 2, 4],\n",
       " [5, 1, 3, 2, 4],\n",
       " [1, 2, 3, 5, 4],\n",
       " [1, 2, 5, 3, 4],\n",
       " [3, 4, 2, 5, 1],\n",
       " [1, 4, 2, 3, 5],\n",
       " [3, 1, 2, 4, 5],\n",
       " [5, 4, 3, 1, 2],\n",
       " [1, 2, 3, 5, 4],\n",
       " [3, 2, 4, 1, 5],\n",
       " [1, 5, 3, 2, 4],\n",
       " [3, 5, 2, 1, 4],\n",
       " [2, 1, 4, 5, 3],\n",
       " [2, 4, 5, 1, 3],\n",
       " [2, 1, 5, 3, 4],\n",
       " [2, 4, 1, 5, 3],\n",
       " [5, 1, 3, 4, 2],\n",
       " [1, 4, 2, 5, 3],\n",
       " [5, 2, 1, 4, 3],\n",
       " [4, 1, 3, 2, 5],\n",
       " [1, 2, 5, 4, 3],\n",
       " [2, 3, 1, 4, 5],\n",
       " [1, 3, 2, 4, 5],\n",
       " [5, 2, 1, 3, 4],\n",
       " [5, 4, 2, 1, 3],\n",
       " [4, 3, 2, 5, 1],\n",
       " [1, 3, 2, 5, 4],\n",
       " [5, 2, 4, 3, 1],\n",
       " [4, 2, 5, 3, 1],\n",
       " [3, 4, 1, 5, 2],\n",
       " [4, 2, 1, 5, 3],\n",
       " [2, 1, 5, 3, 4],\n",
       " [2, 5, 4, 3, 1],\n",
       " [1, 4, 2, 3, 5],\n",
       " [5, 2, 4, 1, 3],\n",
       " [5, 3, 2, 4, 1],\n",
       " [2, 5, 4, 1, 3],\n",
       " [1, 5, 4, 3, 2],\n",
       " [3, 5, 4, 2, 1],\n",
       " [2, 4, 3, 5, 1],\n",
       " [1, 5, 3, 2, 4],\n",
       " [4, 3, 1, 2, 5],\n",
       " [3, 2, 1, 4, 5],\n",
       " [5, 3, 2, 1, 4],\n",
       " [5, 4, 1, 3, 2],\n",
       " [5, 3, 2, 1, 4],\n",
       " [2, 1, 3, 4, 5],\n",
       " [5, 4, 3, 1, 2],\n",
       " [2, 1, 5, 3, 4],\n",
       " [3, 1, 2, 4, 5],\n",
       " [1, 3, 4, 2, 5],\n",
       " [3, 1, 2, 4, 5],\n",
       " [5, 4, 3, 2, 1],\n",
       " [5, 3, 2, 4, 1],\n",
       " [5, 4, 2, 3, 1],\n",
       " [5, 1, 3, 2, 4],\n",
       " [4, 1, 2, 5, 3],\n",
       " [3, 1, 5, 4, 2],\n",
       " [4, 2, 3, 5, 1],\n",
       " [2, 4, 3, 5, 1],\n",
       " [4, 5, 3, 1, 2],\n",
       " [3, 1, 5, 4, 2],\n",
       " [5, 2, 3, 1, 4],\n",
       " [4, 1, 2, 5, 3],\n",
       " [5, 2, 3, 4, 1],\n",
       " [4, 3, 5, 2, 1],\n",
       " [1, 5, 4, 2, 3],\n",
       " [5, 1, 3, 2, 4],\n",
       " [2, 5, 4, 1, 3],\n",
       " [4, 3, 5, 2, 1],\n",
       " [4, 5, 1, 2, 3],\n",
       " [2, 1, 4, 3, 5],\n",
       " [5, 2, 1, 4, 3],\n",
       " [5, 2, 4, 3, 1],\n",
       " [2, 3, 5, 4, 1],\n",
       " [2, 4, 1, 3, 5],\n",
       " [3, 4, 1, 5, 2],\n",
       " [5, 3, 4, 2, 1],\n",
       " [4, 5, 1, 3, 2],\n",
       " [5, 2, 1, 4, 3],\n",
       " [3, 2, 5, 4, 1],\n",
       " [2, 3, 4, 5, 1],\n",
       " [2, 3, 5, 1, 4],\n",
       " [2, 3, 4, 1, 5],\n",
       " [4, 1, 2, 3, 5],\n",
       " [4, 5, 2, 1, 3],\n",
       " [3, 2, 5, 4, 1],\n",
       " [3, 1, 5, 4, 2],\n",
       " [5, 3, 1, 2, 4],\n",
       " [3, 5, 1, 2, 4],\n",
       " [4, 5, 2, 1, 3],\n",
       " [3, 1, 2, 5, 4],\n",
       " [5, 2, 3, 4, 1],\n",
       " [3, 1, 4, 2, 5],\n",
       " [1, 3, 4, 5, 2],\n",
       " [4, 1, 3, 2, 5],\n",
       " [3, 5, 2, 4, 1],\n",
       " [3, 4, 2, 1, 5],\n",
       " [2, 1, 5, 4, 3],\n",
       " [2, 3, 5, 4, 1],\n",
       " [2, 3, 5, 1, 4],\n",
       " [2, 5, 4, 1, 3],\n",
       " [2, 3, 1, 4, 5],\n",
       " [4, 2, 5, 1, 3],\n",
       " [4, 3, 1, 2, 5],\n",
       " [3, 5, 2, 4, 1],\n",
       " [1, 3, 2, 4, 5],\n",
       " [4, 2, 5, 1, 3],\n",
       " [3, 4, 2, 1, 5],\n",
       " [2, 3, 5, 1, 4],\n",
       " [5, 2, 3, 1, 4],\n",
       " [5, 1, 2, 4, 3],\n",
       " [2, 5, 4, 1, 3],\n",
       " [3, 2, 5, 1, 4],\n",
       " [3, 2, 4, 5, 1],\n",
       " [1, 4, 3, 5, 2],\n",
       " [3, 4, 2, 1, 5],\n",
       " [5, 2, 3, 1, 4],\n",
       " [4, 5, 2, 1, 3],\n",
       " [4, 3, 5, 2, 1],\n",
       " [1, 4, 3, 2, 5],\n",
       " [4, 5, 3, 1, 2],\n",
       " [1, 4, 2, 5, 3],\n",
       " [4, 2, 5, 3, 1],\n",
       " [3, 5, 1, 2, 4],\n",
       " [5, 4, 1, 3, 2],\n",
       " [2, 5, 4, 1, 3],\n",
       " [4, 5, 1, 2, 3],\n",
       " [2, 1, 5, 3, 4],\n",
       " [4, 5, 2, 1, 3],\n",
       " [5, 3, 1, 2, 4],\n",
       " [2, 1, 3, 5, 4],\n",
       " [5, 1, 4, 2, 3],\n",
       " [4, 3, 1, 2, 5],\n",
       " [4, 3, 5, 1, 2],\n",
       " [5, 2, 4, 1, 3],\n",
       " [5, 4, 2, 1, 3],\n",
       " [1, 5, 4, 2, 3],\n",
       " [2, 3, 5, 4, 1],\n",
       " [5, 2, 3, 1, 4],\n",
       " [4, 2, 5, 3, 1],\n",
       " [4, 3, 1, 5, 2],\n",
       " [3, 4, 5, 2, 1],\n",
       " [2, 5, 3, 4, 1],\n",
       " [5, 2, 3, 1, 4],\n",
       " [3, 5, 2, 4, 1],\n",
       " [4, 5, 1, 2, 3],\n",
       " [4, 3, 2, 1, 5],\n",
       " [4, 5, 3, 2, 1],\n",
       " [4, 1, 5, 2, 3],\n",
       " [2, 3, 4, 1, 5],\n",
       " [3, 1, 5, 2, 4],\n",
       " [3, 2, 5, 4, 1],\n",
       " [2, 4, 3, 1, 5],\n",
       " [5, 2, 1, 4, 3],\n",
       " [2, 4, 3, 5, 1],\n",
       " [1, 4, 5, 2, 3],\n",
       " [3, 5, 1, 2, 4],\n",
       " [3, 2, 5, 1, 4],\n",
       " [2, 4, 3, 5, 1],\n",
       " [4, 1, 2, 5, 3],\n",
       " [1, 2, 4, 3, 5],\n",
       " [1, 3, 4, 5, 2],\n",
       " [4, 5, 2, 3, 1],\n",
       " [4, 3, 2, 5, 1],\n",
       " [4, 2, 3, 1, 5],\n",
       " [2, 1, 5, 4, 3],\n",
       " [5, 2, 4, 3, 1],\n",
       " [3, 4, 5, 1, 2],\n",
       " [1, 5, 2, 3, 4],\n",
       " [2, 1, 5, 3, 4],\n",
       " [2, 4, 3, 5, 1],\n",
       " [4, 1, 3, 2, 5],\n",
       " [5, 4, 2, 1, 3],\n",
       " [1, 5, 2, 4, 3],\n",
       " [4, 3, 1, 5, 2],\n",
       " [4, 2, 5, 1, 3],\n",
       " [3, 5, 2, 4, 1],\n",
       " [3, 5, 1, 2, 4],\n",
       " [5, 4, 1, 3, 2],\n",
       " [5, 4, 2, 1, 3],\n",
       " [4, 2, 1, 3, 5],\n",
       " [5, 2, 3, 4, 1],\n",
       " [3, 5, 2, 4, 1],\n",
       " [3, 5, 2, 4, 1],\n",
       " [1, 2, 5, 4, 3],\n",
       " [2, 1, 4, 3, 5],\n",
       " [2, 3, 5, 4, 1],\n",
       " [3, 2, 1, 4, 5],\n",
       " [5, 1, 2, 3, 4],\n",
       " [4, 3, 1, 5, 2],\n",
       " [1, 4, 3, 5, 2],\n",
       " [1, 2, 5, 3, 4],\n",
       " [5, 2, 4, 1, 3],\n",
       " [5, 4, 1, 2, 3],\n",
       " [4, 1, 3, 5, 2],\n",
       " [2, 4, 5, 3, 1],\n",
       " [4, 5, 2, 3, 1],\n",
       " [5, 2, 1, 3, 4],\n",
       " [5, 2, 4, 1, 3],\n",
       " [4, 5, 2, 3, 1],\n",
       " [2, 4, 1, 5, 3],\n",
       " [1, 5, 2, 4, 3],\n",
       " [1, 5, 3, 2, 4],\n",
       " [4, 5, 2, 3, 1],\n",
       " [2, 5, 4, 3, 1],\n",
       " [2, 4, 5, 3, 1],\n",
       " [2, 5, 4, 3, 1],\n",
       " [2, 3, 4, 1, 5],\n",
       " [4, 5, 2, 1, 3],\n",
       " [2, 4, 5, 3, 1],\n",
       " [5, 4, 1, 2, 3],\n",
       " [1, 4, 3, 2, 5],\n",
       " [3, 5, 2, 4, 1],\n",
       " [1, 2, 5, 4, 3],\n",
       " [2, 1, 5, 4, 3],\n",
       " [2, 3, 1, 4, 5],\n",
       " [3, 4, 1, 2, 5],\n",
       " [5, 2, 3, 1, 4],\n",
       " [2, 4, 3, 5, 1],\n",
       " [2, 1, 3, 4, 5],\n",
       " [3, 4, 1, 5, 2],\n",
       " [3, 5, 4, 2, 1],\n",
       " [3, 2, 4, 1, 5],\n",
       " [1, 4, 3, 2, 5],\n",
       " [4, 5, 3, 2, 1],\n",
       " [3, 1, 4, 5, 2],\n",
       " [2, 3, 1, 5, 4],\n",
       " [3, 2, 4, 1, 5],\n",
       " [5, 4, 2, 1, 3],\n",
       " [5, 3, 4, 2, 1],\n",
       " [4, 5, 1, 2, 3],\n",
       " [4, 3, 1, 2, 5],\n",
       " [4, 3, 2, 1, 5],\n",
       " [2, 5, 3, 1, 4],\n",
       " [1, 5, 3, 2, 4],\n",
       " [1, 2, 4, 5, 3],\n",
       " [1, 5, 4, 3, 2],\n",
       " [2, 3, 4, 1, 5],\n",
       " [5, 3, 2, 1, 4],\n",
       " [1, 2, 4, 5, 3],\n",
       " [3, 4, 1, 2, 5],\n",
       " [3, 4, 2, 1, 5],\n",
       " [3, 1, 5, 2, 4],\n",
       " [4, 2, 1, 3, 5],\n",
       " [4, 3, 1, 5, 2],\n",
       " [5, 3, 4, 1, 2],\n",
       " [3, 2, 1, 4, 5],\n",
       " [3, 2, 5, 1, 4],\n",
       " [3, 2, 5, 1, 4],\n",
       " [5, 4, 1, 2, 3],\n",
       " [4, 5, 2, 1, 3],\n",
       " [3, 5, 2, 1, 4],\n",
       " [5, 2, 4, 3, 1],\n",
       " [3, 1, 2, 4, 5],\n",
       " [4, 5, 2, 1, 3],\n",
       " [4, 2, 5, 3, 1],\n",
       " [5, 4, 3, 2, 1],\n",
       " [3, 5, 4, 1, 2],\n",
       " [3, 2, 1, 5, 4],\n",
       " [5, 4, 3, 1, 2],\n",
       " [1, 4, 5, 3, 2],\n",
       " [2, 3, 1, 4, 5],\n",
       " [4, 5, 1, 3, 2],\n",
       " [5, 3, 2, 1, 4],\n",
       " [1, 2, 5, 3, 4],\n",
       " [5, 3, 1, 2, 4],\n",
       " [1, 2, 4, 5, 3],\n",
       " [3, 5, 1, 4, 2],\n",
       " [1, 4, 2, 5, 3],\n",
       " [3, 5, 1, 2, 4],\n",
       " [4, 5, 2, 3, 1],\n",
       " [5, 3, 2, 4, 1],\n",
       " [2, 5, 3, 1, 4],\n",
       " [4, 2, 3, 5, 1],\n",
       " [5, 4, 2, 3, 1],\n",
       " [1, 2, 4, 3, 5],\n",
       " [5, 2, 4, 3, 1],\n",
       " [4, 3, 2, 1, 5],\n",
       " [5, 2, 1, 3, 4],\n",
       " [5, 4, 2, 1, 3],\n",
       " [4, 1, 2, 3, 5],\n",
       " [2, 1, 4, 5, 3],\n",
       " [2, 3, 1, 5, 4],\n",
       " [4, 5, 3, 1, 2],\n",
       " [1, 5, 4, 2, 3],\n",
       " [5, 4, 2, 3, 1],\n",
       " [1, 4, 2, 5, 3],\n",
       " [5, 3, 2, 1, 4],\n",
       " [4, 2, 3, 1, 5],\n",
       " [5, 2, 1, 3, 4],\n",
       " [2, 3, 4, 5, 1],\n",
       " [1, 4, 2, 5, 3],\n",
       " [5, 4, 1, 3, 2],\n",
       " [1, 5, 3, 4, 2],\n",
       " [5, 4, 1, 3, 2],\n",
       " [5, 3, 4, 2, 1],\n",
       " [4, 2, 1, 3, 5],\n",
       " [3, 5, 1, 2, 4],\n",
       " [4, 1, 2, 5, 3],\n",
       " [3, 1, 4, 2, 5],\n",
       " [1, 3, 2, 5, 4],\n",
       " [5, 2, 4, 3, 1],\n",
       " [1, 3, 2, 4, 5],\n",
       " [1, 2, 3, 5, 4],\n",
       " [5, 3, 4, 1, 2],\n",
       " [2, 3, 1, 4, 5],\n",
       " [3, 4, 2, 1, 5],\n",
       " [4, 2, 5, 3, 1],\n",
       " [1, 3, 4, 2, 5],\n",
       " [3, 2, 1, 5, 4],\n",
       " [2, 1, 3, 4, 5],\n",
       " [2, 5, 3, 1, 4],\n",
       " [5, 4, 3, 1, 2],\n",
       " [3, 2, 4, 5, 1],\n",
       " [3, 2, 1, 5, 4],\n",
       " [4, 2, 3, 1, 5],\n",
       " [1, 2, 5, 3, 4],\n",
       " [4, 3, 2, 1, 5],\n",
       " [4, 5, 2, 1, 3],\n",
       " [1, 2, 5, 4, 3],\n",
       " [3, 1, 4, 2, 5],\n",
       " [1, 2, 4, 5, 3],\n",
       " [2, 1, 5, 3, 4],\n",
       " [5, 4, 3, 2, 1],\n",
       " [2, 5, 3, 1, 4],\n",
       " [4, 1, 3, 5, 2],\n",
       " [4, 1, 3, 2, 5],\n",
       " [5, 4, 2, 1, 3],\n",
       " [5, 4, 2, 3, 1],\n",
       " [1, 3, 4, 5, 2],\n",
       " [2, 1, 3, 5, 4],\n",
       " [5, 4, 1, 3, 2],\n",
       " [1, 2, 4, 3, 5],\n",
       " [1, 4, 5, 2, 3],\n",
       " [5, 2, 1, 4, 3],\n",
       " [2, 3, 4, 1, 5],\n",
       " [1, 4, 2, 3, 5],\n",
       " [4, 1, 2, 5, 3],\n",
       " [4, 5, 1, 3, 2],\n",
       " [5, 4, 2, 1, 3],\n",
       " [3, 1, 4, 5, 2],\n",
       " [3, 4, 1, 5, 2],\n",
       " [1, 3, 5, 4, 2],\n",
       " [1, 5, 4, 3, 2],\n",
       " [2, 1, 4, 5, 3],\n",
       " [2, 1, 3, 5, 4],\n",
       " [5, 4, 3, 2, 1],\n",
       " [2, 4, 5, 3, 1],\n",
       " [1, 3, 2, 4, 5],\n",
       " [5, 2, 1, 3, 4],\n",
       " [1, 3, 4, 5, 2],\n",
       " [5, 3, 4, 1, 2],\n",
       " [5, 1, 4, 3, 2],\n",
       " [3, 4, 5, 2, 1],\n",
       " [1, 5, 4, 3, 2],\n",
       " [1, 2, 4, 3, 5],\n",
       " [5, 1, 4, 2, 3],\n",
       " [3, 1, 5, 2, 4],\n",
       " [3, 5, 1, 2, 4],\n",
       " [5, 1, 3, 4, 2],\n",
       " [3, 5, 4, 1, 2],\n",
       " [5, 3, 2, 4, 1],\n",
       " [2, 4, 3, 5, 1],\n",
       " [5, 2, 1, 3, 4],\n",
       " [1, 2, 4, 5, 3],\n",
       " [3, 5, 2, 1, 4],\n",
       " [4, 5, 3, 2, 1],\n",
       " [5, 2, 1, 3, 4],\n",
       " [3, 2, 4, 5, 1],\n",
       " [4, 5, 3, 1, 2],\n",
       " [4, 2, 3, 5, 1],\n",
       " [2, 3, 1, 4, 5],\n",
       " [5, 4, 2, 3, 1],\n",
       " [3, 4, 1, 2, 5],\n",
       " [1, 4, 2, 5, 3],\n",
       " [4, 2, 1, 5, 3],\n",
       " [2, 3, 1, 4, 5],\n",
       " [4, 2, 5, 1, 3],\n",
       " [1, 2, 4, 5, 3],\n",
       " [5, 3, 4, 1, 2],\n",
       " [1, 4, 3, 2, 5],\n",
       " [5, 3, 4, 2, 1],\n",
       " [2, 3, 1, 4, 5],\n",
       " [4, 5, 1, 2, 3],\n",
       " [2, 1, 3, 4, 5],\n",
       " [2, 5, 3, 4, 1],\n",
       " [3, 4, 2, 1, 5],\n",
       " [4, 1, 5, 2, 3],\n",
       " [2, 5, 3, 4, 1],\n",
       " [2, 5, 3, 4, 1],\n",
       " [5, 4, 1, 2, 3],\n",
       " [2, 4, 5, 3, 1],\n",
       " [3, 1, 4, 2, 5],\n",
       " [3, 4, 1, 5, 2],\n",
       " [3, 2, 1, 5, 4],\n",
       " [5, 2, 3, 4, 1],\n",
       " [2, 1, 3, 4, 5],\n",
       " [4, 2, 1, 3, 5],\n",
       " [5, 2, 3, 1, 4],\n",
       " [5, 2, 4, 1, 3],\n",
       " [5, 4, 3, 1, 2],\n",
       " [2, 4, 1, 3, 5],\n",
       " [5, 4, 3, 2, 1],\n",
       " [2, 1, 5, 4, 3],\n",
       " [1, 5, 2, 4, 3],\n",
       " [3, 4, 2, 5, 1],\n",
       " [4, 3, 1, 5, 2],\n",
       " [4, 5, 1, 3, 2],\n",
       " [3, 4, 5, 2, 1],\n",
       " [3, 2, 5, 4, 1],\n",
       " [3, 2, 1, 5, 4],\n",
       " [4, 1, 5, 3, 2],\n",
       " [1, 4, 5, 2, 3],\n",
       " [1, 4, 2, 3, 5],\n",
       " [1, 5, 3, 2, 4],\n",
       " [4, 3, 2, 1, 5],\n",
       " [4, 5, 2, 3, 1],\n",
       " [1, 5, 3, 2, 4],\n",
       " [2, 4, 5, 3, 1],\n",
       " [1, 2, 3, 5, 4],\n",
       " [5, 3, 4, 2, 1],\n",
       " [1, 4, 3, 5, 2],\n",
       " [2, 1, 3, 4, 5],\n",
       " [5, 4, 1, 3, 2],\n",
       " [1, 5, 4, 3, 2],\n",
       " [2, 1, 3, 4, 5],\n",
       " [2, 1, 3, 5, 4],\n",
       " [3, 5, 2, 4, 1],\n",
       " [5, 2, 4, 3, 1],\n",
       " [1, 3, 5, 2, 4],\n",
       " [1, 4, 2, 5, 3],\n",
       " [5, 4, 3, 2, 1],\n",
       " [1, 5, 2, 3, 4],\n",
       " [3, 1, 2, 5, 4],\n",
       " [4, 3, 5, 2, 1],\n",
       " [5, 3, 2, 1, 4],\n",
       " [4, 5, 2, 1, 3],\n",
       " [4, 5, 3, 2, 1],\n",
       " [4, 1, 3, 5, 2],\n",
       " [1, 2, 4, 5, 3],\n",
       " [1, 4, 3, 5, 2],\n",
       " [3, 1, 2, 4, 5],\n",
       " [3, 1, 4, 5, 2],\n",
       " [4, 3, 2, 1, 5],\n",
       " [5, 4, 1, 3, 2],\n",
       " [4, 2, 5, 3, 1],\n",
       " [3, 5, 2, 1, 4],\n",
       " [5, 2, 3, 1, 4],\n",
       " [2, 1, 5, 4, 3],\n",
       " [2, 5, 1, 3, 4],\n",
       " [1, 5, 4, 2, 3],\n",
       " [5, 4, 1, 2, 3],\n",
       " [4, 2, 5, 1, 3],\n",
       " [4, 2, 3, 1, 5],\n",
       " [5, 2, 1, 4, 3],\n",
       " [5, 3, 4, 1, 2],\n",
       " [2, 3, 5, 4, 1],\n",
       " [1, 5, 4, 3, 2],\n",
       " [2, 5, 4, 3, 1],\n",
       " [5, 2, 3, 4, 1],\n",
       " [4, 3, 1, 5, 2],\n",
       " [3, 5, 4, 2, 1],\n",
       " [5, 3, 4, 2, 1],\n",
       " [4, 3, 2, 1, 5],\n",
       " [3, 2, 4, 5, 1],\n",
       " [5, 2, 3, 1, 4],\n",
       " [5, 2, 1, 3, 4],\n",
       " [5, 2, 1, 3, 4],\n",
       " [4, 1, 2, 5, 3],\n",
       " [3, 1, 2, 5, 4],\n",
       " [2, 4, 1, 5, 3],\n",
       " [1, 4, 3, 5, 2],\n",
       " [5, 3, 1, 2, 4],\n",
       " [2, 1, 4, 5, 3],\n",
       " [4, 2, 3, 1, 5],\n",
       " [2, 4, 3, 5, 1],\n",
       " [2, 5, 3, 1, 4],\n",
       " [3, 2, 5, 4, 1],\n",
       " [3, 2, 1, 5, 4],\n",
       " [2, 4, 3, 5, 1],\n",
       " [5, 4, 2, 1, 3],\n",
       " [5, 1, 3, 4, 2],\n",
       " [5, 2, 1, 4, 3],\n",
       " [4, 2, 3, 5, 1],\n",
       " [1, 2, 4, 3, 5],\n",
       " [2, 5, 3, 4, 1],\n",
       " [2, 5, 1, 4, 3],\n",
       " [1, 3, 2, 5, 4],\n",
       " [3, 5, 1, 2, 4],\n",
       " [2, 1, 3, 5, 4],\n",
       " [5, 2, 3, 1, 4],\n",
       " [1, 3, 2, 4, 5],\n",
       " [3, 5, 2, 1, 4],\n",
       " [4, 2, 1, 5, 3],\n",
       " [4, 1, 3, 2, 5],\n",
       " [1, 5, 2, 4, 3],\n",
       " [2, 5, 4, 1, 3],\n",
       " [1, 4, 3, 2, 5],\n",
       " [5, 2, 1, 3, 4],\n",
       " [3, 4, 2, 5, 1],\n",
       " [2, 4, 3, 1, 5],\n",
       " [5, 1, 2, 4, 3],\n",
       " [5, 3, 2, 4, 1],\n",
       " [4, 1, 2, 5, 3],\n",
       " [3, 5, 4, 1, 2],\n",
       " [2, 5, 3, 4, 1],\n",
       " [3, 4, 1, 5, 2],\n",
       " [2, 5, 3, 4, 1],\n",
       " [2, 3, 1, 5, 4],\n",
       " [3, 2, 5, 4, 1],\n",
       " [2, 3, 4, 1, 5],\n",
       " [1, 4, 3, 5, 2],\n",
       " [1, 2, 3, 5, 4],\n",
       " [5, 4, 2, 3, 1],\n",
       " [2, 5, 3, 1, 4],\n",
       " [2, 4, 5, 3, 1],\n",
       " [3, 5, 2, 4, 1],\n",
       " [3, 5, 2, 4, 1],\n",
       " [5, 2, 4, 1, 3],\n",
       " [4, 1, 5, 2, 3],\n",
       " [1, 5, 4, 2, 3],\n",
       " [4, 5, 1, 2, 3],\n",
       " [1, 5, 3, 2, 4],\n",
       " [4, 5, 3, 1, 2],\n",
       " [1, 2, 5, 4, 3],\n",
       " [4, 3, 5, 2, 1],\n",
       " [5, 1, 3, 2, 4],\n",
       " [3, 1, 2, 5, 4],\n",
       " [5, 4, 1, 2, 3],\n",
       " [5, 1, 3, 2, 4],\n",
       " [3, 5, 1, 4, 2],\n",
       " [3, 4, 1, 5, 2],\n",
       " [2, 5, 1, 4, 3],\n",
       " [4, 2, 1, 5, 3],\n",
       " [5, 1, 2, 3, 4],\n",
       " [5, 1, 2, 3, 4],\n",
       " [5, 2, 3, 4, 1],\n",
       " [1, 4, 5, 3, 2],\n",
       " [4, 2, 5, 3, 1],\n",
       " [3, 5, 4, 1, 2],\n",
       " [4, 1, 5, 3, 2],\n",
       " [3, 5, 2, 4, 1],\n",
       " [4, 2, 3, 1, 5],\n",
       " [1, 2, 4, 3, 5],\n",
       " [3, 2, 1, 4, 5],\n",
       " [3, 1, 4, 5, 2],\n",
       " [1, 5, 2, 3, 4],\n",
       " [2, 5, 1, 4, 3],\n",
       " [2, 5, 3, 1, 4],\n",
       " [2, 3, 4, 5, 1],\n",
       " [1, 4, 2, 5, 3],\n",
       " [3, 1, 5, 4, 2],\n",
       " [5, 3, 1, 4, 2],\n",
       " [1, 5, 2, 3, 4],\n",
       " [3, 4, 5, 1, 2],\n",
       " [5, 1, 2, 4, 3],\n",
       " [1, 2, 3, 5, 4],\n",
       " [3, 1, 5, 2, 4],\n",
       " [1, 2, 3, 4, 5]]"
      ]
     },
     "execution_count": 80,
     "metadata": {},
     "output_type": "execute_result"
    }
   ],
   "source": [
    "bogo_sorted_datasets"
   ]
  },
  {
   "cell_type": "code",
   "execution_count": 81,
   "metadata": {},
   "outputs": [],
   "source": [
    "# Sortiere den Datensatz mit Bubble Sort\n",
    "# Zeige den sortierten Datensatz nach jedem Sortierschritt\n",
    "for i, data in enumerate(bogo_sorted_datasets):\n",
    "    update_chart(data, i+1, \"Sortieralgorithmen/bogo_sort\", \"Bogo Sort\")"
   ]
  },
  {
   "cell_type": "markdown",
   "metadata": {},
   "source": [
    "### Sleep Sort"
   ]
  },
  {
   "cell_type": "code",
   "execution_count": 82,
   "metadata": {},
   "outputs": [
    {
     "ename": "",
     "evalue": "",
     "output_type": "error",
     "traceback": [
      "\u001b[1;31mThe Kernel crashed while executing code in the current cell or a previous cell. \n",
      "\u001b[1;31mPlease review the code in the cell(s) to identify a possible cause of the failure. \n",
      "\u001b[1;31mClick <a href='https://aka.ms/vscodeJupyterKernelCrash'>here</a> for more info. \n",
      "\u001b[1;31mView Jupyter <a href='command:jupyter.viewOutput'>log</a> for further details."
     ]
    }
   ],
   "source": [
    "# Erzeuge einen zufälligen Datensatz\n",
    "dataset = random.sample(range(1, n+1), n)"
   ]
  },
  {
   "cell_type": "code",
   "execution_count": null,
   "metadata": {},
   "outputs": [],
   "source": [
    "import time\n",
    "import threading\n",
    "\n",
    "def sleep_sort(data):\n",
    "    sorted_data = []\n",
    "    def sleep_func(x):\n",
    "        time.sleep(x)\n",
    "        sorted_data.append(x)\n",
    "    \n",
    "    threads = []\n",
    "    for num in data:\n",
    "        t = threading.Thread(target=sleep_func, args=(num,))\n",
    "        threads.append(t)\n",
    "        t.start()\n",
    "    \n",
    "    for t in threads:\n",
    "        t.join()\n",
    "    \n",
    "    return sorted_data"
   ]
  },
  {
   "cell_type": "code",
   "execution_count": null,
   "metadata": {},
   "outputs": [],
   "source": [
    "sleep_sorted_datasets = []\n",
    "sleep_sorted_datasets = sleep_sort(dataset)"
   ]
  },
  {
   "cell_type": "code",
   "execution_count": null,
   "metadata": {},
   "outputs": [],
   "source": [
    "# Sortiere den Datensatz mit Bubble Sort\n",
    "# Zeige den sortierten Datensatz nach jedem Sortierschritt\n",
    "for i, data in enumerate(sleep_sorted_datasets):\n",
    "    update_chart(data, i+1, \"Sortieralgorithmen/sleep_sort\")"
   ]
  },
  {
   "cell_type": "code",
   "execution_count": null,
   "metadata": {},
   "outputs": [],
   "source": []
  },
  {
   "cell_type": "markdown",
   "metadata": {},
   "source": [
    "## Gifs erstellen"
   ]
  },
  {
   "cell_type": "code",
   "execution_count": 12,
   "metadata": {},
   "outputs": [],
   "source": [
    "import os\n",
    "import imageio"
   ]
  },
  {
   "cell_type": "code",
   "execution_count": 13,
   "metadata": {},
   "outputs": [],
   "source": [
    "def create_gif_from_pngs(folder_path, output_path):\n",
    "    images = []\n",
    "    for filename in os.listdir(folder_path):\n",
    "        if filename.endswith(\".png\"):\n",
    "            file_path = os.path.join(folder_path, filename)\n",
    "            images.append(imageio.imread(file_path))\n",
    "    \n",
    "    imageio.mimsave(output_path, images, duration=0.5)"
   ]
  },
  {
   "cell_type": "code",
   "execution_count": 23,
   "metadata": {},
   "outputs": [
    {
     "name": "stderr",
     "output_type": "stream",
     "text": [
      "C:\\Users\\gutsc\\AppData\\Local\\Temp\\ipykernel_10876\\1581740541.py:6: DeprecationWarning: Starting with ImageIO v3 the behavior of this function will switch to that of iio.v3.imread. To keep the current behavior (and make this warning disappear) use `import imageio.v2 as imageio` or call `imageio.v2.imread` directly.\n",
      "  images.append(imageio.imread(file_path))\n"
     ]
    }
   ],
   "source": [
    "folder_path = \"Sortieralgorithmen\"\n",
    "folder_list = [folder for folder in os.listdir(folder_path) if os.path.isdir(os.path.join(folder_path, folder))]\n",
    "\n",
    "for folder in folder_list:\n",
    "    output_path = os.path.join(\"Sortieralgorithmen\", f\"{folder}.gif\")\n",
    "    create_gif_from_pngs(os.path.join(\"Sortieralgorithmen\", folder), output_path)\n"
   ]
  }
 ],
 "metadata": {
  "kernelspec": {
   "display_name": "tf_GPU",
   "language": "python",
   "name": "python3"
  },
  "language_info": {
   "codemirror_mode": {
    "name": "ipython",
    "version": 3
   },
   "file_extension": ".py",
   "mimetype": "text/x-python",
   "name": "python",
   "nbconvert_exporter": "python",
   "pygments_lexer": "ipython3",
   "version": "3.10.9"
  }
 },
 "nbformat": 4,
 "nbformat_minor": 2
}
