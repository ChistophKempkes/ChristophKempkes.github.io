{
 "cells": [
  {
   "cell_type": "markdown",
   "metadata": {},
   "source": [
    "# Sortieralgorithmen"
   ]
  },
  {
   "cell_type": "markdown",
   "metadata": {},
   "source": [
    "Ich habe mich neulich gefragt, was es für gängige Sortieralgorithmen gibt. Wie funktionieren sie? Wie schnell sind sie? Gibt es koriose Algorithmen usw.\n",
    "Was ich dabei gelernt habe, möchte ich hier teilen. Ich werde verschiedene Algorithmen in Python umsetzen und versuchen den Vorgang grafisch darszustellen.\n",
    "Dazu brauche ich zunächst einen Datensatz."
   ]
  },
  {
   "cell_type": "markdown",
   "metadata": {},
   "source": [
    "## Der zu sortierende Datensatz"
   ]
  },
  {
   "cell_type": "markdown",
   "metadata": {},
   "source": [
    "Es wird ein einfacher Datensatz sein, den man hoffentlich gut visualisieren kann. Und zwar eine gewisse Anzahl von Integerwerten, die jedes Mal gleich randomisiert sein sollten."
   ]
  },
  {
   "cell_type": "code",
   "execution_count": 2,
   "metadata": {},
   "outputs": [],
   "source": [
    "# Zunächst werden alle benötigten Bibliotheken importiert\n",
    "import matplotlib.pyplot as plt\n",
    "import random\n",
    "import matplotlib.cm as cm\n",
    "import os\n",
    "import time\n",
    "\n",
    "# Random Seed setzen\n",
    "random.seed(42)"
   ]
  },
  {
   "cell_type": "code",
   "execution_count": 3,
   "metadata": {},
   "outputs": [],
   "source": [
    "# Anzahl der ELemente im Datensatz\n",
    "n = 50\n",
    "\n",
    "# Datensatz generieren\n",
    "dataset = random.sample(range(1, n+1), n)"
   ]
  },
  {
   "cell_type": "markdown",
   "metadata": {},
   "source": [
    "Dann definieren eine Funktion die wir noch häufiger einsetzen werden, um das Sortieren zu visualisieren."
   ]
  },
  {
   "cell_type": "code",
   "execution_count": 4,
   "metadata": {},
   "outputs": [
    {
     "name": "stderr",
     "output_type": "stream",
     "text": [
      "C:\\Users\\gutsc\\AppData\\Local\\Temp\\ipykernel_65428\\3288926399.py:2: MatplotlibDeprecationWarning: The get_cmap function was deprecated in Matplotlib 3.7 and will be removed two minor releases later. Use ``matplotlib.colormaps[name]`` or ``matplotlib.colormaps.get_cmap(obj)`` instead.\n",
      "  cmap = cm.get_cmap('YlGnBu')  # Farbverlauf von Gelb über Grün zu Blau\n"
     ]
    }
   ],
   "source": [
    "# Farbverlaufsfunktion\n",
    "cmap = cm.get_cmap('YlGnBu')  # Farbverlauf von Gelb über Grün zu Blau\n",
    "\n",
    "# Funktion zum Aktualisieren des Balkendiagramms\n",
    "def update_chart(data, iteration, xlim, ylim, folder_name, name = \"Dataset\",):\n",
    "    i = len(data)\n",
    "    colors = [cmap(x/i) for x in data]\n",
    "    plt.bar(range(1, i+1), data, color=colors)\n",
    "    plt.xlim(xlim)\n",
    "    plt.ylim(ylim)\n",
    "    plt.xticks([])\n",
    "    plt.yticks([])\n",
    "    \n",
    "    if not os.path.exists(folder_name):\n",
    "      os.makedirs(folder_name)\n",
    "\n",
    "    if name == \"Start\":\n",
    "      plt.title(f'Startkonfiguration')\n",
    "      plt.savefig(f'{folder_name}/{name}.png')\n",
    "    else:\n",
    "      plt.title(f'{name} - Step {iteration}')\n",
    "      plt.savefig(f'{folder_name}/{name}_Iteration_{iteration:04d}.png')  # Speichere den Plot als PNG-Datei\n",
    "    \n",
    "    plt.close()"
   ]
  },
  {
   "cell_type": "code",
   "execution_count": 5,
   "metadata": {},
   "outputs": [],
   "source": [
    "update_chart(dataset, 1, xlim=[0, n+1], ylim=[0, n+.5], folder_name=\"Sortieralgorithmen\", name=\"Start\")"
   ]
  },
  {
   "cell_type": "code",
   "execution_count": 6,
   "metadata": {},
   "outputs": [
    {
     "data": {
      "image/png": "[encoded data removed]",
      "text/plain": [
       "<Figure size 640x480 with 1 Axes>"
      ]
     },
     "metadata": {},
     "output_type": "display_data"
    }
   ],
   "source": [
    "\n",
    "# Load the image\n",
    "image = plt.imread('Sortieralgorithmen/Start.png')\n",
    "\n",
    "# Show the image\n",
    "plt.imshow(image)\n",
    "plt.axis('off')\n",
    "plt.show()"
   ]
  },
  {
   "cell_type": "markdown",
   "metadata": {},
   "source": [
    "## Sortieralgorithmen"
   ]
  },
  {
   "cell_type": "markdown",
   "metadata": {},
   "source": [
    "Im folgenden werde ich ein paar Sortieralgorithmen vorstellen, die so weit ich weiß, zu den gängigsten gehören. Ich werde zu jedem Algorithmus ein paar Worte verlieren und den Algorithmus anschließend implementieren. Da ich das Sortieren auch visualisieren möchte, werde ich ein paar zusätzliche, für den Algorithmus unnötige Zeilen programmieren. Ich habe versucht das alles konsistent zu halten, aber weil dieser Beitrag mit einigen Pausen entstanden ist, gibt es hier und da vermutlich ein paar Ausreißer. "
   ]
  },
  {
   "cell_type": "markdown",
   "metadata": {},
   "source": [
    "### Bubble Sort"
   ]
  },
  {
   "cell_type": "markdown",
   "metadata": {},
   "source": [
    "Bubble Sort ist ein einfacher Vergleichssortieralgorithmus, der wiederholt benachbarte Elemente vergleicht und sie vertauscht, wenn sie in der falschen Reihenfolge sind. Dieser Prozess wird so lange fortgesetzt, bis keine Vertauschungen mehr nötig sind, was bedeutet, dass das Array sortiert ist. Der Name \"Bubble Sort\" kommt daher, dass kleinere Elemente wie Blasen im Wasser nach oben steigen, genau wie die zu sortierenden Elemente aufsteigen.\n",
    "* **Funktionsweise**: In jedem Durchlauf wird das Array von Anfang bis Ende durchlaufen. Dabei werden jeweils zwei benachbarte Elemente verglichen. Wenn das linke Element größer ist als das rechte, werden sie vertauscht. Am Ende des ersten Durchlaufs befindet sich das größte Element am Ende des Arrays. Im zweiten Durchlauf wird das zweitgrößte Element gefunden und so weiter.\n",
    "* **Zeitkomplexität**: $O(n²)$ im Durchschnitt und im schlimmsten Fall. Das bedeutet, dass die Anzahl der Vergleiche und Vertauschungen quadratisch mit der Anzahl der Elemente im Array zunimmt. Für große Datensätze wird Bubble Sort daher sehr langsam.\n",
    "* **Besonderheiten**: Bubble Sort ist einfach zu verstehen und zu implementieren, aber ineffizient für große Datensätze. Er ist ein stabiler Sortieralgorithmus, d.h., die relative Reihenfolge gleicher Elemente bleibt erhalten."
   ]
  },
  {
   "cell_type": "code",
   "execution_count": 7,
   "metadata": {},
   "outputs": [],
   "source": [
    "def bubble_sort(data):\n",
    "    def swap(i, j):\n",
    "        \"\"\"Vertauscht die Elemente an den Positionen i und j.\"\"\"\n",
    "        data[i], data[j] = data[j], data[i]  # Tausche die Elemente an den Positionen i und j\n",
    "\n",
    "    sorted_datasets = []  # Initialisiere eine leere Liste, um die sortierten Datensätze zu speichern\n",
    "    n = len(data)  # Die Anzahl der Elemente im Datensatz\n",
    "    for i in range(n):  # Für jedes Element im Datensatz\n",
    "        for j in range(0, n-i-1):  # Für jedes Element, das noch nicht sortiert ist\n",
    "            if data[j] > data[j+1]:  # Wenn das aktuelle Element größer als das nächste Element ist\n",
    "                swap(j, j+1)  # Tausche die beiden Elemente\n",
    "            sorted_datasets.append(data[:])  # Speichere den aktuellen Zustand des Datensatzes\n",
    "    return sorted_datasets  # Gib die Liste der sortierten Datensätze zurück"
   ]
  },
  {
   "cell_type": "code",
   "execution_count": 8,
   "metadata": {},
   "outputs": [],
   "source": [
    "for i, data in enumerate(bubble_sort(dataset)):\n",
    "    update_chart(data, i+1,  xlim=[0, n+1], ylim=[0, n+.5], folder_name=\"Sortieralgorithmen/bubble_sort\", name=\"Bubblesort\")"
   ]
  },
  {
   "cell_type": "markdown",
   "metadata": {},
   "source": [
    "### Insertion Sort"
   ]
  },
  {
   "cell_type": "markdown",
   "metadata": {},
   "source": [
    "Insertion Sort baut das sortierte Array schrittweise auf, indem er jedes Element aus dem unsortierten Teil nimmt und es an der richtigen Stelle im sortierten Teil einfügt.\n",
    "* **Funktionsweise**: Der Algorithmus beginnt mit dem zweiten Element und vergleicht es mit dem ersten Element. Wenn es kleiner ist, wird es vor dem ersten Element eingefügt. Dann wird das dritte Element genommen und mit den beiden ersten verglichen und so weiter. Am Ende jedes Schritts ist der linke Teil des Arrays sortiert.\n",
    "* **Zeitkomplexität**: $O(n²)$ im Durchschnitt und im schlimmsten Fall, aber effizienter als Bubble Sort für teilweise sortierte Daten. Bei fast sortierten Arrays nähert sich die Zeitkomplexität $O(n)$.\n",
    "* **Besonderheiten**: Insertion Sort ist ein In-place-Algorithmus, d.h., er benötigt keinen zusätzlichen Speicherplatz. Er ist einfach zu implementieren und effizient für kleine Datensätze oder fast sortierte Daten."
   ]
  },
  {
   "cell_type": "code",
   "execution_count": 9,
   "metadata": {},
   "outputs": [],
   "source": [
    "# Erzeuge einen zufälligen Datensatz\n",
    "n = 50\n",
    "dataset = random.sample(range(1, n+1), n)"
   ]
  },
  {
   "cell_type": "code",
   "execution_count": 10,
   "metadata": {},
   "outputs": [],
   "source": [
    "def insertion_sort(data):\n",
    "    def insert(j, key):\n",
    "        \"\"\"Verschiebt Elemente nach rechts und fügt das Schlüsselelement an der richtigen Position ein.\"\"\"\n",
    "        while j >= 0 and data[j] > key:  # Solange wir nicht am Anfang des Arrays sind und das aktuelle Element größer als das Schlüsselelement ist\n",
    "            data[j+1] = data[j]  # Verschiebe das aktuelle Element nach rechts\n",
    "            j -= 1  # Gehe zum nächsten Element auf der linken Seite\n",
    "        data[j+1] = key  # Füge das Schlüsselelement an der richtigen Position ein\n",
    "\n",
    "    sorted_datasets = []  # Initialisiere eine leere Liste, um die sortierten Datensätze zu speichern\n",
    "    for i in range(1, len(data)):  # Starte bei der zweiten Position im Array\n",
    "        insert(i - 1, data[i])  # Füge das Element `data[i]` an der richtigen Position ein\n",
    "        sorted_datasets.append(data[:])  # Speichere den aktuellen Zustand des Arrays\n",
    "    return sorted_datasets  # Gib die Liste der sortierten Datensätze zurück"
   ]
  },
  {
   "cell_type": "code",
   "execution_count": 11,
   "metadata": {},
   "outputs": [],
   "source": [
    "for i, data in enumerate(insertion_sort(dataset)):\n",
    "    update_chart(data, i+1,  xlim=[0, n+1], ylim=[0, n+.5], folder_name=\"Sortieralgorithmen/insertion_sort\", name=\"Insertionsort\")"
   ]
  },
  {
   "cell_type": "markdown",
   "metadata": {},
   "source": [
    "### Selection Sort"
   ]
  },
  {
   "cell_type": "markdown",
   "metadata": {},
   "source": [
    "Selection Sort findet in jedem Durchlauf das kleinste Element im unsortierten Teil des Arrays und tauscht es mit dem ersten Element des unsortierten Teils.\n",
    "* **Funktionsweise**: Der Algorithmus durchläuft das Array und findet das kleinste Element. Dieses wird mit dem ersten Element vertauscht. Dann wird der Vorgang für den restlichen, unsortierten Teil des Arrays wiederholt.\n",
    "* **Zeitkomplexität**: $O(n²)$ in allen Fällen. Die Anzahl der Vergleiche ist unabhängig von der Anordnung der Elemente immer gleich.\n",
    "* **Besonderheiten**: Selection Sort ist einfach zu verstehen, aber ineffizient für große Datensätze. Er führt weniger Vertauschungen durch als Bubble Sort, was bei teuren Vertauschungsoperationen von Vorteil sein kann."
   ]
  },
  {
   "cell_type": "code",
   "execution_count": 12,
   "metadata": {},
   "outputs": [],
   "source": [
    "# Erzeuge einen zufälligen Datensatz\n",
    "n = 50\n",
    "dataset = random.sample(range(1, n+1), n)"
   ]
  },
  {
   "cell_type": "code",
   "execution_count": 13,
   "metadata": {},
   "outputs": [],
   "source": [
    "def selection_sort(data):\n",
    "    def find_min_index(start_index):\n",
    "        \"\"\"Findet den Index des kleinsten Elements ab dem gegebenen Startindex.\"\"\"\n",
    "        min_index = start_index\n",
    "        for j in range(start_index+1, len(data)):\n",
    "            if data[j] < data[min_index]:\n",
    "                min_index = j\n",
    "        return min_index\n",
    "\n",
    "    sorted_datasets = []  # Initialisiere eine leere Liste, um die sortierten Datensätze zu speichern\n",
    "    for i in range(len(data)-1):  # Für jedes Element im Datensatz, außer dem letzten\n",
    "        min_index = find_min_index(i)  # Finde den Index des kleinsten Elements ab dem aktuellen Index\n",
    "        data[i], data[min_index] = data[min_index], data[i]  # Tausche das aktuelle Element mit dem kleinsten Element\n",
    "        sorted_datasets.append(data[:])  # Speichere den aktuellen Zustand des Datensatzes\n",
    "    return sorted_datasets  # Gib die Liste der sortierten Datensätze zurück"
   ]
  },
  {
   "cell_type": "code",
   "execution_count": 14,
   "metadata": {},
   "outputs": [],
   "source": [
    "for i, data in enumerate(selection_sort(dataset)):\n",
    "    update_chart(data, i+1,  xlim=[0, n+1], ylim=[0, n+.5], folder_name=\"Sortieralgorithmen/selection_sort\", name=\"Selectionsort\")"
   ]
  },
  {
   "cell_type": "markdown",
   "metadata": {},
   "source": [
    "### Merge Sort"
   ]
  },
  {
   "cell_type": "markdown",
   "metadata": {},
   "source": [
    "Merge Sort ist ein \"Teile und Herrsche\"-Algorithmus, der das Array rekursiv in zwei Hälften teilt, jede Hälfte sortiert und dann die sortierten Hälften zusammenführt.\n",
    "* **Funktionsweise**: Das Array wird solange halbiert, bis nur noch einzelne Elemente übrig sind. Diese sind trivialerweise sortiert. Dann werden die einzelnen Elemente zu sortierten Paaren zusammengeführt, dann Paare zu Vierergruppen und so weiter, bis das gesamte Array sortiert ist.\n",
    "* **Zeitkomplexität**: $O(n \\cdot log(n))$ in allen Fällen. Die Anzahl der Vergleiche wächst logarithmisch mit der Anzahl der Elemente, was ihn effizient für große Datensätze macht.\n",
    "* **Besonderheiten**: Merge Sort ist ein stabiler Sortieralgorithmus und effizient für große Datensätze. Er benötigt jedoch zusätzlichen Speicherplatz für die temporären Arrays beim Zusammenführen."
   ]
  },
  {
   "cell_type": "code",
   "execution_count": 15,
   "metadata": {},
   "outputs": [],
   "source": [
    "# Erzeuge einen zufälligen Datensatz\n",
    "n = 50\n",
    "dataset = random.sample(range(1, n+1), n)"
   ]
  },
  {
   "cell_type": "code",
   "execution_count": 16,
   "metadata": {},
   "outputs": [],
   "source": [
    "import itertools\n",
    "\n",
    "def merge_sort(data):\n",
    "    steps = []  # Liste zur Speicherung der Zwischenschritte\n",
    "\n",
    "    def merge(left, right, start):\n",
    "        result = []  # Ergebnisliste\n",
    "        i = j = 0  # Initialisiere die Indizes für die linke und rechte Liste\n",
    "        # Durchlaufe beide Listen und füge das kleinere Element zur Ergebnisliste hinzu\n",
    "        while i < len(left) and j < len(right):\n",
    "            if left[i] < right[j]:\n",
    "                result.append(left[i])\n",
    "                i += 1\n",
    "            else:\n",
    "                result.append(right[j])\n",
    "                j += 1\n",
    "            # Aktualisiere den entsprechenden Teil des ursprünglichen Arrays und speichere den Schritt\n",
    "            data[start:start+len(result)] = result\n",
    "            steps.append(list(data))\n",
    "\n",
    "        # Füge die verbleibenden Elemente von left oder right hinzu\n",
    "        for value in itertools.chain(left[i:], right[j:]):\n",
    "            result.append(value)\n",
    "            data[start:start+len(result)] = result\n",
    "            steps.append(list(data))\n",
    "\n",
    "        return result  # Gib die sortierte Liste zurück\n",
    "\n",
    "    def sort(data, start=0):\n",
    "        if len(data) <= 1:  # Wenn die Liste nur ein Element enthält, ist sie bereits sortiert\n",
    "            return data\n",
    "        mid = len(data) // 2  # Finde den mittleren Index\n",
    "        left = data[:mid]  # Teile die Liste in zwei Hälften\n",
    "        right = data[mid:]\n",
    "        # Sortiere beide Hälften und führe sie zusammen\n",
    "        return merge(sort(left, start), sort(right, start + mid), start)\n",
    "\n",
    "    sort(data)  # Starte den Sortierprozess\n",
    "    return steps  # Gib die Liste der Zwischenschritte zurück"
   ]
  },
  {
   "cell_type": "code",
   "execution_count": 17,
   "metadata": {},
   "outputs": [],
   "source": [
    "for i, data in enumerate(merge_sort(dataset)):\n",
    "    update_chart(data, i+1,  xlim=[0, n+1], ylim=[0, n+.5], folder_name=\"Sortieralgorithmen/merge_sort\", name=\"Mergesort\")"
   ]
  },
  {
   "cell_type": "markdown",
   "metadata": {},
   "source": [
    "### Quick Sort"
   ]
  },
  {
   "cell_type": "markdown",
   "metadata": {},
   "source": [
    "Quick Sort ist ein weiterer \"Teile und Herrsche\"-Algorithmus. Er wählt ein Element als \"Pivot\" und partitioniert das Array in zwei Teilbereiche: Elemente kleiner als das Pivot und Elemente größer als das Pivot. Anschließend werden die Teilbereiche rekursiv sortiert.\n",
    "* **Funktionsweise**: Die Wahl des Pivots ist entscheidend für die Effizienz. Im Idealfall teilt das Pivot das Array in zwei gleich große Hälften. Im schlimmsten Fall ist das Pivot das kleinste oder größte Element, was zu einer Zeitkomplexität von $O(n²)$ führt.\n",
    "* **Zeitkomplexität**: $O(n \\cdot log(n))$ im Durchschnitt, $O(n²)$ im schlimmsten Fall (selten).\n",
    "* **Besonderheiten**: Quick Sort ist ein In-place-Algorithmus und oft schneller als Merge Sort in der Praxis. Er ist jedoch nicht stabil."
   ]
  },
  {
   "cell_type": "code",
   "execution_count": 18,
   "metadata": {},
   "outputs": [],
   "source": [
    "# Erzeuge einen zufälligen Datensatz\n",
    "n = 50\n",
    "dataset = random.sample(range(1, n+1), n)"
   ]
  },
  {
   "cell_type": "code",
   "execution_count": 19,
   "metadata": {},
   "outputs": [],
   "source": [
    "def quick_sort_visualized(arr):\n",
    "    snapshots = [arr[:]]  # Initialer Snapshot vor Beginn der Sortierung\n",
    "\n",
    "    def _quick_sort(arr, low, high):\n",
    "        if low < high:\n",
    "            pivot_index = partition(arr, low, high)\n",
    "            snapshots.append(arr[:])  # Snapshot nach jeder Swap-Operation\n",
    "            _quick_sort(arr, low, pivot_index - 1)\n",
    "            _quick_sort(arr, pivot_index + 1, high)\n",
    "\n",
    "    def partition(arr, low, high):\n",
    "        pivot = arr[high]\n",
    "        i = low - 1\n",
    "        # Durchlaufe das Array mit Index und Wert\n",
    "        for j, value in enumerate(arr[low:high], low):\n",
    "            if value <= pivot:\n",
    "                i += 1\n",
    "                arr[i], arr[j] = arr[j], arr[i]\n",
    "                snapshots.append(arr[:])  # Snapshot nach jedem Swap\n",
    "        arr[i + 1], arr[high] = arr[high], arr[i + 1]\n",
    "        snapshots.append(arr[:])  # Snapshot nach dem finalen Swap\n",
    "        return i + 1\n",
    "\n",
    "    _quick_sort(arr, 0, len(arr) - 1)\n",
    "    return snapshots"
   ]
  },
  {
   "cell_type": "code",
   "execution_count": 20,
   "metadata": {},
   "outputs": [],
   "source": [
    "for i, data in enumerate(quick_sort_visualized(dataset)):\n",
    "    update_chart(data, i+1,  xlim=[0, n+1], ylim=[0, n+.5], folder_name=\"Sortieralgorithmen/quick_sort\", name=\"Quicksort\")"
   ]
  },
  {
   "cell_type": "markdown",
   "metadata": {},
   "source": [
    "### Heap Sort"
   ]
  },
  {
   "cell_type": "markdown",
   "metadata": {},
   "source": [
    "Heap Sort nutzt eine spezielle Datenstruktur namens Heap, um das Array zu sortieren. Ein Heap ist ein binärer Baum, in dem jeder Knoten größer (oder kleiner, je nach Implementierung) ist als seine Kinder.\n",
    "* **Funktionsweise**: Der Heap Sort Algorithmus beginnt mit der Umwandlung des Arrays in einen Heap. Dann wird das größte Element (die Wurzel des Heaps) entfernt und an das Ende des Arrays gestellt. Dieser Prozess wird wiederholt, bis das gesamte Array sortiert ist. Nach jedem Entfernen wird der Heap wiederhergestellt, um die Heap-Eigenschaft zu erhalten.\n",
    "* **Zeitkomplexität**: Die Zeitkomplexität von Heap Sort ist $O(n \\cdot log(n))$ in allen Fällen. Dies liegt daran, dass das Erstellen des Heaps $O(n)$ Zeit benötigt und das Entfernen jedes Elements $O(log(n))$ Zeit benötigt.\n",
    "* **Besonderheiten**: Heap Sort ist ein In-place-Algorithmus, was bedeutet, dass er keinen zusätzlichen Speicherplatz benötigt. Er garantiert eine Zeitkomplexität von $O(n \\cdot log(n))$, unabhängig von der Anordnung der Elemente. Ein Nachteil von Heap Sort ist, dass er komplexer zu implementieren ist als andere Sortieralgorithmen wie Quick Sort oder Merge Sort."
   ]
  },
  {
   "cell_type": "code",
   "execution_count": 21,
   "metadata": {},
   "outputs": [],
   "source": [
    "# Erzeuge einen zufälligen Datensatz\n",
    "n = 50\n",
    "dataset = random.sample(range(1, n+1), n)"
   ]
  },
  {
   "cell_type": "code",
   "execution_count": 22,
   "metadata": {},
   "outputs": [],
   "source": [
    "def heapify(arr, n, i, snapshots):\n",
    "    \"\"\"\n",
    "    Hilfsfunktion, um den Heap an der Position i wiederherzustellen.\n",
    "    \"\"\"\n",
    "    largest = i  # Größtes Element initialisieren\n",
    "\n",
    "    # Überprüfen, ob das linke oder rechte Kind größer ist als die Wurzel\n",
    "    for j in [2 * i + 1, 2 * i + 2]:  # j ist das linke und dann das rechte Kind\n",
    "        if j < n and arr[largest] < arr[j]:\n",
    "            largest = j\n",
    "\n",
    "    # Wenn das größte Element nicht die Wurzel ist, tauschen und rekursiv heapify aufrufen\n",
    "    if largest != i:\n",
    "        arr[i], arr[largest] = arr[largest], arr[i]\n",
    "        snapshots.append(arr.copy())  # Snapshot speichern\n",
    "        heapify(arr, n, largest, snapshots)\n",
    "\n",
    "def heap_sort(arr):\n",
    "    \"\"\"\n",
    "    Implementiert Heap Sort und gibt eine Liste von Arrays zurück,\n",
    "    die den Sortierverlauf darstellen.\n",
    "    \"\"\"\n",
    "    n = len(arr)\n",
    "    snapshots = [arr.copy()]  # Initialen Zustand speichern\n",
    "\n",
    "    # Heap erstellen (Bottom-up)\n",
    "    for i in range(n // 2 - 1, -1, -1):\n",
    "        heapify(arr, n, i, snapshots)\n",
    "\n",
    "    # Ein Element nach dem anderen aus dem Heap entfernen und an die richtige Stelle setzen\n",
    "    for i in range(n - 1, 0, -1):\n",
    "        arr[i], arr[0] = arr[0], arr[i]  # Tausche Wurzel mit letztem Element\n",
    "        snapshots.append(arr.copy())  # Snapshot speichern\n",
    "        heapify(arr, i, 0, snapshots)  # Heap wiederherstellen\n",
    "\n",
    "    return snapshots"
   ]
  },
  {
   "cell_type": "code",
   "execution_count": 23,
   "metadata": {},
   "outputs": [],
   "source": [
    "for i, data in enumerate(heap_sort(dataset)):\n",
    "    update_chart(data, i+1, xlim=[0, n+1], ylim=[0, n+.5], folder_name=\"Sortieralgorithmen/heap_sort\", name=\"Heapsort\")"
   ]
  },
  {
   "cell_type": "markdown",
   "metadata": {},
   "source": [
    "### Radix Sort"
   ]
  },
  {
   "cell_type": "markdown",
   "metadata": {},
   "source": [
    "Radix Sort sortiert Zahlen nach ihren einzelnen Ziffern, beginnend mit der niedrigsten Stelle (Einerstelle).\n",
    "* **Funktionsweise**: In jedem Durchlauf werden die Zahlen in \"Buckets\" einsortiert, je nachdem, welche Ziffer sie an der aktuellen Stelle haben. Dann werden die Buckets in der richtigen Reihenfolge wieder zusammengefügt. Dieser Vorgang wird für jede Stelle wiederholt, bis alle Stellen sortiert sind.\n",
    "* **Zeitkomplexität**: $O(nk)$, wobei n die Anzahl der Elemente und k die maximale Anzahl von Stellen ist.\n",
    "* **Besonderheiten**: Radix Sort ist effizient für ganze Zahlen mit begrenzter Stellenanzahl. Er ist kein vergleichsbasierter Algorithmus, sondern nutzt die Verteilung der Ziffern."
   ]
  },
  {
   "cell_type": "code",
   "execution_count": 24,
   "metadata": {},
   "outputs": [],
   "source": [
    "# Erzeuge einen zufälligen Datensatz\n",
    "n = 50\n",
    "dataset = random.sample(range(1, n+1), n)"
   ]
  },
  {
   "cell_type": "code",
   "execution_count": 25,
   "metadata": {},
   "outputs": [],
   "source": [
    "def flatten_and_fill(buckets, arr_length):\n",
    "    \"\"\"\n",
    "    Flacht die Buckets ab und füllt fehlende Werte mit Nullen auf.\n",
    "    \"\"\"\n",
    "    flattened = [item for sublist in buckets for item in sublist]\n",
    "    return flattened + [0] * (arr_length - len(flattened))\n",
    "\n",
    "def radix_sort(arr):\n",
    "    \"\"\"\n",
    "    Implementiert den Radix Sort Algorithmus und gibt eine Liste von Arrays zurück,\n",
    "    die jeden einzelnen Sortierschritt darstellen.\n",
    "    \"\"\"\n",
    "    max_value = max(arr)\n",
    "    exp = 1\n",
    "    snapshots = [arr.copy()]  # Initialer Zustand\n",
    "\n",
    "    while max_value // exp > 0:\n",
    "        buckets = [[] for _ in range(10)]\n",
    "        for num in arr:\n",
    "            digit = (num // exp) % 10\n",
    "            buckets[digit].append(num)\n",
    "            snapshots.append(flatten_and_fill(buckets, len(arr)))  # Save the snapshot\n",
    "\n",
    "        arr = [num for bucket in buckets for num in bucket]\n",
    "        exp *= 10\n",
    "\n",
    "    return snapshots"
   ]
  },
  {
   "cell_type": "code",
   "execution_count": 26,
   "metadata": {},
   "outputs": [],
   "source": [
    "for i, data in enumerate(radix_sort(dataset)):\n",
    "    update_chart(data, i+1,  xlim=[0, n+1], ylim=[0, n+.5], folder_name=\"Sortieralgorithmen/radix_sort\", name=\"Radixsort\")"
   ]
  },
  {
   "cell_type": "markdown",
   "metadata": {},
   "source": [
    "### Bogo Sort"
   ]
  },
  {
   "cell_type": "markdown",
   "metadata": {},
   "source": [
    "Bogo Sort ist ein ineffizienter und nicht-deterministischer Sortieralgorithmus. Er funktioniert, indem er das Array zufällig mischt und dann überprüft, ob es sortiert ist. Dieser Vorgang wird wiederholt, bis das Array zufällig in die richtige Reihenfolge gebracht wird. Aus diesem Grund habe ich die größe des Datensatzes verkleinert.\n",
    "* **Funktionsweise**: Der Algorithmus mischt das Array wiederholt, bis es zufällig sortiert ist. Es gibt keine Garantie dafür, wie lange dies dauern wird. Im schlimmsten Fall kann es unendlich lange dauern.\n",
    "* **Zeitkomplexität**: Im Durchschnitt und im schlimmsten Fall unendlich, da keine Garantie für eine Beendigung besteht.\n",
    "* **Besonderheiten**: Bogo Sort ist extrem ineffizient und unpraktisch. Er dient nur als humorvolles Beispiel für einen schlechten Algorithmus."
   ]
  },
  {
   "cell_type": "code",
   "execution_count": 27,
   "metadata": {},
   "outputs": [
    {
     "name": "stdout",
     "output_type": "stream",
     "text": [
      "[2, 3, 5, 1, 4]\n"
     ]
    }
   ],
   "source": [
    "# Erzeuge einen zufälligen Datensatz\n",
    "n = 5\n",
    "dataset = random.sample(range(1, n+1), n)\n",
    "print(dataset)"
   ]
  },
  {
   "cell_type": "code",
   "execution_count": 28,
   "metadata": {},
   "outputs": [],
   "source": [
    "import random\n",
    "\n",
    "def bogo_sort(data):\n",
    "    steps = []  # Initialisiere eine Liste, um die Schritte des Sortierprozesses zu speichern\n",
    "\n",
    "    # Wiederhole den Prozess, bis das Array sortiert ist\n",
    "    while not all(data[i] <= data[i+1] for i in range(len(data)-1)):\n",
    "        steps.append(list(data))  # Füge den aktuellen Zustand des Arrays zu den Schritten hinzu\n",
    "        random.shuffle(data)  # Mische das Array zufällig\n",
    "\n",
    "    steps.append(list(data))  # Füge das endgültig sortierte Array zu den Schritten hinzu\n",
    "\n",
    "    return steps  # Gebe die Liste der Schritte zurück"
   ]
  },
  {
   "cell_type": "code",
   "execution_count": 29,
   "metadata": {},
   "outputs": [],
   "source": [
    "for i, data in enumerate(bogo_sort(dataset)):\n",
    "    update_chart(data, i+1,  xlim=[0, n+1], ylim=[0, n+.5], folder_name=\"Sortieralgorithmen/bogo_sort\", name=\"Bogosort\")"
   ]
  },
  {
   "cell_type": "markdown",
   "metadata": {},
   "source": [
    "### Sleep Sort"
   ]
  },
  {
   "cell_type": "markdown",
   "metadata": {},
   "source": [
    "Sleep Sort ist ein unkonventioneller und ineffizienter Sortieralgorithmus, der auf der Idee basiert, dass jeder Thread für eine Zeit \"schläft\", die proportional zum Wert des Elements ist. Auch hier verzichte darauf, einen großen Datensatz zu verwenden.\n",
    "* **Funktionsweise**: Für jedes Element im Array wird ein Thread gestartet. Jeder Thread schläft für eine Zeit, die dem Wert des Elements entspricht. Wenn ein Thread aufwacht, gibt er sein Element aus. Da die Threads mit kleineren Werten zuerst aufwachen, werden die Elemente in sortierter Reihenfolge ausgegeben.\n",
    "* **Zeitkomplexität**: $O(n + max(arr))$, wobei $max(arr)$ das größte Element im Array ist.\n",
    "* **Besonderheiten**: Sleep Sort ist nicht deterministisch, da die Reihenfolge der Ausgabe bei gleichen Elementen variieren kann. Er ist ineffizient und dient eher als Kuriosität."
   ]
  },
  {
   "cell_type": "code",
   "execution_count": 30,
   "metadata": {},
   "outputs": [],
   "source": [
    "# Erzeuge einen zufälligen Datensatz\n",
    "n = 50\n",
    "dataset = random.sample(range(1, n+1), n)"
   ]
  },
  {
   "cell_type": "code",
   "execution_count": 31,
   "metadata": {},
   "outputs": [],
   "source": [
    "import time\n",
    "import threading\n",
    "\n",
    "def sleep_sort(data):\n",
    "    \n",
    "    sorted_data = [0] * len(data)  # Initialize sorted_data with zeros\n",
    "    all_steps = []  # Initialize the list to store all steps\n",
    "    index = 0  # Initialize index\n",
    "    \n",
    "    def sleep_func(x):\n",
    "        nonlocal index  # Declare index as nonlocal so it can be modified inside this function\n",
    "        time.sleep(x/10)\n",
    "        sorted_data[index] = x  # Insert the element at the current index\n",
    "        index += 1  # Increment the index\n",
    "        all_steps.append(list(sorted_data))  # Append the current state of sorted_data to all_steps\n",
    "    \n",
    "    threads = []\n",
    "    for num in data:\n",
    "        t = threading.Thread(target=sleep_func, args=(num,))\n",
    "        threads.append(t)\n",
    "        t.start()\n",
    "    \n",
    "    for t in threads:\n",
    "        t.join()\n",
    "    \n",
    "    return all_steps  # Return the list of all steps"
   ]
  },
  {
   "cell_type": "code",
   "execution_count": null,
   "metadata": {},
   "outputs": [],
   "source": []
  },
  {
   "cell_type": "code",
   "execution_count": 32,
   "metadata": {},
   "outputs": [],
   "source": [
    "for i, data in enumerate(sleep_sort(dataset)):\n",
    "    update_chart(data, i+1, xlim=[0, n+1], ylim=[0, n+.5], folder_name=\"Sortieralgorithmen/sleep_sort\", name=\"Sleepsort\")"
   ]
  },
  {
   "cell_type": "markdown",
   "metadata": {},
   "source": [
    "Es gibt noch viele weitere Sortieralgorithmen. Und den einen oder anderen werde ich vielleicht noch ergänzen."
   ]
  },
  {
   "cell_type": "markdown",
   "metadata": {},
   "source": [
    "## Gifs erstellen"
   ]
  },
  {
   "cell_type": "code",
   "execution_count": 33,
   "metadata": {},
   "outputs": [],
   "source": [
    "import os\n",
    "import imageio"
   ]
  },
  {
   "cell_type": "code",
   "execution_count": 34,
   "metadata": {},
   "outputs": [],
   "source": [
    "from PIL import Image\n",
    "\n",
    "def calculate_duration(num_images, min_images=25, min_duration=50, max_duration=500, max_images=5000):\n",
    "    if num_images < min_images:  # Wenn die Anzahl der Bilder kleiner als min_images ist\n",
    "        duration = max_duration\n",
    "    elif num_images >= max_images:  # Wenn die Anzahl der Bilder größer oder gleich max_images ist\n",
    "        duration = min_duration\n",
    "    else:  # Wenn die Anzahl der Bilder zwischen min_images und max_images liegt\n",
    "        slope = (min_duration - max_duration) / (max_images - min_duration)\n",
    "        duration = max_duration + slope * (num_images - min_duration)\n",
    "    return duration  # Gib die berechnete Dauer zurück\n",
    "\n",
    "def create_gif_from_pngs(folder_path, output_path):\n",
    "    # Erstelle eine Liste von Bildern aus den PNG-Dateien im angegebenen Ordner\n",
    "    images = [Image.open(os.path.join(folder_path, filename)) for filename in sorted(os.listdir(folder_path)) if filename.endswith(\".png\")]\n",
    "\n",
    "    # Berechne die Dauer für das GIF\n",
    "    duration = calculate_duration(len(images), min_images=5, min_duration=100, max_duration=200, max_images=5000)\n",
    "\n",
    "    # Speichere die Bilder als animiertes GIF\n",
    "    images[0].save(output_path, save_all=True, append_images=images[1:], loop=0, duration=duration)"
   ]
  },
  {
   "cell_type": "code",
   "execution_count": 35,
   "metadata": {},
   "outputs": [],
   "source": [
    "folder_path = \"Sortieralgorithmen\"\n",
    "# Erstelle eine Liste von Ordnern im angegebenen Pfad\n",
    "folder_list = [folder for folder in os.listdir(folder_path) if os.path.isdir(os.path.join(folder_path, folder))]\n",
    "\n",
    "for folder in folder_list:\n",
    "    # Erstelle das GIF für jeden Ordner und speichere es im gleichen Ordner\n",
    "    create_gif_from_pngs(os.path.join(folder_path, folder), os.path.join(folder_path, f\"{folder}.gif\"))"
   ]
  },
  {
   "cell_type": "code",
   "execution_count": 36,
   "metadata": {},
   "outputs": [],
   "source": [
    "import os\n",
    "import glob\n",
    "from PIL import Image\n",
    "\n",
    "# Setze den Pfad zum Ordner \"Sortieralgorithmen\"\n",
    "folder_path = 'Sortieralgorithmen'\n",
    "\n",
    "# Suche alle PNG-Bilder in den Unterordnern\n",
    "png_files = sorted(glob.glob(os.path.join(folder_path, '**/*.png'), recursive=True))\n",
    "\n",
    "# Lese die Bilder\n",
    "images = [Image.open(png_file) for png_file in png_files]\n",
    "\n",
    "# Konvertiere die Bilder in RGB\n",
    "images = [image.convert('RGBA') for image in images]\n",
    "\n",
    "# Speichere die Bilder als GIF\n",
    "images[0].save('combined.gif', save_all=True, append_images=images[1:], optimize=False, duration=25, loop=0)"
   ]
  },
  {
   "cell_type": "code",
   "execution_count": 37,
   "metadata": {},
   "outputs": [
    {
     "name": "stderr",
     "output_type": "stream",
     "text": [
      "C:\\Users\\gutsc\\AppData\\Local\\Temp\\ipykernel_65428\\3904276071.py:29: DeprecationWarning: Starting with ImageIO v3 the behavior of this function will switch to that of iio.v3.imread. To keep the current behavior (and make this warning disappear) use `import imageio.v2 as imageio` or call `imageio.v2.imread` directly.\n",
      "  images = [np.array(Image.fromarray(imageio.imread(png_file)[..., :3]).resize((max_image_width, max_image_height))) for png_file in png_files]\n"
     ]
    }
   ],
   "source": [
    "import os\n",
    "import glob\n",
    "import imageio\n",
    "import numpy as np\n",
    "from PIL import Image\n",
    "\n",
    "# Setze den Pfad zum Ordner \"Sortieralgorithmen\"\n",
    "folder_path = 'Sortieralgorithmen'\n",
    "\n",
    "# Suche alle Unterordner in \"Sortieralgorithmen\"\n",
    "subfolders = [f.path for f in os.scandir(folder_path) if f.is_dir()]\n",
    "\n",
    "# Definiere die Anzahl der GIFs nebeneinander und untereinander\n",
    "num_gifs_across = 3\n",
    "num_gifs_down = 3\n",
    "\n",
    "# Definiere die maximale Breite und Höhe für die Bilder\n",
    "max_image_width = 200\n",
    "max_image_height = 200\n",
    "\n",
    "# Erstelle eine Liste, um die Bilder für jedes GIF zu speichern\n",
    "gif_images = []\n",
    "\n",
    "for subfolder in subfolders:\n",
    "    # Suche alle PNG-Bilder im Unterordner\n",
    "    png_files = sorted(glob.glob(os.path.join(subfolder, '*.png')))\n",
    "\n",
    "    # Lese die Bilder, konvertiere sie in RGB und skaliere sie\n",
    "    images = [np.array(Image.fromarray(imageio.imread(png_file)[..., :3]).resize((max_image_width, max_image_height))) for png_file in png_files]\n",
    "\n",
    "    # Füge die Bilder zur Liste hinzu\n",
    "    gif_images.append(images)\n",
    "\n",
    "# Erstelle das endgültige GIF\n",
    "final_gif_images = []\n",
    "for i in range(max(len(images) for images in gif_images)):\n",
    "    # Erstelle ein leeres Bild für diesen Frame\n",
    "    final_gif_image = np.zeros((max_image_height * num_gifs_down, max_image_width * num_gifs_across, 3), dtype=np.uint8)\n",
    "\n",
    "    # Füge die Bilder für diesen Frame hinzu\n",
    "    for j in range(num_gifs_down):\n",
    "        for k in range(num_gifs_across):\n",
    "            # Finde die Bilder für dieses GIF\n",
    "            images = gif_images[j * num_gifs_across + k]\n",
    "\n",
    "            # Füge das Bild für diesen Frame hinzu, wenn es existiert, sonst füge das letzte Bild hinzu\n",
    "            if i < len(images):\n",
    "                final_gif_image[j * max_image_height:(j + 1) * max_image_height, k * max_image_width:(k + 1) * max_image_width] = images[i]\n",
    "            else:\n",
    "                final_gif_image[j * max_image_height:(j + 1) * max_image_height, k * max_image_width:(k + 1) * max_image_width] = images[-1]\n",
    "\n",
    "    # Füge das Bild zum endgültigen GIF hinzu\n",
    "    final_gif_images.append(final_gif_image)\n",
    "\n",
    "# Speichere das endgültige GIF\n",
    "output_file = 'final.gif'\n",
    "imageio.mimsave(output_file, final_gif_images, duration=0.5)"
   ]
  },
  {
   "cell_type": "code",
   "execution_count": null,
   "metadata": {},
   "outputs": [],
   "source": []
  }
 ],
 "metadata": {
  "kernelspec": {
   "display_name": "tf_GPU",
   "language": "python",
   "name": "python3"
  },
  "language_info": {
   "codemirror_mode": {
    "name": "ipython",
    "version": 3
   },
   "file_extension": ".py",
   "mimetype": "text/x-python",
   "name": "python",
   "nbconvert_exporter": "python",
   "pygments_lexer": "ipython3",
   "version": "3.10.9"
  }
 },
 "nbformat": 4,
 "nbformat_minor": 2
}
