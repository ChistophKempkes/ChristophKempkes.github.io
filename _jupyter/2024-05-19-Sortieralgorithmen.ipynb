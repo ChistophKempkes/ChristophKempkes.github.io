{
 "cells": [
  {
   "cell_type": "markdown",
   "metadata": {},
   "source": [
    "# Sortieralgorithmen"
   ]
  },
  {
   "cell_type": "markdown",
   "metadata": {},
   "source": [
    "Ich habe mich neulich gefragt, was es für gängige Sortieralgorithmen gibt. Wie funktionieren sie? Wie schnell sind sie? Gibt es koriose Algorithmen usw.\n",
    "Was ich dabei gelernt habe, möchte ich hier teilen. Ich werde verschiedene Algorithmen in Python umsetzen und versuchen den Vorgang grafisch darszustellen.\n",
    "Dazu brauche ich zunächst einen Datensatz."
   ]
  },
  {
   "cell_type": "markdown",
   "metadata": {},
   "source": [
    "## Der zu sortierende Datensatz"
   ]
  },
  {
   "cell_type": "markdown",
   "metadata": {},
   "source": [
    "Es wird ein einfacher Datensatz sein, den man hoffentlich gut visualisieren kann. Und zwar eine gewisse Anzahl von Integerwerten, die jedes Mal gleich randomisiert sein sollten."
   ]
  },
  {
   "cell_type": "code",
   "execution_count": 52,
   "metadata": {},
   "outputs": [],
   "source": [
    "# Zunächst werden alle benötigten Bibliotheken importiert\n",
    "import matplotlib.pyplot as plt\n",
    "import random\n",
    "import matplotlib.cm as cm\n",
    "import os\n",
    "import time\n",
    "\n",
    "# Random Seed setzen\n",
    "random.seed(42)"
   ]
  },
  {
   "cell_type": "code",
   "execution_count": 53,
   "metadata": {},
   "outputs": [],
   "source": [
    "# Anzahl der ELemente im Datensatz\n",
    "n = 50\n",
    "\n",
    "# Datensatz generieren\n",
    "dataset = random.sample(range(1, n+1), n)"
   ]
  },
  {
   "cell_type": "markdown",
   "metadata": {},
   "source": [
    "Dann definieren eine Funktion die wir noch häufiger einsetzen werden, um das Sortieren zu visualisieren."
   ]
  },
  {
   "cell_type": "code",
   "execution_count": 54,
   "metadata": {},
   "outputs": [
    {
     "name": "stderr",
     "output_type": "stream",
     "text": [
      "C:\\Users\\gutsc\\AppData\\Local\\Temp\\ipykernel_27264\\3632522788.py:2: MatplotlibDeprecationWarning: The get_cmap function was deprecated in Matplotlib 3.7 and will be removed two minor releases later. Use ``matplotlib.colormaps[name]`` or ``matplotlib.colormaps.get_cmap(obj)`` instead.\n",
      "  cmap = cm.get_cmap('YlGnBu')  # Farbverlauf von Gelb über Grün zu Blau\n"
     ]
    }
   ],
   "source": [
    "# Farbverlaufsfunktion\n",
    "cmap = cm.get_cmap('YlGnBu')  # Farbverlauf von Gelb über Grün zu Blau\n",
    "\n",
    "# Funktion zum Aktualisieren des Balkendiagramms\n",
    "def update_chart(data, iteration, xlim, ylim, folder_name, name = \"Dataset\",):\n",
    "    i = len(data)\n",
    "    colors = [cmap(x/i) for x in data]\n",
    "    plt.bar(range(1, i+1), data, color=colors)\n",
    "    plt.xlim(xlim)\n",
    "    plt.ylim(ylim)\n",
    "    plt.xticks([])\n",
    "    plt.yticks([])\n",
    "    \n",
    "    if not os.path.exists(folder_name):\n",
    "      os.makedirs(folder_name)\n",
    "\n",
    "    if name == \"Start\":\n",
    "      plt.title(f'Startkonfiguration')\n",
    "      plt.savefig(f'{folder_name}/{name}.png')\n",
    "    else:\n",
    "      plt.title(f'Sortierung {name} - Schritt {iteration}')\n",
    "      plt.savefig(f'{folder_name}/{name}_Iteration_{iteration:04d}.png')  # Speichere den Plot als PNG-Datei\n",
    "    \n",
    "    plt.close()"
   ]
  },
  {
   "cell_type": "code",
   "execution_count": 55,
   "metadata": {},
   "outputs": [],
   "source": [
    "update_chart(dataset, 1, xlim=[0, n+1], ylim=[0, n+.5], folder_name=\"Sortieralgorithmen\", name=\"Start\")"
   ]
  },
  {
   "cell_type": "code",
   "execution_count": 56,
   "metadata": {},
   "outputs": [
    {
     "data": {
      "image/png": "[encoded data removed]",
      "text/plain": [
       "<Figure size 640x480 with 1 Axes>"
      ]
     },
     "metadata": {},
     "output_type": "display_data"
    }
   ],
   "source": [
    "\n",
    "# Load the image\n",
    "image = plt.imread('Sortieralgorithmen/Start.png')\n",
    "\n",
    "# Show the image\n",
    "plt.imshow(image)\n",
    "plt.axis('off')\n",
    "plt.show()"
   ]
  },
  {
   "cell_type": "markdown",
   "metadata": {},
   "source": [
    "## Sortieralgorithmen"
   ]
  },
  {
   "cell_type": "markdown",
   "metadata": {},
   "source": [
    "Im folgenden werde ich ein paar Sortieralgorithmen vorstellen, die so weit ich weiß, zu den gängigsten gehören. Ich werde zu jedem Algorithmus ein paar Worte verlieren und den Algorithmus anschließend implementieren. Da ich das Sortieren auch visualisieren möchte, werde ich ein paar zusätzliche, für den Algorithmus unnötige Zeilen programmieren. Ich habe versucht das alles konsistent zu halten, aber weil dieser Beitrag mit einigen Pausen entstanden ist, gibt es hier und da vermutlich ein paar Ausreißer. "
   ]
  },
  {
   "cell_type": "markdown",
   "metadata": {},
   "source": [
    "### Bubble Sort"
   ]
  },
  {
   "cell_type": "markdown",
   "metadata": {},
   "source": [
    "Bubble Sort ist ein einfacher Vergleichssortieralgorithmus, der wiederholt benachbarte Elemente vergleicht und sie vertauscht, wenn sie in der falschen Reihenfolge sind. Dieser Prozess wird so lange fortgesetzt, bis keine Vertauschungen mehr nötig sind, was bedeutet, dass das Array sortiert ist. Der Name \"Bubble Sort\" kommt daher, dass kleinere Elemente wie Blasen im Wasser nach oben steigen, genau wie die zu sortierenden Elemente aufsteigen.\n",
    "* **Funktionsweise**: In jedem Durchlauf wird das Array von Anfang bis Ende durchlaufen. Dabei werden jeweils zwei benachbarte Elemente verglichen. Wenn das linke Element größer ist als das rechte, werden sie vertauscht. Am Ende des ersten Durchlaufs befindet sich das größte Element am Ende des Arrays. Im zweiten Durchlauf wird das zweitgrößte Element gefunden und so weiter.\n",
    "* **Zeitkomplexität**: $O(n²)$ im Durchschnitt und im schlimmsten Fall. Das bedeutet, dass die Anzahl der Vergleiche und Vertauschungen quadratisch mit der Anzahl der Elemente im Array zunimmt. Für große Datensätze wird Bubble Sort daher sehr langsam.\n",
    "* **Besonderheiten**: Bubble Sort ist einfach zu verstehen und zu implementieren, aber ineffizient für große Datensätze. Er ist ein stabiler Sortieralgorithmus, d.h., die relative Reihenfolge gleicher Elemente bleibt erhalten."
   ]
  },
  {
   "cell_type": "code",
   "execution_count": 57,
   "metadata": {},
   "outputs": [],
   "source": [
    "# Bubble Sort Algorithmus\n",
    "def bubble_sort(data, ):\n",
    "    sorted_datasets = []\n",
    "    for i in range(len(data)-1):\n",
    "        for j in range(len(data)-1-i):\n",
    "            # Vergleiche benachbarte Elemente und tausche sie, falls sie in der falschen Reihenfolge sind\n",
    "            if data[j] > data[j+1]:\n",
    "                data[j], data[j+1] = data[j+1], data[j]\n",
    "            # Speichere den sortierten Datensatz nach jedem Sortierschritt\n",
    "            sorted_datasets.append(data.copy())\n",
    "\n",
    "    return sorted_datasets"
   ]
  },
  {
   "cell_type": "code",
   "execution_count": 58,
   "metadata": {},
   "outputs": [],
   "source": [
    "bubble_sorted_datasets = bubble_sort(dataset,)"
   ]
  },
  {
   "cell_type": "code",
   "execution_count": 59,
   "metadata": {},
   "outputs": [],
   "source": [
    "for i, data in enumerate(bubble_sorted_datasets):\n",
    "    update_chart(data, i+1,  xlim=[0, n+1], ylim=[0, n+.5], folder_name=\"Sortieralgorithmen/bubble_sort\", name=\"Bubble Sort\")"
   ]
  },
  {
   "cell_type": "markdown",
   "metadata": {},
   "source": [
    "### Insertion Sort"
   ]
  },
  {
   "cell_type": "markdown",
   "metadata": {},
   "source": [
    "Insertion Sort baut das sortierte Array schrittweise auf, indem er jedes Element aus dem unsortierten Teil nimmt und es an der richtigen Stelle im sortierten Teil einfügt.\n",
    "* **Funktionsweise**: Der Algorithmus beginnt mit dem zweiten Element und vergleicht es mit dem ersten Element. Wenn es kleiner ist, wird es vor dem ersten Element eingefügt. Dann wird das dritte Element genommen und mit den beiden ersten verglichen und so weiter. Am Ende jedes Schritts ist der linke Teil des Arrays sortiert.\n",
    "* **Zeitkomplexität**: $O(n²)$ im Durchschnitt und im schlimmsten Fall, aber effizienter als Bubble Sort für teilweise sortierte Daten. Bei fast sortierten Arrays nähert sich die Zeitkomplexität $O(n)$.\n",
    "* **Besonderheiten**: Insertion Sort ist ein In-place-Algorithmus, d.h., er benötigt keinen zusätzlichen Speicherplatz. Er ist einfach zu implementieren und effizient für kleine Datensätze oder fast sortierte Daten."
   ]
  },
  {
   "cell_type": "code",
   "execution_count": 60,
   "metadata": {},
   "outputs": [],
   "source": [
    "# Erzeuge einen zufälligen Datensatz\n",
    "dataset = random.sample(range(1, n+1), n)"
   ]
  },
  {
   "cell_type": "code",
   "execution_count": 61,
   "metadata": {},
   "outputs": [],
   "source": [
    "# Insertion Sort Algorithmus\n",
    "def insertion_sort(data, ):\n",
    "    sorted_datasets = []\n",
    "    for i in range(1, len(data)):\n",
    "        key = data[i]  # Das aktuell zu sortierende Element\n",
    "        j = i - 1\n",
    "        while j >= 0 and data[j] > key:\n",
    "            data[j+1] = data[j]  # Verschiebe Elemente nach rechts\n",
    "            j -= 1\n",
    "            # Speichere den sortierten Datensatz nach jedem Sortierschritt\n",
    "            sorted_datasets.append(data.copy())\n",
    "        data[j+1] = key  # Füge das Element an der richtigen Position ein\n",
    "        \n",
    "    return sorted_datasets"
   ]
  },
  {
   "cell_type": "code",
   "execution_count": 62,
   "metadata": {},
   "outputs": [],
   "source": [
    "insertion_sorted_datasets = insertion_sort(dataset)"
   ]
  },
  {
   "cell_type": "code",
   "execution_count": 63,
   "metadata": {},
   "outputs": [],
   "source": [
    "for i, data in enumerate(insertion_sorted_datasets):\n",
    "    update_chart(data, i+1,  xlim=[0, n+1], ylim=[0, n+.5], folder_name=\"Sortieralgorithmen/insertion_sort\", name=\"Insertion Sort\")"
   ]
  },
  {
   "cell_type": "markdown",
   "metadata": {},
   "source": [
    "### Selection Sort"
   ]
  },
  {
   "cell_type": "markdown",
   "metadata": {},
   "source": [
    "Selection Sort findet in jedem Durchlauf das kleinste Element im unsortierten Teil des Arrays und tauscht es mit dem ersten Element des unsortierten Teils.\n",
    "* **Funktionsweise**: Der Algorithmus durchläuft das Array und findet das kleinste Element. Dieses wird mit dem ersten Element vertauscht. Dann wird der Vorgang für den restlichen, unsortierten Teil des Arrays wiederholt.\n",
    "* **Zeitkomplexität**: $O(n²)$ in allen Fällen. Die Anzahl der Vergleiche ist unabhängig von der Anordnung der Elemente immer gleich.\n",
    "* **Besonderheiten**: Selection Sort ist einfach zu verstehen, aber ineffizient für große Datensätze. Er führt weniger Vertauschungen durch als Bubble Sort, was bei teuren Vertauschungsoperationen von Vorteil sein kann."
   ]
  },
  {
   "cell_type": "code",
   "execution_count": 64,
   "metadata": {},
   "outputs": [],
   "source": [
    "# Erzeuge einen zufälligen Datensatz\n",
    "dataset = random.sample(range(1, n+1), n)"
   ]
  },
  {
   "cell_type": "code",
   "execution_count": 65,
   "metadata": {},
   "outputs": [],
   "source": [
    "def selection_sort(data):\n",
    "    sorted_datasets = []\n",
    "    for i in range(len(data)-1):\n",
    "        min_index = i\n",
    "        for j in range(i+1, len(data)):\n",
    "            if data[j] < data[min_index]:\n",
    "                min_index = j\n",
    "                sorted_datasets.append(data.copy())\n",
    "        data[i], data[min_index] = data[min_index], data[i]\n",
    "        \n",
    "    return sorted_datasets"
   ]
  },
  {
   "cell_type": "code",
   "execution_count": 66,
   "metadata": {},
   "outputs": [],
   "source": [
    "selection_sorted_datasets = selection_sort(dataset)"
   ]
  },
  {
   "cell_type": "code",
   "execution_count": 67,
   "metadata": {},
   "outputs": [],
   "source": [
    "for i, data in enumerate(selection_sorted_datasets):\n",
    "    update_chart(data, i+1,  xlim=[0, n+1], ylim=[0, n+.5], folder_name=\"Sortieralgorithmen/selection_sort\", name=\"Selection Sort\")"
   ]
  },
  {
   "cell_type": "markdown",
   "metadata": {},
   "source": [
    "### Merge Sort"
   ]
  },
  {
   "cell_type": "markdown",
   "metadata": {},
   "source": [
    "Merge Sort ist ein \"Teile und Herrsche\"-Algorithmus, der das Array rekursiv in zwei Hälften teilt, jede Hälfte sortiert und dann die sortierten Hälften zusammenführt.\n",
    "* **Funktionsweise**: Das Array wird solange halbiert, bis nur noch einzelne Elemente übrig sind. Diese sind trivialerweise sortiert. Dann werden die einzelnen Elemente zu sortierten Paaren zusammengeführt, dann Paare zu Vierergruppen und so weiter, bis das gesamte Array sortiert ist.\n",
    "* **Zeitkomplexität**: $O(n \\cdot log(n))$ in allen Fällen. Die Anzahl der Vergleiche wächst logarithmisch mit der Anzahl der Elemente, was ihn effizient für große Datensätze macht.\n",
    "* **Besonderheiten**: Merge Sort ist ein stabiler Sortieralgorithmus und effizient für große Datensätze. Er benötigt jedoch zusätzlichen Speicherplatz für die temporären Arrays beim Zusammenführen."
   ]
  },
  {
   "cell_type": "code",
   "execution_count": 68,
   "metadata": {},
   "outputs": [],
   "source": [
    "# Erzeuge einen zufälligen Datensatz\n",
    "dataset = random.sample(range(1, n+1), n)"
   ]
  },
  {
   "cell_type": "code",
   "execution_count": 69,
   "metadata": {},
   "outputs": [],
   "source": [
    "def merge_sort(data):\n",
    "    steps = []\n",
    "\n",
    "    def merge(left, right, start):\n",
    "        result = []\n",
    "        i = j = 0\n",
    "        while i < len(left) and j < len(right):\n",
    "            if left[i] < right[j]:\n",
    "                result.append(left[i])\n",
    "                i += 1\n",
    "            else:\n",
    "                result.append(right[j])\n",
    "                j += 1\n",
    "            data[start:start+len(result)] = result\n",
    "            steps.append(list(data))\n",
    "        while i < len(left):\n",
    "            result.append(left[i])\n",
    "            i += 1\n",
    "            data[start:start+len(result)] = result\n",
    "            steps.append(list(data))\n",
    "        while j < len(right):\n",
    "            result.append(right[j])\n",
    "            j += 1\n",
    "            data[start:start+len(result)] = result\n",
    "            steps.append(list(data))\n",
    "        return result\n",
    "\n",
    "    def sort(data, start=0):\n",
    "        if len(data) <= 1:\n",
    "            return data\n",
    "        mid = len(data) // 2\n",
    "        left = data[:mid]\n",
    "        right = data[mid:]\n",
    "        return merge(sort(left, start), sort(right, start + mid), start)\n",
    "\n",
    "    sort(data)\n",
    "    return steps"
   ]
  },
  {
   "cell_type": "code",
   "execution_count": 70,
   "metadata": {},
   "outputs": [],
   "source": [
    "merge_sorted_datasets = merge_sort(dataset)"
   ]
  },
  {
   "cell_type": "code",
   "execution_count": 71,
   "metadata": {},
   "outputs": [],
   "source": [
    "for i, data in enumerate(merge_sorted_datasets):\n",
    "    update_chart(data, i+1,  xlim=[0, n+1], ylim=[0, n+.5], folder_name=\"Sortieralgorithmen/merge_sort\", name=\"Merge Sort\")"
   ]
  },
  {
   "cell_type": "markdown",
   "metadata": {},
   "source": [
    "### Quick Sort"
   ]
  },
  {
   "cell_type": "markdown",
   "metadata": {},
   "source": [
    "Quick Sort ist ein weiterer \"Teile und Herrsche\"-Algorithmus. Er wählt ein Element als \"Pivot\" und partitioniert das Array in zwei Teilbereiche: Elemente kleiner als das Pivot und Elemente größer als das Pivot. Anschließend werden die Teilbereiche rekursiv sortiert.\n",
    "* **Funktionsweise**: Die Wahl des Pivots ist entscheidend für die Effizienz. Im Idealfall teilt das Pivot das Array in zwei gleich große Hälften. Im schlimmsten Fall ist das Pivot das kleinste oder größte Element, was zu einer Zeitkomplexität von $O(n²)$ führt.\n",
    "* **Zeitkomplexität**: $O(n \\cdot log(n))$ im Durchschnitt, $O(n²)$ im schlimmsten Fall (selten).\n",
    "* **Besonderheiten**: Quick Sort ist ein In-place-Algorithmus und oft schneller als Merge Sort in der Praxis. Er ist jedoch nicht stabil."
   ]
  },
  {
   "cell_type": "code",
   "execution_count": 72,
   "metadata": {},
   "outputs": [],
   "source": [
    "# Erzeuge einen zufälligen Datensatz\n",
    "dataset = random.sample(range(1, n+1), n)"
   ]
  },
  {
   "cell_type": "code",
   "execution_count": 73,
   "metadata": {},
   "outputs": [],
   "source": [
    "def quick_sort_visualized(arr):\n",
    "    \"\"\"\n",
    "    Implementiert Quick Sort und gibt eine Liste von Arrays zurück,\n",
    "    die den Sortierverlauf darstellen (nach jeder Änderung).\n",
    "    \"\"\"\n",
    "    snapshots = [arr[:]]  # Initialer Snapshot vor Beginn der Sortierung\n",
    "\n",
    "    def _quick_sort(arr, low, high):\n",
    "        if low < high:\n",
    "            pivot_index = partition(arr, low, high)\n",
    "            snapshots.append(arr[:])  # Snapshot nach jeder Swap-Operation\n",
    "            _quick_sort(arr, low, pivot_index - 1)\n",
    "            _quick_sort(arr, pivot_index + 1, high)\n",
    "\n",
    "    def partition(arr, low, high):\n",
    "        pivot = arr[high]\n",
    "        i = low - 1\n",
    "        for j in range(low, high):\n",
    "            if arr[j] <= pivot:\n",
    "                i += 1\n",
    "                arr[i], arr[j] = arr[j], arr[i]\n",
    "                snapshots.append(arr[:])  # Snapshot nach jedem Swap\n",
    "        arr[i + 1], arr[high] = arr[high], arr[i + 1]\n",
    "        snapshots.append(arr[:])  # Snapshot nach dem finalen Swap\n",
    "        return i + 1\n",
    "\n",
    "    _quick_sort(arr, 0, len(arr) - 1)\n",
    "    return snapshots"
   ]
  },
  {
   "cell_type": "code",
   "execution_count": 74,
   "metadata": {},
   "outputs": [],
   "source": [
    "quick_sorted_datasets = quick_sort_visualized(dataset)"
   ]
  },
  {
   "cell_type": "code",
   "execution_count": 75,
   "metadata": {},
   "outputs": [],
   "source": [
    "for i, data in enumerate(quick_sorted_datasets):\n",
    "    update_chart(data, i+1,  xlim=[0, n+1], ylim=[0, n+.5], folder_name=\"Sortieralgorithmen/quick_sort\", name=\"Quick Sort\")"
   ]
  },
  {
   "cell_type": "markdown",
   "metadata": {},
   "source": [
    "### Heap Sort"
   ]
  },
  {
   "cell_type": "markdown",
   "metadata": {},
   "source": [
    "Heap Sort nutzt eine spezielle Datenstruktur namens Heap, um das Array zu sortieren. Ein Heap ist ein binärer Baum, in dem jeder Knoten größer (oder kleiner, je nach Implementierung) ist als seine Kinder.\n",
    "* **Funktionsweise**: Zuerst wird das Array in einen Heap umgewandelt. Dann wird wiederholt das größte Element (die Wurzel des Heaps) entfernt und an das Ende des Arrays gestellt. Nach jedem Entfernen wird der Heap wiederhergestellt.\n",
    "* **Zeitkomplexität**: $O(n log n)$ in allen Fällen.\n",
    "* **Besonderheiten**: Heap Sort ist ein In-place-Algorithmus und garantiert eine Zeitkomplexität von $O(n log n)$, unabhängig von der Anordnung der Elemente. Er ist jedoch etwas komplexer zu implementieren als andere Algorithmen."
   ]
  },
  {
   "cell_type": "code",
   "execution_count": 76,
   "metadata": {},
   "outputs": [],
   "source": [
    "# Erzeuge einen zufälligen Datensatz\n",
    "dataset = random.sample(range(1, n+1), n)"
   ]
  },
  {
   "cell_type": "code",
   "execution_count": 77,
   "metadata": {},
   "outputs": [],
   "source": [
    "def heapify(arr, n, i, snapshots):\n",
    "    \"\"\"\n",
    "    Hilfsfunktion, um den Heap an der Position i wiederherzustellen.\n",
    "    \"\"\"\n",
    "    largest = i  # Größtes Element initialisieren\n",
    "    l = 2 * i + 1  # Linkes Kind\n",
    "    r = 2 * i + 2  # Rechtes Kind\n",
    "\n",
    "    # Überprüfen, ob das linke Kind größer ist als die Wurzel\n",
    "    if l < n and arr[i] < arr[l]:\n",
    "        largest = l\n",
    "\n",
    "    # Überprüfen, ob das rechte Kind größer ist als das größte bisher gefundene Element\n",
    "    if r < n and arr[largest] < arr[r]:\n",
    "        largest = r\n",
    "\n",
    "    # Wenn das größte Element nicht die Wurzel ist, tauschen und rekursiv heapify aufrufen\n",
    "    if largest != i:\n",
    "        arr[i], arr[largest] = arr[largest], arr[i]\n",
    "        snapshots.append(arr.copy())  # Snapshot speichern\n",
    "        heapify(arr, n, largest, snapshots)\n",
    "\n",
    "def heap_sort(arr):\n",
    "    \"\"\"\n",
    "    Implementiert Heap Sort und gibt eine Liste von Arrays zurück,\n",
    "    die den Sortierverlauf darstellen.\n",
    "    \"\"\"\n",
    "    n = len(arr)\n",
    "    snapshots = [arr.copy()]  # Initialen Zustand speichern\n",
    "\n",
    "    # Heap erstellen (Bottom-up)\n",
    "    for i in range(n // 2 - 1, -1, -1):\n",
    "        heapify(arr, n, i, snapshots)\n",
    "\n",
    "    # Ein Element nach dem anderen aus dem Heap entfernen und an die richtige Stelle setzen\n",
    "    for i in range(n - 1, 0, -1):\n",
    "        arr[i], arr[0] = arr[0], arr[i]  # Tausche Wurzel mit letztem Element\n",
    "        snapshots.append(arr.copy())  # Snapshot speichern\n",
    "        heapify(arr, i, 0, snapshots)  # Heap wiederherstellen\n",
    "\n",
    "    return snapshots"
   ]
  },
  {
   "cell_type": "code",
   "execution_count": 78,
   "metadata": {},
   "outputs": [],
   "source": [
    "heap_sorted_datasets = heap_sort(dataset)"
   ]
  },
  {
   "cell_type": "code",
   "execution_count": 79,
   "metadata": {},
   "outputs": [],
   "source": [
    "for i, data in enumerate(heap_sorted_datasets):\n",
    "    update_chart(data, i+1, xlim=[0, n+1], ylim=[0, n+.5], folder_name=\"Sortieralgorithmen/Heap_sort\", name=\"Heap Sort\")"
   ]
  },
  {
   "cell_type": "markdown",
   "metadata": {},
   "source": [
    "### Radix Sort"
   ]
  },
  {
   "cell_type": "markdown",
   "metadata": {},
   "source": [
    "Radix Sort sortiert Zahlen nach ihren einzelnen Ziffern, beginnend mit der niedrigsten Stelle (Einerstelle).\n",
    "* **Funktionsweise**: In jedem Durchlauf werden die Zahlen in \"Buckets\" einsortiert, je nachdem, welche Ziffer sie an der aktuellen Stelle haben. Dann werden die Buckets in der richtigen Reihenfolge wieder zusammengefügt. Dieser Vorgang wird für jede Stelle wiederholt, bis alle Stellen sortiert sind.\n",
    "* **Zeitkomplexität**: $O(nk)$, wobei n die Anzahl der Elemente und k die maximale Anzahl von Stellen ist.\n",
    "* **Besonderheiten**: Radix Sort ist effizient für ganze Zahlen mit begrenzter Stellenanzahl. Er ist kein vergleichsbasierter Algorithmus, sondern nutzt die Verteilung der Ziffern."
   ]
  },
  {
   "cell_type": "code",
   "execution_count": 80,
   "metadata": {},
   "outputs": [],
   "source": [
    "# Erzeuge einen zufälligen Datensatz\n",
    "n=50\n",
    "dataset = random.sample(range(1, n+1), n)"
   ]
  },
  {
   "cell_type": "code",
   "execution_count": 81,
   "metadata": {},
   "outputs": [],
   "source": [
    "def radix_sort(arr):\n",
    "    \"\"\"\n",
    "    Implementiert den Radix Sort Algorithmus und gibt eine Liste von Arrays zurück,\n",
    "    die jeden einzelnen Sortierschritt darstellen.\n",
    "    \"\"\"\n",
    "    max_value = max(arr)\n",
    "    exp = 1\n",
    "    snapshots = [arr.copy()]  # Initialer Zustand\n",
    "\n",
    "    while max_value // exp > 0:\n",
    "        buckets = [[] for _ in range(10)]\n",
    "        for num in arr:\n",
    "            digit = (num // exp) % 10\n",
    "            buckets[digit].append(num)\n",
    "            # Flatten the buckets and fill the missing values with zeros\n",
    "            current_step = [item for sublist in buckets for item in sublist] + [0] * (len(arr) - len([item for sublist in buckets for item in sublist]))\n",
    "            snapshots.append(current_step)  # Save the snapshot\n",
    "\n",
    "        arr = [num for bucket in buckets for num in bucket]\n",
    "        exp *= 10\n",
    "\n",
    "    return snapshots"
   ]
  },
  {
   "cell_type": "code",
   "execution_count": 82,
   "metadata": {},
   "outputs": [],
   "source": [
    "radix_sorted_datasets = radix_sort(dataset)"
   ]
  },
  {
   "cell_type": "code",
   "execution_count": 83,
   "metadata": {},
   "outputs": [],
   "source": [
    "for i, data in enumerate(radix_sorted_datasets):\n",
    "    update_chart(data, i+1,  xlim=[0, n+1], ylim=[0, n+.5], folder_name=\"Sortieralgorithmen/radix_sort\", name=\"Radix Sort\")"
   ]
  },
  {
   "cell_type": "markdown",
   "metadata": {},
   "source": [
    "### Bogo Sort"
   ]
  },
  {
   "cell_type": "markdown",
   "metadata": {},
   "source": [
    "Bogo Sort ist ein ineffizienter und nicht-deterministischer Sortieralgorithmus. Er funktioniert, indem er das Array zufällig mischt und dann überprüft, ob es sortiert ist. Dieser Vorgang wird wiederholt, bis das Array zufällig in die richtige Reihenfolge gebracht wird. Aus diesem Grund habe ich die größe des Datensatzes verkleinert.\n",
    "* **Funktionsweise**: Der Algorithmus mischt das Array wiederholt, bis es zufällig sortiert ist. Es gibt keine Garantie dafür, wie lange dies dauern wird. Im schlimmsten Fall kann es unendlich lange dauern.\n",
    "* **Zeitkomplexität**: Im Durchschnitt und im schlimmsten Fall unendlich, da keine Garantie für eine Beendigung besteht.\n",
    "* **Besonderheiten**: Bogo Sort ist extrem ineffizient und unpraktisch. Er dient nur als humorvolles Beispiel für einen schlechten Algorithmus."
   ]
  },
  {
   "cell_type": "code",
   "execution_count": 84,
   "metadata": {},
   "outputs": [
    {
     "name": "stdout",
     "output_type": "stream",
     "text": [
      "[2, 3, 5, 1, 4]\n"
     ]
    }
   ],
   "source": [
    "# Erzeuge einen zufälligen Datensatz\n",
    "n = 5\n",
    "dataset = random.sample(range(1, n+1), n)\n",
    "print(dataset)"
   ]
  },
  {
   "cell_type": "code",
   "execution_count": 85,
   "metadata": {},
   "outputs": [],
   "source": [
    "def is_sorted(data):\n",
    "    for i in range(len(data) - 1):\n",
    "        if data[i] > data[i+1]:\n",
    "            return False\n",
    "    return True\n",
    "\n",
    "def bogo_sort(data):\n",
    "    steps = []\n",
    "    while not is_sorted(data):\n",
    "        steps.append(list(data))  # Add the current state of the array to the steps\n",
    "        random.shuffle(data)\n",
    "    steps.append(list(data))  # Add the final sorted array to the steps\n",
    "    return steps"
   ]
  },
  {
   "cell_type": "code",
   "execution_count": 86,
   "metadata": {},
   "outputs": [],
   "source": [
    "bogo_sorted_datasets = bogo_sort(dataset)"
   ]
  },
  {
   "cell_type": "code",
   "execution_count": 87,
   "metadata": {},
   "outputs": [],
   "source": [
    "for i, data in enumerate(bogo_sorted_datasets):\n",
    "    update_chart(data, i+1,  xlim=[0, n+1], ylim=[0, n+.5], folder_name=\"Sortieralgorithmen/bogo_sort\", name=\"Bogo Sort\")"
   ]
  },
  {
   "cell_type": "markdown",
   "metadata": {},
   "source": [
    "### Sleep Sort"
   ]
  },
  {
   "cell_type": "markdown",
   "metadata": {},
   "source": [
    "Sleep Sort ist ein unkonventioneller und ineffizienter Sortieralgorithmus, der auf der Idee basiert, dass jeder Thread für eine Zeit \"schläft\", die proportional zum Wert des Elements ist. Auch hier verzichte darauf, einen großen Datensatz zu verwenden.\n",
    "* **Funktionsweise**: Für jedes Element im Array wird ein Thread gestartet. Jeder Thread schläft für eine Zeit, die dem Wert des Elements entspricht. Wenn ein Thread aufwacht, gibt er sein Element aus. Da die Threads mit kleineren Werten zuerst aufwachen, werden die Elemente in sortierter Reihenfolge ausgegeben.\n",
    "* **Zeitkomplexität**: $O(n + max(arr))$, wobei $max(arr)$ das größte Element im Array ist.\n",
    "* **Besonderheiten**: Sleep Sort ist nicht deterministisch, da die Reihenfolge der Ausgabe bei gleichen Elementen variieren kann. Er ist ineffizient und dient eher als Kuriosität."
   ]
  },
  {
   "cell_type": "code",
   "execution_count": 88,
   "metadata": {},
   "outputs": [],
   "source": [
    "# Erzeuge einen zufälligen Datensatz\n",
    "n = 50\n",
    "dataset = random.sample(range(1, n+1), n)"
   ]
  },
  {
   "cell_type": "code",
   "execution_count": 89,
   "metadata": {},
   "outputs": [],
   "source": [
    "import time\n",
    "import threading\n",
    "\n",
    "def sleep_sort(data):\n",
    "    \n",
    "    sorted_data = [0] * len(data)  # Initialize sorted_data with zeros\n",
    "    all_steps = []  # Initialize the list to store all steps\n",
    "    index = 0  # Initialize index\n",
    "    \n",
    "    def sleep_func(x):\n",
    "        nonlocal index  # Declare index as nonlocal so it can be modified inside this function\n",
    "        time.sleep(x/10)\n",
    "        sorted_data[index] = x  # Insert the element at the current index\n",
    "        index += 1  # Increment the index\n",
    "        all_steps.append(list(sorted_data))  # Append the current state of sorted_data to all_steps\n",
    "    \n",
    "    threads = []\n",
    "    for num in data:\n",
    "        t = threading.Thread(target=sleep_func, args=(num,))\n",
    "        threads.append(t)\n",
    "        t.start()\n",
    "    \n",
    "    for t in threads:\n",
    "        t.join()\n",
    "    \n",
    "    return all_steps  # Return the list of all steps"
   ]
  },
  {
   "cell_type": "code",
   "execution_count": 90,
   "metadata": {},
   "outputs": [],
   "source": [
    "sleep_sorted_datasets = sleep_sort(dataset)"
   ]
  },
  {
   "cell_type": "code",
   "execution_count": 91,
   "metadata": {},
   "outputs": [],
   "source": [
    "for i, data in enumerate(sleep_sorted_datasets):\n",
    "    update_chart(data, i+1, xlim=[0, n+1], ylim=[0, n+.5], folder_name=\"Sortieralgorithmen/sleep_sort\", name=\"Sleep Sort\")"
   ]
  },
  {
   "cell_type": "markdown",
   "metadata": {},
   "source": [
    "Es gibt noch viele weitere Sortieralgorithmen. Und den einen oder anderen werde ich vielleicht noch ergänzen."
   ]
  },
  {
   "cell_type": "markdown",
   "metadata": {},
   "source": [
    "## Gifs erstellen"
   ]
  },
  {
   "cell_type": "code",
   "execution_count": 92,
   "metadata": {},
   "outputs": [],
   "source": [
    "import os\n",
    "import imageio"
   ]
  },
  {
   "cell_type": "code",
   "execution_count": 93,
   "metadata": {},
   "outputs": [],
   "source": [
    "from PIL import Image\n",
    "import os\n",
    "\n",
    "\n",
    "# Save the frames as an animated GIF\n",
    "def calculate_duration(num_images, min_images=25, min_duration=50, max_duration=500, max_images=5000):\n",
    "    if num_images < min_images:\n",
    "        duration = max_duration\n",
    "    elif num_images >= max_images:\n",
    "        duration = min_duration\n",
    "    else:\n",
    "        slope = (min_duration - max_duration) / (max_images - min_duration)\n",
    "        duration = max_duration + slope * (num_images - min_duration)\n",
    "    return duration\n",
    "\n",
    "def create_gif_from_pngs(folder_path, output_path):\n",
    "    images = []\n",
    "    for filename in sorted(os.listdir(folder_path)):  # Use sorted to ensure the images are in the correct order\n",
    "        if filename.endswith(\".png\"):\n",
    "            file_path = os.path.join(folder_path, filename)\n",
    "            images.append(Image.open(file_path))\n",
    "    \n",
    "    duration = calculate_duration(len(images), min_images=5, min_duration=100, max_duration=200, max_images=5000)\n",
    "    images[0].save(output_path, save_all=True, append_images=images[1:], loop=0, duration=duration)"
   ]
  },
  {
   "cell_type": "code",
   "execution_count": 94,
   "metadata": {},
   "outputs": [],
   "source": [
    "folder_path = \"Sortieralgorithmen\"\n",
    "folder_list = [folder for folder in os.listdir(folder_path) if os.path.isdir(os.path.join(folder_path, folder))]\n",
    "\n",
    "for folder in folder_list:\n",
    "    output_path = os.path.join(\"Sortieralgorithmen\", f\"{folder}.gif\")\n",
    "    create_gif_from_pngs(os.path.join(\"Sortieralgorithmen\", folder), output_path)\n"
   ]
  }
 ],
 "metadata": {
  "kernelspec": {
   "display_name": "tf_GPU",
   "language": "python",
   "name": "python3"
  },
  "language_info": {
   "codemirror_mode": {
    "name": "ipython",
    "version": 3
   },
   "file_extension": ".py",
   "mimetype": "text/x-python",
   "name": "python",
   "nbconvert_exporter": "python",
   "pygments_lexer": "ipython3",
   "version": "3.10.9"
  }
 },
 "nbformat": 4,
 "nbformat_minor": 2
}
