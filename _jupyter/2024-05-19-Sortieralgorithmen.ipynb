{
 "cells": [
  {
   "cell_type": "markdown",
   "metadata": {},
   "source": [
    "# Sortieralgorithmen"
   ]
  },
  {
   "cell_type": "markdown",
   "metadata": {},
   "source": [
    "Ich habe mich neulich gefragt, was es für gängige Sortieralgorithmen gibt. Wie funktionieren sie? Wie schnell sind sie? Gibt es koriose Algorithmen usw.\n",
    "Was ich dabei gelernt habe, möchte ich hier teilen. Ich werde verschiedene Algorithmen in Python umsetzen und versuchen den Vorgang grafisch darszustellen.\n",
    "Dazu brauche ich zunächst einen Datensatz."
   ]
  },
  {
   "cell_type": "markdown",
   "metadata": {},
   "source": [
    "## Der zu sortierende Datensatz"
   ]
  },
  {
   "cell_type": "markdown",
   "metadata": {},
   "source": [
    "Es wird ein einfacher Datensatz sein, den man hoffentlich gut visualisieren kann. Und zwar eine gewisse Anzahl von Integerwerten, die jedes Mal gleich randomisiert sein sollten."
   ]
  },
  {
   "cell_type": "code",
   "execution_count": 30,
   "metadata": {},
   "outputs": [],
   "source": [
    "# Zunächst werden alle benötigten Bibliotheken importiert\n",
    "import matplotlib.pyplot as plt\n",
    "import random\n",
    "import matplotlib.cm as cm\n",
    "import os\n",
    "import time\n",
    "\n",
    "# Random Seed setzen\n",
    "random.seed(42)"
   ]
  },
  {
   "cell_type": "code",
   "execution_count": 31,
   "metadata": {},
   "outputs": [],
   "source": [
    "# Anzahl der ELemente im Datensatz\n",
    "n = 10\n",
    "\n",
    "# Datensatz generieren\n",
    "dataset = random.sample(range(1, n+1), n)"
   ]
  },
  {
   "cell_type": "code",
   "execution_count": 32,
   "metadata": {},
   "outputs": [
    {
     "data": {
      "text/plain": [
       "[2, 1, 5, 10, 7, 6, 9, 3, 4, 8]"
      ]
     },
     "execution_count": 32,
     "metadata": {},
     "output_type": "execute_result"
    }
   ],
   "source": [
    "dataset"
   ]
  },
  {
   "cell_type": "markdown",
   "metadata": {},
   "source": [
    "Dann definieren eine Funktion die wir noch häufiger einsetzen werden, um das Sortieren zu visualisieren."
   ]
  },
  {
   "cell_type": "code",
   "execution_count": 33,
   "metadata": {},
   "outputs": [
    {
     "name": "stderr",
     "output_type": "stream",
     "text": [
      "C:\\Users\\gutsc\\AppData\\Local\\Temp\\ipykernel_56268\\3632522788.py:2: MatplotlibDeprecationWarning: The get_cmap function was deprecated in Matplotlib 3.7 and will be removed two minor releases later. Use ``matplotlib.colormaps[name]`` or ``matplotlib.colormaps.get_cmap(obj)`` instead.\n",
      "  cmap = cm.get_cmap('YlGnBu')  # Farbverlauf von Gelb über Grün zu Blau\n"
     ]
    }
   ],
   "source": [
    "# Farbverlaufsfunktion\n",
    "cmap = cm.get_cmap('YlGnBu')  # Farbverlauf von Gelb über Grün zu Blau\n",
    "\n",
    "# Funktion zum Aktualisieren des Balkendiagramms\n",
    "def update_chart(data, iteration, xlim, ylim, folder_name, name = \"Dataset\",):\n",
    "    i = len(data)\n",
    "    colors = [cmap(x/i) for x in data]\n",
    "    plt.bar(range(1, i+1), data, color=colors)\n",
    "    plt.xlim(xlim)\n",
    "    plt.ylim(ylim)\n",
    "    plt.xticks([])\n",
    "    plt.yticks([])\n",
    "    \n",
    "    if not os.path.exists(folder_name):\n",
    "      os.makedirs(folder_name)\n",
    "\n",
    "    if name == \"Start\":\n",
    "      plt.title(f'Startkonfiguration')\n",
    "      plt.savefig(f'{folder_name}/{name}.png')\n",
    "    else:\n",
    "      plt.title(f'Sortierung {name} - Schritt {iteration}')\n",
    "      plt.savefig(f'{folder_name}/{name}_Iteration_{iteration:04d}.png')  # Speichere den Plot als PNG-Datei\n",
    "    \n",
    "    plt.close()"
   ]
  },
  {
   "cell_type": "code",
   "execution_count": 34,
   "metadata": {},
   "outputs": [],
   "source": [
    "update_chart(dataset, 1, xlim=[0, n+1], ylim=[0, n+.5], folder_name=\"Sortieralgorithmen\", name=\"Start\")"
   ]
  },
  {
   "cell_type": "code",
   "execution_count": 35,
   "metadata": {},
   "outputs": [
    {
     "data": {
      "image/png": "[encoded data removed]",
      "text/plain": [
       "<Figure size 640x480 with 1 Axes>"
      ]
     },
     "metadata": {},
     "output_type": "display_data"
    }
   ],
   "source": [
    "\n",
    "# Load the image\n",
    "image = plt.imread('Sortieralgorithmen/Start.png')\n",
    "\n",
    "# Show the image\n",
    "plt.imshow(image)\n",
    "plt.axis('off')\n",
    "plt.show()"
   ]
  },
  {
   "cell_type": "markdown",
   "metadata": {},
   "source": [
    "## Sortieralgorithmen"
   ]
  },
  {
   "cell_type": "markdown",
   "metadata": {},
   "source": [
    "Im folgenden werde ich ein paar Sortieralgorithmen vorstellen, die so weit ich weiß, zu den gängigsten gehören. Ich werde zu jedem Algorithmus ein paar Worte verlieren und den Algorithmus anschließend implementieren. Da ich das Sortieren auch visualisieren möchte, werde ich ein paar zusätzliche, für den Algorithmus unnötige Zeilen programmieren. Ich habe versucht das alles konsistent zu halten, aber weil dieser Beitrag mit einigen Pausen entstanden ist, gibt es hier und da vermutlich ein paar Ausreißer. "
   ]
  },
  {
   "cell_type": "markdown",
   "metadata": {},
   "source": [
    "### Bubble Sort"
   ]
  },
  {
   "cell_type": "markdown",
   "metadata": {},
   "source": [
    "Bubble Sort ist ein einfacher Vergleichssortieralgorithmus, der wiederholt benachbarte Elemente vergleicht und sie vertauscht, wenn sie in der falschen Reihenfolge sind. Dieser Prozess wird so lange fortgesetzt, bis keine Vertauschungen mehr nötig sind, was bedeutet, dass das Array sortiert ist. Der Name \"Bubble Sort\" kommt daher, dass kleinere Elemente wie Blasen im Wasser nach oben steigen, genau wie die zu sortierenden Elemente aufsteigen.\n",
    "* **Funktionsweise**: In jedem Durchlauf wird das Array von Anfang bis Ende durchlaufen. Dabei werden jeweils zwei benachbarte Elemente verglichen. Wenn das linke Element größer ist als das rechte, werden sie vertauscht. Am Ende des ersten Durchlaufs befindet sich das größte Element am Ende des Arrays. Im zweiten Durchlauf wird das zweitgrößte Element gefunden und so weiter.\n",
    "* **Zeitkomplexität**: $O(n²)$ im Durchschnitt und im schlimmsten Fall. Das bedeutet, dass die Anzahl der Vergleiche und Vertauschungen quadratisch mit der Anzahl der Elemente im Array zunimmt. Für große Datensätze wird Bubble Sort daher sehr langsam.\n",
    "* **Besonderheiten**: Bubble Sort ist einfach zu verstehen und zu implementieren, aber ineffizient für große Datensätze. Er ist ein stabiler Sortieralgorithmus, d.h., die relative Reihenfolge gleicher Elemente bleibt erhalten."
   ]
  },
  {
   "cell_type": "code",
   "execution_count": 36,
   "metadata": {},
   "outputs": [],
   "source": [
    "def bubble_sort(data):\n",
    "    def swap(i, j):\n",
    "        \"\"\"Vertauscht die Elemente an den Positionen i und j.\"\"\"\n",
    "        data[i], data[j] = data[j], data[i]  # Tausche die Elemente an den Positionen i und j\n",
    "\n",
    "    sorted_datasets = []  # Initialisiere eine leere Liste, um die sortierten Datensätze zu speichern\n",
    "    n = len(data)  # Die Anzahl der Elemente im Datensatz\n",
    "    for i in range(n):  # Für jedes Element im Datensatz\n",
    "        for j in range(0, n-i-1):  # Für jedes Element, das noch nicht sortiert ist\n",
    "            if data[j] > data[j+1]:  # Wenn das aktuelle Element größer als das nächste Element ist\n",
    "                swap(j, j+1)  # Tausche die beiden Elemente\n",
    "            sorted_datasets.append(data[:])  # Speichere den aktuellen Zustand des Datensatzes\n",
    "    return sorted_datasets  # Gib die Liste der sortierten Datensätze zurück"
   ]
  },
  {
   "cell_type": "code",
   "execution_count": 37,
   "metadata": {},
   "outputs": [],
   "source": [
    "_ = bubble_sort(dataset)"
   ]
  },
  {
   "cell_type": "code",
   "execution_count": 38,
   "metadata": {},
   "outputs": [],
   "source": [
    "for i, data in enumerate(bubble_sort(dataset)):\n",
    "    update_chart(data, i+1,  xlim=[0, n+1], ylim=[0, n+.5], folder_name=\"Sortieralgorithmen/bubble_sort\", name=\"Bubble Sort\")"
   ]
  },
  {
   "cell_type": "markdown",
   "metadata": {},
   "source": [
    "### Insertion Sort"
   ]
  },
  {
   "cell_type": "markdown",
   "metadata": {},
   "source": [
    "Insertion Sort baut das sortierte Array schrittweise auf, indem er jedes Element aus dem unsortierten Teil nimmt und es an der richtigen Stelle im sortierten Teil einfügt.\n",
    "* **Funktionsweise**: Der Algorithmus beginnt mit dem zweiten Element und vergleicht es mit dem ersten Element. Wenn es kleiner ist, wird es vor dem ersten Element eingefügt. Dann wird das dritte Element genommen und mit den beiden ersten verglichen und so weiter. Am Ende jedes Schritts ist der linke Teil des Arrays sortiert.\n",
    "* **Zeitkomplexität**: $O(n²)$ im Durchschnitt und im schlimmsten Fall, aber effizienter als Bubble Sort für teilweise sortierte Daten. Bei fast sortierten Arrays nähert sich die Zeitkomplexität $O(n)$.\n",
    "* **Besonderheiten**: Insertion Sort ist ein In-place-Algorithmus, d.h., er benötigt keinen zusätzlichen Speicherplatz. Er ist einfach zu implementieren und effizient für kleine Datensätze oder fast sortierte Daten."
   ]
  },
  {
   "cell_type": "code",
   "execution_count": 39,
   "metadata": {},
   "outputs": [],
   "source": [
    "# Erzeuge einen zufälligen Datensatz\n",
    "n = 10\n",
    "dataset = random.sample(range(1, n+1), n)"
   ]
  },
  {
   "cell_type": "code",
   "execution_count": 40,
   "metadata": {},
   "outputs": [],
   "source": [
    "def insertion_sort(data):\n",
    "    def insert(j, key):\n",
    "        \"\"\"Verschiebt Elemente nach rechts und fügt das Schlüsselelement an der richtigen Position ein.\"\"\"\n",
    "        while j >= 0 and data[j] > key:  # Solange wir nicht am Anfang des Arrays sind und das aktuelle Element größer als das Schlüsselelement ist\n",
    "            data[j+1] = data[j]  # Verschiebe das aktuelle Element nach rechts\n",
    "            j -= 1  # Gehe zum nächsten Element auf der linken Seite\n",
    "        data[j+1] = key  # Füge das Schlüsselelement an der richtigen Position ein\n",
    "\n",
    "    sorted_datasets = []  # Initialisiere eine leere Liste, um die sortierten Datensätze zu speichern\n",
    "    for i in range(1, len(data)):  # Starte bei der zweiten Position im Array\n",
    "        insert(i - 1, data[i])  # Füge das Element `data[i]` an der richtigen Position ein\n",
    "        sorted_datasets.append(data[:])  # Speichere den aktuellen Zustand des Arrays\n",
    "    return sorted_datasets  # Gib die Liste der sortierten Datensätze zurück"
   ]
  },
  {
   "cell_type": "code",
   "execution_count": 41,
   "metadata": {},
   "outputs": [],
   "source": [
    "for i, data in enumerate(insertion_sort(dataset)):\n",
    "    update_chart(data, i+1,  xlim=[0, n+1], ylim=[0, n+.5], folder_name=\"Sortieralgorithmen/insertion_sort\", name=\"Insertion Sort\")"
   ]
  },
  {
   "cell_type": "markdown",
   "metadata": {},
   "source": [
    "### Selection Sort"
   ]
  },
  {
   "cell_type": "markdown",
   "metadata": {},
   "source": [
    "Selection Sort findet in jedem Durchlauf das kleinste Element im unsortierten Teil des Arrays und tauscht es mit dem ersten Element des unsortierten Teils.\n",
    "* **Funktionsweise**: Der Algorithmus durchläuft das Array und findet das kleinste Element. Dieses wird mit dem ersten Element vertauscht. Dann wird der Vorgang für den restlichen, unsortierten Teil des Arrays wiederholt.\n",
    "* **Zeitkomplexität**: $O(n²)$ in allen Fällen. Die Anzahl der Vergleiche ist unabhängig von der Anordnung der Elemente immer gleich.\n",
    "* **Besonderheiten**: Selection Sort ist einfach zu verstehen, aber ineffizient für große Datensätze. Er führt weniger Vertauschungen durch als Bubble Sort, was bei teuren Vertauschungsoperationen von Vorteil sein kann."
   ]
  },
  {
   "cell_type": "code",
   "execution_count": 42,
   "metadata": {},
   "outputs": [],
   "source": [
    "# Erzeuge einen zufälligen Datensatz\n",
    "n = 10\n",
    "dataset = random.sample(range(1, n+1), n)"
   ]
  },
  {
   "cell_type": "code",
   "execution_count": 43,
   "metadata": {},
   "outputs": [],
   "source": [
    "def selection_sort(data):\n",
    "    def find_min_index(start_index):\n",
    "        \"\"\"Findet den Index des kleinsten Elements ab dem gegebenen Startindex.\"\"\"\n",
    "        min_index = start_index\n",
    "        for j in range(start_index+1, len(data)):\n",
    "            if data[j] < data[min_index]:\n",
    "                min_index = j\n",
    "        return min_index\n",
    "\n",
    "    sorted_datasets = []  # Initialisiere eine leere Liste, um die sortierten Datensätze zu speichern\n",
    "    for i in range(len(data)-1):  # Für jedes Element im Datensatz, außer dem letzten\n",
    "        min_index = find_min_index(i)  # Finde den Index des kleinsten Elements ab dem aktuellen Index\n",
    "        data[i], data[min_index] = data[min_index], data[i]  # Tausche das aktuelle Element mit dem kleinsten Element\n",
    "        sorted_datasets.append(data[:])  # Speichere den aktuellen Zustand des Datensatzes\n",
    "    return sorted_datasets  # Gib die Liste der sortierten Datensätze zurück"
   ]
  },
  {
   "cell_type": "code",
   "execution_count": 44,
   "metadata": {},
   "outputs": [],
   "source": [
    "for i, data in enumerate(selection_sort(dataset)):\n",
    "    update_chart(data, i+1,  xlim=[0, n+1], ylim=[0, n+.5], folder_name=\"Sortieralgorithmen/selection_sort\", name=\"Selection Sort\")"
   ]
  },
  {
   "cell_type": "markdown",
   "metadata": {},
   "source": [
    "### Merge Sort"
   ]
  },
  {
   "cell_type": "markdown",
   "metadata": {},
   "source": [
    "Merge Sort ist ein \"Teile und Herrsche\"-Algorithmus, der das Array rekursiv in zwei Hälften teilt, jede Hälfte sortiert und dann die sortierten Hälften zusammenführt.\n",
    "* **Funktionsweise**: Das Array wird solange halbiert, bis nur noch einzelne Elemente übrig sind. Diese sind trivialerweise sortiert. Dann werden die einzelnen Elemente zu sortierten Paaren zusammengeführt, dann Paare zu Vierergruppen und so weiter, bis das gesamte Array sortiert ist.\n",
    "* **Zeitkomplexität**: $O(n \\cdot log(n))$ in allen Fällen. Die Anzahl der Vergleiche wächst logarithmisch mit der Anzahl der Elemente, was ihn effizient für große Datensätze macht.\n",
    "* **Besonderheiten**: Merge Sort ist ein stabiler Sortieralgorithmus und effizient für große Datensätze. Er benötigt jedoch zusätzlichen Speicherplatz für die temporären Arrays beim Zusammenführen."
   ]
  },
  {
   "cell_type": "code",
   "execution_count": 45,
   "metadata": {},
   "outputs": [],
   "source": [
    "# Erzeuge einen zufälligen Datensatz\n",
    "dataset = random.sample(range(1, n+1), n)"
   ]
  },
  {
   "cell_type": "code",
   "execution_count": 46,
   "metadata": {},
   "outputs": [],
   "source": [
    "import itertools\n",
    "\n",
    "def merge_sort(data):\n",
    "    steps = []  # Liste zur Speicherung der Zwischenschritte\n",
    "\n",
    "    def merge(left, right, start):\n",
    "        result = []  # Ergebnisliste\n",
    "        i = j = 0  # Initialisiere die Indizes für die linke und rechte Liste\n",
    "        # Durchlaufe beide Listen und füge das kleinere Element zur Ergebnisliste hinzu\n",
    "        while i < len(left) and j < len(right):\n",
    "            if left[i] < right[j]:\n",
    "                result.append(left[i])\n",
    "                i += 1\n",
    "            else:\n",
    "                result.append(right[j])\n",
    "                j += 1\n",
    "            # Aktualisiere den entsprechenden Teil des ursprünglichen Arrays und speichere den Schritt\n",
    "            data[start:start+len(result)] = result\n",
    "            steps.append(list(data))\n",
    "\n",
    "        # Füge die verbleibenden Elemente von left oder right hinzu\n",
    "        for value in itertools.chain(left[i:], right[j:]):\n",
    "            result.append(value)\n",
    "            data[start:start+len(result)] = result\n",
    "            steps.append(list(data))\n",
    "\n",
    "        return result  # Gib die sortierte Liste zurück\n",
    "\n",
    "    def sort(data, start=0):\n",
    "        if len(data) <= 1:  # Wenn die Liste nur ein Element enthält, ist sie bereits sortiert\n",
    "            return data\n",
    "        mid = len(data) // 2  # Finde den mittleren Index\n",
    "        left = data[:mid]  # Teile die Liste in zwei Hälften\n",
    "        right = data[mid:]\n",
    "        # Sortiere beide Hälften und führe sie zusammen\n",
    "        return merge(sort(left, start), sort(right, start + mid), start)\n",
    "\n",
    "    sort(data)  # Starte den Sortierprozess\n",
    "    return steps  # Gib die Liste der Zwischenschritte zurück"
   ]
  },
  {
   "cell_type": "code",
   "execution_count": 47,
   "metadata": {},
   "outputs": [],
   "source": [
    "for i, data in enumerate(merge_sort(dataset)):\n",
    "    update_chart(data, i+1,  xlim=[0, n+1], ylim=[0, n+.5], folder_name=\"Sortieralgorithmen/merge_sort\", name=\"Merge Sort\")"
   ]
  },
  {
   "cell_type": "markdown",
   "metadata": {},
   "source": [
    "### Quick Sort"
   ]
  },
  {
   "cell_type": "markdown",
   "metadata": {},
   "source": [
    "Quick Sort ist ein weiterer \"Teile und Herrsche\"-Algorithmus. Er wählt ein Element als \"Pivot\" und partitioniert das Array in zwei Teilbereiche: Elemente kleiner als das Pivot und Elemente größer als das Pivot. Anschließend werden die Teilbereiche rekursiv sortiert.\n",
    "* **Funktionsweise**: Die Wahl des Pivots ist entscheidend für die Effizienz. Im Idealfall teilt das Pivot das Array in zwei gleich große Hälften. Im schlimmsten Fall ist das Pivot das kleinste oder größte Element, was zu einer Zeitkomplexität von $O(n²)$ führt.\n",
    "* **Zeitkomplexität**: $O(n \\cdot log(n))$ im Durchschnitt, $O(n²)$ im schlimmsten Fall (selten).\n",
    "* **Besonderheiten**: Quick Sort ist ein In-place-Algorithmus und oft schneller als Merge Sort in der Praxis. Er ist jedoch nicht stabil."
   ]
  },
  {
   "cell_type": "code",
   "execution_count": 48,
   "metadata": {},
   "outputs": [],
   "source": [
    "# Erzeuge einen zufälligen Datensatz\n",
    "dataset = random.sample(range(1, n+1), n)"
   ]
  },
  {
   "cell_type": "code",
   "execution_count": 49,
   "metadata": {},
   "outputs": [],
   "source": [
    "def quick_sort_visualized(arr):\n",
    "    snapshots = [arr[:]]  # Initialer Snapshot vor Beginn der Sortierung\n",
    "\n",
    "    def _quick_sort(arr, low, high):\n",
    "        if low < high:\n",
    "            pivot_index = partition(arr, low, high)\n",
    "            snapshots.append(arr[:])  # Snapshot nach jeder Swap-Operation\n",
    "            _quick_sort(arr, low, pivot_index - 1)\n",
    "            _quick_sort(arr, pivot_index + 1, high)\n",
    "\n",
    "    def partition(arr, low, high):\n",
    "        pivot = arr[high]\n",
    "        i = low - 1\n",
    "        # Durchlaufe das Array mit Index und Wert\n",
    "        for j, value in enumerate(arr[low:high], low):\n",
    "            if value <= pivot:\n",
    "                i += 1\n",
    "                arr[i], arr[j] = arr[j], arr[i]\n",
    "                snapshots.append(arr[:])  # Snapshot nach jedem Swap\n",
    "        arr[i + 1], arr[high] = arr[high], arr[i + 1]\n",
    "        snapshots.append(arr[:])  # Snapshot nach dem finalen Swap\n",
    "        return i + 1\n",
    "\n",
    "    _quick_sort(arr, 0, len(arr) - 1)\n",
    "    return snapshots"
   ]
  },
  {
   "cell_type": "code",
   "execution_count": 50,
   "metadata": {},
   "outputs": [],
   "source": [
    "for i, data in enumerate(quick_sort_visualized(dataset)):\n",
    "    update_chart(data, i+1,  xlim=[0, n+1], ylim=[0, n+.5], folder_name=\"Sortieralgorithmen/quick_sort\", name=\"Quick Sort\")"
   ]
  },
  {
   "cell_type": "markdown",
   "metadata": {},
   "source": [
    "### Heap Sort"
   ]
  },
  {
   "cell_type": "markdown",
   "metadata": {},
   "source": [
    "Heap Sort nutzt eine spezielle Datenstruktur namens Heap, um das Array zu sortieren. Ein Heap ist ein binärer Baum, in dem jeder Knoten größer (oder kleiner, je nach Implementierung) ist als seine Kinder.\n",
    "* **Funktionsweise**: Der Heap Sort Algorithmus beginnt mit der Umwandlung des Arrays in einen Heap. Dann wird das größte Element (die Wurzel des Heaps) entfernt und an das Ende des Arrays gestellt. Dieser Prozess wird wiederholt, bis das gesamte Array sortiert ist. Nach jedem Entfernen wird der Heap wiederhergestellt, um die Heap-Eigenschaft zu erhalten.\n",
    "* **Zeitkomplexität**: Die Zeitkomplexität von Heap Sort ist $O(n \\cdot log(n))$ in allen Fällen. Dies liegt daran, dass das Erstellen des Heaps $O(n)$ Zeit benötigt und das Entfernen jedes Elements $O(log(n))$ Zeit benötigt.\n",
    "* **Besonderheiten**: Heap Sort ist ein In-place-Algorithmus, was bedeutet, dass er keinen zusätzlichen Speicherplatz benötigt. Er garantiert eine Zeitkomplexität von $O(n \\cdot log(n))$, unabhängig von der Anordnung der Elemente. Ein Nachteil von Heap Sort ist, dass er komplexer zu implementieren ist als andere Sortieralgorithmen wie Quick Sort oder Merge Sort."
   ]
  },
  {
   "cell_type": "code",
   "execution_count": 69,
   "metadata": {},
   "outputs": [],
   "source": [
    "# Erzeuge einen zufälligen Datensatz\n",
    "n = 50\n",
    "dataset = random.sample(range(1, n+1), n)"
   ]
  },
  {
   "cell_type": "code",
   "execution_count": 70,
   "metadata": {},
   "outputs": [],
   "source": [
    "def heapify(arr, n, i, snapshots):\n",
    "    \"\"\"\n",
    "    Hilfsfunktion, um den Heap an der Position i wiederherzustellen.\n",
    "    \"\"\"\n",
    "    largest = i  # Größtes Element initialisieren\n",
    "\n",
    "    # Überprüfen, ob das linke oder rechte Kind größer ist als die Wurzel\n",
    "    for j in [2 * i + 1, 2 * i + 2]:  # j ist das linke und dann das rechte Kind\n",
    "        if j < n and arr[largest] < arr[j]:\n",
    "            largest = j\n",
    "\n",
    "    # Wenn das größte Element nicht die Wurzel ist, tauschen und rekursiv heapify aufrufen\n",
    "    if largest != i:\n",
    "        arr[i], arr[largest] = arr[largest], arr[i]\n",
    "        snapshots.append(arr.copy())  # Snapshot speichern\n",
    "        heapify(arr, n, largest, snapshots)\n",
    "\n",
    "def heap_sort(arr):\n",
    "    \"\"\"\n",
    "    Implementiert Heap Sort und gibt eine Liste von Arrays zurück,\n",
    "    die den Sortierverlauf darstellen.\n",
    "    \"\"\"\n",
    "    n = len(arr)\n",
    "    snapshots = [arr.copy()]  # Initialen Zustand speichern\n",
    "\n",
    "    # Heap erstellen (Bottom-up)\n",
    "    for i in range(n // 2 - 1, -1, -1):\n",
    "        heapify(arr, n, i, snapshots)\n",
    "\n",
    "    # Ein Element nach dem anderen aus dem Heap entfernen und an die richtige Stelle setzen\n",
    "    for i in range(n - 1, 0, -1):\n",
    "        arr[i], arr[0] = arr[0], arr[i]  # Tausche Wurzel mit letztem Element\n",
    "        snapshots.append(arr.copy())  # Snapshot speichern\n",
    "        heapify(arr, i, 0, snapshots)  # Heap wiederherstellen\n",
    "\n",
    "    return snapshots"
   ]
  },
  {
   "cell_type": "code",
   "execution_count": 71,
   "metadata": {},
   "outputs": [
    {
     "ename": "KeyboardInterrupt",
     "evalue": "",
     "output_type": "error",
     "traceback": [
      "\u001b[1;31m---------------------------------------------------------------------------\u001b[0m",
      "\u001b[1;31mKeyboardInterrupt\u001b[0m                         Traceback (most recent call last)",
      "Cell \u001b[1;32mIn[71], line 2\u001b[0m\n\u001b[0;32m      1\u001b[0m \u001b[38;5;28;01mfor\u001b[39;00m i, data \u001b[38;5;129;01min\u001b[39;00m \u001b[38;5;28menumerate\u001b[39m(heap_sort(dataset)):\n\u001b[1;32m----> 2\u001b[0m     \u001b[43mupdate_chart\u001b[49m\u001b[43m(\u001b[49m\u001b[43mdata\u001b[49m\u001b[43m,\u001b[49m\u001b[43m \u001b[49m\u001b[43mi\u001b[49m\u001b[38;5;241;43m+\u001b[39;49m\u001b[38;5;241;43m1\u001b[39;49m\u001b[43m,\u001b[49m\u001b[43m \u001b[49m\u001b[43mxlim\u001b[49m\u001b[38;5;241;43m=\u001b[39;49m\u001b[43m[\u001b[49m\u001b[38;5;241;43m0\u001b[39;49m\u001b[43m,\u001b[49m\u001b[43m \u001b[49m\u001b[43mn\u001b[49m\u001b[38;5;241;43m+\u001b[39;49m\u001b[38;5;241;43m1\u001b[39;49m\u001b[43m]\u001b[49m\u001b[43m,\u001b[49m\u001b[43m \u001b[49m\u001b[43mylim\u001b[49m\u001b[38;5;241;43m=\u001b[39;49m\u001b[43m[\u001b[49m\u001b[38;5;241;43m0\u001b[39;49m\u001b[43m,\u001b[49m\u001b[43m \u001b[49m\u001b[43mn\u001b[49m\u001b[38;5;241;43m+\u001b[39;49m\u001b[38;5;241;43m.5\u001b[39;49m\u001b[43m]\u001b[49m\u001b[43m,\u001b[49m\u001b[43m \u001b[49m\u001b[43mfolder_name\u001b[49m\u001b[38;5;241;43m=\u001b[39;49m\u001b[38;5;124;43m\"\u001b[39;49m\u001b[38;5;124;43mSortieralgorithmen/Heap_sort\u001b[39;49m\u001b[38;5;124;43m\"\u001b[39;49m\u001b[43m,\u001b[49m\u001b[43m \u001b[49m\u001b[43mname\u001b[49m\u001b[38;5;241;43m=\u001b[39;49m\u001b[38;5;124;43m\"\u001b[39;49m\u001b[38;5;124;43mHeap Sort\u001b[39;49m\u001b[38;5;124;43m\"\u001b[39;49m\u001b[43m)\u001b[49m\n",
      "Cell \u001b[1;32mIn[33], line 9\u001b[0m, in \u001b[0;36mupdate_chart\u001b[1;34m(data, iteration, xlim, ylim, folder_name, name)\u001b[0m\n\u001b[0;32m      7\u001b[0m colors \u001b[38;5;241m=\u001b[39m [cmap(x\u001b[38;5;241m/\u001b[39mi) \u001b[38;5;28;01mfor\u001b[39;00m x \u001b[38;5;129;01min\u001b[39;00m data]\n\u001b[0;32m      8\u001b[0m plt\u001b[38;5;241m.\u001b[39mbar(\u001b[38;5;28mrange\u001b[39m(\u001b[38;5;241m1\u001b[39m, i\u001b[38;5;241m+\u001b[39m\u001b[38;5;241m1\u001b[39m), data, color\u001b[38;5;241m=\u001b[39mcolors)\n\u001b[1;32m----> 9\u001b[0m \u001b[43mplt\u001b[49m\u001b[38;5;241;43m.\u001b[39;49m\u001b[43mxlim\u001b[49m\u001b[43m(\u001b[49m\u001b[43mxlim\u001b[49m\u001b[43m)\u001b[49m\n\u001b[0;32m     10\u001b[0m plt\u001b[38;5;241m.\u001b[39mylim(ylim)\n\u001b[0;32m     11\u001b[0m plt\u001b[38;5;241m.\u001b[39mxticks([])\n",
      "File \u001b[1;32mc:\\Users\\gutsc\\anaconda3\\envs\\tf_GPU\\lib\\site-packages\\matplotlib\\pyplot.py:1794\u001b[0m, in \u001b[0;36mxlim\u001b[1;34m(*args, **kwargs)\u001b[0m\n\u001b[0;32m   1792\u001b[0m \u001b[38;5;28;01mif\u001b[39;00m \u001b[38;5;129;01mnot\u001b[39;00m args \u001b[38;5;129;01mand\u001b[39;00m \u001b[38;5;129;01mnot\u001b[39;00m kwargs:\n\u001b[0;32m   1793\u001b[0m     \u001b[38;5;28;01mreturn\u001b[39;00m ax\u001b[38;5;241m.\u001b[39mget_xlim()\n\u001b[1;32m-> 1794\u001b[0m ret \u001b[38;5;241m=\u001b[39m ax\u001b[38;5;241m.\u001b[39mset_xlim(\u001b[38;5;241m*\u001b[39margs, \u001b[38;5;241m*\u001b[39m\u001b[38;5;241m*\u001b[39mkwargs)\n\u001b[0;32m   1795\u001b[0m \u001b[38;5;28;01mreturn\u001b[39;00m ret\n",
      "File \u001b[1;32mc:\\Users\\gutsc\\anaconda3\\envs\\tf_GPU\\lib\\site-packages\\matplotlib\\_api\\deprecation.py:454\u001b[0m, in \u001b[0;36mmake_keyword_only.<locals>.wrapper\u001b[1;34m(*args, **kwargs)\u001b[0m\n\u001b[0;32m    448\u001b[0m \u001b[38;5;28;01mif\u001b[39;00m \u001b[38;5;28mlen\u001b[39m(args) \u001b[38;5;241m>\u001b[39m name_idx:\n\u001b[0;32m    449\u001b[0m     warn_deprecated(\n\u001b[0;32m    450\u001b[0m         since, message\u001b[38;5;241m=\u001b[39m\u001b[38;5;124m\"\u001b[39m\u001b[38;5;124mPassing the \u001b[39m\u001b[38;5;132;01m%(name)s\u001b[39;00m\u001b[38;5;124m \u001b[39m\u001b[38;5;132;01m%(obj_type)s\u001b[39;00m\u001b[38;5;124m \u001b[39m\u001b[38;5;124m\"\u001b[39m\n\u001b[0;32m    451\u001b[0m         \u001b[38;5;124m\"\u001b[39m\u001b[38;5;124mpositionally is deprecated since Matplotlib \u001b[39m\u001b[38;5;132;01m%(since)s\u001b[39;00m\u001b[38;5;124m; the \u001b[39m\u001b[38;5;124m\"\u001b[39m\n\u001b[0;32m    452\u001b[0m         \u001b[38;5;124m\"\u001b[39m\u001b[38;5;124mparameter will become keyword-only \u001b[39m\u001b[38;5;132;01m%(removal)s\u001b[39;00m\u001b[38;5;124m.\u001b[39m\u001b[38;5;124m\"\u001b[39m,\n\u001b[0;32m    453\u001b[0m         name\u001b[38;5;241m=\u001b[39mname, obj_type\u001b[38;5;241m=\u001b[39m\u001b[38;5;124mf\u001b[39m\u001b[38;5;124m\"\u001b[39m\u001b[38;5;124mparameter of \u001b[39m\u001b[38;5;132;01m{\u001b[39;00mfunc\u001b[38;5;241m.\u001b[39m\u001b[38;5;18m__name__\u001b[39m\u001b[38;5;132;01m}\u001b[39;00m\u001b[38;5;124m()\u001b[39m\u001b[38;5;124m\"\u001b[39m)\n\u001b[1;32m--> 454\u001b[0m \u001b[38;5;28;01mreturn\u001b[39;00m func(\u001b[38;5;241m*\u001b[39margs, \u001b[38;5;241m*\u001b[39m\u001b[38;5;241m*\u001b[39mkwargs)\n",
      "File \u001b[1;32mc:\\Users\\gutsc\\anaconda3\\envs\\tf_GPU\\lib\\site-packages\\matplotlib\\axes\\_base.py:3650\u001b[0m, in \u001b[0;36m_AxesBase.set_xlim\u001b[1;34m(self, left, right, emit, auto, xmin, xmax)\u001b[0m\n\u001b[0;32m   3648\u001b[0m         \u001b[38;5;28;01mraise\u001b[39;00m \u001b[38;5;167;01mTypeError\u001b[39;00m(\u001b[38;5;124m\"\u001b[39m\u001b[38;5;124mCannot pass both \u001b[39m\u001b[38;5;124m'\u001b[39m\u001b[38;5;124mright\u001b[39m\u001b[38;5;124m'\u001b[39m\u001b[38;5;124m and \u001b[39m\u001b[38;5;124m'\u001b[39m\u001b[38;5;124mxmax\u001b[39m\u001b[38;5;124m'\u001b[39m\u001b[38;5;124m\"\u001b[39m)\n\u001b[0;32m   3649\u001b[0m     right \u001b[38;5;241m=\u001b[39m xmax\n\u001b[1;32m-> 3650\u001b[0m \u001b[38;5;28;01mreturn\u001b[39;00m \u001b[38;5;28;43mself\u001b[39;49m\u001b[38;5;241;43m.\u001b[39;49m\u001b[43mxaxis\u001b[49m\u001b[38;5;241;43m.\u001b[39;49m\u001b[43m_set_lim\u001b[49m\u001b[43m(\u001b[49m\u001b[43mleft\u001b[49m\u001b[43m,\u001b[49m\u001b[43m \u001b[49m\u001b[43mright\u001b[49m\u001b[43m,\u001b[49m\u001b[43m \u001b[49m\u001b[43memit\u001b[49m\u001b[38;5;241;43m=\u001b[39;49m\u001b[43memit\u001b[49m\u001b[43m,\u001b[49m\u001b[43m \u001b[49m\u001b[43mauto\u001b[49m\u001b[38;5;241;43m=\u001b[39;49m\u001b[43mauto\u001b[49m\u001b[43m)\u001b[49m\n",
      "File \u001b[1;32mc:\\Users\\gutsc\\anaconda3\\envs\\tf_GPU\\lib\\site-packages\\matplotlib\\axis.py:1217\u001b[0m, in \u001b[0;36mAxis._set_lim\u001b[1;34m(self, v0, v1, emit, auto)\u001b[0m\n\u001b[0;32m   1214\u001b[0m v0, v1 \u001b[38;5;241m=\u001b[39m \u001b[38;5;28mself\u001b[39m\u001b[38;5;241m.\u001b[39mlimit_range_for_scale(v0, v1)\n\u001b[0;32m   1215\u001b[0m v0, v1 \u001b[38;5;241m=\u001b[39m \u001b[38;5;28msorted\u001b[39m([v0, v1], reverse\u001b[38;5;241m=\u001b[39m\u001b[38;5;28mbool\u001b[39m(reverse))\n\u001b[1;32m-> 1217\u001b[0m \u001b[38;5;28;43mself\u001b[39;49m\u001b[38;5;241;43m.\u001b[39;49m\u001b[43mset_view_interval\u001b[49m\u001b[43m(\u001b[49m\u001b[43mv0\u001b[49m\u001b[43m,\u001b[49m\u001b[43m \u001b[49m\u001b[43mv1\u001b[49m\u001b[43m,\u001b[49m\u001b[43m \u001b[49m\u001b[43mignore\u001b[49m\u001b[38;5;241;43m=\u001b[39;49m\u001b[38;5;28;43;01mTrue\u001b[39;49;00m\u001b[43m)\u001b[49m\n\u001b[0;32m   1218\u001b[0m \u001b[38;5;66;03m# Mark viewlims as no longer stale without triggering an autoscale.\u001b[39;00m\n\u001b[0;32m   1219\u001b[0m \u001b[38;5;28;01mfor\u001b[39;00m ax \u001b[38;5;129;01min\u001b[39;00m \u001b[38;5;28mself\u001b[39m\u001b[38;5;241m.\u001b[39maxes\u001b[38;5;241m.\u001b[39m_shared_axes[name]\u001b[38;5;241m.\u001b[39mget_siblings(\u001b[38;5;28mself\u001b[39m\u001b[38;5;241m.\u001b[39maxes):\n",
      "File \u001b[1;32mc:\\Users\\gutsc\\anaconda3\\envs\\tf_GPU\\lib\\site-packages\\matplotlib\\axis.py:2211\u001b[0m, in \u001b[0;36m_make_getset_interval.<locals>.setter\u001b[1;34m(self, vmin, vmax, ignore)\u001b[0m\n\u001b[0;32m   2208\u001b[0m \u001b[38;5;28;01mdef\u001b[39;00m \u001b[38;5;21msetter\u001b[39m(\u001b[38;5;28mself\u001b[39m, vmin, vmax, ignore\u001b[38;5;241m=\u001b[39m\u001b[38;5;28;01mFalse\u001b[39;00m):\n\u001b[0;32m   2209\u001b[0m     \u001b[38;5;66;03m# docstring inherited.\u001b[39;00m\n\u001b[0;32m   2210\u001b[0m     \u001b[38;5;28;01mif\u001b[39;00m ignore:\n\u001b[1;32m-> 2211\u001b[0m         \u001b[38;5;28msetattr\u001b[39m(\u001b[38;5;28;43mgetattr\u001b[39;49m\u001b[43m(\u001b[49m\u001b[38;5;28;43mself\u001b[39;49m\u001b[38;5;241;43m.\u001b[39;49m\u001b[43maxes\u001b[49m\u001b[43m,\u001b[49m\u001b[43m \u001b[49m\u001b[43mlim_name\u001b[49m\u001b[43m)\u001b[49m, attr_name, (vmin, vmax))\n\u001b[0;32m   2212\u001b[0m     \u001b[38;5;28;01melse\u001b[39;00m:\n\u001b[0;32m   2213\u001b[0m         oldmin, oldmax \u001b[38;5;241m=\u001b[39m getter(\u001b[38;5;28mself\u001b[39m)\n",
      "File \u001b[1;32mc:\\Users\\gutsc\\anaconda3\\envs\\tf_GPU\\lib\\site-packages\\matplotlib\\axes\\_base.py:857\u001b[0m, in \u001b[0;36m_AxesBase.viewLim\u001b[1;34m(self)\u001b[0m\n\u001b[0;32m    855\u001b[0m \u001b[38;5;129m@property\u001b[39m\n\u001b[0;32m    856\u001b[0m \u001b[38;5;28;01mdef\u001b[39;00m \u001b[38;5;21mviewLim\u001b[39m(\u001b[38;5;28mself\u001b[39m):\n\u001b[1;32m--> 857\u001b[0m     \u001b[38;5;28;43mself\u001b[39;49m\u001b[38;5;241;43m.\u001b[39;49m\u001b[43m_unstale_viewLim\u001b[49m\u001b[43m(\u001b[49m\u001b[43m)\u001b[49m\n\u001b[0;32m    858\u001b[0m     \u001b[38;5;28;01mreturn\u001b[39;00m \u001b[38;5;28mself\u001b[39m\u001b[38;5;241m.\u001b[39m_viewLim\n",
      "File \u001b[1;32mc:\\Users\\gutsc\\anaconda3\\envs\\tf_GPU\\lib\\site-packages\\matplotlib\\axes\\_base.py:852\u001b[0m, in \u001b[0;36m_AxesBase._unstale_viewLim\u001b[1;34m(self)\u001b[0m\n\u001b[0;32m    850\u001b[0m     \u001b[38;5;28;01mfor\u001b[39;00m ax \u001b[38;5;129;01min\u001b[39;00m \u001b[38;5;28mself\u001b[39m\u001b[38;5;241m.\u001b[39m_shared_axes[name]\u001b[38;5;241m.\u001b[39mget_siblings(\u001b[38;5;28mself\u001b[39m):\n\u001b[0;32m    851\u001b[0m         ax\u001b[38;5;241m.\u001b[39m_stale_viewlims[name] \u001b[38;5;241m=\u001b[39m \u001b[38;5;28;01mFalse\u001b[39;00m\n\u001b[1;32m--> 852\u001b[0m \u001b[38;5;28mself\u001b[39m\u001b[38;5;241m.\u001b[39mautoscale_view(\u001b[38;5;241m*\u001b[39m\u001b[38;5;241m*\u001b[39m{\u001b[38;5;124mf\u001b[39m\u001b[38;5;124m\"\u001b[39m\u001b[38;5;124mscale\u001b[39m\u001b[38;5;132;01m{\u001b[39;00mname\u001b[38;5;132;01m}\u001b[39;00m\u001b[38;5;124m\"\u001b[39m: scale\n\u001b[0;32m    853\u001b[0m                        \u001b[38;5;28;01mfor\u001b[39;00m name, scale \u001b[38;5;129;01min\u001b[39;00m need_scale\u001b[38;5;241m.\u001b[39mitems()})\n",
      "File \u001b[1;32mc:\\Users\\gutsc\\anaconda3\\envs\\tf_GPU\\lib\\site-packages\\matplotlib\\axes\\_base.py:2854\u001b[0m, in \u001b[0;36m_AxesBase.autoscale_view\u001b[1;34m(self, tight, scalex, scaley)\u001b[0m\n\u001b[0;32m   2852\u001b[0m \u001b[38;5;28;01mif\u001b[39;00m \u001b[38;5;28mself\u001b[39m\u001b[38;5;241m.\u001b[39muse_sticky_edges:\n\u001b[0;32m   2853\u001b[0m     \u001b[38;5;28;01mif\u001b[39;00m \u001b[38;5;28mself\u001b[39m\u001b[38;5;241m.\u001b[39m_xmargin \u001b[38;5;129;01mand\u001b[39;00m scalex \u001b[38;5;129;01mand\u001b[39;00m \u001b[38;5;28mself\u001b[39m\u001b[38;5;241m.\u001b[39mget_autoscalex_on():\n\u001b[1;32m-> 2854\u001b[0m         x_stickies \u001b[38;5;241m=\u001b[39m np\u001b[38;5;241m.\u001b[39msort(\u001b[43mnp\u001b[49m\u001b[38;5;241;43m.\u001b[39;49m\u001b[43mconcatenate\u001b[49m\u001b[43m(\u001b[49m\u001b[43m[\u001b[49m\n\u001b[0;32m   2855\u001b[0m \u001b[43m            \u001b[49m\u001b[43martist\u001b[49m\u001b[38;5;241;43m.\u001b[39;49m\u001b[43msticky_edges\u001b[49m\u001b[38;5;241;43m.\u001b[39;49m\u001b[43mx\u001b[49m\n\u001b[0;32m   2856\u001b[0m \u001b[43m            \u001b[49m\u001b[38;5;28;43;01mfor\u001b[39;49;00m\u001b[43m \u001b[49m\u001b[43max\u001b[49m\u001b[43m \u001b[49m\u001b[38;5;129;43;01min\u001b[39;49;00m\u001b[43m \u001b[49m\u001b[38;5;28;43mself\u001b[39;49m\u001b[38;5;241;43m.\u001b[39;49m\u001b[43m_shared_axes\u001b[49m\u001b[43m[\u001b[49m\u001b[38;5;124;43m\"\u001b[39;49m\u001b[38;5;124;43mx\u001b[39;49m\u001b[38;5;124;43m\"\u001b[39;49m\u001b[43m]\u001b[49m\u001b[38;5;241;43m.\u001b[39;49m\u001b[43mget_siblings\u001b[49m\u001b[43m(\u001b[49m\u001b[38;5;28;43mself\u001b[39;49m\u001b[43m)\u001b[49m\n\u001b[0;32m   2857\u001b[0m \u001b[43m            \u001b[49m\u001b[38;5;28;43;01mfor\u001b[39;49;00m\u001b[43m \u001b[49m\u001b[43martist\u001b[49m\u001b[43m \u001b[49m\u001b[38;5;129;43;01min\u001b[39;49;00m\u001b[43m \u001b[49m\u001b[43max\u001b[49m\u001b[38;5;241;43m.\u001b[39;49m\u001b[43mget_children\u001b[49m\u001b[43m(\u001b[49m\u001b[43m)\u001b[49m\u001b[43m]\u001b[49m\u001b[43m)\u001b[49m)\n\u001b[0;32m   2858\u001b[0m     \u001b[38;5;28;01mif\u001b[39;00m \u001b[38;5;28mself\u001b[39m\u001b[38;5;241m.\u001b[39m_ymargin \u001b[38;5;129;01mand\u001b[39;00m scaley \u001b[38;5;129;01mand\u001b[39;00m \u001b[38;5;28mself\u001b[39m\u001b[38;5;241m.\u001b[39mget_autoscaley_on():\n\u001b[0;32m   2859\u001b[0m         y_stickies \u001b[38;5;241m=\u001b[39m np\u001b[38;5;241m.\u001b[39msort(np\u001b[38;5;241m.\u001b[39mconcatenate([\n\u001b[0;32m   2860\u001b[0m             artist\u001b[38;5;241m.\u001b[39msticky_edges\u001b[38;5;241m.\u001b[39my\n\u001b[0;32m   2861\u001b[0m             \u001b[38;5;28;01mfor\u001b[39;00m ax \u001b[38;5;129;01min\u001b[39;00m \u001b[38;5;28mself\u001b[39m\u001b[38;5;241m.\u001b[39m_shared_axes[\u001b[38;5;124m\"\u001b[39m\u001b[38;5;124my\u001b[39m\u001b[38;5;124m\"\u001b[39m]\u001b[38;5;241m.\u001b[39mget_siblings(\u001b[38;5;28mself\u001b[39m)\n\u001b[0;32m   2862\u001b[0m             \u001b[38;5;28;01mfor\u001b[39;00m artist \u001b[38;5;129;01min\u001b[39;00m ax\u001b[38;5;241m.\u001b[39mget_children()]))\n",
      "File \u001b[1;32m<__array_function__ internals>:180\u001b[0m, in \u001b[0;36mconcatenate\u001b[1;34m(*args, **kwargs)\u001b[0m\n",
      "\u001b[1;31mKeyboardInterrupt\u001b[0m: "
     ]
    },
    {
     "data": {
      "image/png": "[encoded data removed]",
      "text/plain": [
       "<Figure size 640x480 with 1 Axes>"
      ]
     },
     "metadata": {},
     "output_type": "display_data"
    }
   ],
   "source": [
    "for i, data in enumerate(heap_sort(dataset)):\n",
    "    update_chart(data, i+1, xlim=[0, n+1], ylim=[0, n+.5], folder_name=\"Sortieralgorithmen/Heap_sort\", name=\"Heap Sort\")"
   ]
  },
  {
   "cell_type": "markdown",
   "metadata": {},
   "source": [
    "### Radix Sort"
   ]
  },
  {
   "cell_type": "markdown",
   "metadata": {},
   "source": [
    "Radix Sort sortiert Zahlen nach ihren einzelnen Ziffern, beginnend mit der niedrigsten Stelle (Einerstelle).\n",
    "* **Funktionsweise**: In jedem Durchlauf werden die Zahlen in \"Buckets\" einsortiert, je nachdem, welche Ziffer sie an der aktuellen Stelle haben. Dann werden die Buckets in der richtigen Reihenfolge wieder zusammengefügt. Dieser Vorgang wird für jede Stelle wiederholt, bis alle Stellen sortiert sind.\n",
    "* **Zeitkomplexität**: $O(nk)$, wobei n die Anzahl der Elemente und k die maximale Anzahl von Stellen ist.\n",
    "* **Besonderheiten**: Radix Sort ist effizient für ganze Zahlen mit begrenzter Stellenanzahl. Er ist kein vergleichsbasierter Algorithmus, sondern nutzt die Verteilung der Ziffern."
   ]
  },
  {
   "cell_type": "code",
   "execution_count": 54,
   "metadata": {},
   "outputs": [],
   "source": [
    "# Erzeuge einen zufälligen Datensatz\n",
    "n=50\n",
    "dataset = random.sample(range(1, n+1), n)"
   ]
  },
  {
   "cell_type": "code",
   "execution_count": 55,
   "metadata": {},
   "outputs": [],
   "source": [
    "def flatten_and_fill(buckets, arr_length):\n",
    "    \"\"\"\n",
    "    Flacht die Buckets ab und füllt fehlende Werte mit Nullen auf.\n",
    "    \"\"\"\n",
    "    flattened = [item for sublist in buckets for item in sublist]\n",
    "    return flattened + [0] * (arr_length - len(flattened))\n",
    "\n",
    "def radix_sort(arr):\n",
    "    \"\"\"\n",
    "    Implementiert den Radix Sort Algorithmus und gibt eine Liste von Arrays zurück,\n",
    "    die jeden einzelnen Sortierschritt darstellen.\n",
    "    \"\"\"\n",
    "    max_value = max(arr)\n",
    "    exp = 1\n",
    "    snapshots = [arr.copy()]  # Initialer Zustand\n",
    "\n",
    "    while max_value // exp > 0:\n",
    "        buckets = [[] for _ in range(10)]\n",
    "        for num in arr:\n",
    "            digit = (num // exp) % 10\n",
    "            buckets[digit].append(num)\n",
    "            snapshots.append(flatten_and_fill(buckets, len(arr)))  # Save the snapshot\n",
    "\n",
    "        arr = [num for bucket in buckets for num in bucket]\n",
    "        exp *= 10\n",
    "\n",
    "    return snapshots"
   ]
  },
  {
   "cell_type": "code",
   "execution_count": 56,
   "metadata": {},
   "outputs": [],
   "source": [
    "for i, data in enumerate(radix_sort(dataset)):\n",
    "    update_chart(data, i+1,  xlim=[0, n+1], ylim=[0, n+.5], folder_name=\"Sortieralgorithmen/radix_sort\", name=\"Radix Sort\")"
   ]
  },
  {
   "cell_type": "markdown",
   "metadata": {},
   "source": [
    "### Bogo Sort"
   ]
  },
  {
   "cell_type": "markdown",
   "metadata": {},
   "source": [
    "Bogo Sort ist ein ineffizienter und nicht-deterministischer Sortieralgorithmus. Er funktioniert, indem er das Array zufällig mischt und dann überprüft, ob es sortiert ist. Dieser Vorgang wird wiederholt, bis das Array zufällig in die richtige Reihenfolge gebracht wird. Aus diesem Grund habe ich die größe des Datensatzes verkleinert.\n",
    "* **Funktionsweise**: Der Algorithmus mischt das Array wiederholt, bis es zufällig sortiert ist. Es gibt keine Garantie dafür, wie lange dies dauern wird. Im schlimmsten Fall kann es unendlich lange dauern.\n",
    "* **Zeitkomplexität**: Im Durchschnitt und im schlimmsten Fall unendlich, da keine Garantie für eine Beendigung besteht.\n",
    "* **Besonderheiten**: Bogo Sort ist extrem ineffizient und unpraktisch. Er dient nur als humorvolles Beispiel für einen schlechten Algorithmus."
   ]
  },
  {
   "cell_type": "code",
   "execution_count": 57,
   "metadata": {},
   "outputs": [
    {
     "name": "stdout",
     "output_type": "stream",
     "text": [
      "[5, 4, 1, 3, 2]\n"
     ]
    }
   ],
   "source": [
    "# Erzeuge einen zufälligen Datensatz\n",
    "n = 5\n",
    "dataset = random.sample(range(1, n+1), n)\n",
    "print(dataset)"
   ]
  },
  {
   "cell_type": "code",
   "execution_count": 58,
   "metadata": {},
   "outputs": [],
   "source": [
    "import random\n",
    "\n",
    "def bogo_sort(data):\n",
    "    steps = []  # Initialisiere eine Liste, um die Schritte des Sortierprozesses zu speichern\n",
    "\n",
    "    # Wiederhole den Prozess, bis das Array sortiert ist\n",
    "    while not all(data[i] <= data[i+1] for i in range(len(data)-1)):\n",
    "        steps.append(list(data))  # Füge den aktuellen Zustand des Arrays zu den Schritten hinzu\n",
    "        random.shuffle(data)  # Mische das Array zufällig\n",
    "\n",
    "    steps.append(list(data))  # Füge das endgültig sortierte Array zu den Schritten hinzu\n",
    "\n",
    "    return steps  # Gebe die Liste der Schritte zurück"
   ]
  },
  {
   "cell_type": "code",
   "execution_count": 59,
   "metadata": {},
   "outputs": [],
   "source": [
    "for i, data in enumerate(bogo_sort(dataset)):\n",
    "    update_chart(data, i+1,  xlim=[0, n+1], ylim=[0, n+.5], folder_name=\"Sortieralgorithmen/bogo_sort\", name=\"Bogo Sort\")"
   ]
  },
  {
   "cell_type": "markdown",
   "metadata": {},
   "source": [
    "### Sleep Sort"
   ]
  },
  {
   "cell_type": "markdown",
   "metadata": {},
   "source": [
    "Sleep Sort ist ein unkonventioneller und ineffizienter Sortieralgorithmus, der auf der Idee basiert, dass jeder Thread für eine Zeit \"schläft\", die proportional zum Wert des Elements ist. Auch hier verzichte darauf, einen großen Datensatz zu verwenden.\n",
    "* **Funktionsweise**: Für jedes Element im Array wird ein Thread gestartet. Jeder Thread schläft für eine Zeit, die dem Wert des Elements entspricht. Wenn ein Thread aufwacht, gibt er sein Element aus. Da die Threads mit kleineren Werten zuerst aufwachen, werden die Elemente in sortierter Reihenfolge ausgegeben.\n",
    "* **Zeitkomplexität**: $O(n + max(arr))$, wobei $max(arr)$ das größte Element im Array ist.\n",
    "* **Besonderheiten**: Sleep Sort ist nicht deterministisch, da die Reihenfolge der Ausgabe bei gleichen Elementen variieren kann. Er ist ineffizient und dient eher als Kuriosität."
   ]
  },
  {
   "cell_type": "code",
   "execution_count": 60,
   "metadata": {},
   "outputs": [],
   "source": [
    "# Erzeuge einen zufälligen Datensatz\n",
    "n = 10\n",
    "dataset = random.sample(range(1, n+1), n)"
   ]
  },
  {
   "cell_type": "code",
   "execution_count": 63,
   "metadata": {},
   "outputs": [],
   "source": [
    "import time\n",
    "import threading\n",
    "\n",
    "def sleep_sort(data):\n",
    "    \n",
    "    sorted_data = [0] * len(data)  # Initialize sorted_data with zeros\n",
    "    all_steps = []  # Initialize the list to store all steps\n",
    "    index = 0  # Initialize index\n",
    "    \n",
    "    def sleep_func(x):\n",
    "        nonlocal index  # Declare index as nonlocal so it can be modified inside this function\n",
    "        time.sleep(x/10)\n",
    "        sorted_data[index] = x  # Insert the element at the current index\n",
    "        index += 1  # Increment the index\n",
    "        all_steps.append(list(sorted_data))  # Append the current state of sorted_data to all_steps\n",
    "    \n",
    "    threads = []\n",
    "    for num in data:\n",
    "        t = threading.Thread(target=sleep_func, args=(num,))\n",
    "        threads.append(t)\n",
    "        t.start()\n",
    "    \n",
    "    for t in threads:\n",
    "        t.join()\n",
    "    \n",
    "    return all_steps  # Return the list of all steps"
   ]
  },
  {
   "cell_type": "code",
   "execution_count": null,
   "metadata": {},
   "outputs": [],
   "source": []
  },
  {
   "cell_type": "code",
   "execution_count": 65,
   "metadata": {},
   "outputs": [],
   "source": [
    "for i, data in enumerate(sleep_sort(dataset)):\n",
    "    update_chart(data, i+1, xlim=[0, n+1], ylim=[0, n+.5], folder_name=\"Sortieralgorithmen/sleep_sort\", name=\"Sleep Sort\")"
   ]
  },
  {
   "cell_type": "markdown",
   "metadata": {},
   "source": [
    "Es gibt noch viele weitere Sortieralgorithmen. Und den einen oder anderen werde ich vielleicht noch ergänzen."
   ]
  },
  {
   "cell_type": "markdown",
   "metadata": {},
   "source": [
    "## Gifs erstellen"
   ]
  },
  {
   "cell_type": "code",
   "execution_count": 66,
   "metadata": {},
   "outputs": [],
   "source": [
    "import os\n",
    "import imageio"
   ]
  },
  {
   "cell_type": "code",
   "execution_count": 67,
   "metadata": {},
   "outputs": [],
   "source": [
    "from PIL import Image\n",
    "import os\n",
    "\n",
    "def calculate_duration(num_images, min_images=25, min_duration=50, max_duration=500, max_images=5000):\n",
    "    if num_images < min_images:  # Wenn die Anzahl der Bilder kleiner als min_images ist\n",
    "        duration = max_duration\n",
    "    elif num_images >= max_images:  # Wenn die Anzahl der Bilder größer oder gleich max_images ist\n",
    "        duration = min_duration\n",
    "    else:  # Wenn die Anzahl der Bilder zwischen min_images und max_images liegt\n",
    "        slope = (min_duration - max_duration) / (max_images - min_duration)\n",
    "        duration = max_duration + slope * (num_images - min_duration)\n",
    "    return duration  # Gib die berechnete Dauer zurück\n",
    "\n",
    "def create_gif_from_pngs(folder_path, output_path):\n",
    "    # Erstelle eine Liste von Bildern aus den PNG-Dateien im angegebenen Ordner\n",
    "    images = [Image.open(os.path.join(folder_path, filename)) for filename in sorted(os.listdir(folder_path)) if filename.endswith(\".png\")]\n",
    "\n",
    "    # Berechne die Dauer für das GIF\n",
    "    duration = calculate_duration(len(images), min_images=5, min_duration=100, max_duration=200, max_images=5000)\n",
    "\n",
    "    # Speichere die Bilder als animiertes GIF\n",
    "    images[0].save(output_path, save_all=True, append_images=images[1:], loop=0, duration=duration)"
   ]
  },
  {
   "cell_type": "code",
   "execution_count": 68,
   "metadata": {},
   "outputs": [
    {
     "ename": "UnidentifiedImageError",
     "evalue": "cannot identify image file 'Sortieralgorithmen\\\\bubble_sort\\\\Bubble Sort_Iteration_0099.png'",
     "output_type": "error",
     "traceback": [
      "\u001b[1;31m---------------------------------------------------------------------------\u001b[0m",
      "\u001b[1;31mUnidentifiedImageError\u001b[0m                    Traceback (most recent call last)",
      "Cell \u001b[1;32mIn[68], line 7\u001b[0m\n\u001b[0;32m      3\u001b[0m folder_list \u001b[38;5;241m=\u001b[39m [folder \u001b[38;5;28;01mfor\u001b[39;00m folder \u001b[38;5;129;01min\u001b[39;00m os\u001b[38;5;241m.\u001b[39mlistdir(folder_path) \u001b[38;5;28;01mif\u001b[39;00m os\u001b[38;5;241m.\u001b[39mpath\u001b[38;5;241m.\u001b[39misdir(os\u001b[38;5;241m.\u001b[39mpath\u001b[38;5;241m.\u001b[39mjoin(folder_path, folder))]\n\u001b[0;32m      5\u001b[0m \u001b[38;5;28;01mfor\u001b[39;00m folder \u001b[38;5;129;01min\u001b[39;00m folder_list:\n\u001b[0;32m      6\u001b[0m     \u001b[38;5;66;03m# Erstelle das GIF für jeden Ordner und speichere es im gleichen Ordner\u001b[39;00m\n\u001b[1;32m----> 7\u001b[0m     \u001b[43mcreate_gif_from_pngs\u001b[49m\u001b[43m(\u001b[49m\u001b[43mos\u001b[49m\u001b[38;5;241;43m.\u001b[39;49m\u001b[43mpath\u001b[49m\u001b[38;5;241;43m.\u001b[39;49m\u001b[43mjoin\u001b[49m\u001b[43m(\u001b[49m\u001b[43mfolder_path\u001b[49m\u001b[43m,\u001b[49m\u001b[43m \u001b[49m\u001b[43mfolder\u001b[49m\u001b[43m)\u001b[49m\u001b[43m,\u001b[49m\u001b[43m \u001b[49m\u001b[43mos\u001b[49m\u001b[38;5;241;43m.\u001b[39;49m\u001b[43mpath\u001b[49m\u001b[38;5;241;43m.\u001b[39;49m\u001b[43mjoin\u001b[49m\u001b[43m(\u001b[49m\u001b[43mfolder_path\u001b[49m\u001b[43m,\u001b[49m\u001b[43m \u001b[49m\u001b[38;5;124;43mf\u001b[39;49m\u001b[38;5;124;43m\"\u001b[39;49m\u001b[38;5;132;43;01m{\u001b[39;49;00m\u001b[43mfolder\u001b[49m\u001b[38;5;132;43;01m}\u001b[39;49;00m\u001b[38;5;124;43m.gif\u001b[39;49m\u001b[38;5;124;43m\"\u001b[39;49m\u001b[43m)\u001b[49m\u001b[43m)\u001b[49m\n",
      "Cell \u001b[1;32mIn[67], line 16\u001b[0m, in \u001b[0;36mcreate_gif_from_pngs\u001b[1;34m(folder_path, output_path)\u001b[0m\n\u001b[0;32m     14\u001b[0m \u001b[38;5;28;01mdef\u001b[39;00m \u001b[38;5;21mcreate_gif_from_pngs\u001b[39m(folder_path, output_path):\n\u001b[0;32m     15\u001b[0m     \u001b[38;5;66;03m# Erstelle eine Liste von Bildern aus den PNG-Dateien im angegebenen Ordner\u001b[39;00m\n\u001b[1;32m---> 16\u001b[0m     images \u001b[38;5;241m=\u001b[39m [Image\u001b[38;5;241m.\u001b[39mopen(os\u001b[38;5;241m.\u001b[39mpath\u001b[38;5;241m.\u001b[39mjoin(folder_path, filename)) \u001b[38;5;28;01mfor\u001b[39;00m filename \u001b[38;5;129;01min\u001b[39;00m \u001b[38;5;28msorted\u001b[39m(os\u001b[38;5;241m.\u001b[39mlistdir(folder_path)) \u001b[38;5;28;01mif\u001b[39;00m filename\u001b[38;5;241m.\u001b[39mendswith(\u001b[38;5;124m\"\u001b[39m\u001b[38;5;124m.png\u001b[39m\u001b[38;5;124m\"\u001b[39m)]\n\u001b[0;32m     18\u001b[0m     \u001b[38;5;66;03m# Berechne die Dauer für das GIF\u001b[39;00m\n\u001b[0;32m     19\u001b[0m     duration \u001b[38;5;241m=\u001b[39m calculate_duration(\u001b[38;5;28mlen\u001b[39m(images), min_images\u001b[38;5;241m=\u001b[39m\u001b[38;5;241m5\u001b[39m, min_duration\u001b[38;5;241m=\u001b[39m\u001b[38;5;241m100\u001b[39m, max_duration\u001b[38;5;241m=\u001b[39m\u001b[38;5;241m200\u001b[39m, max_images\u001b[38;5;241m=\u001b[39m\u001b[38;5;241m5000\u001b[39m)\n",
      "Cell \u001b[1;32mIn[67], line 16\u001b[0m, in \u001b[0;36m<listcomp>\u001b[1;34m(.0)\u001b[0m\n\u001b[0;32m     14\u001b[0m \u001b[38;5;28;01mdef\u001b[39;00m \u001b[38;5;21mcreate_gif_from_pngs\u001b[39m(folder_path, output_path):\n\u001b[0;32m     15\u001b[0m     \u001b[38;5;66;03m# Erstelle eine Liste von Bildern aus den PNG-Dateien im angegebenen Ordner\u001b[39;00m\n\u001b[1;32m---> 16\u001b[0m     images \u001b[38;5;241m=\u001b[39m [\u001b[43mImage\u001b[49m\u001b[38;5;241;43m.\u001b[39;49m\u001b[43mopen\u001b[49m\u001b[43m(\u001b[49m\u001b[43mos\u001b[49m\u001b[38;5;241;43m.\u001b[39;49m\u001b[43mpath\u001b[49m\u001b[38;5;241;43m.\u001b[39;49m\u001b[43mjoin\u001b[49m\u001b[43m(\u001b[49m\u001b[43mfolder_path\u001b[49m\u001b[43m,\u001b[49m\u001b[43m \u001b[49m\u001b[43mfilename\u001b[49m\u001b[43m)\u001b[49m\u001b[43m)\u001b[49m \u001b[38;5;28;01mfor\u001b[39;00m filename \u001b[38;5;129;01min\u001b[39;00m \u001b[38;5;28msorted\u001b[39m(os\u001b[38;5;241m.\u001b[39mlistdir(folder_path)) \u001b[38;5;28;01mif\u001b[39;00m filename\u001b[38;5;241m.\u001b[39mendswith(\u001b[38;5;124m\"\u001b[39m\u001b[38;5;124m.png\u001b[39m\u001b[38;5;124m\"\u001b[39m)]\n\u001b[0;32m     18\u001b[0m     \u001b[38;5;66;03m# Berechne die Dauer für das GIF\u001b[39;00m\n\u001b[0;32m     19\u001b[0m     duration \u001b[38;5;241m=\u001b[39m calculate_duration(\u001b[38;5;28mlen\u001b[39m(images), min_images\u001b[38;5;241m=\u001b[39m\u001b[38;5;241m5\u001b[39m, min_duration\u001b[38;5;241m=\u001b[39m\u001b[38;5;241m100\u001b[39m, max_duration\u001b[38;5;241m=\u001b[39m\u001b[38;5;241m200\u001b[39m, max_images\u001b[38;5;241m=\u001b[39m\u001b[38;5;241m5000\u001b[39m)\n",
      "File \u001b[1;32mc:\\Users\\gutsc\\anaconda3\\envs\\tf_GPU\\lib\\site-packages\\PIL\\Image.py:3298\u001b[0m, in \u001b[0;36mopen\u001b[1;34m(fp, mode, formats)\u001b[0m\n\u001b[0;32m   3296\u001b[0m     warnings\u001b[38;5;241m.\u001b[39mwarn(message)\n\u001b[0;32m   3297\u001b[0m msg \u001b[38;5;241m=\u001b[39m \u001b[38;5;124m\"\u001b[39m\u001b[38;5;124mcannot identify image file \u001b[39m\u001b[38;5;132;01m%r\u001b[39;00m\u001b[38;5;124m\"\u001b[39m \u001b[38;5;241m%\u001b[39m (filename \u001b[38;5;28;01mif\u001b[39;00m filename \u001b[38;5;28;01melse\u001b[39;00m fp)\n\u001b[1;32m-> 3298\u001b[0m \u001b[38;5;28;01mraise\u001b[39;00m UnidentifiedImageError(msg)\n",
      "\u001b[1;31mUnidentifiedImageError\u001b[0m: cannot identify image file 'Sortieralgorithmen\\\\bubble_sort\\\\Bubble Sort_Iteration_0099.png'"
     ]
    }
   ],
   "source": [
    "folder_path = \"Sortieralgorithmen\"\n",
    "# Erstelle eine Liste von Ordnern im angegebenen Pfad\n",
    "folder_list = [folder for folder in os.listdir(folder_path) if os.path.isdir(os.path.join(folder_path, folder))]\n",
    "\n",
    "for folder in folder_list:\n",
    "    # Erstelle das GIF für jeden Ordner und speichere es im gleichen Ordner\n",
    "    create_gif_from_pngs(os.path.join(folder_path, folder), os.path.join(folder_path, f\"{folder}.gif\"))"
   ]
  }
 ],
 "metadata": {
  "kernelspec": {
   "display_name": "tf_GPU",
   "language": "python",
   "name": "python3"
  },
  "language_info": {
   "codemirror_mode": {
    "name": "ipython",
    "version": 3
   },
   "file_extension": ".py",
   "mimetype": "text/x-python",
   "name": "python",
   "nbconvert_exporter": "python",
   "pygments_lexer": "ipython3",
   "version": "3.10.9"
  }
 },
 "nbformat": 4,
 "nbformat_minor": 2
}
