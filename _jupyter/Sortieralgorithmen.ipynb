{
  "cells": [
    {
      "cell_type": "markdown",
      "metadata": {
        "id": "1PEUQCdr-Rnr"
      },
      "source": [
        "Selection Sort: Selection Sort sucht das kleinste Element in der Liste und tauscht es mit dem ersten Element aus. Dieser Vorgang wird für die restlichen Elemente wiederholt, um die Liste zu sortieren. Der Vorteil von Selection Sort ist seine Einfachheit und geringer Speicherbedarf. Allerdings hat Selection Sort immer eine Zeitkomplexität von O(n^2), unabhängig von der Verteilung der Eingabe."
      ]
    },
    {
      "cell_type": "markdown",
      "metadata": {
        "id": "lf7mE7wN-TJM"
      },
      "source": [
        "Merge Sort: Merge Sort teilt die Liste in immer kleinere Teillisten auf, sortiert sie einzeln und fusioniert sie dann in der richtigen Reihenfolge, um die endgültig sortierte Liste zu erhalten. Der Vorteil von Merge Sort ist seine stabile Laufzeitkomplexität von O(n log n), unabhängig von der Verteilung der Eingabe. Allerdings erfordert Merge Sort einen zusätzlichen Speicherplatz für die Teillisten."
      ]
    },
    {
      "cell_type": "markdown",
      "metadata": {
        "id": "GiDJJD_P-UrS"
      },
      "source": [
        "Quick Sort: Quick Sort wählt ein Pivot-Element aus der Liste und teilt die Liste in zwei Teillisten auf, wobei die Elemente kleiner oder größer als das Pivot-Element sind. Dieser Vorgang wird für die Teillisten wiederholt, bis die gesamte Liste sortiert ist. Der Vorteil von Quick Sort ist seine durchschnittliche Laufzeitkomplexität von O(n log n). Allerdings kann Quick Sort in bestimmten Fällen eine schlechteste Fallzeitkomplexität von O(n^2) haben und ist nicht stabil."
      ]
    },
    {
      "cell_type": "markdown",
      "metadata": {
        "id": "KzgvZ5Ae-V2Y"
      },
      "source": [
        "Radix Sort: Radix Sort sortiert die Elemente anhand ihrer einzelnen Stellenwerte. Es beginnt mit dem niedrigsten Stellenwert und arbeitet sich bis zum höchsten Stellenwert vor, um die Liste zu sortieren. Der Vorteil von Radix Sort ist seine stabile Laufzeitkomplexität von O(k * n), wobei k die Anzahl der Stellenwerte ist. Allerdings ist Radix Sort nicht geeignet für Listen mit negativen Zahlen oder gemischten Datentypen."
      ]
    },
    {
      "cell_type": "markdown",
      "metadata": {},
      "source": []
    },
    {
      "cell_type": "markdown",
      "metadata": {
        "id": "EjYpb_tB-J2Q"
      },
      "source": [
        "\n",
        "\n",
        "\n",
        "\n",
        "\n",
        "\n",
        "\n",
        "\n",
        "\n",
        "\n",
        "\n",
        "\n",
        "Heap Sort: Heap Sort erstellt einen Heap (eine spezielle Art von Baumstruktur), um die Elemente zu organisieren. Es extrahiert dann das größte Element des Heaps und wiederholt diesen Vorgang, um die Liste zu sortieren. Der Vorteil von Heap Sort ist seine Laufzeitkomplexität von O(n log n). Allerdings erfordert Heap Sort zusätzlichen Speicherplatz für den Heap und ist nicht stabil."
      ]
    },
    {
      "cell_type": "code",
      "execution_count": 69,
      "metadata": {
        "id": "zprVswCI-ccu"
      },
      "outputs": [],
      "source": [
        "import matplotlib.pyplot as plt\n",
        "import random\n",
        "import matplotlib.cm as cm\n",
        "import os\n",
        "import time"
      ]
    },
    {
      "cell_type": "code",
      "execution_count": 70,
      "metadata": {
        "id": "L7iGtHDy-JuC"
      },
      "outputs": [],
      "source": [
        "# Anzahl der Elemente im Datensatz\n",
        "n = 100\n",
        "\n",
        "# Setze den Random Seed\n",
        "random.seed(42)\n",
        "\n",
        "# Erzeuge einen zufälligen Datensatz\n",
        "dataset = random.sample(range(1, n+1), n)"
      ]
    },
    {
      "cell_type": "markdown",
      "metadata": {
        "id": "Kmwy73ld-MW_"
      },
      "source": [
        "**Bubble Sort**: Der Bubble Sort Algorithmus vergleicht zunächst das erste Element mit dem nächsten Element und tauscht sie bei Bedarf aus, wenn sie in der falschen Reihenfolge sind. Anschließend vergleicht er das zweite Element mit dem darauffolgenden Element und tauscht sie gegebenenfalls aus. Dieser Vorgang wird fortgesetzt, bis das vorletzte Element mit dem letzten Element verglichen wurde.\n",
        "\n",
        "Der Algorithmus arbeitet sich in jedem Durchlauf von links nach rechts durch die Liste und tauscht benachbarte Elemente, wenn sie in der falschen Reihenfolge sind. Nach jedem Durchlauf wird das größte Element in der Liste an die richtige Position am Ende verschoben. Dieser Prozess wird so lange wiederholt, bis die gesamte Liste sortiert ist.\n",
        "\n",
        "Der Name \"Bubble Sort\" kommt von der Art und Weise, wie die größten Elemente allmählich an das Ende der Liste \"aufsteigen\", ähnlich wie Luftblasen in Wasser aufsteigen."
      ]
    },
    {
      "cell_type": "markdown",
      "metadata": {},
      "source": [
        "## Update Chart"
      ]
    },
    {
      "cell_type": "code",
      "execution_count": 92,
      "metadata": {
        "colab": {
          "base_uri": "https://localhost:8080/"
        },
        "id": "Z7lySqUGGB8f",
        "outputId": "84e63bf2-d3f6-428e-f101-d7e216cc2d9e"
      },
      "outputs": [
        {
          "name": "stderr",
          "output_type": "stream",
          "text": [
            "C:\\Users\\gutsc\\AppData\\Local\\Temp\\ipykernel_12096\\3766632721.py:2: MatplotlibDeprecationWarning: The get_cmap function was deprecated in Matplotlib 3.7 and will be removed two minor releases later. Use ``matplotlib.colormaps[name]`` or ``matplotlib.colormaps.get_cmap(obj)`` instead.\n",
            "  cmap = cm.get_cmap('YlGnBu')  # Farbverlauf von Gelb über Grün zu Blau\n"
          ]
        }
      ],
      "source": [
        "# Farbverlaufsfunktion\n",
        "cmap = cm.get_cmap('YlGnBu')  # Farbverlauf von Gelb über Grün zu Blau\n",
        "\n",
        "# Funktion zum Aktualisieren des Balkendiagramms\n",
        "def update_chart(data, iteration, folder_name):\n",
        "    i = len(data)\n",
        "    colors = [cmap(x/i) for x in data]\n",
        "    plt.bar(range(i), data, color=colors)\n",
        "    plt.xlabel('Index')\n",
        "    plt.ylabel('Wert')\n",
        "    plt.title(f'Sortierung - Schritt {iteration}')\n",
        "    if not os.path.exists(folder_name):\n",
        "      os.makedirs(folder_name)\n",
        "    plt.savefig(f'{folder_name}/Step_{iteration:02d}.png')  # Speichere den Plot als PNG-Datei\n",
        "    plt.close()"
      ]
    },
    {
      "cell_type": "code",
      "execution_count": 72,
      "metadata": {
        "colab": {
          "base_uri": "https://localhost:8080/",
          "height": 527
        },
        "id": "owhw6pxd-A6J",
        "outputId": "1df9df25-862e-47e8-88e4-1797b2ad3e92"
      },
      "outputs": [
        {
          "name": "stderr",
          "output_type": "stream",
          "text": [
            "C:\\Users\\gutsc\\AppData\\Local\\Temp\\ipykernel_12096\\965838417.py:2: MatplotlibDeprecationWarning: The get_cmap function was deprecated in Matplotlib 3.7 and will be removed two minor releases later. Use ``matplotlib.colormaps[name]`` or ``matplotlib.colormaps.get_cmap(obj)`` instead.\n",
            "  cmap = cm.get_cmap('YlGnBu')  # Farbverlauf von Gelb über Grün zu Blau\n"
          ]
        },
        {
          "data": {
            "image/png": "[encoded data removed]",
            "text/plain": [
              "<Figure size 640x480 with 1 Axes>"
            ]
          },
          "metadata": {},
          "output_type": "display_data"
        }
      ],
      "source": [
        "# Erstelle eine Farbverlaufsfunktion\n",
        "cmap = cm.get_cmap('YlGnBu')  # Farbverlauf von Gelb über Grün zu Blau\n",
        "colors = [cmap(x/n) for x in dataset]  # Farben entsprechend dem Wert jedes Elements\n",
        "\n",
        "# Erstelle das Balkendiagramm mit den Farben\n",
        "plt.bar(range(n), dataset, color=colors)\n",
        "\n",
        "# Füge Beschriftungen hinzu\n",
        "plt.xlabel('Index')\n",
        "plt.ylabel('Wert')\n",
        "plt.title('Sortierbarer Datensatz mit Farbcodierung')\n",
        "\n",
        "# Zeige das Balkendiagramm\n",
        "plt.show()"
      ]
    },
    {
      "cell_type": "code",
      "execution_count": 73,
      "metadata": {
        "id": "ov3VZSD3-ujP"
      },
      "outputs": [],
      "source": [
        "# Bubble Sort Algorithmus\n",
        "def bubble_sort(data):\n",
        "    sorted_datasets = []\n",
        "    for i in range(len(data)-1):\n",
        "        for j in range(len(data)-1-i):\n",
        "            # Vergleiche benachbarte Elemente und tausche sie, falls sie in der falschen Reihenfolge sind\n",
        "            if data[j] > data[j+1]:\n",
        "                data[j], data[j+1] = data[j+1], data[j]\n",
        "        # Speichere den sortierten Datensatz nach jedem Sortierschritt\n",
        "        sorted_datasets.append(data.copy())\n",
        "    return sorted_datasets"
      ]
    },
    {
      "cell_type": "code",
      "execution_count": 74,
      "metadata": {
        "colab": {
          "base_uri": "https://localhost:8080/"
        },
        "id": "3k1UZq14Gsj6",
        "outputId": "bc2df64b-d902-4d97-f77f-b52591359b99"
      },
      "outputs": [
        {
          "name": "stdout",
          "output_type": "stream",
          "text": [
            "Ausführungsdauer: 0.0009965896606445312\n",
            "Länge des Datensatzes: 99\n"
          ]
        }
      ],
      "source": [
        "sorted_datasets = []\n",
        "# Sortiere den Datensatz mit Bubble Sort\n",
        "start_time = time.time()\n",
        "sorted_datasets = bubble_sort(dataset)\n",
        "end_time = time.time() \n",
        "execution_time = end_time - start_time\n",
        "print(f\"Ausführungsdauer: {execution_time}\")\n",
        "print(f\"Länge des Datensatzes: {len(sorted_datasets)}\")\n",
        "\n",
        "# Zeige den sortierten Datensatz nach jedem Sortierschritt\n",
        "for i, data in enumerate(sorted_datasets):\n",
        "    update_chart(data, i+1, \"Sortieralgorithmen/bubble_sort\")"
      ]
    },
    {
      "cell_type": "markdown",
      "metadata": {
        "id": "_1g5wY47-P0S"
      },
      "source": [
        "**Insertion Sort**: Der Insertion Sort Algorithmus ist ein einfacher Sortieralgorithmus, der durch das Einfügen von Elementen in eine bereits sortierte Teilsequenz eine sortierte Gesamtsequenz aufbaut. Der Algorithmus funktioniert folgendermaßen:\n",
        "\n",
        "Der erste Schritt besteht darin, das erste Element der Liste als bereits sortierten Teil anzusehen. Das heißt, der Teil, der nur das erste Element enthält, wird als sortiert betrachtet.\n",
        "\n",
        "Der Algorithmus geht dann das nächste Element in der Liste durch und fügt es an die richtige Position im bereits sortierten Teil ein. Dabei vergleicht es das Element mit den bereits sortierten Elementen und verschiebt größere Elemente nach rechts, um Platz für das neu eingefügte Element zu schaffen.\n",
        "\n",
        "Dieser Schritt wird für jedes weitere Element wiederholt, bis alle Elemente in die richtige Position eingefügt wurden und die Liste vollständig sortiert ist.\n",
        "\n",
        "Ein wichtiger Aspekt des Insertion Sort Algorithmus ist, dass er effizient für kleine Listen oder bereits teilweise sortierte Listen ist. Der Algorithmus hat eine Laufzeitkomplexität von O(n^2) im Durchschnitt und im schlimmsten Fall, was bedeutet, dass die Sortierzeit quadratisch mit der Anzahl der Elemente steigt.\n",
        "\n",
        "Es ist wichtig zu beachten, dass Insertion Sort ein stabil sortierender Algorithmus ist, d.h. Elemente mit dem gleichen Wert bleiben in ihrer relativen Reihenfolge erhalten."
      ]
    },
    {
      "cell_type": "code",
      "execution_count": 75,
      "metadata": {
        "id": "cXMdqRaBFUN0"
      },
      "outputs": [],
      "source": [
        "# Erzeuge einen zufälligen Datensatz\n",
        "dataset = random.sample(range(1, n+1), n)"
      ]
    },
    {
      "cell_type": "code",
      "execution_count": 76,
      "metadata": {
        "colab": {
          "background_save": true,
          "base_uri": "https://localhost:8080/"
        },
        "id": "kX4sq7V8FVAo",
        "outputId": "fc07bec9-8c58-4d22-d59d-b75c4560cbe5"
      },
      "outputs": [
        {
          "name": "stdout",
          "output_type": "stream",
          "text": [
            "[]\n",
            "Ausführungsdauer: 0.0009989738464355469\n",
            "Länge des Datensatzes: 99\n"
          ]
        }
      ],
      "source": [
        "# Insertion Sort Algorithmus\n",
        "def insertion_sort(data):\n",
        "    print(sorted_datasets)\n",
        "    for i in range(1, len(data)):\n",
        "        key = data[i]  # Das aktuell zu sortierende Element\n",
        "        j = i - 1\n",
        "        while j >= 0 and data[j] > key:\n",
        "            data[j+1] = data[j]  # Verschiebe Elemente nach rechts\n",
        "            j -= 1\n",
        "        data[j+1] = key  # Füge das Element an der richtigen Position ein\n",
        "        # Speichere den sortierten Datensatz nach jedem Sortierschritt\n",
        "        sorted_datasets.append(data.copy())\n",
        "    return sorted_datasets\n",
        "\n",
        "sorted_datasets = []\n",
        "# Sortiere den Datensatz mit Insertion Sort\n",
        "start_time = time.time()\n",
        "sorted_datasets = insertion_sort(dataset)\n",
        "end_time = time.time() \n",
        "execution_time = end_time - start_time\n",
        "print(f\"Ausführungsdauer: {execution_time}\")\n",
        "print(f\"Länge des Datensatzes: {len(sorted_datasets)}\")\n",
        "\n",
        "# Zeige den sortierten Datensatz nach jedem Sortierschritt\n",
        "for i, data in enumerate(sorted_datasets):\n",
        "    update_chart(data, i+1, \"Sortieralgorithmen/insertion_sort\")"
      ]
    },
    {
      "cell_type": "code",
      "execution_count": 105,
      "metadata": {},
      "outputs": [],
      "source": [
        "# Erzeuge einen zufälligen Datensatz\n",
        "dataset = random.sample(range(1, n+1), n)"
      ]
    },
    {
      "cell_type": "code",
      "execution_count": 106,
      "metadata": {},
      "outputs": [
        {
          "name": "stdout",
          "output_type": "stream",
          "text": [
            "[1, 84, 13, 63, 79, 53, 36, 5, 89, 48, 28, 57, 92, 31, 47, 98, 91, 70, 46, 8, 51, 94, 25, 16, 59, 12, 90, 3, 7, 43, 32, 17, 27, 9, 68, 74, 30, 22, 50, 10, 80, 58, 39, 54, 18, 55, 61, 67, 35, 69, 75, 81, 71, 2, 95, 88, 23, 77, 38, 21, 86, 62, 60, 4, 82, 66, 34, 49, 93, 99, 15, 78, 76, 42, 19, 37, 64, 52, 33, 20, 40, 44, 100, 24, 45, 87, 97, 72, 85, 11, 41, 14, 96, 26, 65, 73, 56, 6, 83, 29]\n",
            "[1, 2, 13, 63, 79, 53, 36, 5, 89, 48, 28, 57, 92, 31, 47, 98, 91, 70, 46, 8, 51, 94, 25, 16, 59, 12, 90, 3, 7, 43, 32, 17, 27, 9, 68, 74, 30, 22, 50, 10, 80, 58, 39, 54, 18, 55, 61, 67, 35, 69, 75, 81, 71, 84, 95, 88, 23, 77, 38, 21, 86, 62, 60, 4, 82, 66, 34, 49, 93, 99, 15, 78, 76, 42, 19, 37, 64, 52, 33, 20, 40, 44, 100, 24, 45, 87, 97, 72, 85, 11, 41, 14, 96, 26, 65, 73, 56, 6, 83, 29]\n",
            "[1, 2, 3, 63, 79, 53, 36, 5, 89, 48, 28, 57, 92, 31, 47, 98, 91, 70, 46, 8, 51, 94, 25, 16, 59, 12, 90, 13, 7, 43, 32, 17, 27, 9, 68, 74, 30, 22, 50, 10, 80, 58, 39, 54, 18, 55, 61, 67, 35, 69, 75, 81, 71, 84, 95, 88, 23, 77, 38, 21, 86, 62, 60, 4, 82, 66, 34, 49, 93, 99, 15, 78, 76, 42, 19, 37, 64, 52, 33, 20, 40, 44, 100, 24, 45, 87, 97, 72, 85, 11, 41, 14, 96, 26, 65, 73, 56, 6, 83, 29]\n",
            "[1, 2, 3, 4, 79, 53, 36, 5, 89, 48, 28, 57, 92, 31, 47, 98, 91, 70, 46, 8, 51, 94, 25, 16, 59, 12, 90, 13, 7, 43, 32, 17, 27, 9, 68, 74, 30, 22, 50, 10, 80, 58, 39, 54, 18, 55, 61, 67, 35, 69, 75, 81, 71, 84, 95, 88, 23, 77, 38, 21, 86, 62, 60, 63, 82, 66, 34, 49, 93, 99, 15, 78, 76, 42, 19, 37, 64, 52, 33, 20, 40, 44, 100, 24, 45, 87, 97, 72, 85, 11, 41, 14, 96, 26, 65, 73, 56, 6, 83, 29]\n",
            "[1, 2, 3, 4, 5, 53, 36, 79, 89, 48, 28, 57, 92, 31, 47, 98, 91, 70, 46, 8, 51, 94, 25, 16, 59, 12, 90, 13, 7, 43, 32, 17, 27, 9, 68, 74, 30, 22, 50, 10, 80, 58, 39, 54, 18, 55, 61, 67, 35, 69, 75, 81, 71, 84, 95, 88, 23, 77, 38, 21, 86, 62, 60, 63, 82, 66, 34, 49, 93, 99, 15, 78, 76, 42, 19, 37, 64, 52, 33, 20, 40, 44, 100, 24, 45, 87, 97, 72, 85, 11, 41, 14, 96, 26, 65, 73, 56, 6, 83, 29]\n",
            "[1, 2, 3, 4, 5, 6, 36, 79, 89, 48, 28, 57, 92, 31, 47, 98, 91, 70, 46, 8, 51, 94, 25, 16, 59, 12, 90, 13, 7, 43, 32, 17, 27, 9, 68, 74, 30, 22, 50, 10, 80, 58, 39, 54, 18, 55, 61, 67, 35, 69, 75, 81, 71, 84, 95, 88, 23, 77, 38, 21, 86, 62, 60, 63, 82, 66, 34, 49, 93, 99, 15, 78, 76, 42, 19, 37, 64, 52, 33, 20, 40, 44, 100, 24, 45, 87, 97, 72, 85, 11, 41, 14, 96, 26, 65, 73, 56, 53, 83, 29]\n",
            "[1, 2, 3, 4, 5, 6, 7, 79, 89, 48, 28, 57, 92, 31, 47, 98, 91, 70, 46, 8, 51, 94, 25, 16, 59, 12, 90, 13, 36, 43, 32, 17, 27, 9, 68, 74, 30, 22, 50, 10, 80, 58, 39, 54, 18, 55, 61, 67, 35, 69, 75, 81, 71, 84, 95, 88, 23, 77, 38, 21, 86, 62, 60, 63, 82, 66, 34, 49, 93, 99, 15, 78, 76, 42, 19, 37, 64, 52, 33, 20, 40, 44, 100, 24, 45, 87, 97, 72, 85, 11, 41, 14, 96, 26, 65, 73, 56, 53, 83, 29]\n",
            "[1, 2, 3, 4, 5, 6, 7, 8, 89, 48, 28, 57, 92, 31, 47, 98, 91, 70, 46, 79, 51, 94, 25, 16, 59, 12, 90, 13, 36, 43, 32, 17, 27, 9, 68, 74, 30, 22, 50, 10, 80, 58, 39, 54, 18, 55, 61, 67, 35, 69, 75, 81, 71, 84, 95, 88, 23, 77, 38, 21, 86, 62, 60, 63, 82, 66, 34, 49, 93, 99, 15, 78, 76, 42, 19, 37, 64, 52, 33, 20, 40, 44, 100, 24, 45, 87, 97, 72, 85, 11, 41, 14, 96, 26, 65, 73, 56, 53, 83, 29]\n",
            "[1, 2, 3, 4, 5, 6, 7, 8, 9, 48, 28, 57, 92, 31, 47, 98, 91, 70, 46, 79, 51, 94, 25, 16, 59, 12, 90, 13, 36, 43, 32, 17, 27, 89, 68, 74, 30, 22, 50, 10, 80, 58, 39, 54, 18, 55, 61, 67, 35, 69, 75, 81, 71, 84, 95, 88, 23, 77, 38, 21, 86, 62, 60, 63, 82, 66, 34, 49, 93, 99, 15, 78, 76, 42, 19, 37, 64, 52, 33, 20, 40, 44, 100, 24, 45, 87, 97, 72, 85, 11, 41, 14, 96, 26, 65, 73, 56, 53, 83, 29]\n",
            "[1, 2, 3, 4, 5, 6, 7, 8, 9, 10, 28, 57, 92, 31, 47, 98, 91, 70, 46, 79, 51, 94, 25, 16, 59, 12, 90, 13, 36, 43, 32, 17, 27, 89, 68, 74, 30, 22, 50, 48, 80, 58, 39, 54, 18, 55, 61, 67, 35, 69, 75, 81, 71, 84, 95, 88, 23, 77, 38, 21, 86, 62, 60, 63, 82, 66, 34, 49, 93, 99, 15, 78, 76, 42, 19, 37, 64, 52, 33, 20, 40, 44, 100, 24, 45, 87, 97, 72, 85, 11, 41, 14, 96, 26, 65, 73, 56, 53, 83, 29]\n",
            "[1, 2, 3, 4, 5, 6, 7, 8, 9, 10, 11, 57, 92, 31, 47, 98, 91, 70, 46, 79, 51, 94, 25, 16, 59, 12, 90, 13, 36, 43, 32, 17, 27, 89, 68, 74, 30, 22, 50, 48, 80, 58, 39, 54, 18, 55, 61, 67, 35, 69, 75, 81, 71, 84, 95, 88, 23, 77, 38, 21, 86, 62, 60, 63, 82, 66, 34, 49, 93, 99, 15, 78, 76, 42, 19, 37, 64, 52, 33, 20, 40, 44, 100, 24, 45, 87, 97, 72, 85, 28, 41, 14, 96, 26, 65, 73, 56, 53, 83, 29]\n",
            "[1, 2, 3, 4, 5, 6, 7, 8, 9, 10, 11, 12, 92, 31, 47, 98, 91, 70, 46, 79, 51, 94, 25, 16, 59, 57, 90, 13, 36, 43, 32, 17, 27, 89, 68, 74, 30, 22, 50, 48, 80, 58, 39, 54, 18, 55, 61, 67, 35, 69, 75, 81, 71, 84, 95, 88, 23, 77, 38, 21, 86, 62, 60, 63, 82, 66, 34, 49, 93, 99, 15, 78, 76, 42, 19, 37, 64, 52, 33, 20, 40, 44, 100, 24, 45, 87, 97, 72, 85, 28, 41, 14, 96, 26, 65, 73, 56, 53, 83, 29]\n",
            "[1, 2, 3, 4, 5, 6, 7, 8, 9, 10, 11, 12, 13, 31, 47, 98, 91, 70, 46, 79, 51, 94, 25, 16, 59, 57, 90, 92, 36, 43, 32, 17, 27, 89, 68, 74, 30, 22, 50, 48, 80, 58, 39, 54, 18, 55, 61, 67, 35, 69, 75, 81, 71, 84, 95, 88, 23, 77, 38, 21, 86, 62, 60, 63, 82, 66, 34, 49, 93, 99, 15, 78, 76, 42, 19, 37, 64, 52, 33, 20, 40, 44, 100, 24, 45, 87, 97, 72, 85, 28, 41, 14, 96, 26, 65, 73, 56, 53, 83, 29]\n",
            "[1, 2, 3, 4, 5, 6, 7, 8, 9, 10, 11, 12, 13, 14, 47, 98, 91, 70, 46, 79, 51, 94, 25, 16, 59, 57, 90, 92, 36, 43, 32, 17, 27, 89, 68, 74, 30, 22, 50, 48, 80, 58, 39, 54, 18, 55, 61, 67, 35, 69, 75, 81, 71, 84, 95, 88, 23, 77, 38, 21, 86, 62, 60, 63, 82, 66, 34, 49, 93, 99, 15, 78, 76, 42, 19, 37, 64, 52, 33, 20, 40, 44, 100, 24, 45, 87, 97, 72, 85, 28, 41, 31, 96, 26, 65, 73, 56, 53, 83, 29]\n",
            "[1, 2, 3, 4, 5, 6, 7, 8, 9, 10, 11, 12, 13, 14, 15, 98, 91, 70, 46, 79, 51, 94, 25, 16, 59, 57, 90, 92, 36, 43, 32, 17, 27, 89, 68, 74, 30, 22, 50, 48, 80, 58, 39, 54, 18, 55, 61, 67, 35, 69, 75, 81, 71, 84, 95, 88, 23, 77, 38, 21, 86, 62, 60, 63, 82, 66, 34, 49, 93, 99, 47, 78, 76, 42, 19, 37, 64, 52, 33, 20, 40, 44, 100, 24, 45, 87, 97, 72, 85, 28, 41, 31, 96, 26, 65, 73, 56, 53, 83, 29]\n",
            "[1, 2, 3, 4, 5, 6, 7, 8, 9, 10, 11, 12, 13, 14, 15, 16, 91, 70, 46, 79, 51, 94, 25, 98, 59, 57, 90, 92, 36, 43, 32, 17, 27, 89, 68, 74, 30, 22, 50, 48, 80, 58, 39, 54, 18, 55, 61, 67, 35, 69, 75, 81, 71, 84, 95, 88, 23, 77, 38, 21, 86, 62, 60, 63, 82, 66, 34, 49, 93, 99, 47, 78, 76, 42, 19, 37, 64, 52, 33, 20, 40, 44, 100, 24, 45, 87, 97, 72, 85, 28, 41, 31, 96, 26, 65, 73, 56, 53, 83, 29]\n",
            "[1, 2, 3, 4, 5, 6, 7, 8, 9, 10, 11, 12, 13, 14, 15, 16, 17, 70, 46, 79, 51, 94, 25, 98, 59, 57, 90, 92, 36, 43, 32, 91, 27, 89, 68, 74, 30, 22, 50, 48, 80, 58, 39, 54, 18, 55, 61, 67, 35, 69, 75, 81, 71, 84, 95, 88, 23, 77, 38, 21, 86, 62, 60, 63, 82, 66, 34, 49, 93, 99, 47, 78, 76, 42, 19, 37, 64, 52, 33, 20, 40, 44, 100, 24, 45, 87, 97, 72, 85, 28, 41, 31, 96, 26, 65, 73, 56, 53, 83, 29]\n",
            "[1, 2, 3, 4, 5, 6, 7, 8, 9, 10, 11, 12, 13, 14, 15, 16, 17, 18, 46, 79, 51, 94, 25, 98, 59, 57, 90, 92, 36, 43, 32, 91, 27, 89, 68, 74, 30, 22, 50, 48, 80, 58, 39, 54, 70, 55, 61, 67, 35, 69, 75, 81, 71, 84, 95, 88, 23, 77, 38, 21, 86, 62, 60, 63, 82, 66, 34, 49, 93, 99, 47, 78, 76, 42, 19, 37, 64, 52, 33, 20, 40, 44, 100, 24, 45, 87, 97, 72, 85, 28, 41, 31, 96, 26, 65, 73, 56, 53, 83, 29]\n",
            "[1, 2, 3, 4, 5, 6, 7, 8, 9, 10, 11, 12, 13, 14, 15, 16, 17, 18, 19, 79, 51, 94, 25, 98, 59, 57, 90, 92, 36, 43, 32, 91, 27, 89, 68, 74, 30, 22, 50, 48, 80, 58, 39, 54, 70, 55, 61, 67, 35, 69, 75, 81, 71, 84, 95, 88, 23, 77, 38, 21, 86, 62, 60, 63, 82, 66, 34, 49, 93, 99, 47, 78, 76, 42, 46, 37, 64, 52, 33, 20, 40, 44, 100, 24, 45, 87, 97, 72, 85, 28, 41, 31, 96, 26, 65, 73, 56, 53, 83, 29]\n",
            "[1, 2, 3, 4, 5, 6, 7, 8, 9, 10, 11, 12, 13, 14, 15, 16, 17, 18, 19, 20, 51, 94, 25, 98, 59, 57, 90, 92, 36, 43, 32, 91, 27, 89, 68, 74, 30, 22, 50, 48, 80, 58, 39, 54, 70, 55, 61, 67, 35, 69, 75, 81, 71, 84, 95, 88, 23, 77, 38, 21, 86, 62, 60, 63, 82, 66, 34, 49, 93, 99, 47, 78, 76, 42, 46, 37, 64, 52, 33, 79, 40, 44, 100, 24, 45, 87, 97, 72, 85, 28, 41, 31, 96, 26, 65, 73, 56, 53, 83, 29]\n",
            "[1, 2, 3, 4, 5, 6, 7, 8, 9, 10, 11, 12, 13, 14, 15, 16, 17, 18, 19, 20, 21, 94, 25, 98, 59, 57, 90, 92, 36, 43, 32, 91, 27, 89, 68, 74, 30, 22, 50, 48, 80, 58, 39, 54, 70, 55, 61, 67, 35, 69, 75, 81, 71, 84, 95, 88, 23, 77, 38, 51, 86, 62, 60, 63, 82, 66, 34, 49, 93, 99, 47, 78, 76, 42, 46, 37, 64, 52, 33, 79, 40, 44, 100, 24, 45, 87, 97, 72, 85, 28, 41, 31, 96, 26, 65, 73, 56, 53, 83, 29]\n",
            "[1, 2, 3, 4, 5, 6, 7, 8, 9, 10, 11, 12, 13, 14, 15, 16, 17, 18, 19, 20, 21, 22, 25, 98, 59, 57, 90, 92, 36, 43, 32, 91, 27, 89, 68, 74, 30, 94, 50, 48, 80, 58, 39, 54, 70, 55, 61, 67, 35, 69, 75, 81, 71, 84, 95, 88, 23, 77, 38, 51, 86, 62, 60, 63, 82, 66, 34, 49, 93, 99, 47, 78, 76, 42, 46, 37, 64, 52, 33, 79, 40, 44, 100, 24, 45, 87, 97, 72, 85, 28, 41, 31, 96, 26, 65, 73, 56, 53, 83, 29]\n",
            "[1, 2, 3, 4, 5, 6, 7, 8, 9, 10, 11, 12, 13, 14, 15, 16, 17, 18, 19, 20, 21, 22, 23, 98, 59, 57, 90, 92, 36, 43, 32, 91, 27, 89, 68, 74, 30, 94, 50, 48, 80, 58, 39, 54, 70, 55, 61, 67, 35, 69, 75, 81, 71, 84, 95, 88, 25, 77, 38, 51, 86, 62, 60, 63, 82, 66, 34, 49, 93, 99, 47, 78, 76, 42, 46, 37, 64, 52, 33, 79, 40, 44, 100, 24, 45, 87, 97, 72, 85, 28, 41, 31, 96, 26, 65, 73, 56, 53, 83, 29]\n",
            "[1, 2, 3, 4, 5, 6, 7, 8, 9, 10, 11, 12, 13, 14, 15, 16, 17, 18, 19, 20, 21, 22, 23, 24, 59, 57, 90, 92, 36, 43, 32, 91, 27, 89, 68, 74, 30, 94, 50, 48, 80, 58, 39, 54, 70, 55, 61, 67, 35, 69, 75, 81, 71, 84, 95, 88, 25, 77, 38, 51, 86, 62, 60, 63, 82, 66, 34, 49, 93, 99, 47, 78, 76, 42, 46, 37, 64, 52, 33, 79, 40, 44, 100, 98, 45, 87, 97, 72, 85, 28, 41, 31, 96, 26, 65, 73, 56, 53, 83, 29]\n",
            "[1, 2, 3, 4, 5, 6, 7, 8, 9, 10, 11, 12, 13, 14, 15, 16, 17, 18, 19, 20, 21, 22, 23, 24, 25, 57, 90, 92, 36, 43, 32, 91, 27, 89, 68, 74, 30, 94, 50, 48, 80, 58, 39, 54, 70, 55, 61, 67, 35, 69, 75, 81, 71, 84, 95, 88, 59, 77, 38, 51, 86, 62, 60, 63, 82, 66, 34, 49, 93, 99, 47, 78, 76, 42, 46, 37, 64, 52, 33, 79, 40, 44, 100, 98, 45, 87, 97, 72, 85, 28, 41, 31, 96, 26, 65, 73, 56, 53, 83, 29]\n",
            "[1, 2, 3, 4, 5, 6, 7, 8, 9, 10, 11, 12, 13, 14, 15, 16, 17, 18, 19, 20, 21, 22, 23, 24, 25, 26, 90, 92, 36, 43, 32, 91, 27, 89, 68, 74, 30, 94, 50, 48, 80, 58, 39, 54, 70, 55, 61, 67, 35, 69, 75, 81, 71, 84, 95, 88, 59, 77, 38, 51, 86, 62, 60, 63, 82, 66, 34, 49, 93, 99, 47, 78, 76, 42, 46, 37, 64, 52, 33, 79, 40, 44, 100, 98, 45, 87, 97, 72, 85, 28, 41, 31, 96, 57, 65, 73, 56, 53, 83, 29]\n",
            "[1, 2, 3, 4, 5, 6, 7, 8, 9, 10, 11, 12, 13, 14, 15, 16, 17, 18, 19, 20, 21, 22, 23, 24, 25, 26, 27, 92, 36, 43, 32, 91, 90, 89, 68, 74, 30, 94, 50, 48, 80, 58, 39, 54, 70, 55, 61, 67, 35, 69, 75, 81, 71, 84, 95, 88, 59, 77, 38, 51, 86, 62, 60, 63, 82, 66, 34, 49, 93, 99, 47, 78, 76, 42, 46, 37, 64, 52, 33, 79, 40, 44, 100, 98, 45, 87, 97, 72, 85, 28, 41, 31, 96, 57, 65, 73, 56, 53, 83, 29]\n",
            "[1, 2, 3, 4, 5, 6, 7, 8, 9, 10, 11, 12, 13, 14, 15, 16, 17, 18, 19, 20, 21, 22, 23, 24, 25, 26, 27, 28, 36, 43, 32, 91, 90, 89, 68, 74, 30, 94, 50, 48, 80, 58, 39, 54, 70, 55, 61, 67, 35, 69, 75, 81, 71, 84, 95, 88, 59, 77, 38, 51, 86, 62, 60, 63, 82, 66, 34, 49, 93, 99, 47, 78, 76, 42, 46, 37, 64, 52, 33, 79, 40, 44, 100, 98, 45, 87, 97, 72, 85, 92, 41, 31, 96, 57, 65, 73, 56, 53, 83, 29]\n",
            "[1, 2, 3, 4, 5, 6, 7, 8, 9, 10, 11, 12, 13, 14, 15, 16, 17, 18, 19, 20, 21, 22, 23, 24, 25, 26, 27, 28, 29, 43, 32, 91, 90, 89, 68, 74, 30, 94, 50, 48, 80, 58, 39, 54, 70, 55, 61, 67, 35, 69, 75, 81, 71, 84, 95, 88, 59, 77, 38, 51, 86, 62, 60, 63, 82, 66, 34, 49, 93, 99, 47, 78, 76, 42, 46, 37, 64, 52, 33, 79, 40, 44, 100, 98, 45, 87, 97, 72, 85, 92, 41, 31, 96, 57, 65, 73, 56, 53, 83, 36]\n",
            "[1, 2, 3, 4, 5, 6, 7, 8, 9, 10, 11, 12, 13, 14, 15, 16, 17, 18, 19, 20, 21, 22, 23, 24, 25, 26, 27, 28, 29, 30, 32, 91, 90, 89, 68, 74, 43, 94, 50, 48, 80, 58, 39, 54, 70, 55, 61, 67, 35, 69, 75, 81, 71, 84, 95, 88, 59, 77, 38, 51, 86, 62, 60, 63, 82, 66, 34, 49, 93, 99, 47, 78, 76, 42, 46, 37, 64, 52, 33, 79, 40, 44, 100, 98, 45, 87, 97, 72, 85, 92, 41, 31, 96, 57, 65, 73, 56, 53, 83, 36]\n",
            "[1, 2, 3, 4, 5, 6, 7, 8, 9, 10, 11, 12, 13, 14, 15, 16, 17, 18, 19, 20, 21, 22, 23, 24, 25, 26, 27, 28, 29, 30, 31, 91, 90, 89, 68, 74, 43, 94, 50, 48, 80, 58, 39, 54, 70, 55, 61, 67, 35, 69, 75, 81, 71, 84, 95, 88, 59, 77, 38, 51, 86, 62, 60, 63, 82, 66, 34, 49, 93, 99, 47, 78, 76, 42, 46, 37, 64, 52, 33, 79, 40, 44, 100, 98, 45, 87, 97, 72, 85, 92, 41, 32, 96, 57, 65, 73, 56, 53, 83, 36]\n",
            "[1, 2, 3, 4, 5, 6, 7, 8, 9, 10, 11, 12, 13, 14, 15, 16, 17, 18, 19, 20, 21, 22, 23, 24, 25, 26, 27, 28, 29, 30, 31, 32, 90, 89, 68, 74, 43, 94, 50, 48, 80, 58, 39, 54, 70, 55, 61, 67, 35, 69, 75, 81, 71, 84, 95, 88, 59, 77, 38, 51, 86, 62, 60, 63, 82, 66, 34, 49, 93, 99, 47, 78, 76, 42, 46, 37, 64, 52, 33, 79, 40, 44, 100, 98, 45, 87, 97, 72, 85, 92, 41, 91, 96, 57, 65, 73, 56, 53, 83, 36]\n",
            "[1, 2, 3, 4, 5, 6, 7, 8, 9, 10, 11, 12, 13, 14, 15, 16, 17, 18, 19, 20, 21, 22, 23, 24, 25, 26, 27, 28, 29, 30, 31, 32, 33, 89, 68, 74, 43, 94, 50, 48, 80, 58, 39, 54, 70, 55, 61, 67, 35, 69, 75, 81, 71, 84, 95, 88, 59, 77, 38, 51, 86, 62, 60, 63, 82, 66, 34, 49, 93, 99, 47, 78, 76, 42, 46, 37, 64, 52, 90, 79, 40, 44, 100, 98, 45, 87, 97, 72, 85, 92, 41, 91, 96, 57, 65, 73, 56, 53, 83, 36]\n",
            "[1, 2, 3, 4, 5, 6, 7, 8, 9, 10, 11, 12, 13, 14, 15, 16, 17, 18, 19, 20, 21, 22, 23, 24, 25, 26, 27, 28, 29, 30, 31, 32, 33, 34, 68, 74, 43, 94, 50, 48, 80, 58, 39, 54, 70, 55, 61, 67, 35, 69, 75, 81, 71, 84, 95, 88, 59, 77, 38, 51, 86, 62, 60, 63, 82, 66, 89, 49, 93, 99, 47, 78, 76, 42, 46, 37, 64, 52, 90, 79, 40, 44, 100, 98, 45, 87, 97, 72, 85, 92, 41, 91, 96, 57, 65, 73, 56, 53, 83, 36]\n",
            "[1, 2, 3, 4, 5, 6, 7, 8, 9, 10, 11, 12, 13, 14, 15, 16, 17, 18, 19, 20, 21, 22, 23, 24, 25, 26, 27, 28, 29, 30, 31, 32, 33, 34, 35, 74, 43, 94, 50, 48, 80, 58, 39, 54, 70, 55, 61, 67, 68, 69, 75, 81, 71, 84, 95, 88, 59, 77, 38, 51, 86, 62, 60, 63, 82, 66, 89, 49, 93, 99, 47, 78, 76, 42, 46, 37, 64, 52, 90, 79, 40, 44, 100, 98, 45, 87, 97, 72, 85, 92, 41, 91, 96, 57, 65, 73, 56, 53, 83, 36]\n",
            "[1, 2, 3, 4, 5, 6, 7, 8, 9, 10, 11, 12, 13, 14, 15, 16, 17, 18, 19, 20, 21, 22, 23, 24, 25, 26, 27, 28, 29, 30, 31, 32, 33, 34, 35, 36, 43, 94, 50, 48, 80, 58, 39, 54, 70, 55, 61, 67, 68, 69, 75, 81, 71, 84, 95, 88, 59, 77, 38, 51, 86, 62, 60, 63, 82, 66, 89, 49, 93, 99, 47, 78, 76, 42, 46, 37, 64, 52, 90, 79, 40, 44, 100, 98, 45, 87, 97, 72, 85, 92, 41, 91, 96, 57, 65, 73, 56, 53, 83, 74]\n",
            "[1, 2, 3, 4, 5, 6, 7, 8, 9, 10, 11, 12, 13, 14, 15, 16, 17, 18, 19, 20, 21, 22, 23, 24, 25, 26, 27, 28, 29, 30, 31, 32, 33, 34, 35, 36, 37, 94, 50, 48, 80, 58, 39, 54, 70, 55, 61, 67, 68, 69, 75, 81, 71, 84, 95, 88, 59, 77, 38, 51, 86, 62, 60, 63, 82, 66, 89, 49, 93, 99, 47, 78, 76, 42, 46, 43, 64, 52, 90, 79, 40, 44, 100, 98, 45, 87, 97, 72, 85, 92, 41, 91, 96, 57, 65, 73, 56, 53, 83, 74]\n",
            "[1, 2, 3, 4, 5, 6, 7, 8, 9, 10, 11, 12, 13, 14, 15, 16, 17, 18, 19, 20, 21, 22, 23, 24, 25, 26, 27, 28, 29, 30, 31, 32, 33, 34, 35, 36, 37, 38, 50, 48, 80, 58, 39, 54, 70, 55, 61, 67, 68, 69, 75, 81, 71, 84, 95, 88, 59, 77, 94, 51, 86, 62, 60, 63, 82, 66, 89, 49, 93, 99, 47, 78, 76, 42, 46, 43, 64, 52, 90, 79, 40, 44, 100, 98, 45, 87, 97, 72, 85, 92, 41, 91, 96, 57, 65, 73, 56, 53, 83, 74]\n",
            "[1, 2, 3, 4, 5, 6, 7, 8, 9, 10, 11, 12, 13, 14, 15, 16, 17, 18, 19, 20, 21, 22, 23, 24, 25, 26, 27, 28, 29, 30, 31, 32, 33, 34, 35, 36, 37, 38, 39, 48, 80, 58, 50, 54, 70, 55, 61, 67, 68, 69, 75, 81, 71, 84, 95, 88, 59, 77, 94, 51, 86, 62, 60, 63, 82, 66, 89, 49, 93, 99, 47, 78, 76, 42, 46, 43, 64, 52, 90, 79, 40, 44, 100, 98, 45, 87, 97, 72, 85, 92, 41, 91, 96, 57, 65, 73, 56, 53, 83, 74]\n",
            "[1, 2, 3, 4, 5, 6, 7, 8, 9, 10, 11, 12, 13, 14, 15, 16, 17, 18, 19, 20, 21, 22, 23, 24, 25, 26, 27, 28, 29, 30, 31, 32, 33, 34, 35, 36, 37, 38, 39, 40, 80, 58, 50, 54, 70, 55, 61, 67, 68, 69, 75, 81, 71, 84, 95, 88, 59, 77, 94, 51, 86, 62, 60, 63, 82, 66, 89, 49, 93, 99, 47, 78, 76, 42, 46, 43, 64, 52, 90, 79, 48, 44, 100, 98, 45, 87, 97, 72, 85, 92, 41, 91, 96, 57, 65, 73, 56, 53, 83, 74]\n",
            "[1, 2, 3, 4, 5, 6, 7, 8, 9, 10, 11, 12, 13, 14, 15, 16, 17, 18, 19, 20, 21, 22, 23, 24, 25, 26, 27, 28, 29, 30, 31, 32, 33, 34, 35, 36, 37, 38, 39, 40, 41, 58, 50, 54, 70, 55, 61, 67, 68, 69, 75, 81, 71, 84, 95, 88, 59, 77, 94, 51, 86, 62, 60, 63, 82, 66, 89, 49, 93, 99, 47, 78, 76, 42, 46, 43, 64, 52, 90, 79, 48, 44, 100, 98, 45, 87, 97, 72, 85, 92, 80, 91, 96, 57, 65, 73, 56, 53, 83, 74]\n",
            "[1, 2, 3, 4, 5, 6, 7, 8, 9, 10, 11, 12, 13, 14, 15, 16, 17, 18, 19, 20, 21, 22, 23, 24, 25, 26, 27, 28, 29, 30, 31, 32, 33, 34, 35, 36, 37, 38, 39, 40, 41, 42, 50, 54, 70, 55, 61, 67, 68, 69, 75, 81, 71, 84, 95, 88, 59, 77, 94, 51, 86, 62, 60, 63, 82, 66, 89, 49, 93, 99, 47, 78, 76, 58, 46, 43, 64, 52, 90, 79, 48, 44, 100, 98, 45, 87, 97, 72, 85, 92, 80, 91, 96, 57, 65, 73, 56, 53, 83, 74]\n",
            "[1, 2, 3, 4, 5, 6, 7, 8, 9, 10, 11, 12, 13, 14, 15, 16, 17, 18, 19, 20, 21, 22, 23, 24, 25, 26, 27, 28, 29, 30, 31, 32, 33, 34, 35, 36, 37, 38, 39, 40, 41, 42, 43, 54, 70, 55, 61, 67, 68, 69, 75, 81, 71, 84, 95, 88, 59, 77, 94, 51, 86, 62, 60, 63, 82, 66, 89, 49, 93, 99, 47, 78, 76, 58, 46, 50, 64, 52, 90, 79, 48, 44, 100, 98, 45, 87, 97, 72, 85, 92, 80, 91, 96, 57, 65, 73, 56, 53, 83, 74]\n",
            "[1, 2, 3, 4, 5, 6, 7, 8, 9, 10, 11, 12, 13, 14, 15, 16, 17, 18, 19, 20, 21, 22, 23, 24, 25, 26, 27, 28, 29, 30, 31, 32, 33, 34, 35, 36, 37, 38, 39, 40, 41, 42, 43, 44, 70, 55, 61, 67, 68, 69, 75, 81, 71, 84, 95, 88, 59, 77, 94, 51, 86, 62, 60, 63, 82, 66, 89, 49, 93, 99, 47, 78, 76, 58, 46, 50, 64, 52, 90, 79, 48, 54, 100, 98, 45, 87, 97, 72, 85, 92, 80, 91, 96, 57, 65, 73, 56, 53, 83, 74]\n",
            "[1, 2, 3, 4, 5, 6, 7, 8, 9, 10, 11, 12, 13, 14, 15, 16, 17, 18, 19, 20, 21, 22, 23, 24, 25, 26, 27, 28, 29, 30, 31, 32, 33, 34, 35, 36, 37, 38, 39, 40, 41, 42, 43, 44, 45, 55, 61, 67, 68, 69, 75, 81, 71, 84, 95, 88, 59, 77, 94, 51, 86, 62, 60, 63, 82, 66, 89, 49, 93, 99, 47, 78, 76, 58, 46, 50, 64, 52, 90, 79, 48, 54, 100, 98, 70, 87, 97, 72, 85, 92, 80, 91, 96, 57, 65, 73, 56, 53, 83, 74]\n",
            "[1, 2, 3, 4, 5, 6, 7, 8, 9, 10, 11, 12, 13, 14, 15, 16, 17, 18, 19, 20, 21, 22, 23, 24, 25, 26, 27, 28, 29, 30, 31, 32, 33, 34, 35, 36, 37, 38, 39, 40, 41, 42, 43, 44, 45, 46, 61, 67, 68, 69, 75, 81, 71, 84, 95, 88, 59, 77, 94, 51, 86, 62, 60, 63, 82, 66, 89, 49, 93, 99, 47, 78, 76, 58, 55, 50, 64, 52, 90, 79, 48, 54, 100, 98, 70, 87, 97, 72, 85, 92, 80, 91, 96, 57, 65, 73, 56, 53, 83, 74]\n",
            "[1, 2, 3, 4, 5, 6, 7, 8, 9, 10, 11, 12, 13, 14, 15, 16, 17, 18, 19, 20, 21, 22, 23, 24, 25, 26, 27, 28, 29, 30, 31, 32, 33, 34, 35, 36, 37, 38, 39, 40, 41, 42, 43, 44, 45, 46, 47, 67, 68, 69, 75, 81, 71, 84, 95, 88, 59, 77, 94, 51, 86, 62, 60, 63, 82, 66, 89, 49, 93, 99, 61, 78, 76, 58, 55, 50, 64, 52, 90, 79, 48, 54, 100, 98, 70, 87, 97, 72, 85, 92, 80, 91, 96, 57, 65, 73, 56, 53, 83, 74]\n",
            "[1, 2, 3, 4, 5, 6, 7, 8, 9, 10, 11, 12, 13, 14, 15, 16, 17, 18, 19, 20, 21, 22, 23, 24, 25, 26, 27, 28, 29, 30, 31, 32, 33, 34, 35, 36, 37, 38, 39, 40, 41, 42, 43, 44, 45, 46, 47, 48, 68, 69, 75, 81, 71, 84, 95, 88, 59, 77, 94, 51, 86, 62, 60, 63, 82, 66, 89, 49, 93, 99, 61, 78, 76, 58, 55, 50, 64, 52, 90, 79, 67, 54, 100, 98, 70, 87, 97, 72, 85, 92, 80, 91, 96, 57, 65, 73, 56, 53, 83, 74]\n",
            "[1, 2, 3, 4, 5, 6, 7, 8, 9, 10, 11, 12, 13, 14, 15, 16, 17, 18, 19, 20, 21, 22, 23, 24, 25, 26, 27, 28, 29, 30, 31, 32, 33, 34, 35, 36, 37, 38, 39, 40, 41, 42, 43, 44, 45, 46, 47, 48, 49, 69, 75, 81, 71, 84, 95, 88, 59, 77, 94, 51, 86, 62, 60, 63, 82, 66, 89, 68, 93, 99, 61, 78, 76, 58, 55, 50, 64, 52, 90, 79, 67, 54, 100, 98, 70, 87, 97, 72, 85, 92, 80, 91, 96, 57, 65, 73, 56, 53, 83, 74]\n",
            "[1, 2, 3, 4, 5, 6, 7, 8, 9, 10, 11, 12, 13, 14, 15, 16, 17, 18, 19, 20, 21, 22, 23, 24, 25, 26, 27, 28, 29, 30, 31, 32, 33, 34, 35, 36, 37, 38, 39, 40, 41, 42, 43, 44, 45, 46, 47, 48, 49, 50, 75, 81, 71, 84, 95, 88, 59, 77, 94, 51, 86, 62, 60, 63, 82, 66, 89, 68, 93, 99, 61, 78, 76, 58, 55, 69, 64, 52, 90, 79, 67, 54, 100, 98, 70, 87, 97, 72, 85, 92, 80, 91, 96, 57, 65, 73, 56, 53, 83, 74]\n",
            "[1, 2, 3, 4, 5, 6, 7, 8, 9, 10, 11, 12, 13, 14, 15, 16, 17, 18, 19, 20, 21, 22, 23, 24, 25, 26, 27, 28, 29, 30, 31, 32, 33, 34, 35, 36, 37, 38, 39, 40, 41, 42, 43, 44, 45, 46, 47, 48, 49, 50, 51, 81, 71, 84, 95, 88, 59, 77, 94, 75, 86, 62, 60, 63, 82, 66, 89, 68, 93, 99, 61, 78, 76, 58, 55, 69, 64, 52, 90, 79, 67, 54, 100, 98, 70, 87, 97, 72, 85, 92, 80, 91, 96, 57, 65, 73, 56, 53, 83, 74]\n",
            "[1, 2, 3, 4, 5, 6, 7, 8, 9, 10, 11, 12, 13, 14, 15, 16, 17, 18, 19, 20, 21, 22, 23, 24, 25, 26, 27, 28, 29, 30, 31, 32, 33, 34, 35, 36, 37, 38, 39, 40, 41, 42, 43, 44, 45, 46, 47, 48, 49, 50, 51, 52, 71, 84, 95, 88, 59, 77, 94, 75, 86, 62, 60, 63, 82, 66, 89, 68, 93, 99, 61, 78, 76, 58, 55, 69, 64, 81, 90, 79, 67, 54, 100, 98, 70, 87, 97, 72, 85, 92, 80, 91, 96, 57, 65, 73, 56, 53, 83, 74]\n",
            "[1, 2, 3, 4, 5, 6, 7, 8, 9, 10, 11, 12, 13, 14, 15, 16, 17, 18, 19, 20, 21, 22, 23, 24, 25, 26, 27, 28, 29, 30, 31, 32, 33, 34, 35, 36, 37, 38, 39, 40, 41, 42, 43, 44, 45, 46, 47, 48, 49, 50, 51, 52, 53, 84, 95, 88, 59, 77, 94, 75, 86, 62, 60, 63, 82, 66, 89, 68, 93, 99, 61, 78, 76, 58, 55, 69, 64, 81, 90, 79, 67, 54, 100, 98, 70, 87, 97, 72, 85, 92, 80, 91, 96, 57, 65, 73, 56, 71, 83, 74]\n",
            "[1, 2, 3, 4, 5, 6, 7, 8, 9, 10, 11, 12, 13, 14, 15, 16, 17, 18, 19, 20, 21, 22, 23, 24, 25, 26, 27, 28, 29, 30, 31, 32, 33, 34, 35, 36, 37, 38, 39, 40, 41, 42, 43, 44, 45, 46, 47, 48, 49, 50, 51, 52, 53, 54, 95, 88, 59, 77, 94, 75, 86, 62, 60, 63, 82, 66, 89, 68, 93, 99, 61, 78, 76, 58, 55, 69, 64, 81, 90, 79, 67, 84, 100, 98, 70, 87, 97, 72, 85, 92, 80, 91, 96, 57, 65, 73, 56, 71, 83, 74]\n",
            "[1, 2, 3, 4, 5, 6, 7, 8, 9, 10, 11, 12, 13, 14, 15, 16, 17, 18, 19, 20, 21, 22, 23, 24, 25, 26, 27, 28, 29, 30, 31, 32, 33, 34, 35, 36, 37, 38, 39, 40, 41, 42, 43, 44, 45, 46, 47, 48, 49, 50, 51, 52, 53, 54, 55, 88, 59, 77, 94, 75, 86, 62, 60, 63, 82, 66, 89, 68, 93, 99, 61, 78, 76, 58, 95, 69, 64, 81, 90, 79, 67, 84, 100, 98, 70, 87, 97, 72, 85, 92, 80, 91, 96, 57, 65, 73, 56, 71, 83, 74]\n",
            "[1, 2, 3, 4, 5, 6, 7, 8, 9, 10, 11, 12, 13, 14, 15, 16, 17, 18, 19, 20, 21, 22, 23, 24, 25, 26, 27, 28, 29, 30, 31, 32, 33, 34, 35, 36, 37, 38, 39, 40, 41, 42, 43, 44, 45, 46, 47, 48, 49, 50, 51, 52, 53, 54, 55, 56, 59, 77, 94, 75, 86, 62, 60, 63, 82, 66, 89, 68, 93, 99, 61, 78, 76, 58, 95, 69, 64, 81, 90, 79, 67, 84, 100, 98, 70, 87, 97, 72, 85, 92, 80, 91, 96, 57, 65, 73, 88, 71, 83, 74]\n",
            "[1, 2, 3, 4, 5, 6, 7, 8, 9, 10, 11, 12, 13, 14, 15, 16, 17, 18, 19, 20, 21, 22, 23, 24, 25, 26, 27, 28, 29, 30, 31, 32, 33, 34, 35, 36, 37, 38, 39, 40, 41, 42, 43, 44, 45, 46, 47, 48, 49, 50, 51, 52, 53, 54, 55, 56, 57, 77, 94, 75, 86, 62, 60, 63, 82, 66, 89, 68, 93, 99, 61, 78, 76, 58, 95, 69, 64, 81, 90, 79, 67, 84, 100, 98, 70, 87, 97, 72, 85, 92, 80, 91, 96, 59, 65, 73, 88, 71, 83, 74]\n",
            "[1, 2, 3, 4, 5, 6, 7, 8, 9, 10, 11, 12, 13, 14, 15, 16, 17, 18, 19, 20, 21, 22, 23, 24, 25, 26, 27, 28, 29, 30, 31, 32, 33, 34, 35, 36, 37, 38, 39, 40, 41, 42, 43, 44, 45, 46, 47, 48, 49, 50, 51, 52, 53, 54, 55, 56, 57, 58, 94, 75, 86, 62, 60, 63, 82, 66, 89, 68, 93, 99, 61, 78, 76, 77, 95, 69, 64, 81, 90, 79, 67, 84, 100, 98, 70, 87, 97, 72, 85, 92, 80, 91, 96, 59, 65, 73, 88, 71, 83, 74]\n",
            "[1, 2, 3, 4, 5, 6, 7, 8, 9, 10, 11, 12, 13, 14, 15, 16, 17, 18, 19, 20, 21, 22, 23, 24, 25, 26, 27, 28, 29, 30, 31, 32, 33, 34, 35, 36, 37, 38, 39, 40, 41, 42, 43, 44, 45, 46, 47, 48, 49, 50, 51, 52, 53, 54, 55, 56, 57, 58, 59, 75, 86, 62, 60, 63, 82, 66, 89, 68, 93, 99, 61, 78, 76, 77, 95, 69, 64, 81, 90, 79, 67, 84, 100, 98, 70, 87, 97, 72, 85, 92, 80, 91, 96, 94, 65, 73, 88, 71, 83, 74]\n",
            "[1, 2, 3, 4, 5, 6, 7, 8, 9, 10, 11, 12, 13, 14, 15, 16, 17, 18, 19, 20, 21, 22, 23, 24, 25, 26, 27, 28, 29, 30, 31, 32, 33, 34, 35, 36, 37, 38, 39, 40, 41, 42, 43, 44, 45, 46, 47, 48, 49, 50, 51, 52, 53, 54, 55, 56, 57, 58, 59, 60, 86, 62, 75, 63, 82, 66, 89, 68, 93, 99, 61, 78, 76, 77, 95, 69, 64, 81, 90, 79, 67, 84, 100, 98, 70, 87, 97, 72, 85, 92, 80, 91, 96, 94, 65, 73, 88, 71, 83, 74]\n",
            "[1, 2, 3, 4, 5, 6, 7, 8, 9, 10, 11, 12, 13, 14, 15, 16, 17, 18, 19, 20, 21, 22, 23, 24, 25, 26, 27, 28, 29, 30, 31, 32, 33, 34, 35, 36, 37, 38, 39, 40, 41, 42, 43, 44, 45, 46, 47, 48, 49, 50, 51, 52, 53, 54, 55, 56, 57, 58, 59, 60, 61, 62, 75, 63, 82, 66, 89, 68, 93, 99, 86, 78, 76, 77, 95, 69, 64, 81, 90, 79, 67, 84, 100, 98, 70, 87, 97, 72, 85, 92, 80, 91, 96, 94, 65, 73, 88, 71, 83, 74]\n",
            "[1, 2, 3, 4, 5, 6, 7, 8, 9, 10, 11, 12, 13, 14, 15, 16, 17, 18, 19, 20, 21, 22, 23, 24, 25, 26, 27, 28, 29, 30, 31, 32, 33, 34, 35, 36, 37, 38, 39, 40, 41, 42, 43, 44, 45, 46, 47, 48, 49, 50, 51, 52, 53, 54, 55, 56, 57, 58, 59, 60, 61, 62, 75, 63, 82, 66, 89, 68, 93, 99, 86, 78, 76, 77, 95, 69, 64, 81, 90, 79, 67, 84, 100, 98, 70, 87, 97, 72, 85, 92, 80, 91, 96, 94, 65, 73, 88, 71, 83, 74]\n",
            "[1, 2, 3, 4, 5, 6, 7, 8, 9, 10, 11, 12, 13, 14, 15, 16, 17, 18, 19, 20, 21, 22, 23, 24, 25, 26, 27, 28, 29, 30, 31, 32, 33, 34, 35, 36, 37, 38, 39, 40, 41, 42, 43, 44, 45, 46, 47, 48, 49, 50, 51, 52, 53, 54, 55, 56, 57, 58, 59, 60, 61, 62, 63, 75, 82, 66, 89, 68, 93, 99, 86, 78, 76, 77, 95, 69, 64, 81, 90, 79, 67, 84, 100, 98, 70, 87, 97, 72, 85, 92, 80, 91, 96, 94, 65, 73, 88, 71, 83, 74]\n",
            "[1, 2, 3, 4, 5, 6, 7, 8, 9, 10, 11, 12, 13, 14, 15, 16, 17, 18, 19, 20, 21, 22, 23, 24, 25, 26, 27, 28, 29, 30, 31, 32, 33, 34, 35, 36, 37, 38, 39, 40, 41, 42, 43, 44, 45, 46, 47, 48, 49, 50, 51, 52, 53, 54, 55, 56, 57, 58, 59, 60, 61, 62, 63, 64, 82, 66, 89, 68, 93, 99, 86, 78, 76, 77, 95, 69, 75, 81, 90, 79, 67, 84, 100, 98, 70, 87, 97, 72, 85, 92, 80, 91, 96, 94, 65, 73, 88, 71, 83, 74]\n",
            "[1, 2, 3, 4, 5, 6, 7, 8, 9, 10, 11, 12, 13, 14, 15, 16, 17, 18, 19, 20, 21, 22, 23, 24, 25, 26, 27, 28, 29, 30, 31, 32, 33, 34, 35, 36, 37, 38, 39, 40, 41, 42, 43, 44, 45, 46, 47, 48, 49, 50, 51, 52, 53, 54, 55, 56, 57, 58, 59, 60, 61, 62, 63, 64, 65, 66, 89, 68, 93, 99, 86, 78, 76, 77, 95, 69, 75, 81, 90, 79, 67, 84, 100, 98, 70, 87, 97, 72, 85, 92, 80, 91, 96, 94, 82, 73, 88, 71, 83, 74]\n",
            "[1, 2, 3, 4, 5, 6, 7, 8, 9, 10, 11, 12, 13, 14, 15, 16, 17, 18, 19, 20, 21, 22, 23, 24, 25, 26, 27, 28, 29, 30, 31, 32, 33, 34, 35, 36, 37, 38, 39, 40, 41, 42, 43, 44, 45, 46, 47, 48, 49, 50, 51, 52, 53, 54, 55, 56, 57, 58, 59, 60, 61, 62, 63, 64, 65, 66, 89, 68, 93, 99, 86, 78, 76, 77, 95, 69, 75, 81, 90, 79, 67, 84, 100, 98, 70, 87, 97, 72, 85, 92, 80, 91, 96, 94, 82, 73, 88, 71, 83, 74]\n",
            "[1, 2, 3, 4, 5, 6, 7, 8, 9, 10, 11, 12, 13, 14, 15, 16, 17, 18, 19, 20, 21, 22, 23, 24, 25, 26, 27, 28, 29, 30, 31, 32, 33, 34, 35, 36, 37, 38, 39, 40, 41, 42, 43, 44, 45, 46, 47, 48, 49, 50, 51, 52, 53, 54, 55, 56, 57, 58, 59, 60, 61, 62, 63, 64, 65, 66, 67, 68, 93, 99, 86, 78, 76, 77, 95, 69, 75, 81, 90, 79, 89, 84, 100, 98, 70, 87, 97, 72, 85, 92, 80, 91, 96, 94, 82, 73, 88, 71, 83, 74]\n",
            "[1, 2, 3, 4, 5, 6, 7, 8, 9, 10, 11, 12, 13, 14, 15, 16, 17, 18, 19, 20, 21, 22, 23, 24, 25, 26, 27, 28, 29, 30, 31, 32, 33, 34, 35, 36, 37, 38, 39, 40, 41, 42, 43, 44, 45, 46, 47, 48, 49, 50, 51, 52, 53, 54, 55, 56, 57, 58, 59, 60, 61, 62, 63, 64, 65, 66, 67, 68, 93, 99, 86, 78, 76, 77, 95, 69, 75, 81, 90, 79, 89, 84, 100, 98, 70, 87, 97, 72, 85, 92, 80, 91, 96, 94, 82, 73, 88, 71, 83, 74]\n",
            "[1, 2, 3, 4, 5, 6, 7, 8, 9, 10, 11, 12, 13, 14, 15, 16, 17, 18, 19, 20, 21, 22, 23, 24, 25, 26, 27, 28, 29, 30, 31, 32, 33, 34, 35, 36, 37, 38, 39, 40, 41, 42, 43, 44, 45, 46, 47, 48, 49, 50, 51, 52, 53, 54, 55, 56, 57, 58, 59, 60, 61, 62, 63, 64, 65, 66, 67, 68, 69, 99, 86, 78, 76, 77, 95, 93, 75, 81, 90, 79, 89, 84, 100, 98, 70, 87, 97, 72, 85, 92, 80, 91, 96, 94, 82, 73, 88, 71, 83, 74]\n",
            "[1, 2, 3, 4, 5, 6, 7, 8, 9, 10, 11, 12, 13, 14, 15, 16, 17, 18, 19, 20, 21, 22, 23, 24, 25, 26, 27, 28, 29, 30, 31, 32, 33, 34, 35, 36, 37, 38, 39, 40, 41, 42, 43, 44, 45, 46, 47, 48, 49, 50, 51, 52, 53, 54, 55, 56, 57, 58, 59, 60, 61, 62, 63, 64, 65, 66, 67, 68, 69, 70, 86, 78, 76, 77, 95, 93, 75, 81, 90, 79, 89, 84, 100, 98, 99, 87, 97, 72, 85, 92, 80, 91, 96, 94, 82, 73, 88, 71, 83, 74]\n",
            "[1, 2, 3, 4, 5, 6, 7, 8, 9, 10, 11, 12, 13, 14, 15, 16, 17, 18, 19, 20, 21, 22, 23, 24, 25, 26, 27, 28, 29, 30, 31, 32, 33, 34, 35, 36, 37, 38, 39, 40, 41, 42, 43, 44, 45, 46, 47, 48, 49, 50, 51, 52, 53, 54, 55, 56, 57, 58, 59, 60, 61, 62, 63, 64, 65, 66, 67, 68, 69, 70, 71, 78, 76, 77, 95, 93, 75, 81, 90, 79, 89, 84, 100, 98, 99, 87, 97, 72, 85, 92, 80, 91, 96, 94, 82, 73, 88, 86, 83, 74]\n",
            "[1, 2, 3, 4, 5, 6, 7, 8, 9, 10, 11, 12, 13, 14, 15, 16, 17, 18, 19, 20, 21, 22, 23, 24, 25, 26, 27, 28, 29, 30, 31, 32, 33, 34, 35, 36, 37, 38, 39, 40, 41, 42, 43, 44, 45, 46, 47, 48, 49, 50, 51, 52, 53, 54, 55, 56, 57, 58, 59, 60, 61, 62, 63, 64, 65, 66, 67, 68, 69, 70, 71, 72, 76, 77, 95, 93, 75, 81, 90, 79, 89, 84, 100, 98, 99, 87, 97, 78, 85, 92, 80, 91, 96, 94, 82, 73, 88, 86, 83, 74]\n",
            "[1, 2, 3, 4, 5, 6, 7, 8, 9, 10, 11, 12, 13, 14, 15, 16, 17, 18, 19, 20, 21, 22, 23, 24, 25, 26, 27, 28, 29, 30, 31, 32, 33, 34, 35, 36, 37, 38, 39, 40, 41, 42, 43, 44, 45, 46, 47, 48, 49, 50, 51, 52, 53, 54, 55, 56, 57, 58, 59, 60, 61, 62, 63, 64, 65, 66, 67, 68, 69, 70, 71, 72, 73, 77, 95, 93, 75, 81, 90, 79, 89, 84, 100, 98, 99, 87, 97, 78, 85, 92, 80, 91, 96, 94, 82, 76, 88, 86, 83, 74]\n",
            "[1, 2, 3, 4, 5, 6, 7, 8, 9, 10, 11, 12, 13, 14, 15, 16, 17, 18, 19, 20, 21, 22, 23, 24, 25, 26, 27, 28, 29, 30, 31, 32, 33, 34, 35, 36, 37, 38, 39, 40, 41, 42, 43, 44, 45, 46, 47, 48, 49, 50, 51, 52, 53, 54, 55, 56, 57, 58, 59, 60, 61, 62, 63, 64, 65, 66, 67, 68, 69, 70, 71, 72, 73, 74, 95, 93, 75, 81, 90, 79, 89, 84, 100, 98, 99, 87, 97, 78, 85, 92, 80, 91, 96, 94, 82, 76, 88, 86, 83, 77]\n",
            "[1, 2, 3, 4, 5, 6, 7, 8, 9, 10, 11, 12, 13, 14, 15, 16, 17, 18, 19, 20, 21, 22, 23, 24, 25, 26, 27, 28, 29, 30, 31, 32, 33, 34, 35, 36, 37, 38, 39, 40, 41, 42, 43, 44, 45, 46, 47, 48, 49, 50, 51, 52, 53, 54, 55, 56, 57, 58, 59, 60, 61, 62, 63, 64, 65, 66, 67, 68, 69, 70, 71, 72, 73, 74, 75, 93, 95, 81, 90, 79, 89, 84, 100, 98, 99, 87, 97, 78, 85, 92, 80, 91, 96, 94, 82, 76, 88, 86, 83, 77]\n",
            "[1, 2, 3, 4, 5, 6, 7, 8, 9, 10, 11, 12, 13, 14, 15, 16, 17, 18, 19, 20, 21, 22, 23, 24, 25, 26, 27, 28, 29, 30, 31, 32, 33, 34, 35, 36, 37, 38, 39, 40, 41, 42, 43, 44, 45, 46, 47, 48, 49, 50, 51, 52, 53, 54, 55, 56, 57, 58, 59, 60, 61, 62, 63, 64, 65, 66, 67, 68, 69, 70, 71, 72, 73, 74, 75, 76, 95, 81, 90, 79, 89, 84, 100, 98, 99, 87, 97, 78, 85, 92, 80, 91, 96, 94, 82, 93, 88, 86, 83, 77]\n",
            "[1, 2, 3, 4, 5, 6, 7, 8, 9, 10, 11, 12, 13, 14, 15, 16, 17, 18, 19, 20, 21, 22, 23, 24, 25, 26, 27, 28, 29, 30, 31, 32, 33, 34, 35, 36, 37, 38, 39, 40, 41, 42, 43, 44, 45, 46, 47, 48, 49, 50, 51, 52, 53, 54, 55, 56, 57, 58, 59, 60, 61, 62, 63, 64, 65, 66, 67, 68, 69, 70, 71, 72, 73, 74, 75, 76, 77, 81, 90, 79, 89, 84, 100, 98, 99, 87, 97, 78, 85, 92, 80, 91, 96, 94, 82, 93, 88, 86, 83, 95]\n",
            "[1, 2, 3, 4, 5, 6, 7, 8, 9, 10, 11, 12, 13, 14, 15, 16, 17, 18, 19, 20, 21, 22, 23, 24, 25, 26, 27, 28, 29, 30, 31, 32, 33, 34, 35, 36, 37, 38, 39, 40, 41, 42, 43, 44, 45, 46, 47, 48, 49, 50, 51, 52, 53, 54, 55, 56, 57, 58, 59, 60, 61, 62, 63, 64, 65, 66, 67, 68, 69, 70, 71, 72, 73, 74, 75, 76, 77, 78, 90, 79, 89, 84, 100, 98, 99, 87, 97, 81, 85, 92, 80, 91, 96, 94, 82, 93, 88, 86, 83, 95]\n",
            "[1, 2, 3, 4, 5, 6, 7, 8, 9, 10, 11, 12, 13, 14, 15, 16, 17, 18, 19, 20, 21, 22, 23, 24, 25, 26, 27, 28, 29, 30, 31, 32, 33, 34, 35, 36, 37, 38, 39, 40, 41, 42, 43, 44, 45, 46, 47, 48, 49, 50, 51, 52, 53, 54, 55, 56, 57, 58, 59, 60, 61, 62, 63, 64, 65, 66, 67, 68, 69, 70, 71, 72, 73, 74, 75, 76, 77, 78, 79, 90, 89, 84, 100, 98, 99, 87, 97, 81, 85, 92, 80, 91, 96, 94, 82, 93, 88, 86, 83, 95]\n",
            "[1, 2, 3, 4, 5, 6, 7, 8, 9, 10, 11, 12, 13, 14, 15, 16, 17, 18, 19, 20, 21, 22, 23, 24, 25, 26, 27, 28, 29, 30, 31, 32, 33, 34, 35, 36, 37, 38, 39, 40, 41, 42, 43, 44, 45, 46, 47, 48, 49, 50, 51, 52, 53, 54, 55, 56, 57, 58, 59, 60, 61, 62, 63, 64, 65, 66, 67, 68, 69, 70, 71, 72, 73, 74, 75, 76, 77, 78, 79, 80, 89, 84, 100, 98, 99, 87, 97, 81, 85, 92, 90, 91, 96, 94, 82, 93, 88, 86, 83, 95]\n",
            "[1, 2, 3, 4, 5, 6, 7, 8, 9, 10, 11, 12, 13, 14, 15, 16, 17, 18, 19, 20, 21, 22, 23, 24, 25, 26, 27, 28, 29, 30, 31, 32, 33, 34, 35, 36, 37, 38, 39, 40, 41, 42, 43, 44, 45, 46, 47, 48, 49, 50, 51, 52, 53, 54, 55, 56, 57, 58, 59, 60, 61, 62, 63, 64, 65, 66, 67, 68, 69, 70, 71, 72, 73, 74, 75, 76, 77, 78, 79, 80, 81, 84, 100, 98, 99, 87, 97, 89, 85, 92, 90, 91, 96, 94, 82, 93, 88, 86, 83, 95]\n",
            "[1, 2, 3, 4, 5, 6, 7, 8, 9, 10, 11, 12, 13, 14, 15, 16, 17, 18, 19, 20, 21, 22, 23, 24, 25, 26, 27, 28, 29, 30, 31, 32, 33, 34, 35, 36, 37, 38, 39, 40, 41, 42, 43, 44, 45, 46, 47, 48, 49, 50, 51, 52, 53, 54, 55, 56, 57, 58, 59, 60, 61, 62, 63, 64, 65, 66, 67, 68, 69, 70, 71, 72, 73, 74, 75, 76, 77, 78, 79, 80, 81, 82, 100, 98, 99, 87, 97, 89, 85, 92, 90, 91, 96, 94, 84, 93, 88, 86, 83, 95]\n",
            "[1, 2, 3, 4, 5, 6, 7, 8, 9, 10, 11, 12, 13, 14, 15, 16, 17, 18, 19, 20, 21, 22, 23, 24, 25, 26, 27, 28, 29, 30, 31, 32, 33, 34, 35, 36, 37, 38, 39, 40, 41, 42, 43, 44, 45, 46, 47, 48, 49, 50, 51, 52, 53, 54, 55, 56, 57, 58, 59, 60, 61, 62, 63, 64, 65, 66, 67, 68, 69, 70, 71, 72, 73, 74, 75, 76, 77, 78, 79, 80, 81, 82, 83, 98, 99, 87, 97, 89, 85, 92, 90, 91, 96, 94, 84, 93, 88, 86, 100, 95]\n",
            "[1, 2, 3, 4, 5, 6, 7, 8, 9, 10, 11, 12, 13, 14, 15, 16, 17, 18, 19, 20, 21, 22, 23, 24, 25, 26, 27, 28, 29, 30, 31, 32, 33, 34, 35, 36, 37, 38, 39, 40, 41, 42, 43, 44, 45, 46, 47, 48, 49, 50, 51, 52, 53, 54, 55, 56, 57, 58, 59, 60, 61, 62, 63, 64, 65, 66, 67, 68, 69, 70, 71, 72, 73, 74, 75, 76, 77, 78, 79, 80, 81, 82, 83, 84, 99, 87, 97, 89, 85, 92, 90, 91, 96, 94, 98, 93, 88, 86, 100, 95]\n",
            "[1, 2, 3, 4, 5, 6, 7, 8, 9, 10, 11, 12, 13, 14, 15, 16, 17, 18, 19, 20, 21, 22, 23, 24, 25, 26, 27, 28, 29, 30, 31, 32, 33, 34, 35, 36, 37, 38, 39, 40, 41, 42, 43, 44, 45, 46, 47, 48, 49, 50, 51, 52, 53, 54, 55, 56, 57, 58, 59, 60, 61, 62, 63, 64, 65, 66, 67, 68, 69, 70, 71, 72, 73, 74, 75, 76, 77, 78, 79, 80, 81, 82, 83, 84, 85, 87, 97, 89, 99, 92, 90, 91, 96, 94, 98, 93, 88, 86, 100, 95]\n",
            "[1, 2, 3, 4, 5, 6, 7, 8, 9, 10, 11, 12, 13, 14, 15, 16, 17, 18, 19, 20, 21, 22, 23, 24, 25, 26, 27, 28, 29, 30, 31, 32, 33, 34, 35, 36, 37, 38, 39, 40, 41, 42, 43, 44, 45, 46, 47, 48, 49, 50, 51, 52, 53, 54, 55, 56, 57, 58, 59, 60, 61, 62, 63, 64, 65, 66, 67, 68, 69, 70, 71, 72, 73, 74, 75, 76, 77, 78, 79, 80, 81, 82, 83, 84, 85, 86, 97, 89, 99, 92, 90, 91, 96, 94, 98, 93, 88, 87, 100, 95]\n",
            "[1, 2, 3, 4, 5, 6, 7, 8, 9, 10, 11, 12, 13, 14, 15, 16, 17, 18, 19, 20, 21, 22, 23, 24, 25, 26, 27, 28, 29, 30, 31, 32, 33, 34, 35, 36, 37, 38, 39, 40, 41, 42, 43, 44, 45, 46, 47, 48, 49, 50, 51, 52, 53, 54, 55, 56, 57, 58, 59, 60, 61, 62, 63, 64, 65, 66, 67, 68, 69, 70, 71, 72, 73, 74, 75, 76, 77, 78, 79, 80, 81, 82, 83, 84, 85, 86, 87, 89, 99, 92, 90, 91, 96, 94, 98, 93, 88, 97, 100, 95]\n",
            "[1, 2, 3, 4, 5, 6, 7, 8, 9, 10, 11, 12, 13, 14, 15, 16, 17, 18, 19, 20, 21, 22, 23, 24, 25, 26, 27, 28, 29, 30, 31, 32, 33, 34, 35, 36, 37, 38, 39, 40, 41, 42, 43, 44, 45, 46, 47, 48, 49, 50, 51, 52, 53, 54, 55, 56, 57, 58, 59, 60, 61, 62, 63, 64, 65, 66, 67, 68, 69, 70, 71, 72, 73, 74, 75, 76, 77, 78, 79, 80, 81, 82, 83, 84, 85, 86, 87, 88, 99, 92, 90, 91, 96, 94, 98, 93, 89, 97, 100, 95]\n",
            "[1, 2, 3, 4, 5, 6, 7, 8, 9, 10, 11, 12, 13, 14, 15, 16, 17, 18, 19, 20, 21, 22, 23, 24, 25, 26, 27, 28, 29, 30, 31, 32, 33, 34, 35, 36, 37, 38, 39, 40, 41, 42, 43, 44, 45, 46, 47, 48, 49, 50, 51, 52, 53, 54, 55, 56, 57, 58, 59, 60, 61, 62, 63, 64, 65, 66, 67, 68, 69, 70, 71, 72, 73, 74, 75, 76, 77, 78, 79, 80, 81, 82, 83, 84, 85, 86, 87, 88, 89, 92, 90, 91, 96, 94, 98, 93, 99, 97, 100, 95]\n",
            "[1, 2, 3, 4, 5, 6, 7, 8, 9, 10, 11, 12, 13, 14, 15, 16, 17, 18, 19, 20, 21, 22, 23, 24, 25, 26, 27, 28, 29, 30, 31, 32, 33, 34, 35, 36, 37, 38, 39, 40, 41, 42, 43, 44, 45, 46, 47, 48, 49, 50, 51, 52, 53, 54, 55, 56, 57, 58, 59, 60, 61, 62, 63, 64, 65, 66, 67, 68, 69, 70, 71, 72, 73, 74, 75, 76, 77, 78, 79, 80, 81, 82, 83, 84, 85, 86, 87, 88, 89, 90, 92, 91, 96, 94, 98, 93, 99, 97, 100, 95]\n",
            "[1, 2, 3, 4, 5, 6, 7, 8, 9, 10, 11, 12, 13, 14, 15, 16, 17, 18, 19, 20, 21, 22, 23, 24, 25, 26, 27, 28, 29, 30, 31, 32, 33, 34, 35, 36, 37, 38, 39, 40, 41, 42, 43, 44, 45, 46, 47, 48, 49, 50, 51, 52, 53, 54, 55, 56, 57, 58, 59, 60, 61, 62, 63, 64, 65, 66, 67, 68, 69, 70, 71, 72, 73, 74, 75, 76, 77, 78, 79, 80, 81, 82, 83, 84, 85, 86, 87, 88, 89, 90, 91, 92, 96, 94, 98, 93, 99, 97, 100, 95]\n",
            "[1, 2, 3, 4, 5, 6, 7, 8, 9, 10, 11, 12, 13, 14, 15, 16, 17, 18, 19, 20, 21, 22, 23, 24, 25, 26, 27, 28, 29, 30, 31, 32, 33, 34, 35, 36, 37, 38, 39, 40, 41, 42, 43, 44, 45, 46, 47, 48, 49, 50, 51, 52, 53, 54, 55, 56, 57, 58, 59, 60, 61, 62, 63, 64, 65, 66, 67, 68, 69, 70, 71, 72, 73, 74, 75, 76, 77, 78, 79, 80, 81, 82, 83, 84, 85, 86, 87, 88, 89, 90, 91, 92, 96, 94, 98, 93, 99, 97, 100, 95]\n",
            "[1, 2, 3, 4, 5, 6, 7, 8, 9, 10, 11, 12, 13, 14, 15, 16, 17, 18, 19, 20, 21, 22, 23, 24, 25, 26, 27, 28, 29, 30, 31, 32, 33, 34, 35, 36, 37, 38, 39, 40, 41, 42, 43, 44, 45, 46, 47, 48, 49, 50, 51, 52, 53, 54, 55, 56, 57, 58, 59, 60, 61, 62, 63, 64, 65, 66, 67, 68, 69, 70, 71, 72, 73, 74, 75, 76, 77, 78, 79, 80, 81, 82, 83, 84, 85, 86, 87, 88, 89, 90, 91, 92, 93, 94, 98, 96, 99, 97, 100, 95]\n",
            "[1, 2, 3, 4, 5, 6, 7, 8, 9, 10, 11, 12, 13, 14, 15, 16, 17, 18, 19, 20, 21, 22, 23, 24, 25, 26, 27, 28, 29, 30, 31, 32, 33, 34, 35, 36, 37, 38, 39, 40, 41, 42, 43, 44, 45, 46, 47, 48, 49, 50, 51, 52, 53, 54, 55, 56, 57, 58, 59, 60, 61, 62, 63, 64, 65, 66, 67, 68, 69, 70, 71, 72, 73, 74, 75, 76, 77, 78, 79, 80, 81, 82, 83, 84, 85, 86, 87, 88, 89, 90, 91, 92, 93, 94, 98, 96, 99, 97, 100, 95]\n",
            "[1, 2, 3, 4, 5, 6, 7, 8, 9, 10, 11, 12, 13, 14, 15, 16, 17, 18, 19, 20, 21, 22, 23, 24, 25, 26, 27, 28, 29, 30, 31, 32, 33, 34, 35, 36, 37, 38, 39, 40, 41, 42, 43, 44, 45, 46, 47, 48, 49, 50, 51, 52, 53, 54, 55, 56, 57, 58, 59, 60, 61, 62, 63, 64, 65, 66, 67, 68, 69, 70, 71, 72, 73, 74, 75, 76, 77, 78, 79, 80, 81, 82, 83, 84, 85, 86, 87, 88, 89, 90, 91, 92, 93, 94, 95, 96, 99, 97, 100, 98]\n",
            "[1, 2, 3, 4, 5, 6, 7, 8, 9, 10, 11, 12, 13, 14, 15, 16, 17, 18, 19, 20, 21, 22, 23, 24, 25, 26, 27, 28, 29, 30, 31, 32, 33, 34, 35, 36, 37, 38, 39, 40, 41, 42, 43, 44, 45, 46, 47, 48, 49, 50, 51, 52, 53, 54, 55, 56, 57, 58, 59, 60, 61, 62, 63, 64, 65, 66, 67, 68, 69, 70, 71, 72, 73, 74, 75, 76, 77, 78, 79, 80, 81, 82, 83, 84, 85, 86, 87, 88, 89, 90, 91, 92, 93, 94, 95, 96, 99, 97, 100, 98]\n",
            "[1, 2, 3, 4, 5, 6, 7, 8, 9, 10, 11, 12, 13, 14, 15, 16, 17, 18, 19, 20, 21, 22, 23, 24, 25, 26, 27, 28, 29, 30, 31, 32, 33, 34, 35, 36, 37, 38, 39, 40, 41, 42, 43, 44, 45, 46, 47, 48, 49, 50, 51, 52, 53, 54, 55, 56, 57, 58, 59, 60, 61, 62, 63, 64, 65, 66, 67, 68, 69, 70, 71, 72, 73, 74, 75, 76, 77, 78, 79, 80, 81, 82, 83, 84, 85, 86, 87, 88, 89, 90, 91, 92, 93, 94, 95, 96, 97, 99, 100, 98]\n",
            "[1, 2, 3, 4, 5, 6, 7, 8, 9, 10, 11, 12, 13, 14, 15, 16, 17, 18, 19, 20, 21, 22, 23, 24, 25, 26, 27, 28, 29, 30, 31, 32, 33, 34, 35, 36, 37, 38, 39, 40, 41, 42, 43, 44, 45, 46, 47, 48, 49, 50, 51, 52, 53, 54, 55, 56, 57, 58, 59, 60, 61, 62, 63, 64, 65, 66, 67, 68, 69, 70, 71, 72, 73, 74, 75, 76, 77, 78, 79, 80, 81, 82, 83, 84, 85, 86, 87, 88, 89, 90, 91, 92, 93, 94, 95, 96, 97, 98, 100, 99]\n",
            "[1, 2, 3, 4, 5, 6, 7, 8, 9, 10, 11, 12, 13, 14, 15, 16, 17, 18, 19, 20, 21, 22, 23, 24, 25, 26, 27, 28, 29, 30, 31, 32, 33, 34, 35, 36, 37, 38, 39, 40, 41, 42, 43, 44, 45, 46, 47, 48, 49, 50, 51, 52, 53, 54, 55, 56, 57, 58, 59, 60, 61, 62, 63, 64, 65, 66, 67, 68, 69, 70, 71, 72, 73, 74, 75, 76, 77, 78, 79, 80, 81, 82, 83, 84, 85, 86, 87, 88, 89, 90, 91, 92, 93, 94, 95, 96, 97, 98, 99, 100]\n",
            "Shape of the list: 99 x [100, 100, 100, 100, 100, 100, 100, 100, 100, 100, 100, 100, 100, 100, 100, 100, 100, 100, 100, 100, 100, 100, 100, 100, 100, 100, 100, 100, 100, 100, 100, 100, 100, 100, 100, 100, 100, 100, 100, 100, 100, 100, 100, 100, 100, 100, 100, 100, 100, 100, 100, 100, 100, 100, 100, 100, 100, 100, 100, 100, 100, 100, 100, 100, 100, 100, 100, 100, 100, 100, 100, 100, 100, 100, 100, 100, 100, 100, 100, 100, 100, 100, 100, 100, 100, 100, 100, 100, 100, 100, 100, 100, 100, 100, 100, 100, 100, 100, 100]\n",
            "Ausführungsdauer: 0.004000663757324219\n",
            "Länge des Datensatzes: 99\n",
            "[[1, 84, 13, 63, 79, 53, 36, 5, 89, 48, 28, 57, 92, 31, 47, 98, 91, 70, 46, 8, 51, 94, 25, 16, 59, 12, 90, 3, 7, 43, 32, 17, 27, 9, 68, 74, 30, 22, 50, 10, 80, 58, 39, 54, 18, 55, 61, 67, 35, 69, 75, 81, 71, 2, 95, 88, 23, 77, 38, 21, 86, 62, 60, 4, 82, 66, 34, 49, 93, 99, 15, 78, 76, 42, 19, 37, 64, 52, 33, 20, 40, 44, 100, 24, 45, 87, 97, 72, 85, 11, 41, 14, 96, 26, 65, 73, 56, 6, 83, 29], [1, 2, 13, 63, 79, 53, 36, 5, 89, 48, 28, 57, 92, 31, 47, 98, 91, 70, 46, 8, 51, 94, 25, 16, 59, 12, 90, 3, 7, 43, 32, 17, 27, 9, 68, 74, 30, 22, 50, 10, 80, 58, 39, 54, 18, 55, 61, 67, 35, 69, 75, 81, 71, 84, 95, 88, 23, 77, 38, 21, 86, 62, 60, 4, 82, 66, 34, 49, 93, 99, 15, 78, 76, 42, 19, 37, 64, 52, 33, 20, 40, 44, 100, 24, 45, 87, 97, 72, 85, 11, 41, 14, 96, 26, 65, 73, 56, 6, 83, 29], [1, 2, 3, 63, 79, 53, 36, 5, 89, 48, 28, 57, 92, 31, 47, 98, 91, 70, 46, 8, 51, 94, 25, 16, 59, 12, 90, 13, 7, 43, 32, 17, 27, 9, 68, 74, 30, 22, 50, 10, 80, 58, 39, 54, 18, 55, 61, 67, 35, 69, 75, 81, 71, 84, 95, 88, 23, 77, 38, 21, 86, 62, 60, 4, 82, 66, 34, 49, 93, 99, 15, 78, 76, 42, 19, 37, 64, 52, 33, 20, 40, 44, 100, 24, 45, 87, 97, 72, 85, 11, 41, 14, 96, 26, 65, 73, 56, 6, 83, 29], [1, 2, 3, 4, 79, 53, 36, 5, 89, 48, 28, 57, 92, 31, 47, 98, 91, 70, 46, 8, 51, 94, 25, 16, 59, 12, 90, 13, 7, 43, 32, 17, 27, 9, 68, 74, 30, 22, 50, 10, 80, 58, 39, 54, 18, 55, 61, 67, 35, 69, 75, 81, 71, 84, 95, 88, 23, 77, 38, 21, 86, 62, 60, 63, 82, 66, 34, 49, 93, 99, 15, 78, 76, 42, 19, 37, 64, 52, 33, 20, 40, 44, 100, 24, 45, 87, 97, 72, 85, 11, 41, 14, 96, 26, 65, 73, 56, 6, 83, 29], [1, 2, 3, 4, 5, 53, 36, 79, 89, 48, 28, 57, 92, 31, 47, 98, 91, 70, 46, 8, 51, 94, 25, 16, 59, 12, 90, 13, 7, 43, 32, 17, 27, 9, 68, 74, 30, 22, 50, 10, 80, 58, 39, 54, 18, 55, 61, 67, 35, 69, 75, 81, 71, 84, 95, 88, 23, 77, 38, 21, 86, 62, 60, 63, 82, 66, 34, 49, 93, 99, 15, 78, 76, 42, 19, 37, 64, 52, 33, 20, 40, 44, 100, 24, 45, 87, 97, 72, 85, 11, 41, 14, 96, 26, 65, 73, 56, 6, 83, 29], [1, 2, 3, 4, 5, 6, 36, 79, 89, 48, 28, 57, 92, 31, 47, 98, 91, 70, 46, 8, 51, 94, 25, 16, 59, 12, 90, 13, 7, 43, 32, 17, 27, 9, 68, 74, 30, 22, 50, 10, 80, 58, 39, 54, 18, 55, 61, 67, 35, 69, 75, 81, 71, 84, 95, 88, 23, 77, 38, 21, 86, 62, 60, 63, 82, 66, 34, 49, 93, 99, 15, 78, 76, 42, 19, 37, 64, 52, 33, 20, 40, 44, 100, 24, 45, 87, 97, 72, 85, 11, 41, 14, 96, 26, 65, 73, 56, 53, 83, 29], [1, 2, 3, 4, 5, 6, 7, 79, 89, 48, 28, 57, 92, 31, 47, 98, 91, 70, 46, 8, 51, 94, 25, 16, 59, 12, 90, 13, 36, 43, 32, 17, 27, 9, 68, 74, 30, 22, 50, 10, 80, 58, 39, 54, 18, 55, 61, 67, 35, 69, 75, 81, 71, 84, 95, 88, 23, 77, 38, 21, 86, 62, 60, 63, 82, 66, 34, 49, 93, 99, 15, 78, 76, 42, 19, 37, 64, 52, 33, 20, 40, 44, 100, 24, 45, 87, 97, 72, 85, 11, 41, 14, 96, 26, 65, 73, 56, 53, 83, 29], [1, 2, 3, 4, 5, 6, 7, 8, 89, 48, 28, 57, 92, 31, 47, 98, 91, 70, 46, 79, 51, 94, 25, 16, 59, 12, 90, 13, 36, 43, 32, 17, 27, 9, 68, 74, 30, 22, 50, 10, 80, 58, 39, 54, 18, 55, 61, 67, 35, 69, 75, 81, 71, 84, 95, 88, 23, 77, 38, 21, 86, 62, 60, 63, 82, 66, 34, 49, 93, 99, 15, 78, 76, 42, 19, 37, 64, 52, 33, 20, 40, 44, 100, 24, 45, 87, 97, 72, 85, 11, 41, 14, 96, 26, 65, 73, 56, 53, 83, 29], [1, 2, 3, 4, 5, 6, 7, 8, 9, 48, 28, 57, 92, 31, 47, 98, 91, 70, 46, 79, 51, 94, 25, 16, 59, 12, 90, 13, 36, 43, 32, 17, 27, 89, 68, 74, 30, 22, 50, 10, 80, 58, 39, 54, 18, 55, 61, 67, 35, 69, 75, 81, 71, 84, 95, 88, 23, 77, 38, 21, 86, 62, 60, 63, 82, 66, 34, 49, 93, 99, 15, 78, 76, 42, 19, 37, 64, 52, 33, 20, 40, 44, 100, 24, 45, 87, 97, 72, 85, 11, 41, 14, 96, 26, 65, 73, 56, 53, 83, 29], [1, 2, 3, 4, 5, 6, 7, 8, 9, 10, 28, 57, 92, 31, 47, 98, 91, 70, 46, 79, 51, 94, 25, 16, 59, 12, 90, 13, 36, 43, 32, 17, 27, 89, 68, 74, 30, 22, 50, 48, 80, 58, 39, 54, 18, 55, 61, 67, 35, 69, 75, 81, 71, 84, 95, 88, 23, 77, 38, 21, 86, 62, 60, 63, 82, 66, 34, 49, 93, 99, 15, 78, 76, 42, 19, 37, 64, 52, 33, 20, 40, 44, 100, 24, 45, 87, 97, 72, 85, 11, 41, 14, 96, 26, 65, 73, 56, 53, 83, 29], [1, 2, 3, 4, 5, 6, 7, 8, 9, 10, 11, 57, 92, 31, 47, 98, 91, 70, 46, 79, 51, 94, 25, 16, 59, 12, 90, 13, 36, 43, 32, 17, 27, 89, 68, 74, 30, 22, 50, 48, 80, 58, 39, 54, 18, 55, 61, 67, 35, 69, 75, 81, 71, 84, 95, 88, 23, 77, 38, 21, 86, 62, 60, 63, 82, 66, 34, 49, 93, 99, 15, 78, 76, 42, 19, 37, 64, 52, 33, 20, 40, 44, 100, 24, 45, 87, 97, 72, 85, 28, 41, 14, 96, 26, 65, 73, 56, 53, 83, 29], [1, 2, 3, 4, 5, 6, 7, 8, 9, 10, 11, 12, 92, 31, 47, 98, 91, 70, 46, 79, 51, 94, 25, 16, 59, 57, 90, 13, 36, 43, 32, 17, 27, 89, 68, 74, 30, 22, 50, 48, 80, 58, 39, 54, 18, 55, 61, 67, 35, 69, 75, 81, 71, 84, 95, 88, 23, 77, 38, 21, 86, 62, 60, 63, 82, 66, 34, 49, 93, 99, 15, 78, 76, 42, 19, 37, 64, 52, 33, 20, 40, 44, 100, 24, 45, 87, 97, 72, 85, 28, 41, 14, 96, 26, 65, 73, 56, 53, 83, 29], [1, 2, 3, 4, 5, 6, 7, 8, 9, 10, 11, 12, 13, 31, 47, 98, 91, 70, 46, 79, 51, 94, 25, 16, 59, 57, 90, 92, 36, 43, 32, 17, 27, 89, 68, 74, 30, 22, 50, 48, 80, 58, 39, 54, 18, 55, 61, 67, 35, 69, 75, 81, 71, 84, 95, 88, 23, 77, 38, 21, 86, 62, 60, 63, 82, 66, 34, 49, 93, 99, 15, 78, 76, 42, 19, 37, 64, 52, 33, 20, 40, 44, 100, 24, 45, 87, 97, 72, 85, 28, 41, 14, 96, 26, 65, 73, 56, 53, 83, 29], [1, 2, 3, 4, 5, 6, 7, 8, 9, 10, 11, 12, 13, 14, 47, 98, 91, 70, 46, 79, 51, 94, 25, 16, 59, 57, 90, 92, 36, 43, 32, 17, 27, 89, 68, 74, 30, 22, 50, 48, 80, 58, 39, 54, 18, 55, 61, 67, 35, 69, 75, 81, 71, 84, 95, 88, 23, 77, 38, 21, 86, 62, 60, 63, 82, 66, 34, 49, 93, 99, 15, 78, 76, 42, 19, 37, 64, 52, 33, 20, 40, 44, 100, 24, 45, 87, 97, 72, 85, 28, 41, 31, 96, 26, 65, 73, 56, 53, 83, 29], [1, 2, 3, 4, 5, 6, 7, 8, 9, 10, 11, 12, 13, 14, 15, 98, 91, 70, 46, 79, 51, 94, 25, 16, 59, 57, 90, 92, 36, 43, 32, 17, 27, 89, 68, 74, 30, 22, 50, 48, 80, 58, 39, 54, 18, 55, 61, 67, 35, 69, 75, 81, 71, 84, 95, 88, 23, 77, 38, 21, 86, 62, 60, 63, 82, 66, 34, 49, 93, 99, 47, 78, 76, 42, 19, 37, 64, 52, 33, 20, 40, 44, 100, 24, 45, 87, 97, 72, 85, 28, 41, 31, 96, 26, 65, 73, 56, 53, 83, 29], [1, 2, 3, 4, 5, 6, 7, 8, 9, 10, 11, 12, 13, 14, 15, 16, 91, 70, 46, 79, 51, 94, 25, 98, 59, 57, 90, 92, 36, 43, 32, 17, 27, 89, 68, 74, 30, 22, 50, 48, 80, 58, 39, 54, 18, 55, 61, 67, 35, 69, 75, 81, 71, 84, 95, 88, 23, 77, 38, 21, 86, 62, 60, 63, 82, 66, 34, 49, 93, 99, 47, 78, 76, 42, 19, 37, 64, 52, 33, 20, 40, 44, 100, 24, 45, 87, 97, 72, 85, 28, 41, 31, 96, 26, 65, 73, 56, 53, 83, 29], [1, 2, 3, 4, 5, 6, 7, 8, 9, 10, 11, 12, 13, 14, 15, 16, 17, 70, 46, 79, 51, 94, 25, 98, 59, 57, 90, 92, 36, 43, 32, 91, 27, 89, 68, 74, 30, 22, 50, 48, 80, 58, 39, 54, 18, 55, 61, 67, 35, 69, 75, 81, 71, 84, 95, 88, 23, 77, 38, 21, 86, 62, 60, 63, 82, 66, 34, 49, 93, 99, 47, 78, 76, 42, 19, 37, 64, 52, 33, 20, 40, 44, 100, 24, 45, 87, 97, 72, 85, 28, 41, 31, 96, 26, 65, 73, 56, 53, 83, 29], [1, 2, 3, 4, 5, 6, 7, 8, 9, 10, 11, 12, 13, 14, 15, 16, 17, 18, 46, 79, 51, 94, 25, 98, 59, 57, 90, 92, 36, 43, 32, 91, 27, 89, 68, 74, 30, 22, 50, 48, 80, 58, 39, 54, 70, 55, 61, 67, 35, 69, 75, 81, 71, 84, 95, 88, 23, 77, 38, 21, 86, 62, 60, 63, 82, 66, 34, 49, 93, 99, 47, 78, 76, 42, 19, 37, 64, 52, 33, 20, 40, 44, 100, 24, 45, 87, 97, 72, 85, 28, 41, 31, 96, 26, 65, 73, 56, 53, 83, 29], [1, 2, 3, 4, 5, 6, 7, 8, 9, 10, 11, 12, 13, 14, 15, 16, 17, 18, 19, 79, 51, 94, 25, 98, 59, 57, 90, 92, 36, 43, 32, 91, 27, 89, 68, 74, 30, 22, 50, 48, 80, 58, 39, 54, 70, 55, 61, 67, 35, 69, 75, 81, 71, 84, 95, 88, 23, 77, 38, 21, 86, 62, 60, 63, 82, 66, 34, 49, 93, 99, 47, 78, 76, 42, 46, 37, 64, 52, 33, 20, 40, 44, 100, 24, 45, 87, 97, 72, 85, 28, 41, 31, 96, 26, 65, 73, 56, 53, 83, 29], [1, 2, 3, 4, 5, 6, 7, 8, 9, 10, 11, 12, 13, 14, 15, 16, 17, 18, 19, 20, 51, 94, 25, 98, 59, 57, 90, 92, 36, 43, 32, 91, 27, 89, 68, 74, 30, 22, 50, 48, 80, 58, 39, 54, 70, 55, 61, 67, 35, 69, 75, 81, 71, 84, 95, 88, 23, 77, 38, 21, 86, 62, 60, 63, 82, 66, 34, 49, 93, 99, 47, 78, 76, 42, 46, 37, 64, 52, 33, 79, 40, 44, 100, 24, 45, 87, 97, 72, 85, 28, 41, 31, 96, 26, 65, 73, 56, 53, 83, 29], [1, 2, 3, 4, 5, 6, 7, 8, 9, 10, 11, 12, 13, 14, 15, 16, 17, 18, 19, 20, 21, 94, 25, 98, 59, 57, 90, 92, 36, 43, 32, 91, 27, 89, 68, 74, 30, 22, 50, 48, 80, 58, 39, 54, 70, 55, 61, 67, 35, 69, 75, 81, 71, 84, 95, 88, 23, 77, 38, 51, 86, 62, 60, 63, 82, 66, 34, 49, 93, 99, 47, 78, 76, 42, 46, 37, 64, 52, 33, 79, 40, 44, 100, 24, 45, 87, 97, 72, 85, 28, 41, 31, 96, 26, 65, 73, 56, 53, 83, 29], [1, 2, 3, 4, 5, 6, 7, 8, 9, 10, 11, 12, 13, 14, 15, 16, 17, 18, 19, 20, 21, 22, 25, 98, 59, 57, 90, 92, 36, 43, 32, 91, 27, 89, 68, 74, 30, 94, 50, 48, 80, 58, 39, 54, 70, 55, 61, 67, 35, 69, 75, 81, 71, 84, 95, 88, 23, 77, 38, 51, 86, 62, 60, 63, 82, 66, 34, 49, 93, 99, 47, 78, 76, 42, 46, 37, 64, 52, 33, 79, 40, 44, 100, 24, 45, 87, 97, 72, 85, 28, 41, 31, 96, 26, 65, 73, 56, 53, 83, 29], [1, 2, 3, 4, 5, 6, 7, 8, 9, 10, 11, 12, 13, 14, 15, 16, 17, 18, 19, 20, 21, 22, 23, 98, 59, 57, 90, 92, 36, 43, 32, 91, 27, 89, 68, 74, 30, 94, 50, 48, 80, 58, 39, 54, 70, 55, 61, 67, 35, 69, 75, 81, 71, 84, 95, 88, 25, 77, 38, 51, 86, 62, 60, 63, 82, 66, 34, 49, 93, 99, 47, 78, 76, 42, 46, 37, 64, 52, 33, 79, 40, 44, 100, 24, 45, 87, 97, 72, 85, 28, 41, 31, 96, 26, 65, 73, 56, 53, 83, 29], [1, 2, 3, 4, 5, 6, 7, 8, 9, 10, 11, 12, 13, 14, 15, 16, 17, 18, 19, 20, 21, 22, 23, 24, 59, 57, 90, 92, 36, 43, 32, 91, 27, 89, 68, 74, 30, 94, 50, 48, 80, 58, 39, 54, 70, 55, 61, 67, 35, 69, 75, 81, 71, 84, 95, 88, 25, 77, 38, 51, 86, 62, 60, 63, 82, 66, 34, 49, 93, 99, 47, 78, 76, 42, 46, 37, 64, 52, 33, 79, 40, 44, 100, 98, 45, 87, 97, 72, 85, 28, 41, 31, 96, 26, 65, 73, 56, 53, 83, 29], [1, 2, 3, 4, 5, 6, 7, 8, 9, 10, 11, 12, 13, 14, 15, 16, 17, 18, 19, 20, 21, 22, 23, 24, 25, 57, 90, 92, 36, 43, 32, 91, 27, 89, 68, 74, 30, 94, 50, 48, 80, 58, 39, 54, 70, 55, 61, 67, 35, 69, 75, 81, 71, 84, 95, 88, 59, 77, 38, 51, 86, 62, 60, 63, 82, 66, 34, 49, 93, 99, 47, 78, 76, 42, 46, 37, 64, 52, 33, 79, 40, 44, 100, 98, 45, 87, 97, 72, 85, 28, 41, 31, 96, 26, 65, 73, 56, 53, 83, 29], [1, 2, 3, 4, 5, 6, 7, 8, 9, 10, 11, 12, 13, 14, 15, 16, 17, 18, 19, 20, 21, 22, 23, 24, 25, 26, 90, 92, 36, 43, 32, 91, 27, 89, 68, 74, 30, 94, 50, 48, 80, 58, 39, 54, 70, 55, 61, 67, 35, 69, 75, 81, 71, 84, 95, 88, 59, 77, 38, 51, 86, 62, 60, 63, 82, 66, 34, 49, 93, 99, 47, 78, 76, 42, 46, 37, 64, 52, 33, 79, 40, 44, 100, 98, 45, 87, 97, 72, 85, 28, 41, 31, 96, 57, 65, 73, 56, 53, 83, 29], [1, 2, 3, 4, 5, 6, 7, 8, 9, 10, 11, 12, 13, 14, 15, 16, 17, 18, 19, 20, 21, 22, 23, 24, 25, 26, 27, 92, 36, 43, 32, 91, 90, 89, 68, 74, 30, 94, 50, 48, 80, 58, 39, 54, 70, 55, 61, 67, 35, 69, 75, 81, 71, 84, 95, 88, 59, 77, 38, 51, 86, 62, 60, 63, 82, 66, 34, 49, 93, 99, 47, 78, 76, 42, 46, 37, 64, 52, 33, 79, 40, 44, 100, 98, 45, 87, 97, 72, 85, 28, 41, 31, 96, 57, 65, 73, 56, 53, 83, 29], [1, 2, 3, 4, 5, 6, 7, 8, 9, 10, 11, 12, 13, 14, 15, 16, 17, 18, 19, 20, 21, 22, 23, 24, 25, 26, 27, 28, 36, 43, 32, 91, 90, 89, 68, 74, 30, 94, 50, 48, 80, 58, 39, 54, 70, 55, 61, 67, 35, 69, 75, 81, 71, 84, 95, 88, 59, 77, 38, 51, 86, 62, 60, 63, 82, 66, 34, 49, 93, 99, 47, 78, 76, 42, 46, 37, 64, 52, 33, 79, 40, 44, 100, 98, 45, 87, 97, 72, 85, 92, 41, 31, 96, 57, 65, 73, 56, 53, 83, 29], [1, 2, 3, 4, 5, 6, 7, 8, 9, 10, 11, 12, 13, 14, 15, 16, 17, 18, 19, 20, 21, 22, 23, 24, 25, 26, 27, 28, 29, 43, 32, 91, 90, 89, 68, 74, 30, 94, 50, 48, 80, 58, 39, 54, 70, 55, 61, 67, 35, 69, 75, 81, 71, 84, 95, 88, 59, 77, 38, 51, 86, 62, 60, 63, 82, 66, 34, 49, 93, 99, 47, 78, 76, 42, 46, 37, 64, 52, 33, 79, 40, 44, 100, 98, 45, 87, 97, 72, 85, 92, 41, 31, 96, 57, 65, 73, 56, 53, 83, 36], [1, 2, 3, 4, 5, 6, 7, 8, 9, 10, 11, 12, 13, 14, 15, 16, 17, 18, 19, 20, 21, 22, 23, 24, 25, 26, 27, 28, 29, 30, 32, 91, 90, 89, 68, 74, 43, 94, 50, 48, 80, 58, 39, 54, 70, 55, 61, 67, 35, 69, 75, 81, 71, 84, 95, 88, 59, 77, 38, 51, 86, 62, 60, 63, 82, 66, 34, 49, 93, 99, 47, 78, 76, 42, 46, 37, 64, 52, 33, 79, 40, 44, 100, 98, 45, 87, 97, 72, 85, 92, 41, 31, 96, 57, 65, 73, 56, 53, 83, 36], [1, 2, 3, 4, 5, 6, 7, 8, 9, 10, 11, 12, 13, 14, 15, 16, 17, 18, 19, 20, 21, 22, 23, 24, 25, 26, 27, 28, 29, 30, 31, 91, 90, 89, 68, 74, 43, 94, 50, 48, 80, 58, 39, 54, 70, 55, 61, 67, 35, 69, 75, 81, 71, 84, 95, 88, 59, 77, 38, 51, 86, 62, 60, 63, 82, 66, 34, 49, 93, 99, 47, 78, 76, 42, 46, 37, 64, 52, 33, 79, 40, 44, 100, 98, 45, 87, 97, 72, 85, 92, 41, 32, 96, 57, 65, 73, 56, 53, 83, 36], [1, 2, 3, 4, 5, 6, 7, 8, 9, 10, 11, 12, 13, 14, 15, 16, 17, 18, 19, 20, 21, 22, 23, 24, 25, 26, 27, 28, 29, 30, 31, 32, 90, 89, 68, 74, 43, 94, 50, 48, 80, 58, 39, 54, 70, 55, 61, 67, 35, 69, 75, 81, 71, 84, 95, 88, 59, 77, 38, 51, 86, 62, 60, 63, 82, 66, 34, 49, 93, 99, 47, 78, 76, 42, 46, 37, 64, 52, 33, 79, 40, 44, 100, 98, 45, 87, 97, 72, 85, 92, 41, 91, 96, 57, 65, 73, 56, 53, 83, 36], [1, 2, 3, 4, 5, 6, 7, 8, 9, 10, 11, 12, 13, 14, 15, 16, 17, 18, 19, 20, 21, 22, 23, 24, 25, 26, 27, 28, 29, 30, 31, 32, 33, 89, 68, 74, 43, 94, 50, 48, 80, 58, 39, 54, 70, 55, 61, 67, 35, 69, 75, 81, 71, 84, 95, 88, 59, 77, 38, 51, 86, 62, 60, 63, 82, 66, 34, 49, 93, 99, 47, 78, 76, 42, 46, 37, 64, 52, 90, 79, 40, 44, 100, 98, 45, 87, 97, 72, 85, 92, 41, 91, 96, 57, 65, 73, 56, 53, 83, 36], [1, 2, 3, 4, 5, 6, 7, 8, 9, 10, 11, 12, 13, 14, 15, 16, 17, 18, 19, 20, 21, 22, 23, 24, 25, 26, 27, 28, 29, 30, 31, 32, 33, 34, 68, 74, 43, 94, 50, 48, 80, 58, 39, 54, 70, 55, 61, 67, 35, 69, 75, 81, 71, 84, 95, 88, 59, 77, 38, 51, 86, 62, 60, 63, 82, 66, 89, 49, 93, 99, 47, 78, 76, 42, 46, 37, 64, 52, 90, 79, 40, 44, 100, 98, 45, 87, 97, 72, 85, 92, 41, 91, 96, 57, 65, 73, 56, 53, 83, 36], [1, 2, 3, 4, 5, 6, 7, 8, 9, 10, 11, 12, 13, 14, 15, 16, 17, 18, 19, 20, 21, 22, 23, 24, 25, 26, 27, 28, 29, 30, 31, 32, 33, 34, 35, 74, 43, 94, 50, 48, 80, 58, 39, 54, 70, 55, 61, 67, 68, 69, 75, 81, 71, 84, 95, 88, 59, 77, 38, 51, 86, 62, 60, 63, 82, 66, 89, 49, 93, 99, 47, 78, 76, 42, 46, 37, 64, 52, 90, 79, 40, 44, 100, 98, 45, 87, 97, 72, 85, 92, 41, 91, 96, 57, 65, 73, 56, 53, 83, 36], [1, 2, 3, 4, 5, 6, 7, 8, 9, 10, 11, 12, 13, 14, 15, 16, 17, 18, 19, 20, 21, 22, 23, 24, 25, 26, 27, 28, 29, 30, 31, 32, 33, 34, 35, 36, 43, 94, 50, 48, 80, 58, 39, 54, 70, 55, 61, 67, 68, 69, 75, 81, 71, 84, 95, 88, 59, 77, 38, 51, 86, 62, 60, 63, 82, 66, 89, 49, 93, 99, 47, 78, 76, 42, 46, 37, 64, 52, 90, 79, 40, 44, 100, 98, 45, 87, 97, 72, 85, 92, 41, 91, 96, 57, 65, 73, 56, 53, 83, 74], [1, 2, 3, 4, 5, 6, 7, 8, 9, 10, 11, 12, 13, 14, 15, 16, 17, 18, 19, 20, 21, 22, 23, 24, 25, 26, 27, 28, 29, 30, 31, 32, 33, 34, 35, 36, 37, 94, 50, 48, 80, 58, 39, 54, 70, 55, 61, 67, 68, 69, 75, 81, 71, 84, 95, 88, 59, 77, 38, 51, 86, 62, 60, 63, 82, 66, 89, 49, 93, 99, 47, 78, 76, 42, 46, 43, 64, 52, 90, 79, 40, 44, 100, 98, 45, 87, 97, 72, 85, 92, 41, 91, 96, 57, 65, 73, 56, 53, 83, 74], [1, 2, 3, 4, 5, 6, 7, 8, 9, 10, 11, 12, 13, 14, 15, 16, 17, 18, 19, 20, 21, 22, 23, 24, 25, 26, 27, 28, 29, 30, 31, 32, 33, 34, 35, 36, 37, 38, 50, 48, 80, 58, 39, 54, 70, 55, 61, 67, 68, 69, 75, 81, 71, 84, 95, 88, 59, 77, 94, 51, 86, 62, 60, 63, 82, 66, 89, 49, 93, 99, 47, 78, 76, 42, 46, 43, 64, 52, 90, 79, 40, 44, 100, 98, 45, 87, 97, 72, 85, 92, 41, 91, 96, 57, 65, 73, 56, 53, 83, 74], [1, 2, 3, 4, 5, 6, 7, 8, 9, 10, 11, 12, 13, 14, 15, 16, 17, 18, 19, 20, 21, 22, 23, 24, 25, 26, 27, 28, 29, 30, 31, 32, 33, 34, 35, 36, 37, 38, 39, 48, 80, 58, 50, 54, 70, 55, 61, 67, 68, 69, 75, 81, 71, 84, 95, 88, 59, 77, 94, 51, 86, 62, 60, 63, 82, 66, 89, 49, 93, 99, 47, 78, 76, 42, 46, 43, 64, 52, 90, 79, 40, 44, 100, 98, 45, 87, 97, 72, 85, 92, 41, 91, 96, 57, 65, 73, 56, 53, 83, 74], [1, 2, 3, 4, 5, 6, 7, 8, 9, 10, 11, 12, 13, 14, 15, 16, 17, 18, 19, 20, 21, 22, 23, 24, 25, 26, 27, 28, 29, 30, 31, 32, 33, 34, 35, 36, 37, 38, 39, 40, 80, 58, 50, 54, 70, 55, 61, 67, 68, 69, 75, 81, 71, 84, 95, 88, 59, 77, 94, 51, 86, 62, 60, 63, 82, 66, 89, 49, 93, 99, 47, 78, 76, 42, 46, 43, 64, 52, 90, 79, 48, 44, 100, 98, 45, 87, 97, 72, 85, 92, 41, 91, 96, 57, 65, 73, 56, 53, 83, 74], [1, 2, 3, 4, 5, 6, 7, 8, 9, 10, 11, 12, 13, 14, 15, 16, 17, 18, 19, 20, 21, 22, 23, 24, 25, 26, 27, 28, 29, 30, 31, 32, 33, 34, 35, 36, 37, 38, 39, 40, 41, 58, 50, 54, 70, 55, 61, 67, 68, 69, 75, 81, 71, 84, 95, 88, 59, 77, 94, 51, 86, 62, 60, 63, 82, 66, 89, 49, 93, 99, 47, 78, 76, 42, 46, 43, 64, 52, 90, 79, 48, 44, 100, 98, 45, 87, 97, 72, 85, 92, 80, 91, 96, 57, 65, 73, 56, 53, 83, 74], [1, 2, 3, 4, 5, 6, 7, 8, 9, 10, 11, 12, 13, 14, 15, 16, 17, 18, 19, 20, 21, 22, 23, 24, 25, 26, 27, 28, 29, 30, 31, 32, 33, 34, 35, 36, 37, 38, 39, 40, 41, 42, 50, 54, 70, 55, 61, 67, 68, 69, 75, 81, 71, 84, 95, 88, 59, 77, 94, 51, 86, 62, 60, 63, 82, 66, 89, 49, 93, 99, 47, 78, 76, 58, 46, 43, 64, 52, 90, 79, 48, 44, 100, 98, 45, 87, 97, 72, 85, 92, 80, 91, 96, 57, 65, 73, 56, 53, 83, 74], [1, 2, 3, 4, 5, 6, 7, 8, 9, 10, 11, 12, 13, 14, 15, 16, 17, 18, 19, 20, 21, 22, 23, 24, 25, 26, 27, 28, 29, 30, 31, 32, 33, 34, 35, 36, 37, 38, 39, 40, 41, 42, 43, 54, 70, 55, 61, 67, 68, 69, 75, 81, 71, 84, 95, 88, 59, 77, 94, 51, 86, 62, 60, 63, 82, 66, 89, 49, 93, 99, 47, 78, 76, 58, 46, 50, 64, 52, 90, 79, 48, 44, 100, 98, 45, 87, 97, 72, 85, 92, 80, 91, 96, 57, 65, 73, 56, 53, 83, 74], [1, 2, 3, 4, 5, 6, 7, 8, 9, 10, 11, 12, 13, 14, 15, 16, 17, 18, 19, 20, 21, 22, 23, 24, 25, 26, 27, 28, 29, 30, 31, 32, 33, 34, 35, 36, 37, 38, 39, 40, 41, 42, 43, 44, 70, 55, 61, 67, 68, 69, 75, 81, 71, 84, 95, 88, 59, 77, 94, 51, 86, 62, 60, 63, 82, 66, 89, 49, 93, 99, 47, 78, 76, 58, 46, 50, 64, 52, 90, 79, 48, 54, 100, 98, 45, 87, 97, 72, 85, 92, 80, 91, 96, 57, 65, 73, 56, 53, 83, 74], [1, 2, 3, 4, 5, 6, 7, 8, 9, 10, 11, 12, 13, 14, 15, 16, 17, 18, 19, 20, 21, 22, 23, 24, 25, 26, 27, 28, 29, 30, 31, 32, 33, 34, 35, 36, 37, 38, 39, 40, 41, 42, 43, 44, 45, 55, 61, 67, 68, 69, 75, 81, 71, 84, 95, 88, 59, 77, 94, 51, 86, 62, 60, 63, 82, 66, 89, 49, 93, 99, 47, 78, 76, 58, 46, 50, 64, 52, 90, 79, 48, 54, 100, 98, 70, 87, 97, 72, 85, 92, 80, 91, 96, 57, 65, 73, 56, 53, 83, 74], [1, 2, 3, 4, 5, 6, 7, 8, 9, 10, 11, 12, 13, 14, 15, 16, 17, 18, 19, 20, 21, 22, 23, 24, 25, 26, 27, 28, 29, 30, 31, 32, 33, 34, 35, 36, 37, 38, 39, 40, 41, 42, 43, 44, 45, 46, 61, 67, 68, 69, 75, 81, 71, 84, 95, 88, 59, 77, 94, 51, 86, 62, 60, 63, 82, 66, 89, 49, 93, 99, 47, 78, 76, 58, 55, 50, 64, 52, 90, 79, 48, 54, 100, 98, 70, 87, 97, 72, 85, 92, 80, 91, 96, 57, 65, 73, 56, 53, 83, 74], [1, 2, 3, 4, 5, 6, 7, 8, 9, 10, 11, 12, 13, 14, 15, 16, 17, 18, 19, 20, 21, 22, 23, 24, 25, 26, 27, 28, 29, 30, 31, 32, 33, 34, 35, 36, 37, 38, 39, 40, 41, 42, 43, 44, 45, 46, 47, 67, 68, 69, 75, 81, 71, 84, 95, 88, 59, 77, 94, 51, 86, 62, 60, 63, 82, 66, 89, 49, 93, 99, 61, 78, 76, 58, 55, 50, 64, 52, 90, 79, 48, 54, 100, 98, 70, 87, 97, 72, 85, 92, 80, 91, 96, 57, 65, 73, 56, 53, 83, 74], [1, 2, 3, 4, 5, 6, 7, 8, 9, 10, 11, 12, 13, 14, 15, 16, 17, 18, 19, 20, 21, 22, 23, 24, 25, 26, 27, 28, 29, 30, 31, 32, 33, 34, 35, 36, 37, 38, 39, 40, 41, 42, 43, 44, 45, 46, 47, 48, 68, 69, 75, 81, 71, 84, 95, 88, 59, 77, 94, 51, 86, 62, 60, 63, 82, 66, 89, 49, 93, 99, 61, 78, 76, 58, 55, 50, 64, 52, 90, 79, 67, 54, 100, 98, 70, 87, 97, 72, 85, 92, 80, 91, 96, 57, 65, 73, 56, 53, 83, 74], [1, 2, 3, 4, 5, 6, 7, 8, 9, 10, 11, 12, 13, 14, 15, 16, 17, 18, 19, 20, 21, 22, 23, 24, 25, 26, 27, 28, 29, 30, 31, 32, 33, 34, 35, 36, 37, 38, 39, 40, 41, 42, 43, 44, 45, 46, 47, 48, 49, 69, 75, 81, 71, 84, 95, 88, 59, 77, 94, 51, 86, 62, 60, 63, 82, 66, 89, 68, 93, 99, 61, 78, 76, 58, 55, 50, 64, 52, 90, 79, 67, 54, 100, 98, 70, 87, 97, 72, 85, 92, 80, 91, 96, 57, 65, 73, 56, 53, 83, 74], [1, 2, 3, 4, 5, 6, 7, 8, 9, 10, 11, 12, 13, 14, 15, 16, 17, 18, 19, 20, 21, 22, 23, 24, 25, 26, 27, 28, 29, 30, 31, 32, 33, 34, 35, 36, 37, 38, 39, 40, 41, 42, 43, 44, 45, 46, 47, 48, 49, 50, 75, 81, 71, 84, 95, 88, 59, 77, 94, 51, 86, 62, 60, 63, 82, 66, 89, 68, 93, 99, 61, 78, 76, 58, 55, 69, 64, 52, 90, 79, 67, 54, 100, 98, 70, 87, 97, 72, 85, 92, 80, 91, 96, 57, 65, 73, 56, 53, 83, 74], [1, 2, 3, 4, 5, 6, 7, 8, 9, 10, 11, 12, 13, 14, 15, 16, 17, 18, 19, 20, 21, 22, 23, 24, 25, 26, 27, 28, 29, 30, 31, 32, 33, 34, 35, 36, 37, 38, 39, 40, 41, 42, 43, 44, 45, 46, 47, 48, 49, 50, 51, 81, 71, 84, 95, 88, 59, 77, 94, 75, 86, 62, 60, 63, 82, 66, 89, 68, 93, 99, 61, 78, 76, 58, 55, 69, 64, 52, 90, 79, 67, 54, 100, 98, 70, 87, 97, 72, 85, 92, 80, 91, 96, 57, 65, 73, 56, 53, 83, 74], [1, 2, 3, 4, 5, 6, 7, 8, 9, 10, 11, 12, 13, 14, 15, 16, 17, 18, 19, 20, 21, 22, 23, 24, 25, 26, 27, 28, 29, 30, 31, 32, 33, 34, 35, 36, 37, 38, 39, 40, 41, 42, 43, 44, 45, 46, 47, 48, 49, 50, 51, 52, 71, 84, 95, 88, 59, 77, 94, 75, 86, 62, 60, 63, 82, 66, 89, 68, 93, 99, 61, 78, 76, 58, 55, 69, 64, 81, 90, 79, 67, 54, 100, 98, 70, 87, 97, 72, 85, 92, 80, 91, 96, 57, 65, 73, 56, 53, 83, 74], [1, 2, 3, 4, 5, 6, 7, 8, 9, 10, 11, 12, 13, 14, 15, 16, 17, 18, 19, 20, 21, 22, 23, 24, 25, 26, 27, 28, 29, 30, 31, 32, 33, 34, 35, 36, 37, 38, 39, 40, 41, 42, 43, 44, 45, 46, 47, 48, 49, 50, 51, 52, 53, 84, 95, 88, 59, 77, 94, 75, 86, 62, 60, 63, 82, 66, 89, 68, 93, 99, 61, 78, 76, 58, 55, 69, 64, 81, 90, 79, 67, 54, 100, 98, 70, 87, 97, 72, 85, 92, 80, 91, 96, 57, 65, 73, 56, 71, 83, 74], [1, 2, 3, 4, 5, 6, 7, 8, 9, 10, 11, 12, 13, 14, 15, 16, 17, 18, 19, 20, 21, 22, 23, 24, 25, 26, 27, 28, 29, 30, 31, 32, 33, 34, 35, 36, 37, 38, 39, 40, 41, 42, 43, 44, 45, 46, 47, 48, 49, 50, 51, 52, 53, 54, 95, 88, 59, 77, 94, 75, 86, 62, 60, 63, 82, 66, 89, 68, 93, 99, 61, 78, 76, 58, 55, 69, 64, 81, 90, 79, 67, 84, 100, 98, 70, 87, 97, 72, 85, 92, 80, 91, 96, 57, 65, 73, 56, 71, 83, 74], [1, 2, 3, 4, 5, 6, 7, 8, 9, 10, 11, 12, 13, 14, 15, 16, 17, 18, 19, 20, 21, 22, 23, 24, 25, 26, 27, 28, 29, 30, 31, 32, 33, 34, 35, 36, 37, 38, 39, 40, 41, 42, 43, 44, 45, 46, 47, 48, 49, 50, 51, 52, 53, 54, 55, 88, 59, 77, 94, 75, 86, 62, 60, 63, 82, 66, 89, 68, 93, 99, 61, 78, 76, 58, 95, 69, 64, 81, 90, 79, 67, 84, 100, 98, 70, 87, 97, 72, 85, 92, 80, 91, 96, 57, 65, 73, 56, 71, 83, 74], [1, 2, 3, 4, 5, 6, 7, 8, 9, 10, 11, 12, 13, 14, 15, 16, 17, 18, 19, 20, 21, 22, 23, 24, 25, 26, 27, 28, 29, 30, 31, 32, 33, 34, 35, 36, 37, 38, 39, 40, 41, 42, 43, 44, 45, 46, 47, 48, 49, 50, 51, 52, 53, 54, 55, 56, 59, 77, 94, 75, 86, 62, 60, 63, 82, 66, 89, 68, 93, 99, 61, 78, 76, 58, 95, 69, 64, 81, 90, 79, 67, 84, 100, 98, 70, 87, 97, 72, 85, 92, 80, 91, 96, 57, 65, 73, 88, 71, 83, 74], [1, 2, 3, 4, 5, 6, 7, 8, 9, 10, 11, 12, 13, 14, 15, 16, 17, 18, 19, 20, 21, 22, 23, 24, 25, 26, 27, 28, 29, 30, 31, 32, 33, 34, 35, 36, 37, 38, 39, 40, 41, 42, 43, 44, 45, 46, 47, 48, 49, 50, 51, 52, 53, 54, 55, 56, 57, 77, 94, 75, 86, 62, 60, 63, 82, 66, 89, 68, 93, 99, 61, 78, 76, 58, 95, 69, 64, 81, 90, 79, 67, 84, 100, 98, 70, 87, 97, 72, 85, 92, 80, 91, 96, 59, 65, 73, 88, 71, 83, 74], [1, 2, 3, 4, 5, 6, 7, 8, 9, 10, 11, 12, 13, 14, 15, 16, 17, 18, 19, 20, 21, 22, 23, 24, 25, 26, 27, 28, 29, 30, 31, 32, 33, 34, 35, 36, 37, 38, 39, 40, 41, 42, 43, 44, 45, 46, 47, 48, 49, 50, 51, 52, 53, 54, 55, 56, 57, 58, 94, 75, 86, 62, 60, 63, 82, 66, 89, 68, 93, 99, 61, 78, 76, 77, 95, 69, 64, 81, 90, 79, 67, 84, 100, 98, 70, 87, 97, 72, 85, 92, 80, 91, 96, 59, 65, 73, 88, 71, 83, 74], [1, 2, 3, 4, 5, 6, 7, 8, 9, 10, 11, 12, 13, 14, 15, 16, 17, 18, 19, 20, 21, 22, 23, 24, 25, 26, 27, 28, 29, 30, 31, 32, 33, 34, 35, 36, 37, 38, 39, 40, 41, 42, 43, 44, 45, 46, 47, 48, 49, 50, 51, 52, 53, 54, 55, 56, 57, 58, 59, 75, 86, 62, 60, 63, 82, 66, 89, 68, 93, 99, 61, 78, 76, 77, 95, 69, 64, 81, 90, 79, 67, 84, 100, 98, 70, 87, 97, 72, 85, 92, 80, 91, 96, 94, 65, 73, 88, 71, 83, 74], [1, 2, 3, 4, 5, 6, 7, 8, 9, 10, 11, 12, 13, 14, 15, 16, 17, 18, 19, 20, 21, 22, 23, 24, 25, 26, 27, 28, 29, 30, 31, 32, 33, 34, 35, 36, 37, 38, 39, 40, 41, 42, 43, 44, 45, 46, 47, 48, 49, 50, 51, 52, 53, 54, 55, 56, 57, 58, 59, 60, 86, 62, 75, 63, 82, 66, 89, 68, 93, 99, 61, 78, 76, 77, 95, 69, 64, 81, 90, 79, 67, 84, 100, 98, 70, 87, 97, 72, 85, 92, 80, 91, 96, 94, 65, 73, 88, 71, 83, 74], [1, 2, 3, 4, 5, 6, 7, 8, 9, 10, 11, 12, 13, 14, 15, 16, 17, 18, 19, 20, 21, 22, 23, 24, 25, 26, 27, 28, 29, 30, 31, 32, 33, 34, 35, 36, 37, 38, 39, 40, 41, 42, 43, 44, 45, 46, 47, 48, 49, 50, 51, 52, 53, 54, 55, 56, 57, 58, 59, 60, 61, 62, 75, 63, 82, 66, 89, 68, 93, 99, 86, 78, 76, 77, 95, 69, 64, 81, 90, 79, 67, 84, 100, 98, 70, 87, 97, 72, 85, 92, 80, 91, 96, 94, 65, 73, 88, 71, 83, 74], [1, 2, 3, 4, 5, 6, 7, 8, 9, 10, 11, 12, 13, 14, 15, 16, 17, 18, 19, 20, 21, 22, 23, 24, 25, 26, 27, 28, 29, 30, 31, 32, 33, 34, 35, 36, 37, 38, 39, 40, 41, 42, 43, 44, 45, 46, 47, 48, 49, 50, 51, 52, 53, 54, 55, 56, 57, 58, 59, 60, 61, 62, 75, 63, 82, 66, 89, 68, 93, 99, 86, 78, 76, 77, 95, 69, 64, 81, 90, 79, 67, 84, 100, 98, 70, 87, 97, 72, 85, 92, 80, 91, 96, 94, 65, 73, 88, 71, 83, 74], [1, 2, 3, 4, 5, 6, 7, 8, 9, 10, 11, 12, 13, 14, 15, 16, 17, 18, 19, 20, 21, 22, 23, 24, 25, 26, 27, 28, 29, 30, 31, 32, 33, 34, 35, 36, 37, 38, 39, 40, 41, 42, 43, 44, 45, 46, 47, 48, 49, 50, 51, 52, 53, 54, 55, 56, 57, 58, 59, 60, 61, 62, 63, 75, 82, 66, 89, 68, 93, 99, 86, 78, 76, 77, 95, 69, 64, 81, 90, 79, 67, 84, 100, 98, 70, 87, 97, 72, 85, 92, 80, 91, 96, 94, 65, 73, 88, 71, 83, 74], [1, 2, 3, 4, 5, 6, 7, 8, 9, 10, 11, 12, 13, 14, 15, 16, 17, 18, 19, 20, 21, 22, 23, 24, 25, 26, 27, 28, 29, 30, 31, 32, 33, 34, 35, 36, 37, 38, 39, 40, 41, 42, 43, 44, 45, 46, 47, 48, 49, 50, 51, 52, 53, 54, 55, 56, 57, 58, 59, 60, 61, 62, 63, 64, 82, 66, 89, 68, 93, 99, 86, 78, 76, 77, 95, 69, 75, 81, 90, 79, 67, 84, 100, 98, 70, 87, 97, 72, 85, 92, 80, 91, 96, 94, 65, 73, 88, 71, 83, 74], [1, 2, 3, 4, 5, 6, 7, 8, 9, 10, 11, 12, 13, 14, 15, 16, 17, 18, 19, 20, 21, 22, 23, 24, 25, 26, 27, 28, 29, 30, 31, 32, 33, 34, 35, 36, 37, 38, 39, 40, 41, 42, 43, 44, 45, 46, 47, 48, 49, 50, 51, 52, 53, 54, 55, 56, 57, 58, 59, 60, 61, 62, 63, 64, 65, 66, 89, 68, 93, 99, 86, 78, 76, 77, 95, 69, 75, 81, 90, 79, 67, 84, 100, 98, 70, 87, 97, 72, 85, 92, 80, 91, 96, 94, 82, 73, 88, 71, 83, 74], [1, 2, 3, 4, 5, 6, 7, 8, 9, 10, 11, 12, 13, 14, 15, 16, 17, 18, 19, 20, 21, 22, 23, 24, 25, 26, 27, 28, 29, 30, 31, 32, 33, 34, 35, 36, 37, 38, 39, 40, 41, 42, 43, 44, 45, 46, 47, 48, 49, 50, 51, 52, 53, 54, 55, 56, 57, 58, 59, 60, 61, 62, 63, 64, 65, 66, 89, 68, 93, 99, 86, 78, 76, 77, 95, 69, 75, 81, 90, 79, 67, 84, 100, 98, 70, 87, 97, 72, 85, 92, 80, 91, 96, 94, 82, 73, 88, 71, 83, 74], [1, 2, 3, 4, 5, 6, 7, 8, 9, 10, 11, 12, 13, 14, 15, 16, 17, 18, 19, 20, 21, 22, 23, 24, 25, 26, 27, 28, 29, 30, 31, 32, 33, 34, 35, 36, 37, 38, 39, 40, 41, 42, 43, 44, 45, 46, 47, 48, 49, 50, 51, 52, 53, 54, 55, 56, 57, 58, 59, 60, 61, 62, 63, 64, 65, 66, 67, 68, 93, 99, 86, 78, 76, 77, 95, 69, 75, 81, 90, 79, 89, 84, 100, 98, 70, 87, 97, 72, 85, 92, 80, 91, 96, 94, 82, 73, 88, 71, 83, 74], [1, 2, 3, 4, 5, 6, 7, 8, 9, 10, 11, 12, 13, 14, 15, 16, 17, 18, 19, 20, 21, 22, 23, 24, 25, 26, 27, 28, 29, 30, 31, 32, 33, 34, 35, 36, 37, 38, 39, 40, 41, 42, 43, 44, 45, 46, 47, 48, 49, 50, 51, 52, 53, 54, 55, 56, 57, 58, 59, 60, 61, 62, 63, 64, 65, 66, 67, 68, 93, 99, 86, 78, 76, 77, 95, 69, 75, 81, 90, 79, 89, 84, 100, 98, 70, 87, 97, 72, 85, 92, 80, 91, 96, 94, 82, 73, 88, 71, 83, 74], [1, 2, 3, 4, 5, 6, 7, 8, 9, 10, 11, 12, 13, 14, 15, 16, 17, 18, 19, 20, 21, 22, 23, 24, 25, 26, 27, 28, 29, 30, 31, 32, 33, 34, 35, 36, 37, 38, 39, 40, 41, 42, 43, 44, 45, 46, 47, 48, 49, 50, 51, 52, 53, 54, 55, 56, 57, 58, 59, 60, 61, 62, 63, 64, 65, 66, 67, 68, 69, 99, 86, 78, 76, 77, 95, 93, 75, 81, 90, 79, 89, 84, 100, 98, 70, 87, 97, 72, 85, 92, 80, 91, 96, 94, 82, 73, 88, 71, 83, 74], [1, 2, 3, 4, 5, 6, 7, 8, 9, 10, 11, 12, 13, 14, 15, 16, 17, 18, 19, 20, 21, 22, 23, 24, 25, 26, 27, 28, 29, 30, 31, 32, 33, 34, 35, 36, 37, 38, 39, 40, 41, 42, 43, 44, 45, 46, 47, 48, 49, 50, 51, 52, 53, 54, 55, 56, 57, 58, 59, 60, 61, 62, 63, 64, 65, 66, 67, 68, 69, 70, 86, 78, 76, 77, 95, 93, 75, 81, 90, 79, 89, 84, 100, 98, 99, 87, 97, 72, 85, 92, 80, 91, 96, 94, 82, 73, 88, 71, 83, 74], [1, 2, 3, 4, 5, 6, 7, 8, 9, 10, 11, 12, 13, 14, 15, 16, 17, 18, 19, 20, 21, 22, 23, 24, 25, 26, 27, 28, 29, 30, 31, 32, 33, 34, 35, 36, 37, 38, 39, 40, 41, 42, 43, 44, 45, 46, 47, 48, 49, 50, 51, 52, 53, 54, 55, 56, 57, 58, 59, 60, 61, 62, 63, 64, 65, 66, 67, 68, 69, 70, 71, 78, 76, 77, 95, 93, 75, 81, 90, 79, 89, 84, 100, 98, 99, 87, 97, 72, 85, 92, 80, 91, 96, 94, 82, 73, 88, 86, 83, 74], [1, 2, 3, 4, 5, 6, 7, 8, 9, 10, 11, 12, 13, 14, 15, 16, 17, 18, 19, 20, 21, 22, 23, 24, 25, 26, 27, 28, 29, 30, 31, 32, 33, 34, 35, 36, 37, 38, 39, 40, 41, 42, 43, 44, 45, 46, 47, 48, 49, 50, 51, 52, 53, 54, 55, 56, 57, 58, 59, 60, 61, 62, 63, 64, 65, 66, 67, 68, 69, 70, 71, 72, 76, 77, 95, 93, 75, 81, 90, 79, 89, 84, 100, 98, 99, 87, 97, 78, 85, 92, 80, 91, 96, 94, 82, 73, 88, 86, 83, 74], [1, 2, 3, 4, 5, 6, 7, 8, 9, 10, 11, 12, 13, 14, 15, 16, 17, 18, 19, 20, 21, 22, 23, 24, 25, 26, 27, 28, 29, 30, 31, 32, 33, 34, 35, 36, 37, 38, 39, 40, 41, 42, 43, 44, 45, 46, 47, 48, 49, 50, 51, 52, 53, 54, 55, 56, 57, 58, 59, 60, 61, 62, 63, 64, 65, 66, 67, 68, 69, 70, 71, 72, 73, 77, 95, 93, 75, 81, 90, 79, 89, 84, 100, 98, 99, 87, 97, 78, 85, 92, 80, 91, 96, 94, 82, 76, 88, 86, 83, 74], [1, 2, 3, 4, 5, 6, 7, 8, 9, 10, 11, 12, 13, 14, 15, 16, 17, 18, 19, 20, 21, 22, 23, 24, 25, 26, 27, 28, 29, 30, 31, 32, 33, 34, 35, 36, 37, 38, 39, 40, 41, 42, 43, 44, 45, 46, 47, 48, 49, 50, 51, 52, 53, 54, 55, 56, 57, 58, 59, 60, 61, 62, 63, 64, 65, 66, 67, 68, 69, 70, 71, 72, 73, 74, 95, 93, 75, 81, 90, 79, 89, 84, 100, 98, 99, 87, 97, 78, 85, 92, 80, 91, 96, 94, 82, 76, 88, 86, 83, 77], [1, 2, 3, 4, 5, 6, 7, 8, 9, 10, 11, 12, 13, 14, 15, 16, 17, 18, 19, 20, 21, 22, 23, 24, 25, 26, 27, 28, 29, 30, 31, 32, 33, 34, 35, 36, 37, 38, 39, 40, 41, 42, 43, 44, 45, 46, 47, 48, 49, 50, 51, 52, 53, 54, 55, 56, 57, 58, 59, 60, 61, 62, 63, 64, 65, 66, 67, 68, 69, 70, 71, 72, 73, 74, 75, 93, 95, 81, 90, 79, 89, 84, 100, 98, 99, 87, 97, 78, 85, 92, 80, 91, 96, 94, 82, 76, 88, 86, 83, 77], [1, 2, 3, 4, 5, 6, 7, 8, 9, 10, 11, 12, 13, 14, 15, 16, 17, 18, 19, 20, 21, 22, 23, 24, 25, 26, 27, 28, 29, 30, 31, 32, 33, 34, 35, 36, 37, 38, 39, 40, 41, 42, 43, 44, 45, 46, 47, 48, 49, 50, 51, 52, 53, 54, 55, 56, 57, 58, 59, 60, 61, 62, 63, 64, 65, 66, 67, 68, 69, 70, 71, 72, 73, 74, 75, 76, 95, 81, 90, 79, 89, 84, 100, 98, 99, 87, 97, 78, 85, 92, 80, 91, 96, 94, 82, 93, 88, 86, 83, 77], [1, 2, 3, 4, 5, 6, 7, 8, 9, 10, 11, 12, 13, 14, 15, 16, 17, 18, 19, 20, 21, 22, 23, 24, 25, 26, 27, 28, 29, 30, 31, 32, 33, 34, 35, 36, 37, 38, 39, 40, 41, 42, 43, 44, 45, 46, 47, 48, 49, 50, 51, 52, 53, 54, 55, 56, 57, 58, 59, 60, 61, 62, 63, 64, 65, 66, 67, 68, 69, 70, 71, 72, 73, 74, 75, 76, 77, 81, 90, 79, 89, 84, 100, 98, 99, 87, 97, 78, 85, 92, 80, 91, 96, 94, 82, 93, 88, 86, 83, 95], [1, 2, 3, 4, 5, 6, 7, 8, 9, 10, 11, 12, 13, 14, 15, 16, 17, 18, 19, 20, 21, 22, 23, 24, 25, 26, 27, 28, 29, 30, 31, 32, 33, 34, 35, 36, 37, 38, 39, 40, 41, 42, 43, 44, 45, 46, 47, 48, 49, 50, 51, 52, 53, 54, 55, 56, 57, 58, 59, 60, 61, 62, 63, 64, 65, 66, 67, 68, 69, 70, 71, 72, 73, 74, 75, 76, 77, 78, 90, 79, 89, 84, 100, 98, 99, 87, 97, 81, 85, 92, 80, 91, 96, 94, 82, 93, 88, 86, 83, 95], [1, 2, 3, 4, 5, 6, 7, 8, 9, 10, 11, 12, 13, 14, 15, 16, 17, 18, 19, 20, 21, 22, 23, 24, 25, 26, 27, 28, 29, 30, 31, 32, 33, 34, 35, 36, 37, 38, 39, 40, 41, 42, 43, 44, 45, 46, 47, 48, 49, 50, 51, 52, 53, 54, 55, 56, 57, 58, 59, 60, 61, 62, 63, 64, 65, 66, 67, 68, 69, 70, 71, 72, 73, 74, 75, 76, 77, 78, 79, 90, 89, 84, 100, 98, 99, 87, 97, 81, 85, 92, 80, 91, 96, 94, 82, 93, 88, 86, 83, 95], [1, 2, 3, 4, 5, 6, 7, 8, 9, 10, 11, 12, 13, 14, 15, 16, 17, 18, 19, 20, 21, 22, 23, 24, 25, 26, 27, 28, 29, 30, 31, 32, 33, 34, 35, 36, 37, 38, 39, 40, 41, 42, 43, 44, 45, 46, 47, 48, 49, 50, 51, 52, 53, 54, 55, 56, 57, 58, 59, 60, 61, 62, 63, 64, 65, 66, 67, 68, 69, 70, 71, 72, 73, 74, 75, 76, 77, 78, 79, 80, 89, 84, 100, 98, 99, 87, 97, 81, 85, 92, 90, 91, 96, 94, 82, 93, 88, 86, 83, 95], [1, 2, 3, 4, 5, 6, 7, 8, 9, 10, 11, 12, 13, 14, 15, 16, 17, 18, 19, 20, 21, 22, 23, 24, 25, 26, 27, 28, 29, 30, 31, 32, 33, 34, 35, 36, 37, 38, 39, 40, 41, 42, 43, 44, 45, 46, 47, 48, 49, 50, 51, 52, 53, 54, 55, 56, 57, 58, 59, 60, 61, 62, 63, 64, 65, 66, 67, 68, 69, 70, 71, 72, 73, 74, 75, 76, 77, 78, 79, 80, 81, 84, 100, 98, 99, 87, 97, 89, 85, 92, 90, 91, 96, 94, 82, 93, 88, 86, 83, 95], [1, 2, 3, 4, 5, 6, 7, 8, 9, 10, 11, 12, 13, 14, 15, 16, 17, 18, 19, 20, 21, 22, 23, 24, 25, 26, 27, 28, 29, 30, 31, 32, 33, 34, 35, 36, 37, 38, 39, 40, 41, 42, 43, 44, 45, 46, 47, 48, 49, 50, 51, 52, 53, 54, 55, 56, 57, 58, 59, 60, 61, 62, 63, 64, 65, 66, 67, 68, 69, 70, 71, 72, 73, 74, 75, 76, 77, 78, 79, 80, 81, 82, 100, 98, 99, 87, 97, 89, 85, 92, 90, 91, 96, 94, 84, 93, 88, 86, 83, 95], [1, 2, 3, 4, 5, 6, 7, 8, 9, 10, 11, 12, 13, 14, 15, 16, 17, 18, 19, 20, 21, 22, 23, 24, 25, 26, 27, 28, 29, 30, 31, 32, 33, 34, 35, 36, 37, 38, 39, 40, 41, 42, 43, 44, 45, 46, 47, 48, 49, 50, 51, 52, 53, 54, 55, 56, 57, 58, 59, 60, 61, 62, 63, 64, 65, 66, 67, 68, 69, 70, 71, 72, 73, 74, 75, 76, 77, 78, 79, 80, 81, 82, 83, 98, 99, 87, 97, 89, 85, 92, 90, 91, 96, 94, 84, 93, 88, 86, 100, 95], [1, 2, 3, 4, 5, 6, 7, 8, 9, 10, 11, 12, 13, 14, 15, 16, 17, 18, 19, 20, 21, 22, 23, 24, 25, 26, 27, 28, 29, 30, 31, 32, 33, 34, 35, 36, 37, 38, 39, 40, 41, 42, 43, 44, 45, 46, 47, 48, 49, 50, 51, 52, 53, 54, 55, 56, 57, 58, 59, 60, 61, 62, 63, 64, 65, 66, 67, 68, 69, 70, 71, 72, 73, 74, 75, 76, 77, 78, 79, 80, 81, 82, 83, 84, 99, 87, 97, 89, 85, 92, 90, 91, 96, 94, 98, 93, 88, 86, 100, 95], [1, 2, 3, 4, 5, 6, 7, 8, 9, 10, 11, 12, 13, 14, 15, 16, 17, 18, 19, 20, 21, 22, 23, 24, 25, 26, 27, 28, 29, 30, 31, 32, 33, 34, 35, 36, 37, 38, 39, 40, 41, 42, 43, 44, 45, 46, 47, 48, 49, 50, 51, 52, 53, 54, 55, 56, 57, 58, 59, 60, 61, 62, 63, 64, 65, 66, 67, 68, 69, 70, 71, 72, 73, 74, 75, 76, 77, 78, 79, 80, 81, 82, 83, 84, 85, 87, 97, 89, 99, 92, 90, 91, 96, 94, 98, 93, 88, 86, 100, 95], [1, 2, 3, 4, 5, 6, 7, 8, 9, 10, 11, 12, 13, 14, 15, 16, 17, 18, 19, 20, 21, 22, 23, 24, 25, 26, 27, 28, 29, 30, 31, 32, 33, 34, 35, 36, 37, 38, 39, 40, 41, 42, 43, 44, 45, 46, 47, 48, 49, 50, 51, 52, 53, 54, 55, 56, 57, 58, 59, 60, 61, 62, 63, 64, 65, 66, 67, 68, 69, 70, 71, 72, 73, 74, 75, 76, 77, 78, 79, 80, 81, 82, 83, 84, 85, 86, 97, 89, 99, 92, 90, 91, 96, 94, 98, 93, 88, 87, 100, 95], [1, 2, 3, 4, 5, 6, 7, 8, 9, 10, 11, 12, 13, 14, 15, 16, 17, 18, 19, 20, 21, 22, 23, 24, 25, 26, 27, 28, 29, 30, 31, 32, 33, 34, 35, 36, 37, 38, 39, 40, 41, 42, 43, 44, 45, 46, 47, 48, 49, 50, 51, 52, 53, 54, 55, 56, 57, 58, 59, 60, 61, 62, 63, 64, 65, 66, 67, 68, 69, 70, 71, 72, 73, 74, 75, 76, 77, 78, 79, 80, 81, 82, 83, 84, 85, 86, 87, 89, 99, 92, 90, 91, 96, 94, 98, 93, 88, 97, 100, 95], [1, 2, 3, 4, 5, 6, 7, 8, 9, 10, 11, 12, 13, 14, 15, 16, 17, 18, 19, 20, 21, 22, 23, 24, 25, 26, 27, 28, 29, 30, 31, 32, 33, 34, 35, 36, 37, 38, 39, 40, 41, 42, 43, 44, 45, 46, 47, 48, 49, 50, 51, 52, 53, 54, 55, 56, 57, 58, 59, 60, 61, 62, 63, 64, 65, 66, 67, 68, 69, 70, 71, 72, 73, 74, 75, 76, 77, 78, 79, 80, 81, 82, 83, 84, 85, 86, 87, 88, 99, 92, 90, 91, 96, 94, 98, 93, 89, 97, 100, 95], [1, 2, 3, 4, 5, 6, 7, 8, 9, 10, 11, 12, 13, 14, 15, 16, 17, 18, 19, 20, 21, 22, 23, 24, 25, 26, 27, 28, 29, 30, 31, 32, 33, 34, 35, 36, 37, 38, 39, 40, 41, 42, 43, 44, 45, 46, 47, 48, 49, 50, 51, 52, 53, 54, 55, 56, 57, 58, 59, 60, 61, 62, 63, 64, 65, 66, 67, 68, 69, 70, 71, 72, 73, 74, 75, 76, 77, 78, 79, 80, 81, 82, 83, 84, 85, 86, 87, 88, 89, 92, 90, 91, 96, 94, 98, 93, 99, 97, 100, 95], [1, 2, 3, 4, 5, 6, 7, 8, 9, 10, 11, 12, 13, 14, 15, 16, 17, 18, 19, 20, 21, 22, 23, 24, 25, 26, 27, 28, 29, 30, 31, 32, 33, 34, 35, 36, 37, 38, 39, 40, 41, 42, 43, 44, 45, 46, 47, 48, 49, 50, 51, 52, 53, 54, 55, 56, 57, 58, 59, 60, 61, 62, 63, 64, 65, 66, 67, 68, 69, 70, 71, 72, 73, 74, 75, 76, 77, 78, 79, 80, 81, 82, 83, 84, 85, 86, 87, 88, 89, 90, 92, 91, 96, 94, 98, 93, 99, 97, 100, 95], [1, 2, 3, 4, 5, 6, 7, 8, 9, 10, 11, 12, 13, 14, 15, 16, 17, 18, 19, 20, 21, 22, 23, 24, 25, 26, 27, 28, 29, 30, 31, 32, 33, 34, 35, 36, 37, 38, 39, 40, 41, 42, 43, 44, 45, 46, 47, 48, 49, 50, 51, 52, 53, 54, 55, 56, 57, 58, 59, 60, 61, 62, 63, 64, 65, 66, 67, 68, 69, 70, 71, 72, 73, 74, 75, 76, 77, 78, 79, 80, 81, 82, 83, 84, 85, 86, 87, 88, 89, 90, 91, 92, 96, 94, 98, 93, 99, 97, 100, 95], [1, 2, 3, 4, 5, 6, 7, 8, 9, 10, 11, 12, 13, 14, 15, 16, 17, 18, 19, 20, 21, 22, 23, 24, 25, 26, 27, 28, 29, 30, 31, 32, 33, 34, 35, 36, 37, 38, 39, 40, 41, 42, 43, 44, 45, 46, 47, 48, 49, 50, 51, 52, 53, 54, 55, 56, 57, 58, 59, 60, 61, 62, 63, 64, 65, 66, 67, 68, 69, 70, 71, 72, 73, 74, 75, 76, 77, 78, 79, 80, 81, 82, 83, 84, 85, 86, 87, 88, 89, 90, 91, 92, 96, 94, 98, 93, 99, 97, 100, 95], [1, 2, 3, 4, 5, 6, 7, 8, 9, 10, 11, 12, 13, 14, 15, 16, 17, 18, 19, 20, 21, 22, 23, 24, 25, 26, 27, 28, 29, 30, 31, 32, 33, 34, 35, 36, 37, 38, 39, 40, 41, 42, 43, 44, 45, 46, 47, 48, 49, 50, 51, 52, 53, 54, 55, 56, 57, 58, 59, 60, 61, 62, 63, 64, 65, 66, 67, 68, 69, 70, 71, 72, 73, 74, 75, 76, 77, 78, 79, 80, 81, 82, 83, 84, 85, 86, 87, 88, 89, 90, 91, 92, 93, 94, 98, 96, 99, 97, 100, 95], [1, 2, 3, 4, 5, 6, 7, 8, 9, 10, 11, 12, 13, 14, 15, 16, 17, 18, 19, 20, 21, 22, 23, 24, 25, 26, 27, 28, 29, 30, 31, 32, 33, 34, 35, 36, 37, 38, 39, 40, 41, 42, 43, 44, 45, 46, 47, 48, 49, 50, 51, 52, 53, 54, 55, 56, 57, 58, 59, 60, 61, 62, 63, 64, 65, 66, 67, 68, 69, 70, 71, 72, 73, 74, 75, 76, 77, 78, 79, 80, 81, 82, 83, 84, 85, 86, 87, 88, 89, 90, 91, 92, 93, 94, 98, 96, 99, 97, 100, 95], [1, 2, 3, 4, 5, 6, 7, 8, 9, 10, 11, 12, 13, 14, 15, 16, 17, 18, 19, 20, 21, 22, 23, 24, 25, 26, 27, 28, 29, 30, 31, 32, 33, 34, 35, 36, 37, 38, 39, 40, 41, 42, 43, 44, 45, 46, 47, 48, 49, 50, 51, 52, 53, 54, 55, 56, 57, 58, 59, 60, 61, 62, 63, 64, 65, 66, 67, 68, 69, 70, 71, 72, 73, 74, 75, 76, 77, 78, 79, 80, 81, 82, 83, 84, 85, 86, 87, 88, 89, 90, 91, 92, 93, 94, 95, 96, 99, 97, 100, 98], [1, 2, 3, 4, 5, 6, 7, 8, 9, 10, 11, 12, 13, 14, 15, 16, 17, 18, 19, 20, 21, 22, 23, 24, 25, 26, 27, 28, 29, 30, 31, 32, 33, 34, 35, 36, 37, 38, 39, 40, 41, 42, 43, 44, 45, 46, 47, 48, 49, 50, 51, 52, 53, 54, 55, 56, 57, 58, 59, 60, 61, 62, 63, 64, 65, 66, 67, 68, 69, 70, 71, 72, 73, 74, 75, 76, 77, 78, 79, 80, 81, 82, 83, 84, 85, 86, 87, 88, 89, 90, 91, 92, 93, 94, 95, 96, 99, 97, 100, 98], [1, 2, 3, 4, 5, 6, 7, 8, 9, 10, 11, 12, 13, 14, 15, 16, 17, 18, 19, 20, 21, 22, 23, 24, 25, 26, 27, 28, 29, 30, 31, 32, 33, 34, 35, 36, 37, 38, 39, 40, 41, 42, 43, 44, 45, 46, 47, 48, 49, 50, 51, 52, 53, 54, 55, 56, 57, 58, 59, 60, 61, 62, 63, 64, 65, 66, 67, 68, 69, 70, 71, 72, 73, 74, 75, 76, 77, 78, 79, 80, 81, 82, 83, 84, 85, 86, 87, 88, 89, 90, 91, 92, 93, 94, 95, 96, 97, 99, 100, 98], [1, 2, 3, 4, 5, 6, 7, 8, 9, 10, 11, 12, 13, 14, 15, 16, 17, 18, 19, 20, 21, 22, 23, 24, 25, 26, 27, 28, 29, 30, 31, 32, 33, 34, 35, 36, 37, 38, 39, 40, 41, 42, 43, 44, 45, 46, 47, 48, 49, 50, 51, 52, 53, 54, 55, 56, 57, 58, 59, 60, 61, 62, 63, 64, 65, 66, 67, 68, 69, 70, 71, 72, 73, 74, 75, 76, 77, 78, 79, 80, 81, 82, 83, 84, 85, 86, 87, 88, 89, 90, 91, 92, 93, 94, 95, 96, 97, 98, 100, 99], [1, 2, 3, 4, 5, 6, 7, 8, 9, 10, 11, 12, 13, 14, 15, 16, 17, 18, 19, 20, 21, 22, 23, 24, 25, 26, 27, 28, 29, 30, 31, 32, 33, 34, 35, 36, 37, 38, 39, 40, 41, 42, 43, 44, 45, 46, 47, 48, 49, 50, 51, 52, 53, 54, 55, 56, 57, 58, 59, 60, 61, 62, 63, 64, 65, 66, 67, 68, 69, 70, 71, 72, 73, 74, 75, 76, 77, 78, 79, 80, 81, 82, 83, 84, 85, 86, 87, 88, 89, 90, 91, 92, 93, 94, 95, 96, 97, 98, 99, 100]]\n"
          ]
        }
      ],
      "source": [
        "import numpy as np\n",
        "def selection_sort(data):\n",
        "    sorted_datasets = []\n",
        "    for i in range(len(data)-1):\n",
        "        min_index = i\n",
        "        for j in range(i+1, len(data)):\n",
        "            if data[j] < data[min_index]:\n",
        "                min_index = j\n",
        "        data[i], data[min_index] = data[min_index], data[i]\n",
        "        sorted_datasets.append(data.copy())\n",
        "    return sorted_datasets\n",
        "\n",
        "sorted_datasets = []\n",
        "# Sort the dataset with Selection Sort\n",
        "start_time = time.time()\n",
        "sorted_datasets = selection_sort(dataset)\n",
        "end_time = time.time() \n",
        "execution_time = end_time - start_time\n",
        "\n",
        "# Print the shape\n",
        "print(f\"Shape of the list: {rows} x {cols}\")\n",
        "\n",
        "\n",
        "print(f\"Ausführungsdauer: {execution_time}\")\n",
        "print(f\"Länge des Datensatzes: {len(sorted_datasets)}\")\n",
        "print(sorted_datasets)\n",
        "\n",
        "# Show the sorted dataset after each sorting step\n",
        "for i, data in enumerate(sorted_datasets):\n",
        "    update_chart(data, i+1, \"Sortieralgorithmen/selection_sort\")\n"
      ]
    },
    {
      "cell_type": "code",
      "execution_count": 121,
      "metadata": {},
      "outputs": [],
      "source": [
        "# Erzeuge einen zufälligen Datensatz\n",
        "n=100\n",
        "dataset = random.sample(range(1, n+1), n)"
      ]
    },
    {
      "cell_type": "code",
      "execution_count": 122,
      "metadata": {},
      "outputs": [
        {
          "ename": "TypeError",
          "evalue": "object of type 'NoneType' has no len()",
          "output_type": "error",
          "traceback": [
            "\u001b[1;31m---------------------------------------------------------------------------\u001b[0m",
            "\u001b[1;31mTypeError\u001b[0m                                 Traceback (most recent call last)",
            "Cell \u001b[1;32mIn[122], line 40\u001b[0m\n\u001b[0;32m     38\u001b[0m \u001b[38;5;66;03m# Sort the dataset with Merge Sort\u001b[39;00m\n\u001b[0;32m     39\u001b[0m start_time \u001b[38;5;241m=\u001b[39m time\u001b[38;5;241m.\u001b[39mtime()\n\u001b[1;32m---> 40\u001b[0m sorted_datasets \u001b[38;5;241m=\u001b[39m \u001b[43mmerge_sort\u001b[49m\u001b[43m(\u001b[49m\u001b[43mdataset\u001b[49m\u001b[43m)\u001b[49m\n\u001b[0;32m     41\u001b[0m end_time \u001b[38;5;241m=\u001b[39m time\u001b[38;5;241m.\u001b[39mtime() \n\u001b[0;32m     42\u001b[0m execution_time \u001b[38;5;241m=\u001b[39m end_time \u001b[38;5;241m-\u001b[39m start_time\n",
            "Cell \u001b[1;32mIn[122], line 9\u001b[0m, in \u001b[0;36mmerge_sort\u001b[1;34m(data)\u001b[0m\n\u001b[0;32m      6\u001b[0m left \u001b[38;5;241m=\u001b[39m data[:mid]\n\u001b[0;32m      7\u001b[0m right \u001b[38;5;241m=\u001b[39m data[mid:]\n\u001b[1;32m----> 9\u001b[0m left \u001b[38;5;241m=\u001b[39m \u001b[43mmerge_sort\u001b[49m\u001b[43m(\u001b[49m\u001b[43mleft\u001b[49m\u001b[43m)\u001b[49m\n\u001b[0;32m     10\u001b[0m right \u001b[38;5;241m=\u001b[39m merge_sort(right)\n\u001b[0;32m     12\u001b[0m \u001b[38;5;28;01mreturn\u001b[39;00m sorted_datasets\u001b[38;5;241m.\u001b[39mappend(merge(left, right))\n",
            "Cell \u001b[1;32mIn[122], line 9\u001b[0m, in \u001b[0;36mmerge_sort\u001b[1;34m(data)\u001b[0m\n\u001b[0;32m      6\u001b[0m left \u001b[38;5;241m=\u001b[39m data[:mid]\n\u001b[0;32m      7\u001b[0m right \u001b[38;5;241m=\u001b[39m data[mid:]\n\u001b[1;32m----> 9\u001b[0m left \u001b[38;5;241m=\u001b[39m \u001b[43mmerge_sort\u001b[49m\u001b[43m(\u001b[49m\u001b[43mleft\u001b[49m\u001b[43m)\u001b[49m\n\u001b[0;32m     10\u001b[0m right \u001b[38;5;241m=\u001b[39m merge_sort(right)\n\u001b[0;32m     12\u001b[0m \u001b[38;5;28;01mreturn\u001b[39;00m sorted_datasets\u001b[38;5;241m.\u001b[39mappend(merge(left, right))\n",
            "    \u001b[1;31m[... skipping similar frames: merge_sort at line 9 (2 times)]\u001b[0m\n",
            "Cell \u001b[1;32mIn[122], line 9\u001b[0m, in \u001b[0;36mmerge_sort\u001b[1;34m(data)\u001b[0m\n\u001b[0;32m      6\u001b[0m left \u001b[38;5;241m=\u001b[39m data[:mid]\n\u001b[0;32m      7\u001b[0m right \u001b[38;5;241m=\u001b[39m data[mid:]\n\u001b[1;32m----> 9\u001b[0m left \u001b[38;5;241m=\u001b[39m \u001b[43mmerge_sort\u001b[49m\u001b[43m(\u001b[49m\u001b[43mleft\u001b[49m\u001b[43m)\u001b[49m\n\u001b[0;32m     10\u001b[0m right \u001b[38;5;241m=\u001b[39m merge_sort(right)\n\u001b[0;32m     12\u001b[0m \u001b[38;5;28;01mreturn\u001b[39;00m sorted_datasets\u001b[38;5;241m.\u001b[39mappend(merge(left, right))\n",
            "Cell \u001b[1;32mIn[122], line 12\u001b[0m, in \u001b[0;36mmerge_sort\u001b[1;34m(data)\u001b[0m\n\u001b[0;32m      9\u001b[0m left \u001b[38;5;241m=\u001b[39m merge_sort(left)\n\u001b[0;32m     10\u001b[0m right \u001b[38;5;241m=\u001b[39m merge_sort(right)\n\u001b[1;32m---> 12\u001b[0m \u001b[38;5;28;01mreturn\u001b[39;00m sorted_datasets\u001b[38;5;241m.\u001b[39mappend(\u001b[43mmerge\u001b[49m\u001b[43m(\u001b[49m\u001b[43mleft\u001b[49m\u001b[43m,\u001b[49m\u001b[43m \u001b[49m\u001b[43mright\u001b[49m\u001b[43m)\u001b[49m)\n",
            "Cell \u001b[1;32mIn[122], line 18\u001b[0m, in \u001b[0;36mmerge\u001b[1;34m(left, right)\u001b[0m\n\u001b[0;32m     15\u001b[0m merged \u001b[38;5;241m=\u001b[39m []\n\u001b[0;32m     16\u001b[0m i \u001b[38;5;241m=\u001b[39m j \u001b[38;5;241m=\u001b[39m \u001b[38;5;241m0\u001b[39m\n\u001b[1;32m---> 18\u001b[0m \u001b[38;5;28;01mwhile\u001b[39;00m i \u001b[38;5;241m<\u001b[39m \u001b[38;5;28mlen\u001b[39m(left) \u001b[38;5;129;01mand\u001b[39;00m j \u001b[38;5;241m<\u001b[39m \u001b[38;5;28;43mlen\u001b[39;49m\u001b[43m(\u001b[49m\u001b[43mright\u001b[49m\u001b[43m)\u001b[49m:\n\u001b[0;32m     19\u001b[0m     \u001b[38;5;28;01mif\u001b[39;00m left[i] \u001b[38;5;241m<\u001b[39m right[j]:\n\u001b[0;32m     20\u001b[0m         merged\u001b[38;5;241m.\u001b[39mappend(left[i])\n",
            "\u001b[1;31mTypeError\u001b[0m: object of type 'NoneType' has no len()"
          ]
        },
        {
          "ename": "",
          "evalue": "",
          "output_type": "error",
          "traceback": [
            "\u001b[1;31mThe Kernel crashed while executing code in the current cell or a previous cell. \n",
            "\u001b[1;31mPlease review the code in the cell(s) to identify a possible cause of the failure. \n",
            "\u001b[1;31mClick <a href='https://aka.ms/vscodeJupyterKernelCrash'>here</a> for more info. \n",
            "\u001b[1;31mView Jupyter <a href='command:jupyter.viewOutput'>log</a> for further details."
          ]
        }
      ],
      "source": [
        "import pandas as pd\n",
        "def merge_sort(data):\n",
        "    if len(data) <= 1:\n",
        "        return data\n",
        "    \n",
        "    mid = len(data) // 2\n",
        "    left = data[:mid]\n",
        "    right = data[mid:]\n",
        "    \n",
        "    left = merge_sort(left)\n",
        "    right = merge_sort(right)\n",
        "    \n",
        "    return sorted_datasets.append(merge(left, right))\n",
        "\n",
        "def merge(left, right):\n",
        "    merged = []\n",
        "    i = j = 0\n",
        "    \n",
        "    while i < len(left) and j < len(right):\n",
        "        if left[i] < right[j]:\n",
        "            merged.append(left[i])\n",
        "            i += 1\n",
        "        else:\n",
        "            merged.append(right[j])\n",
        "            j += 1\n",
        "    \n",
        "    while i < len(left):\n",
        "        merged.append(left[i])\n",
        "        i += 1\n",
        "    \n",
        "    while j < len(right):\n",
        "        merged.append(right[j])\n",
        "        j += 1\n",
        "\n",
        "    return merged\n",
        "\n",
        "sorted_datasets = []\n",
        "\n",
        "# Sort the dataset with Merge Sort\n",
        "start_time = time.time()\n",
        "sorted_datasets = merge_sort(dataset)\n",
        "end_time = time.time() \n",
        "execution_time = end_time - start_time\n",
        "print(f\"Ausführungsdauer: {execution_time}\")\n",
        "print(f\"Länge des Datensatzes: {len(sorted_datasets)}\")\n",
        "print(sorted_datasets)\n",
        "print(len(sorted_datasets))\n",
        "\n",
        "for i, data in enumerate(sorted_datasets):\n",
        "    print(f\"i: {i}, data: {data}, len: {len(data)}\")\n",
        "    update_chart(data, i+1, \"Sortieralgorithmen/merge_sort\")\n"
      ]
    },
    {
      "cell_type": "code",
      "execution_count": 43,
      "metadata": {},
      "outputs": [],
      "source": [
        "# Erzeuge einen zufälligen Datensatz\n",
        "dataset = random.sample(range(1, n+1), n)"
      ]
    },
    {
      "cell_type": "code",
      "execution_count": 44,
      "metadata": {},
      "outputs": [
        {
          "name": "stdout",
          "output_type": "stream",
          "text": [
            "Ausführungsdauer: 0.0\n",
            "Länge des Datensatzes: 0\n"
          ]
        }
      ],
      "source": [
        "def quick_sort(data):\n",
        "    if len(data) <= 1:\n",
        "        return data\n",
        "    \n",
        "    pivot = data[0]\n",
        "    left = [x for x in data[1:] if x <= pivot]\n",
        "    right = [x for x in data[1:] if x > pivot]\n",
        "    \n",
        "    return quick_sort(left) + [pivot] + quick_sort(right)\n",
        "\n",
        "sorted_datasets = []\n",
        "# Sort the dataset with Quick Sort\n",
        "start_time = time.time()\n",
        "sorted_dataset = quick_sort(dataset)\n",
        "end_time = time.time() \n",
        "execution_time = end_time - start_time\n",
        "print(f\"Ausführungsdauer: {execution_time}\")\n",
        "print(f\"Länge des Datensatzes: {len(sorted_datasets)}\")\n",
        "\n",
        "for i, data in enumerate(sorted_datasets):\n",
        "    update_chart(data, i+1, \"Sortieralgorithmen/quick_sort\")\n"
      ]
    },
    {
      "cell_type": "code",
      "execution_count": 45,
      "metadata": {},
      "outputs": [],
      "source": [
        "# Erzeuge einen zufälligen Datensatz\n",
        "dataset = random.sample(range(1, n+1), n)"
      ]
    },
    {
      "cell_type": "code",
      "execution_count": 46,
      "metadata": {},
      "outputs": [
        {
          "name": "stdout",
          "output_type": "stream",
          "text": [
            "Ausführungsdauer: 0.0\n",
            "Länge des Datensatzes: 0\n"
          ]
        }
      ],
      "source": [
        "def radix_sort(data):\n",
        "    # Find the maximum number to determine the number of digits\n",
        "    max_num = max(data)\n",
        "    \n",
        "    # Perform counting sort for every digit\n",
        "    exp = 1\n",
        "    while max_num // exp > 0:\n",
        "        counting_sort(data, exp)\n",
        "        exp *= 10\n",
        "    \n",
        "    return data\n",
        "\n",
        "def counting_sort(data, exp):\n",
        "    n = len(data)\n",
        "    output = [0] * n\n",
        "    count = [0] * 10\n",
        "    \n",
        "    # Count the occurrences of each digit\n",
        "    for i in range(n):\n",
        "        index = data[i] // exp\n",
        "        count[index % 10] += 1\n",
        "    \n",
        "    # Calculate the cumulative count\n",
        "    for i in range(1, 10):\n",
        "        count[i] += count[i - 1]\n",
        "    \n",
        "    # Build the output array\n",
        "    i = n - 1\n",
        "    while i >= 0:\n",
        "        index = data[i] // exp\n",
        "        output[count[index % 10] - 1] = data[i]\n",
        "        count[index % 10] -= 1\n",
        "        i -= 1\n",
        "    \n",
        "    # Copy the sorted elements back to the original array\n",
        "    for i in range(n):\n",
        "        data[i] = output[i]\n",
        "\n",
        "sorted_datasets = []\n",
        "# Sort the dataset with Radix Sort\n",
        "start_time = time.time()\n",
        "sorted_dataset = radix_sort(dataset)\n",
        "end_time = time.time() \n",
        "execution_time = end_time - start_time\n",
        "print(f\"Ausführungsdauer: {execution_time}\")\n",
        "print(f\"Länge des Datensatzes: {len(sorted_datasets)}\")\n",
        "\n",
        "for i, data in enumerate(sorted_datasets):\n",
        "    update_chart(data, i+1, \"Sortieralgorithmen/radix_sort\")\n"
      ]
    },
    {
      "cell_type": "code",
      "execution_count": 47,
      "metadata": {},
      "outputs": [],
      "source": [
        "# Erzeuge einen zufälligen Datensatz\n",
        "dataset = random.sample(range(1, n+1), n)"
      ]
    },
    {
      "cell_type": "code",
      "execution_count": 48,
      "metadata": {},
      "outputs": [
        {
          "name": "stdout",
          "output_type": "stream",
          "text": [
            "Ausführungsdauer: 0.0010001659393310547\n",
            "Länge des Datensatzes: 0\n"
          ]
        }
      ],
      "source": [
        "import heapq\n",
        "\n",
        "def heap_sort(data):\n",
        "    sorted_data = []\n",
        "    heap = data.copy()\n",
        "    heapq.heapify(heap)\n",
        "    while heap:\n",
        "        sorted_data.append(heapq.heappop(heap))\n",
        "    return sorted_data\n",
        "\n",
        "sorted_datasets = []\n",
        "# Sort the dataset with Heap Sort\n",
        "start_time = time.time()\n",
        "sorted_dataset = heap_sort(dataset)\n",
        "end_time = time.time() \n",
        "execution_time = end_time - start_time\n",
        "print(f\"Ausführungsdauer: {execution_time}\")\n",
        "print(f\"Länge des Datensatzes: {len(sorted_datasets)}\")\n",
        "\n",
        "for i, data in enumerate(sorted_datasets):\n",
        "    update_chart(data, i+1, \"Sortieralgorithmen/heap_sort\")"
      ]
    },
    {
      "cell_type": "markdown",
      "metadata": {},
      "source": [
        "## Bogo Sort"
      ]
    },
    {
      "cell_type": "code",
      "execution_count": 49,
      "metadata": {},
      "outputs": [
        {
          "name": "stdout",
          "output_type": "stream",
          "text": [
            "[1, 2, 4, 3, 5]\n"
          ]
        }
      ],
      "source": [
        "# Erzeuge einen zufälligen Datensatz\n",
        "n = 5\n",
        "dataset = random.sample(range(1, n+1), n)\n",
        "print(dataset)"
      ]
    },
    {
      "cell_type": "code",
      "execution_count": 50,
      "metadata": {},
      "outputs": [
        {
          "name": "stdout",
          "output_type": "stream",
          "text": [
            "Ausführungsdauer: 0.0010025501251220703\n",
            "Länge des Datensatzes: 0\n",
            "5\n"
          ]
        }
      ],
      "source": [
        "def is_sorted(data):\n",
        "    for i in range(len(data) - 1):\n",
        "        if data[i] > data[i+1]:\n",
        "            return False\n",
        "    return True\n",
        "\n",
        "def bogo_sort(data):  \n",
        "    while not is_sorted(data):\n",
        "        random.shuffle(data)\n",
        "    return data\n",
        "    \n",
        "\n",
        "sorted_datasets = []\n",
        "start_time = time.time()  \n",
        "sorted_dataset = bogo_sort(dataset)\n",
        "end_time = time.time() \n",
        "execution_time = end_time - start_time\n",
        "print(f\"Ausführungsdauer: {execution_time}\")\n",
        "print(f\"Länge des Datensatzes: {len(sorted_datasets)}\")\n",
        "\n",
        "print(len(sorted_dataset))\n",
        "for i, data in enumerate(sorted_datasets):\n",
        "    update_chart(data, i+1, \"Sortieralgorithmen/bogo_sort\")"
      ]
    },
    {
      "cell_type": "code",
      "execution_count": 51,
      "metadata": {},
      "outputs": [],
      "source": [
        "# Erzeuge einen zufälligen Datensatz\n",
        "dataset = random.sample(range(1, n+1), n)"
      ]
    },
    {
      "cell_type": "code",
      "execution_count": 52,
      "metadata": {},
      "outputs": [
        {
          "name": "stdout",
          "output_type": "stream",
          "text": [
            "Ausführungsdauer: 5.003278493881226\n",
            "Länge des Datensatzes: 0\n"
          ]
        }
      ],
      "source": [
        "import time\n",
        "import threading\n",
        "\n",
        "def sleep_sort(data):\n",
        "    sorted_data = []\n",
        "    def sleep_func(x):\n",
        "        time.sleep(x)\n",
        "        sorted_data.append(x)\n",
        "    \n",
        "    threads = []\n",
        "    for num in data:\n",
        "        t = threading.Thread(target=sleep_func, args=(num,))\n",
        "        threads.append(t)\n",
        "        t.start()\n",
        "    \n",
        "    for t in threads:\n",
        "        t.join()\n",
        "    \n",
        "    return sorted_data\n",
        "\n",
        "sorted_datasets = []\n",
        "# Sort the dataset with Sleep Sort\n",
        "start_time = time.time()  \n",
        "sorted_dataset = sleep_sort(dataset)\n",
        "end_time = time.time() \n",
        "execution_time = end_time - start_time\n",
        "print(f\"Ausführungsdauer: {execution_time}\")\n",
        "print(f\"Länge des Datensatzes: {len(sorted_datasets)}\")\n",
        "\n",
        "for i, data in enumerate(sorted_datasets):\n",
        "    update_chart(data, i+1, \"Sortieralgorithmen/sleep_sort\")"
      ]
    },
    {
      "cell_type": "code",
      "execution_count": 53,
      "metadata": {},
      "outputs": [],
      "source": [
        "n = 5"
      ]
    },
    {
      "cell_type": "code",
      "execution_count": 54,
      "metadata": {},
      "outputs": [],
      "source": [
        "# Erzeuge einen zufälligen Datensatz\n",
        "dataset = random.sample(range(1, n+1), n)"
      ]
    },
    {
      "cell_type": "code",
      "execution_count": 55,
      "metadata": {},
      "outputs": [
        {
          "name": "stdout",
          "output_type": "stream",
          "text": [
            "Ausführungsdauer: 0.0\n",
            "Länge des Datensatzes: 0\n"
          ]
        }
      ],
      "source": [
        "def pancake_sort(data):\n",
        "    sorted_data = []\n",
        "    n = len(data)\n",
        "    for i in range(n-1, 0, -1):\n",
        "        max_index = find_max_index(data, i)\n",
        "        flip(data, max_index)\n",
        "        flip(data, i)\n",
        "        sorted_data.append(data.copy())\n",
        "    return sorted_data\n",
        "\n",
        "def find_max_index(data, n):\n",
        "    max_index = 0\n",
        "    for i in range(1, n+1):\n",
        "        if data[i] > data[max_index]:\n",
        "            max_index = i\n",
        "    return max_index\n",
        "\n",
        "def flip(data, k):\n",
        "    i = 0\n",
        "    while i < k:\n",
        "        data[i], data[k] = data[k], data[i]\n",
        "        i += 1\n",
        "        k -= 1\n",
        "\n",
        "sorted_datasets = []\n",
        "# Sort the dataset with Pancake Sort\n",
        "start_time = time.time()  \n",
        "sorted_dataset = pancake_sort(dataset)\n",
        "end_time = time.time() \n",
        "execution_time = end_time - start_time\n",
        "print(f\"Ausführungsdauer: {execution_time}\")\n",
        "print(f\"Länge des Datensatzes: {len(sorted_datasets)}\")\n",
        "\n",
        "for i, data in enumerate(sorted_datasets):\n",
        "    update_chart(data, i+1, \"Sortieralgorithmen/pancake_sort\")\n"
      ]
    },
    {
      "cell_type": "code",
      "execution_count": 56,
      "metadata": {},
      "outputs": [],
      "source": [
        "# Erzeuge einen zufälligen Datensatz\n",
        "dataset = random.sample(range(1, n+1), n)"
      ]
    },
    {
      "cell_type": "code",
      "execution_count": 57,
      "metadata": {},
      "outputs": [
        {
          "name": "stdout",
          "output_type": "stream",
          "text": [
            "Ausführungsdauer: 0.0\n",
            "Länge des Datensatzes: 0\n"
          ]
        }
      ],
      "source": [
        "def stooge_sort(data, start, end):\n",
        "    if data[start] > data[end]:\n",
        "        data[start], data[end] = data[end], data[start]\n",
        "    \n",
        "    if end - start + 1 > 2:\n",
        "        third = (end - start + 1) // 3\n",
        "        stooge_sort(data, start, end - third)\n",
        "        stooge_sort(data, start + third, end)\n",
        "        stooge_sort(data, start, end - third)\n",
        "    \n",
        "    return data\n",
        "\n",
        "sorted_datasets = []\n",
        "# Sort the dataset with Stooge Sort\n",
        "start_time = time.time()  \n",
        "sorted_dataset = stooge_sort(dataset, 0, len(dataset) - 1)\n",
        "end_time = time.time() \n",
        "execution_time = end_time - start_time\n",
        "print(f\"Ausführungsdauer: {execution_time}\")\n",
        "print(f\"Länge des Datensatzes: {len(sorted_datasets)}\")\n",
        "\n",
        "for i, data in enumerate(sorted_datasets):\n",
        "    update_chart(data, i+1, \"Sortieralgorithmen/stooge_sort\")\n"
      ]
    },
    {
      "cell_type": "markdown",
      "metadata": {},
      "source": [
        "## Gifs erstellen"
      ]
    },
    {
      "cell_type": "code",
      "execution_count": 58,
      "metadata": {},
      "outputs": [],
      "source": [
        "import os\n",
        "import imageio"
      ]
    },
    {
      "cell_type": "code",
      "execution_count": 59,
      "metadata": {},
      "outputs": [],
      "source": [
        "def create_gif_from_pngs(folder_path, output_path):\n",
        "    images = []\n",
        "    for filename in os.listdir(folder_path):\n",
        "        if filename.endswith(\".png\"):\n",
        "            file_path = os.path.join(folder_path, filename)\n",
        "            images.append(imageio.imread(file_path))\n",
        "    \n",
        "    imageio.mimsave(output_path, images, duration=0.5)"
      ]
    },
    {
      "cell_type": "code",
      "execution_count": 60,
      "metadata": {},
      "outputs": [
        {
          "name": "stderr",
          "output_type": "stream",
          "text": [
            "C:\\Users\\gutsc\\AppData\\Local\\Temp\\ipykernel_12096\\1581740541.py:6: DeprecationWarning: Starting with ImageIO v3 the behavior of this function will switch to that of iio.v3.imread. To keep the current behavior (and make this warning disappear) use `import imageio.v2 as imageio` or call `imageio.v2.imread` directly.\n",
            "  images.append(imageio.imread(file_path))\n"
          ]
        }
      ],
      "source": [
        "folder_path = \"Sortieralgorithmen\"\n",
        "folder_list = [folder for folder in os.listdir(folder_path) if os.path.isdir(os.path.join(folder_path, folder))]\n",
        "\n",
        "for folder in folder_list:\n",
        "    output_path = os.path.join(\"Sortieralgorithmen\", f\"{folder}.gif\")\n",
        "    create_gif_from_pngs(os.path.join(\"Sortieralgorithmen\", folder), output_path)\n"
      ]
    },
    {
      "cell_type": "code",
      "execution_count": null,
      "metadata": {},
      "outputs": [],
      "source": []
    }
  ],
  "metadata": {
    "colab": {
      "provenance": []
    },
    "kernelspec": {
      "display_name": "Python 3",
      "name": "python3"
    },
    "language_info": {
      "codemirror_mode": {
        "name": "ipython",
        "version": 3
      },
      "file_extension": ".py",
      "mimetype": "text/x-python",
      "name": "python",
      "nbconvert_exporter": "python",
      "pygments_lexer": "ipython3",
      "version": "3.10.9"
    }
  },
  "nbformat": 4,
  "nbformat_minor": 0
}
